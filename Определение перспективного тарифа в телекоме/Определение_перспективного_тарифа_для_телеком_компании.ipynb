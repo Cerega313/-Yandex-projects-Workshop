{
  "nbformat": 4,
  "nbformat_minor": 0,
  "metadata": {
    "kernelspec": {
      "display_name": "Python 3",
      "language": "python",
      "name": "python3"
    },
    "language_info": {
      "codemirror_mode": {
        "name": "ipython",
        "version": 3
      },
      "file_extension": ".py",
      "mimetype": "text/x-python",
      "name": "python",
      "nbconvert_exporter": "python",
      "pygments_lexer": "ipython3",
      "version": "3.7.8"
    },
    "toc": {
      "base_numbering": 1,
      "nav_menu": {},
      "number_sections": false,
      "sideBar": true,
      "skip_h1_title": true,
      "title_cell": "Table of Contents",
      "title_sidebar": "Contents",
      "toc_cell": false,
      "toc_position": {
        "height": "calc(100% - 180px)",
        "left": "10px",
        "top": "150px",
        "width": "266.956px"
      },
      "toc_section_display": true,
      "toc_window_display": false
    },
    "colab": {
      "name": "Определение перспективного тарифа для телеком компании.ipynb",
      "provenance": [],
      "collapsed_sections": [],
      "toc_visible": true
    }
  },
  "cells": [
    {
      "cell_type": "markdown",
      "metadata": {
        "id": "aAsbY9Bbnmcj"
      },
      "source": [
        "##### План выполнения проекта   \n",
        "1.[Запускаем библиотеки](#1);  \n",
        "2.[Запускаем датасеты](#2);  \n",
        "3.[Отвечаем на заданные вопросы](#3);   \n",
        "      3.1 [Количество сделанных звонков и израсходованных минут разговора по месяцам](#3.1);    \n",
        "      3.2 [Количество отправленных сообщений по месяцам](#3.2);    \n",
        "      3.3 [Объем израсходованного интернет-трафика по месяцам](#3.3);    \n",
        "      3.4 [Помесячную выручку с каждого пользователя](#3.4);    \n",
        "4.[Описываем поведение клиентов оператора, исходя из выборки](#4);  \n",
        "      4.1 [Считаем среднее количество, дисперсию и стандартное отклонение](#4.1);  \n",
        "7 [Проверяем гипотезы](#5)      \n",
        "8  [Общий вывод](#6)  "
      ]
    },
    {
      "cell_type": "markdown",
      "metadata": {
        "id": "C3gELI_Pnmck"
      },
      "source": [
        "#### Шаг 1. Запускаем библиотеки <a id=\"1\"></a>"
      ]
    },
    {
      "cell_type": "code",
      "metadata": {
        "id": "ArpP0LBbnmcl"
      },
      "source": [
        "#запускаем первым шагом все предполагаемые билиотеки, при необходимости в ходе проекта дополняем этот пункт\n",
        "import pandas as pd\n",
        "import matplotlib.pyplot as plt\n",
        "import datetime\n",
        "import numpy as np\n",
        "from scipy import stats as st\n",
        "from math import factorial"
      ],
      "execution_count": 3,
      "outputs": []
    },
    {
      "cell_type": "markdown",
      "metadata": {
        "id": "11qT9x5Rnmcl"
      },
      "source": [
        "#### Шаг 2. Запускаем датасеты и изучаем общую информацию по ним <a id=\"2\"></a>"
      ]
    },
    {
      "cell_type": "code",
      "metadata": {
        "id": "L-R6Uhqcnmcm"
      },
      "source": [
        "calls = pd.read_csv('/content/calls.csv') \n",
        "internet = pd.read_csv('/content/internet.csv')\n",
        "messages = pd.read_csv('/content/messages.csv')\n",
        "tariffs = pd.read_csv('/content/tariffs.csv')\n",
        "users = pd.read_csv('/content/users.csv')"
      ],
      "execution_count": 5,
      "outputs": []
    },
    {
      "cell_type": "code",
      "metadata": {
        "id": "WAl3lPbBnmcm",
        "colab": {
          "base_uri": "https://localhost:8080/",
          "height": 484
        },
        "outputId": "c1c56031-b69e-40dc-9b67-6e51b761d383"
      },
      "source": [
        "calls.info() #просматриваем общую информацию по файлу\n",
        "calls.duplicated().sum() #ищем дубликаты\n",
        "calls.describe() #изучаем минимальные и максимальные значения, средние и квантили, ищем аномалии"
      ],
      "execution_count": 6,
      "outputs": [
        {
          "output_type": "stream",
          "text": [
            "<class 'pandas.core.frame.DataFrame'>\n",
            "RangeIndex: 202607 entries, 0 to 202606\n",
            "Data columns (total 4 columns):\n",
            " #   Column     Non-Null Count   Dtype  \n",
            "---  ------     --------------   -----  \n",
            " 0   id         202607 non-null  object \n",
            " 1   call_date  202607 non-null  object \n",
            " 2   duration   202607 non-null  float64\n",
            " 3   user_id    202607 non-null  int64  \n",
            "dtypes: float64(1), int64(1), object(2)\n",
            "memory usage: 6.2+ MB\n"
          ],
          "name": "stdout"
        },
        {
          "output_type": "execute_result",
          "data": {
            "text/html": [
              "<div>\n",
              "<style scoped>\n",
              "    .dataframe tbody tr th:only-of-type {\n",
              "        vertical-align: middle;\n",
              "    }\n",
              "\n",
              "    .dataframe tbody tr th {\n",
              "        vertical-align: top;\n",
              "    }\n",
              "\n",
              "    .dataframe thead th {\n",
              "        text-align: right;\n",
              "    }\n",
              "</style>\n",
              "<table border=\"1\" class=\"dataframe\">\n",
              "  <thead>\n",
              "    <tr style=\"text-align: right;\">\n",
              "      <th></th>\n",
              "      <th>duration</th>\n",
              "      <th>user_id</th>\n",
              "    </tr>\n",
              "  </thead>\n",
              "  <tbody>\n",
              "    <tr>\n",
              "      <th>count</th>\n",
              "      <td>202607.000000</td>\n",
              "      <td>202607.000000</td>\n",
              "    </tr>\n",
              "    <tr>\n",
              "      <th>mean</th>\n",
              "      <td>6.755887</td>\n",
              "      <td>1253.940619</td>\n",
              "    </tr>\n",
              "    <tr>\n",
              "      <th>std</th>\n",
              "      <td>5.843365</td>\n",
              "      <td>144.722751</td>\n",
              "    </tr>\n",
              "    <tr>\n",
              "      <th>min</th>\n",
              "      <td>0.000000</td>\n",
              "      <td>1000.000000</td>\n",
              "    </tr>\n",
              "    <tr>\n",
              "      <th>25%</th>\n",
              "      <td>1.300000</td>\n",
              "      <td>1126.000000</td>\n",
              "    </tr>\n",
              "    <tr>\n",
              "      <th>50%</th>\n",
              "      <td>6.000000</td>\n",
              "      <td>1260.000000</td>\n",
              "    </tr>\n",
              "    <tr>\n",
              "      <th>75%</th>\n",
              "      <td>10.700000</td>\n",
              "      <td>1379.000000</td>\n",
              "    </tr>\n",
              "    <tr>\n",
              "      <th>max</th>\n",
              "      <td>38.000000</td>\n",
              "      <td>1499.000000</td>\n",
              "    </tr>\n",
              "  </tbody>\n",
              "</table>\n",
              "</div>"
            ],
            "text/plain": [
              "            duration        user_id\n",
              "count  202607.000000  202607.000000\n",
              "mean        6.755887    1253.940619\n",
              "std         5.843365     144.722751\n",
              "min         0.000000    1000.000000\n",
              "25%         1.300000    1126.000000\n",
              "50%         6.000000    1260.000000\n",
              "75%        10.700000    1379.000000\n",
              "max        38.000000    1499.000000"
            ]
          },
          "metadata": {
            "tags": []
          },
          "execution_count": 6
        }
      ]
    },
    {
      "cell_type": "code",
      "metadata": {
        "id": "X_ZEy4cznmco"
      },
      "source": [
        "calls['call_date'] = pd.to_datetime(calls['call_date'], format = '%Y-%m-%d') # меняем формат столбца\n",
        "calls['duration'] = calls['duration'].astype('int64')"
      ],
      "execution_count": 7,
      "outputs": []
    },
    {
      "cell_type": "code",
      "metadata": {
        "id": "VNebnfHUnmco",
        "colab": {
          "base_uri": "https://localhost:8080/"
        },
        "outputId": "c4fcfafc-6574-48e3-c6a7-25355ac6c4bd"
      },
      "source": [
        "#высчитываем долю звонков, которые имеют продолжительность в 0 минут\n",
        "calls_zero = calls.query('duration == 0')\n",
        "share_zero = len(calls_zero) / len(calls)\n",
        "share_zero"
      ],
      "execution_count": 8,
      "outputs": [
        {
          "output_type": "execute_result",
          "data": {
            "text/plain": [
              "0.23655155053872767"
            ]
          },
          "metadata": {
            "tags": []
          },
          "execution_count": 8
        }
      ]
    },
    {
      "cell_type": "code",
      "metadata": {
        "scrolled": true,
        "id": "RsN4PeDsnmcp",
        "colab": {
          "base_uri": "https://localhost:8080/",
          "height": 142
        },
        "outputId": "952548cb-31da-4402-93ba-d1f96d6ee45e"
      },
      "source": [
        "calls.sample(n = 3, random_state = 1) "
      ],
      "execution_count": 9,
      "outputs": [
        {
          "output_type": "execute_result",
          "data": {
            "text/html": [
              "<div>\n",
              "<style scoped>\n",
              "    .dataframe tbody tr th:only-of-type {\n",
              "        vertical-align: middle;\n",
              "    }\n",
              "\n",
              "    .dataframe tbody tr th {\n",
              "        vertical-align: top;\n",
              "    }\n",
              "\n",
              "    .dataframe thead th {\n",
              "        text-align: right;\n",
              "    }\n",
              "</style>\n",
              "<table border=\"1\" class=\"dataframe\">\n",
              "  <thead>\n",
              "    <tr style=\"text-align: right;\">\n",
              "      <th></th>\n",
              "      <th>id</th>\n",
              "      <th>call_date</th>\n",
              "      <th>duration</th>\n",
              "      <th>user_id</th>\n",
              "    </tr>\n",
              "  </thead>\n",
              "  <tbody>\n",
              "    <tr>\n",
              "      <th>26953</th>\n",
              "      <td>1066_374</td>\n",
              "      <td>2018-08-26</td>\n",
              "      <td>0</td>\n",
              "      <td>1066</td>\n",
              "    </tr>\n",
              "    <tr>\n",
              "      <th>66122</th>\n",
              "      <td>1168_1273</td>\n",
              "      <td>2018-03-28</td>\n",
              "      <td>16</td>\n",
              "      <td>1168</td>\n",
              "    </tr>\n",
              "    <tr>\n",
              "      <th>67325</th>\n",
              "      <td>1171_350</td>\n",
              "      <td>2018-09-14</td>\n",
              "      <td>6</td>\n",
              "      <td>1171</td>\n",
              "    </tr>\n",
              "  </tbody>\n",
              "</table>\n",
              "</div>"
            ],
            "text/plain": [
              "              id  call_date  duration  user_id\n",
              "26953   1066_374 2018-08-26         0     1066\n",
              "66122  1168_1273 2018-03-28        16     1168\n",
              "67325   1171_350 2018-09-14         6     1171"
            ]
          },
          "metadata": {
            "tags": []
          },
          "execution_count": 9
        }
      ]
    },
    {
      "cell_type": "markdown",
      "metadata": {
        "id": "7aM-g8kHnmcr"
      },
      "source": [
        "###### Наблюдение первое  \n",
        "Данные достаточно чистые: не содержат дублей по строкам и уникальному столбцу - ID пользователя \n",
        "Продолжительность звонка может быть и 0 минут, когда 1 человек не дозвонился до другого, доля таковых в выборке 19.5%\n",
        "Продолжительность звонка имеет выбросы, то есть все звонки более 10.7 минут продолжительностью уже редки. \n"
      ]
    },
    {
      "cell_type": "code",
      "metadata": {
        "id": "mnOy3YAhnmcr",
        "colab": {
          "base_uri": "https://localhost:8080/"
        },
        "outputId": "e8cf1e24-1440-454f-f8cc-9d1d1593c450"
      },
      "source": [
        "# изучаем базовую информацию по датасету\n",
        "internet.info()\n",
        "internet.duplicated().sum()"
      ],
      "execution_count": 11,
      "outputs": [
        {
          "output_type": "stream",
          "text": [
            "<class 'pandas.core.frame.DataFrame'>\n",
            "RangeIndex: 149396 entries, 0 to 149395\n",
            "Data columns (total 5 columns):\n",
            " #   Column        Non-Null Count   Dtype  \n",
            "---  ------        --------------   -----  \n",
            " 0   Unnamed: 0    149396 non-null  int64  \n",
            " 1   id            149396 non-null  object \n",
            " 2   mb_used       149396 non-null  float64\n",
            " 3   session_date  149396 non-null  object \n",
            " 4   user_id       149396 non-null  int64  \n",
            "dtypes: float64(1), int64(2), object(2)\n",
            "memory usage: 5.7+ MB\n"
          ],
          "name": "stdout"
        },
        {
          "output_type": "execute_result",
          "data": {
            "text/plain": [
              "0"
            ]
          },
          "metadata": {
            "tags": []
          },
          "execution_count": 11
        }
      ]
    },
    {
      "cell_type": "code",
      "metadata": {
        "id": "JHbSS8t4nmcs"
      },
      "source": [
        "internet['session_date'] = pd.to_datetime(internet['session_date'], format = '%Y-%m-%d')  # меняем формат столбца"
      ],
      "execution_count": 12,
      "outputs": []
    },
    {
      "cell_type": "code",
      "metadata": {
        "id": "sh6jU_6bnmcs",
        "colab": {
          "base_uri": "https://localhost:8080/",
          "height": 297
        },
        "outputId": "d42afc82-8619-42e9-e669-1ad427b7049d"
      },
      "source": [
        "internet.drop('Unnamed: 0', axis='columns', inplace=True) #удаляем задублированный столбец\n",
        "internet.describe()"
      ],
      "execution_count": 13,
      "outputs": [
        {
          "output_type": "execute_result",
          "data": {
            "text/html": [
              "<div>\n",
              "<style scoped>\n",
              "    .dataframe tbody tr th:only-of-type {\n",
              "        vertical-align: middle;\n",
              "    }\n",
              "\n",
              "    .dataframe tbody tr th {\n",
              "        vertical-align: top;\n",
              "    }\n",
              "\n",
              "    .dataframe thead th {\n",
              "        text-align: right;\n",
              "    }\n",
              "</style>\n",
              "<table border=\"1\" class=\"dataframe\">\n",
              "  <thead>\n",
              "    <tr style=\"text-align: right;\">\n",
              "      <th></th>\n",
              "      <th>mb_used</th>\n",
              "      <th>user_id</th>\n",
              "    </tr>\n",
              "  </thead>\n",
              "  <tbody>\n",
              "    <tr>\n",
              "      <th>count</th>\n",
              "      <td>149396.000000</td>\n",
              "      <td>149396.000000</td>\n",
              "    </tr>\n",
              "    <tr>\n",
              "      <th>mean</th>\n",
              "      <td>370.192426</td>\n",
              "      <td>1252.099842</td>\n",
              "    </tr>\n",
              "    <tr>\n",
              "      <th>std</th>\n",
              "      <td>278.300951</td>\n",
              "      <td>144.050823</td>\n",
              "    </tr>\n",
              "    <tr>\n",
              "      <th>min</th>\n",
              "      <td>0.000000</td>\n",
              "      <td>1000.000000</td>\n",
              "    </tr>\n",
              "    <tr>\n",
              "      <th>25%</th>\n",
              "      <td>138.187500</td>\n",
              "      <td>1130.000000</td>\n",
              "    </tr>\n",
              "    <tr>\n",
              "      <th>50%</th>\n",
              "      <td>348.015000</td>\n",
              "      <td>1251.000000</td>\n",
              "    </tr>\n",
              "    <tr>\n",
              "      <th>75%</th>\n",
              "      <td>559.552500</td>\n",
              "      <td>1380.000000</td>\n",
              "    </tr>\n",
              "    <tr>\n",
              "      <th>max</th>\n",
              "      <td>1724.830000</td>\n",
              "      <td>1499.000000</td>\n",
              "    </tr>\n",
              "  </tbody>\n",
              "</table>\n",
              "</div>"
            ],
            "text/plain": [
              "             mb_used        user_id\n",
              "count  149396.000000  149396.000000\n",
              "mean      370.192426    1252.099842\n",
              "std       278.300951     144.050823\n",
              "min         0.000000    1000.000000\n",
              "25%       138.187500    1130.000000\n",
              "50%       348.015000    1251.000000\n",
              "75%       559.552500    1380.000000\n",
              "max      1724.830000    1499.000000"
            ]
          },
          "metadata": {
            "tags": []
          },
          "execution_count": 13
        }
      ]
    },
    {
      "cell_type": "code",
      "metadata": {
        "id": "nWqRf4TQnmct",
        "colab": {
          "base_uri": "https://localhost:8080/"
        },
        "outputId": "a4d0afde-f2e4-418c-881f-f9b861285090"
      },
      "source": [
        "#высчитываем долю интернет сессий,в которые было скачано 0 Мб информации\n",
        "internet_zero = internet.query('mb_used == 0')\n",
        "share_zero_i= len(internet_zero) / len(internet)\n",
        "share_zero_i"
      ],
      "execution_count": 14,
      "outputs": [
        {
          "output_type": "execute_result",
          "data": {
            "text/plain": [
              "0.13118155773916304"
            ]
          },
          "metadata": {
            "tags": []
          },
          "execution_count": 14
        }
      ]
    },
    {
      "cell_type": "code",
      "metadata": {
        "id": "tL244gB0nmct",
        "colab": {
          "base_uri": "https://localhost:8080/",
          "height": 142
        },
        "outputId": "6eae4c47-daa0-4fd6-ee36-81d139db26c4"
      },
      "source": [
        "internet.sample(n = 3, random_state = 1) "
      ],
      "execution_count": 15,
      "outputs": [
        {
          "output_type": "execute_result",
          "data": {
            "text/html": [
              "<div>\n",
              "<style scoped>\n",
              "    .dataframe tbody tr th:only-of-type {\n",
              "        vertical-align: middle;\n",
              "    }\n",
              "\n",
              "    .dataframe tbody tr th {\n",
              "        vertical-align: top;\n",
              "    }\n",
              "\n",
              "    .dataframe thead th {\n",
              "        text-align: right;\n",
              "    }\n",
              "</style>\n",
              "<table border=\"1\" class=\"dataframe\">\n",
              "  <thead>\n",
              "    <tr style=\"text-align: right;\">\n",
              "      <th></th>\n",
              "      <th>id</th>\n",
              "      <th>mb_used</th>\n",
              "      <th>session_date</th>\n",
              "      <th>user_id</th>\n",
              "    </tr>\n",
              "  </thead>\n",
              "  <tbody>\n",
              "    <tr>\n",
              "      <th>35745</th>\n",
              "      <td>1124_125</td>\n",
              "      <td>122.45</td>\n",
              "      <td>2018-12-03</td>\n",
              "      <td>1124</td>\n",
              "    </tr>\n",
              "    <tr>\n",
              "      <th>18383</th>\n",
              "      <td>1064_102</td>\n",
              "      <td>320.60</td>\n",
              "      <td>2018-12-19</td>\n",
              "      <td>1064</td>\n",
              "    </tr>\n",
              "    <tr>\n",
              "      <th>59774</th>\n",
              "      <td>1203_22</td>\n",
              "      <td>605.96</td>\n",
              "      <td>2018-06-17</td>\n",
              "      <td>1203</td>\n",
              "    </tr>\n",
              "  </tbody>\n",
              "</table>\n",
              "</div>"
            ],
            "text/plain": [
              "             id  mb_used session_date  user_id\n",
              "35745  1124_125   122.45   2018-12-03     1124\n",
              "18383  1064_102   320.60   2018-12-19     1064\n",
              "59774   1203_22   605.96   2018-06-17     1203"
            ]
          },
          "metadata": {
            "tags": []
          },
          "execution_count": 15
        }
      ]
    },
    {
      "cell_type": "markdown",
      "metadata": {
        "id": "rz_QoRcCnmcu"
      },
      "source": [
        "###### Наблюдение второе \n",
        "В течении сессии может не быть израсходованного в мегабайтах трафика. Доля таковых заходов в инернет составляет 13.1%  \n",
        "В среднем тратиться 370 Мб, рекордом же является 1724 Мб за одну сессию. "
      ]
    },
    {
      "cell_type": "code",
      "metadata": {
        "id": "35yTRij9nmcu",
        "colab": {
          "base_uri": "https://localhost:8080/",
          "height": 467
        },
        "outputId": "98f09dca-de42-4b32-fb51-491acef26e09"
      },
      "source": [
        "# изучаем базовую информацию по датасету\n",
        "messages.info()\n",
        "messages.duplicated().sum()\n",
        "messages.describe()"
      ],
      "execution_count": 16,
      "outputs": [
        {
          "output_type": "stream",
          "text": [
            "<class 'pandas.core.frame.DataFrame'>\n",
            "RangeIndex: 123036 entries, 0 to 123035\n",
            "Data columns (total 3 columns):\n",
            " #   Column        Non-Null Count   Dtype \n",
            "---  ------        --------------   ----- \n",
            " 0   id            123036 non-null  object\n",
            " 1   message_date  123036 non-null  object\n",
            " 2   user_id       123036 non-null  int64 \n",
            "dtypes: int64(1), object(2)\n",
            "memory usage: 2.8+ MB\n"
          ],
          "name": "stdout"
        },
        {
          "output_type": "execute_result",
          "data": {
            "text/html": [
              "<div>\n",
              "<style scoped>\n",
              "    .dataframe tbody tr th:only-of-type {\n",
              "        vertical-align: middle;\n",
              "    }\n",
              "\n",
              "    .dataframe tbody tr th {\n",
              "        vertical-align: top;\n",
              "    }\n",
              "\n",
              "    .dataframe thead th {\n",
              "        text-align: right;\n",
              "    }\n",
              "</style>\n",
              "<table border=\"1\" class=\"dataframe\">\n",
              "  <thead>\n",
              "    <tr style=\"text-align: right;\">\n",
              "      <th></th>\n",
              "      <th>user_id</th>\n",
              "    </tr>\n",
              "  </thead>\n",
              "  <tbody>\n",
              "    <tr>\n",
              "      <th>count</th>\n",
              "      <td>123036.000000</td>\n",
              "    </tr>\n",
              "    <tr>\n",
              "      <th>mean</th>\n",
              "      <td>1256.989410</td>\n",
              "    </tr>\n",
              "    <tr>\n",
              "      <th>std</th>\n",
              "      <td>143.523967</td>\n",
              "    </tr>\n",
              "    <tr>\n",
              "      <th>min</th>\n",
              "      <td>1000.000000</td>\n",
              "    </tr>\n",
              "    <tr>\n",
              "      <th>25%</th>\n",
              "      <td>1134.000000</td>\n",
              "    </tr>\n",
              "    <tr>\n",
              "      <th>50%</th>\n",
              "      <td>1271.000000</td>\n",
              "    </tr>\n",
              "    <tr>\n",
              "      <th>75%</th>\n",
              "      <td>1381.000000</td>\n",
              "    </tr>\n",
              "    <tr>\n",
              "      <th>max</th>\n",
              "      <td>1499.000000</td>\n",
              "    </tr>\n",
              "  </tbody>\n",
              "</table>\n",
              "</div>"
            ],
            "text/plain": [
              "             user_id\n",
              "count  123036.000000\n",
              "mean     1256.989410\n",
              "std       143.523967\n",
              "min      1000.000000\n",
              "25%      1134.000000\n",
              "50%      1271.000000\n",
              "75%      1381.000000\n",
              "max      1499.000000"
            ]
          },
          "metadata": {
            "tags": []
          },
          "execution_count": 16
        }
      ]
    },
    {
      "cell_type": "code",
      "metadata": {
        "id": "qS7hV1Mqnmcv"
      },
      "source": [
        "messages['message_date'] = pd.to_datetime(messages['message_date'], format = '%Y-%m-%d') # меняем формат столбца"
      ],
      "execution_count": 17,
      "outputs": []
    },
    {
      "cell_type": "code",
      "metadata": {
        "id": "UGy2GmFZnmcv",
        "colab": {
          "base_uri": "https://localhost:8080/",
          "height": 142
        },
        "outputId": "baa9f5b5-018b-427f-c7f9-80805b3c3db8"
      },
      "source": [
        "messages.sample(n = 3, random_state = 1) "
      ],
      "execution_count": 18,
      "outputs": [
        {
          "output_type": "execute_result",
          "data": {
            "text/html": [
              "<div>\n",
              "<style scoped>\n",
              "    .dataframe tbody tr th:only-of-type {\n",
              "        vertical-align: middle;\n",
              "    }\n",
              "\n",
              "    .dataframe tbody tr th {\n",
              "        vertical-align: top;\n",
              "    }\n",
              "\n",
              "    .dataframe thead th {\n",
              "        text-align: right;\n",
              "    }\n",
              "</style>\n",
              "<table border=\"1\" class=\"dataframe\">\n",
              "  <thead>\n",
              "    <tr style=\"text-align: right;\">\n",
              "      <th></th>\n",
              "      <th>id</th>\n",
              "      <th>message_date</th>\n",
              "      <th>user_id</th>\n",
              "    </tr>\n",
              "  </thead>\n",
              "  <tbody>\n",
              "    <tr>\n",
              "      <th>45696</th>\n",
              "      <td>1197_26</td>\n",
              "      <td>2018-12-31</td>\n",
              "      <td>1197</td>\n",
              "    </tr>\n",
              "    <tr>\n",
              "      <th>66091</th>\n",
              "      <td>1282_523</td>\n",
              "      <td>2018-11-30</td>\n",
              "      <td>1282</td>\n",
              "    </tr>\n",
              "    <tr>\n",
              "      <th>18743</th>\n",
              "      <td>1082_184</td>\n",
              "      <td>2018-10-18</td>\n",
              "      <td>1082</td>\n",
              "    </tr>\n",
              "  </tbody>\n",
              "</table>\n",
              "</div>"
            ],
            "text/plain": [
              "             id message_date  user_id\n",
              "45696   1197_26   2018-12-31     1197\n",
              "66091  1282_523   2018-11-30     1282\n",
              "18743  1082_184   2018-10-18     1082"
            ]
          },
          "metadata": {
            "tags": []
          },
          "execution_count": 18
        }
      ]
    },
    {
      "cell_type": "code",
      "metadata": {
        "id": "AHiQnGsdnmcw",
        "colab": {
          "base_uri": "https://localhost:8080/",
          "height": 552
        },
        "outputId": "03eb525f-65f2-4c16-957d-0cefcc62e3df"
      },
      "source": [
        "# изучаем базовую информацию по датасету\n",
        "users.info()\n",
        "users.duplicated().sum()\n",
        "users.describe() "
      ],
      "execution_count": 19,
      "outputs": [
        {
          "output_type": "stream",
          "text": [
            "<class 'pandas.core.frame.DataFrame'>\n",
            "RangeIndex: 500 entries, 0 to 499\n",
            "Data columns (total 8 columns):\n",
            " #   Column      Non-Null Count  Dtype \n",
            "---  ------      --------------  ----- \n",
            " 0   user_id     500 non-null    int64 \n",
            " 1   age         500 non-null    int64 \n",
            " 2   churn_date  38 non-null     object\n",
            " 3   city        500 non-null    object\n",
            " 4   first_name  500 non-null    object\n",
            " 5   last_name   500 non-null    object\n",
            " 6   reg_date    500 non-null    object\n",
            " 7   tariff      500 non-null    object\n",
            "dtypes: int64(2), object(6)\n",
            "memory usage: 31.4+ KB\n"
          ],
          "name": "stdout"
        },
        {
          "output_type": "execute_result",
          "data": {
            "text/html": [
              "<div>\n",
              "<style scoped>\n",
              "    .dataframe tbody tr th:only-of-type {\n",
              "        vertical-align: middle;\n",
              "    }\n",
              "\n",
              "    .dataframe tbody tr th {\n",
              "        vertical-align: top;\n",
              "    }\n",
              "\n",
              "    .dataframe thead th {\n",
              "        text-align: right;\n",
              "    }\n",
              "</style>\n",
              "<table border=\"1\" class=\"dataframe\">\n",
              "  <thead>\n",
              "    <tr style=\"text-align: right;\">\n",
              "      <th></th>\n",
              "      <th>user_id</th>\n",
              "      <th>age</th>\n",
              "    </tr>\n",
              "  </thead>\n",
              "  <tbody>\n",
              "    <tr>\n",
              "      <th>count</th>\n",
              "      <td>500.000000</td>\n",
              "      <td>500.00000</td>\n",
              "    </tr>\n",
              "    <tr>\n",
              "      <th>mean</th>\n",
              "      <td>1249.500000</td>\n",
              "      <td>46.58800</td>\n",
              "    </tr>\n",
              "    <tr>\n",
              "      <th>std</th>\n",
              "      <td>144.481833</td>\n",
              "      <td>16.66763</td>\n",
              "    </tr>\n",
              "    <tr>\n",
              "      <th>min</th>\n",
              "      <td>1000.000000</td>\n",
              "      <td>18.00000</td>\n",
              "    </tr>\n",
              "    <tr>\n",
              "      <th>25%</th>\n",
              "      <td>1124.750000</td>\n",
              "      <td>32.00000</td>\n",
              "    </tr>\n",
              "    <tr>\n",
              "      <th>50%</th>\n",
              "      <td>1249.500000</td>\n",
              "      <td>46.00000</td>\n",
              "    </tr>\n",
              "    <tr>\n",
              "      <th>75%</th>\n",
              "      <td>1374.250000</td>\n",
              "      <td>62.00000</td>\n",
              "    </tr>\n",
              "    <tr>\n",
              "      <th>max</th>\n",
              "      <td>1499.000000</td>\n",
              "      <td>75.00000</td>\n",
              "    </tr>\n",
              "  </tbody>\n",
              "</table>\n",
              "</div>"
            ],
            "text/plain": [
              "           user_id        age\n",
              "count   500.000000  500.00000\n",
              "mean   1249.500000   46.58800\n",
              "std     144.481833   16.66763\n",
              "min    1000.000000   18.00000\n",
              "25%    1124.750000   32.00000\n",
              "50%    1249.500000   46.00000\n",
              "75%    1374.250000   62.00000\n",
              "max    1499.000000   75.00000"
            ]
          },
          "metadata": {
            "tags": []
          },
          "execution_count": 19
        }
      ]
    },
    {
      "cell_type": "code",
      "metadata": {
        "id": "FEuuxipznmcw"
      },
      "source": [
        "users['reg_date'] = pd.to_datetime(users['reg_date'], format = '%Y-%m-%d') # меняем форматы столбцов\n",
        "users['churn_date'] = pd.to_datetime(users['churn_date'], format = '%Y-%m-%d')"
      ],
      "execution_count": 20,
      "outputs": []
    },
    {
      "cell_type": "code",
      "metadata": {
        "id": "2_WLOUivnmcw",
        "colab": {
          "base_uri": "https://localhost:8080/",
          "height": 142
        },
        "outputId": "b184f39c-a34a-4447-8ab8-b114a60988f0"
      },
      "source": [
        "users.sample(n = 3, random_state = 1) "
      ],
      "execution_count": 21,
      "outputs": [
        {
          "output_type": "execute_result",
          "data": {
            "text/html": [
              "<div>\n",
              "<style scoped>\n",
              "    .dataframe tbody tr th:only-of-type {\n",
              "        vertical-align: middle;\n",
              "    }\n",
              "\n",
              "    .dataframe tbody tr th {\n",
              "        vertical-align: top;\n",
              "    }\n",
              "\n",
              "    .dataframe thead th {\n",
              "        text-align: right;\n",
              "    }\n",
              "</style>\n",
              "<table border=\"1\" class=\"dataframe\">\n",
              "  <thead>\n",
              "    <tr style=\"text-align: right;\">\n",
              "      <th></th>\n",
              "      <th>user_id</th>\n",
              "      <th>age</th>\n",
              "      <th>churn_date</th>\n",
              "      <th>city</th>\n",
              "      <th>first_name</th>\n",
              "      <th>last_name</th>\n",
              "      <th>reg_date</th>\n",
              "      <th>tariff</th>\n",
              "    </tr>\n",
              "  </thead>\n",
              "  <tbody>\n",
              "    <tr>\n",
              "      <th>304</th>\n",
              "      <td>1304</td>\n",
              "      <td>68</td>\n",
              "      <td>NaT</td>\n",
              "      <td>Владимир</td>\n",
              "      <td>Илья</td>\n",
              "      <td>Соловьёв</td>\n",
              "      <td>2018-11-05</td>\n",
              "      <td>ultra</td>\n",
              "    </tr>\n",
              "    <tr>\n",
              "      <th>340</th>\n",
              "      <td>1340</td>\n",
              "      <td>50</td>\n",
              "      <td>NaT</td>\n",
              "      <td>Пенза</td>\n",
              "      <td>Тимофей</td>\n",
              "      <td>Алютин</td>\n",
              "      <td>2018-01-30</td>\n",
              "      <td>smart</td>\n",
              "    </tr>\n",
              "    <tr>\n",
              "      <th>47</th>\n",
              "      <td>1047</td>\n",
              "      <td>67</td>\n",
              "      <td>NaT</td>\n",
              "      <td>Саратов</td>\n",
              "      <td>Милица</td>\n",
              "      <td>Меркулова</td>\n",
              "      <td>2018-10-29</td>\n",
              "      <td>smart</td>\n",
              "    </tr>\n",
              "  </tbody>\n",
              "</table>\n",
              "</div>"
            ],
            "text/plain": [
              "     user_id  age churn_date      city first_name  last_name   reg_date tariff\n",
              "304     1304   68        NaT  Владимир       Илья   Соловьёв 2018-11-05  ultra\n",
              "340     1340   50        NaT     Пенза    Тимофей     Алютин 2018-01-30  smart\n",
              "47      1047   67        NaT   Саратов     Милица  Меркулова 2018-10-29  smart"
            ]
          },
          "metadata": {
            "tags": []
          },
          "execution_count": 21
        }
      ]
    },
    {
      "cell_type": "code",
      "metadata": {
        "id": "RCDHn1VSnmcx",
        "colab": {
          "base_uri": "https://localhost:8080/"
        },
        "outputId": "29c1c80a-4f5d-469b-94f2-23f379abc2c5"
      },
      "source": [
        "# определяем кол-во пользователей, которые прекратили действование своего тарифа\n",
        "share_churnD = users['churn_date'].count() / len(users) \n",
        "share_churnD"
      ],
      "execution_count": 22,
      "outputs": [
        {
          "output_type": "execute_result",
          "data": {
            "text/plain": [
              "0.076"
            ]
          },
          "metadata": {
            "tags": []
          },
          "execution_count": 22
        }
      ]
    },
    {
      "cell_type": "markdown",
      "metadata": {
        "id": "omSahZpVnmcx"
      },
      "source": [
        "###### Наблюдение третье \n",
        "У нас имеются данные на все 500 пользователей, которые представлены и в других табликацах.  \n",
        "Всего 7.6% позователей отказались от своего действующего тарифа, осталные же являются действующими. "
      ]
    },
    {
      "cell_type": "markdown",
      "metadata": {
        "id": "MZ2rtkQDnmcy"
      },
      "source": [
        "###### Считаем количество сделанных звонков и израсходованных минут разговора по месяцам <a id=\"3.1\"></a>"
      ]
    },
    {
      "cell_type": "code",
      "metadata": {
        "scrolled": false,
        "id": "PMEJRtWxnmcy",
        "colab": {
          "base_uri": "https://localhost:8080/",
          "height": 452
        },
        "outputId": "a0c1d093-422d-47e7-976a-e7f602cd6365"
      },
      "source": [
        "calls['month'] = calls['call_date'].dt.month #создаем столбец с номером месяца\n",
        "df_call = calls.pivot_table(index = 'month', values = 'duration', aggfunc =['sum', 'count']) #создаем сводную таблицу\n",
        "df_call.columns = ['sum_duration', 'count_duration'] #меняем названия столбцом\n",
        "df_call"
      ],
      "execution_count": 64,
      "outputs": [
        {
          "output_type": "execute_result",
          "data": {
            "text/html": [
              "<div>\n",
              "<style scoped>\n",
              "    .dataframe tbody tr th:only-of-type {\n",
              "        vertical-align: middle;\n",
              "    }\n",
              "\n",
              "    .dataframe tbody tr th {\n",
              "        vertical-align: top;\n",
              "    }\n",
              "\n",
              "    .dataframe thead th {\n",
              "        text-align: right;\n",
              "    }\n",
              "</style>\n",
              "<table border=\"1\" class=\"dataframe\">\n",
              "  <thead>\n",
              "    <tr style=\"text-align: right;\">\n",
              "      <th></th>\n",
              "      <th>sum_duration</th>\n",
              "      <th>count_duration</th>\n",
              "    </tr>\n",
              "    <tr>\n",
              "      <th>month</th>\n",
              "      <th></th>\n",
              "      <th></th>\n",
              "    </tr>\n",
              "  </thead>\n",
              "  <tbody>\n",
              "    <tr>\n",
              "      <th>1</th>\n",
              "      <td>9637</td>\n",
              "      <td>1476</td>\n",
              "    </tr>\n",
              "    <tr>\n",
              "      <th>2</th>\n",
              "      <td>21773</td>\n",
              "      <td>3328</td>\n",
              "    </tr>\n",
              "    <tr>\n",
              "      <th>3</th>\n",
              "      <td>42820</td>\n",
              "      <td>6687</td>\n",
              "    </tr>\n",
              "    <tr>\n",
              "      <th>4</th>\n",
              "      <td>58875</td>\n",
              "      <td>9272</td>\n",
              "    </tr>\n",
              "    <tr>\n",
              "      <th>5</th>\n",
              "      <td>78796</td>\n",
              "      <td>12647</td>\n",
              "    </tr>\n",
              "    <tr>\n",
              "      <th>6</th>\n",
              "      <td>93466</td>\n",
              "      <td>14716</td>\n",
              "    </tr>\n",
              "    <tr>\n",
              "      <th>7</th>\n",
              "      <td>117103</td>\n",
              "      <td>18298</td>\n",
              "    </tr>\n",
              "    <tr>\n",
              "      <th>8</th>\n",
              "      <td>136616</td>\n",
              "      <td>21488</td>\n",
              "    </tr>\n",
              "    <tr>\n",
              "      <th>9</th>\n",
              "      <td>154207</td>\n",
              "      <td>24061</td>\n",
              "    </tr>\n",
              "    <tr>\n",
              "      <th>10</th>\n",
              "      <td>172388</td>\n",
              "      <td>27146</td>\n",
              "    </tr>\n",
              "    <tr>\n",
              "      <th>11</th>\n",
              "      <td>186629</td>\n",
              "      <td>29501</td>\n",
              "    </tr>\n",
              "    <tr>\n",
              "      <th>12</th>\n",
              "      <td>216544</td>\n",
              "      <td>33987</td>\n",
              "    </tr>\n",
              "  </tbody>\n",
              "</table>\n",
              "</div>"
            ],
            "text/plain": [
              "       sum_duration  count_duration\n",
              "month                              \n",
              "1              9637            1476\n",
              "2             21773            3328\n",
              "3             42820            6687\n",
              "4             58875            9272\n",
              "5             78796           12647\n",
              "6             93466           14716\n",
              "7            117103           18298\n",
              "8            136616           21488\n",
              "9            154207           24061\n",
              "10           172388           27146\n",
              "11           186629           29501\n",
              "12           216544           33987"
            ]
          },
          "metadata": {
            "tags": []
          },
          "execution_count": 64
        }
      ]
    },
    {
      "cell_type": "code",
      "metadata": {
        "id": "tdJo9uSYnmcz",
        "colab": {
          "base_uri": "https://localhost:8080/",
          "height": 315
        },
        "outputId": "131095b4-68de-4d77-cf08-fed798163ef7"
      },
      "source": [
        "df_call['sum_duration'].plot( kind = 'bar') #создаем график\n",
        "plt.title('Динамика роста продолжительности разговоров') #называем таблицу\n",
        "plt.ylabel('Продолжительность, мин') #назовем сторону y\n",
        "plt.xlabel('Месяц') #назовем сторону x"
      ],
      "execution_count": 65,
      "outputs": [
        {
          "output_type": "execute_result",
          "data": {
            "text/plain": [
              "Text(0.5, 0, 'Месяц')"
            ]
          },
          "metadata": {
            "tags": []
          },
          "execution_count": 65
        },
        {
          "output_type": "display_data",
          "data": {
            "image/png": "[encoded data removed]",
            "text/plain": [
              "<Figure size 432x288 with 1 Axes>"
            ]
          },
          "metadata": {
            "tags": [],
            "needs_background": "light"
          }
        }
      ]
    },
    {
      "cell_type": "code",
      "metadata": {
        "id": "VokZVAQAnmcz",
        "colab": {
          "base_uri": "https://localhost:8080/",
          "height": 315
        },
        "outputId": "42403a73-4bb2-4926-e632-8efc91c92936"
      },
      "source": [
        "df_call['count_duration'].plot( kind = 'bar') #создаем график\n",
        "plt.title('Динамика роста кол-ва звонков') #называем таблицу\n",
        "plt.ylabel('Кол-во звонков,шт') #назовем сторону y\n",
        "plt.xlabel('Месяц') #назовем сторону x"
      ],
      "execution_count": 66,
      "outputs": [
        {
          "output_type": "execute_result",
          "data": {
            "text/plain": [
              "Text(0.5, 0, 'Месяц')"
            ]
          },
          "metadata": {
            "tags": []
          },
          "execution_count": 66
        },
        {
          "output_type": "display_data",
          "data": {
            "image/png": "[encoded data removed]",
            "text/plain": [
              "<Figure size 432x288 with 1 Axes>"
            ]
          },
          "metadata": {
            "tags": [],
            "needs_background": "light"
          }
        }
      ]
    },
    {
      "cell_type": "code",
      "metadata": {
        "id": "5UI9D4R7nmc0",
        "colab": {
          "base_uri": "https://localhost:8080/",
          "height": 452
        },
        "outputId": "26815e44-e54f-4a08-a4c7-ba2c72001df0"
      },
      "source": [
        "# определяем продолжительность звонка по месяцам\n",
        "df_call['call_duration_per_user'] = df_call['sum_duration'] / df_call['count_duration'] #создаем новый столбец с продолжительностью звонка\n",
        "df_call"
      ],
      "execution_count": 67,
      "outputs": [
        {
          "output_type": "execute_result",
          "data": {
            "text/html": [
              "<div>\n",
              "<style scoped>\n",
              "    .dataframe tbody tr th:only-of-type {\n",
              "        vertical-align: middle;\n",
              "    }\n",
              "\n",
              "    .dataframe tbody tr th {\n",
              "        vertical-align: top;\n",
              "    }\n",
              "\n",
              "    .dataframe thead th {\n",
              "        text-align: right;\n",
              "    }\n",
              "</style>\n",
              "<table border=\"1\" class=\"dataframe\">\n",
              "  <thead>\n",
              "    <tr style=\"text-align: right;\">\n",
              "      <th></th>\n",
              "      <th>sum_duration</th>\n",
              "      <th>count_duration</th>\n",
              "      <th>call_duration_per_user</th>\n",
              "    </tr>\n",
              "    <tr>\n",
              "      <th>month</th>\n",
              "      <th></th>\n",
              "      <th></th>\n",
              "      <th></th>\n",
              "    </tr>\n",
              "  </thead>\n",
              "  <tbody>\n",
              "    <tr>\n",
              "      <th>1</th>\n",
              "      <td>9637</td>\n",
              "      <td>1476</td>\n",
              "      <td>6.529133</td>\n",
              "    </tr>\n",
              "    <tr>\n",
              "      <th>2</th>\n",
              "      <td>21773</td>\n",
              "      <td>3328</td>\n",
              "      <td>6.542368</td>\n",
              "    </tr>\n",
              "    <tr>\n",
              "      <th>3</th>\n",
              "      <td>42820</td>\n",
              "      <td>6687</td>\n",
              "      <td>6.403469</td>\n",
              "    </tr>\n",
              "    <tr>\n",
              "      <th>4</th>\n",
              "      <td>58875</td>\n",
              "      <td>9272</td>\n",
              "      <td>6.349763</td>\n",
              "    </tr>\n",
              "    <tr>\n",
              "      <th>5</th>\n",
              "      <td>78796</td>\n",
              "      <td>12647</td>\n",
              "      <td>6.230410</td>\n",
              "    </tr>\n",
              "    <tr>\n",
              "      <th>6</th>\n",
              "      <td>93466</td>\n",
              "      <td>14716</td>\n",
              "      <td>6.351318</td>\n",
              "    </tr>\n",
              "    <tr>\n",
              "      <th>7</th>\n",
              "      <td>117103</td>\n",
              "      <td>18298</td>\n",
              "      <td>6.399770</td>\n",
              "    </tr>\n",
              "    <tr>\n",
              "      <th>8</th>\n",
              "      <td>136616</td>\n",
              "      <td>21488</td>\n",
              "      <td>6.357781</td>\n",
              "    </tr>\n",
              "    <tr>\n",
              "      <th>9</th>\n",
              "      <td>154207</td>\n",
              "      <td>24061</td>\n",
              "      <td>6.409002</td>\n",
              "    </tr>\n",
              "    <tr>\n",
              "      <th>10</th>\n",
              "      <td>172388</td>\n",
              "      <td>27146</td>\n",
              "      <td>6.350402</td>\n",
              "    </tr>\n",
              "    <tr>\n",
              "      <th>11</th>\n",
              "      <td>186629</td>\n",
              "      <td>29501</td>\n",
              "      <td>6.326192</td>\n",
              "    </tr>\n",
              "    <tr>\n",
              "      <th>12</th>\n",
              "      <td>216544</td>\n",
              "      <td>33987</td>\n",
              "      <td>6.371377</td>\n",
              "    </tr>\n",
              "  </tbody>\n",
              "</table>\n",
              "</div>"
            ],
            "text/plain": [
              "       sum_duration  count_duration  call_duration_per_user\n",
              "month                                                      \n",
              "1              9637            1476                6.529133\n",
              "2             21773            3328                6.542368\n",
              "3             42820            6687                6.403469\n",
              "4             58875            9272                6.349763\n",
              "5             78796           12647                6.230410\n",
              "6             93466           14716                6.351318\n",
              "7            117103           18298                6.399770\n",
              "8            136616           21488                6.357781\n",
              "9            154207           24061                6.409002\n",
              "10           172388           27146                6.350402\n",
              "11           186629           29501                6.326192\n",
              "12           216544           33987                6.371377"
            ]
          },
          "metadata": {
            "tags": []
          },
          "execution_count": 67
        }
      ]
    },
    {
      "cell_type": "markdown",
      "metadata": {
        "id": "ofa5wZAFnmc0"
      },
      "source": [
        "### Вывод  \n",
        "На ежемесячной основе оператор увеличивает кол-во произведенных звонков его пользователями и тем самым увеличивается и суммарная продолжительность этих звонков. Параметры имеют прямую зависимость, однако всреднем один пользователь за год стал говорить на 2,5% меньше по времени, изменения произошли начиная с марта 2018 года."
      ]
    },
    {
      "cell_type": "markdown",
      "metadata": {
        "id": "zSyD1HwDnmc1"
      },
      "source": [
        " ###### Количество отправленных сообщений по месяцам   <a id=\"3.2\"></a>"
      ]
    },
    {
      "cell_type": "code",
      "metadata": {
        "id": "lM12h-UDnmc1",
        "colab": {
          "base_uri": "https://localhost:8080/",
          "height": 452
        },
        "outputId": "c7a298da-7d45-478f-cd2f-f7d353690218"
      },
      "source": [
        "messages['month'] = messages['message_date'].dt.month #создаем столбец с номером месяца\n",
        "df_messages = messages.pivot_table(index = 'month', values = 'id', aggfunc = 'count') #создаем сводную таблицу\n",
        "df_messages.columns = ['number_of_messages'] #переназываем столбец\n",
        "df_messages"
      ],
      "execution_count": 27,
      "outputs": [
        {
          "output_type": "execute_result",
          "data": {
            "text/html": [
              "<div>\n",
              "<style scoped>\n",
              "    .dataframe tbody tr th:only-of-type {\n",
              "        vertical-align: middle;\n",
              "    }\n",
              "\n",
              "    .dataframe tbody tr th {\n",
              "        vertical-align: top;\n",
              "    }\n",
              "\n",
              "    .dataframe thead th {\n",
              "        text-align: right;\n",
              "    }\n",
              "</style>\n",
              "<table border=\"1\" class=\"dataframe\">\n",
              "  <thead>\n",
              "    <tr style=\"text-align: right;\">\n",
              "      <th></th>\n",
              "      <th>number_of_messages</th>\n",
              "    </tr>\n",
              "    <tr>\n",
              "      <th>month</th>\n",
              "      <th></th>\n",
              "    </tr>\n",
              "  </thead>\n",
              "  <tbody>\n",
              "    <tr>\n",
              "      <th>1</th>\n",
              "      <td>924</td>\n",
              "    </tr>\n",
              "    <tr>\n",
              "      <th>2</th>\n",
              "      <td>1924</td>\n",
              "    </tr>\n",
              "    <tr>\n",
              "      <th>3</th>\n",
              "      <td>3648</td>\n",
              "    </tr>\n",
              "    <tr>\n",
              "      <th>4</th>\n",
              "      <td>5179</td>\n",
              "    </tr>\n",
              "    <tr>\n",
              "      <th>5</th>\n",
              "      <td>7298</td>\n",
              "    </tr>\n",
              "    <tr>\n",
              "      <th>6</th>\n",
              "      <td>8983</td>\n",
              "    </tr>\n",
              "    <tr>\n",
              "      <th>7</th>\n",
              "      <td>11320</td>\n",
              "    </tr>\n",
              "    <tr>\n",
              "      <th>8</th>\n",
              "      <td>13088</td>\n",
              "    </tr>\n",
              "    <tr>\n",
              "      <th>9</th>\n",
              "      <td>14759</td>\n",
              "    </tr>\n",
              "    <tr>\n",
              "      <th>10</th>\n",
              "      <td>17114</td>\n",
              "    </tr>\n",
              "    <tr>\n",
              "      <th>11</th>\n",
              "      <td>18244</td>\n",
              "    </tr>\n",
              "    <tr>\n",
              "      <th>12</th>\n",
              "      <td>20555</td>\n",
              "    </tr>\n",
              "  </tbody>\n",
              "</table>\n",
              "</div>"
            ],
            "text/plain": [
              "       number_of_messages\n",
              "month                    \n",
              "1                     924\n",
              "2                    1924\n",
              "3                    3648\n",
              "4                    5179\n",
              "5                    7298\n",
              "6                    8983\n",
              "7                   11320\n",
              "8                   13088\n",
              "9                   14759\n",
              "10                  17114\n",
              "11                  18244\n",
              "12                  20555"
            ]
          },
          "metadata": {
            "tags": []
          },
          "execution_count": 27
        }
      ]
    },
    {
      "cell_type": "code",
      "metadata": {
        "id": "-q8WaJIPnmc1",
        "colab": {
          "base_uri": "https://localhost:8080/",
          "height": 315
        },
        "outputId": "4bbe9510-09cb-4e6a-a056-5b964fa69c24"
      },
      "source": [
        "df_messages.plot( kind = 'bar')\n",
        "plt.title('Динамика роста кол-ва сообщений')\n",
        "plt.ylabel('Кол-во сообщений, шт') \n",
        "plt.xlabel('Месяц')"
      ],
      "execution_count": 28,
      "outputs": [
        {
          "output_type": "execute_result",
          "data": {
            "text/plain": [
              "Text(0.5, 0, 'Месяц')"
            ]
          },
          "metadata": {
            "tags": []
          },
          "execution_count": 28
        },
        {
          "output_type": "display_data",
          "data": {
            "image/png": "[encoded data removed]",
            "text/plain": [
              "<Figure size 432x288 with 1 Axes>"
            ]
          },
          "metadata": {
            "tags": [],
            "needs_background": "light"
          }
        }
      ]
    },
    {
      "cell_type": "markdown",
      "metadata": {
        "id": "Wloqhx2unmc1"
      },
      "source": [
        "### Вывод"
      ]
    },
    {
      "cell_type": "markdown",
      "metadata": {
        "id": "j3WjCPHvnmc2"
      },
      "source": [
        "Кол-во отправленных сообщений растет из месяца в месяц: начиная от 924 в январе, заканчивая 20555 сообщений в декабре. При этом более чем двукратный рост был только в феврале месяце, после чего % прироста от месяца к месяцу уменьшался. "
      ]
    },
    {
      "cell_type": "markdown",
      "metadata": {
        "id": "LHMXzZG2nmc2"
      },
      "source": [
        "###### Объем израсходованного интернет-трафика по месяцам  <a id=\"3.3\"></a>"
      ]
    },
    {
      "cell_type": "code",
      "metadata": {
        "id": "6mk0wD-znmc2",
        "colab": {
          "base_uri": "https://localhost:8080/",
          "height": 452
        },
        "outputId": "d1ecc431-8d96-4c1c-db22-325951858dc8"
      },
      "source": [
        "internet['month'] = internet['session_date'].dt.month #создаем столбец с номером месяца\n",
        "df_internet = internet.pivot_table(index = 'month', values = 'mb_used', aggfunc = ['sum', 'count']) #создаем сводную таблицу\n",
        "df_internet.columns = ['gb_used', 'session'] #переназываем столбцы\n",
        "df_internet['gb_used'] = df_internet['gb_used'] / 1024 #переводим Мб в Гб для простоты усвоения данных\n",
        "df_internet['gb_used'] =df_internet['gb_used'].astype('int')\n",
        "df_internet"
      ],
      "execution_count": 29,
      "outputs": [
        {
          "output_type": "execute_result",
          "data": {
            "text/html": [
              "<div>\n",
              "<style scoped>\n",
              "    .dataframe tbody tr th:only-of-type {\n",
              "        vertical-align: middle;\n",
              "    }\n",
              "\n",
              "    .dataframe tbody tr th {\n",
              "        vertical-align: top;\n",
              "    }\n",
              "\n",
              "    .dataframe thead th {\n",
              "        text-align: right;\n",
              "    }\n",
              "</style>\n",
              "<table border=\"1\" class=\"dataframe\">\n",
              "  <thead>\n",
              "    <tr style=\"text-align: right;\">\n",
              "      <th></th>\n",
              "      <th>gb_used</th>\n",
              "      <th>session</th>\n",
              "    </tr>\n",
              "    <tr>\n",
              "      <th>month</th>\n",
              "      <th></th>\n",
              "      <th></th>\n",
              "    </tr>\n",
              "  </thead>\n",
              "  <tbody>\n",
              "    <tr>\n",
              "      <th>1</th>\n",
              "      <td>398</td>\n",
              "      <td>1117</td>\n",
              "    </tr>\n",
              "    <tr>\n",
              "      <th>2</th>\n",
              "      <td>932</td>\n",
              "      <td>2641</td>\n",
              "    </tr>\n",
              "    <tr>\n",
              "      <th>3</th>\n",
              "      <td>1769</td>\n",
              "      <td>4885</td>\n",
              "    </tr>\n",
              "    <tr>\n",
              "      <th>4</th>\n",
              "      <td>2376</td>\n",
              "      <td>6511</td>\n",
              "    </tr>\n",
              "    <tr>\n",
              "      <th>5</th>\n",
              "      <td>3443</td>\n",
              "      <td>9408</td>\n",
              "    </tr>\n",
              "    <tr>\n",
              "      <th>6</th>\n",
              "      <td>4082</td>\n",
              "      <td>11057</td>\n",
              "    </tr>\n",
              "    <tr>\n",
              "      <th>7</th>\n",
              "      <td>4911</td>\n",
              "      <td>13548</td>\n",
              "    </tr>\n",
              "    <tr>\n",
              "      <th>8</th>\n",
              "      <td>5857</td>\n",
              "      <td>16092</td>\n",
              "    </tr>\n",
              "    <tr>\n",
              "      <th>9</th>\n",
              "      <td>6296</td>\n",
              "      <td>17512</td>\n",
              "    </tr>\n",
              "    <tr>\n",
              "      <th>10</th>\n",
              "      <td>7218</td>\n",
              "      <td>20009</td>\n",
              "    </tr>\n",
              "    <tr>\n",
              "      <th>11</th>\n",
              "      <td>7803</td>\n",
              "      <td>21817</td>\n",
              "    </tr>\n",
              "    <tr>\n",
              "      <th>12</th>\n",
              "      <td>8919</td>\n",
              "      <td>24799</td>\n",
              "    </tr>\n",
              "  </tbody>\n",
              "</table>\n",
              "</div>"
            ],
            "text/plain": [
              "       gb_used  session\n",
              "month                  \n",
              "1          398     1117\n",
              "2          932     2641\n",
              "3         1769     4885\n",
              "4         2376     6511\n",
              "5         3443     9408\n",
              "6         4082    11057\n",
              "7         4911    13548\n",
              "8         5857    16092\n",
              "9         6296    17512\n",
              "10        7218    20009\n",
              "11        7803    21817\n",
              "12        8919    24799"
            ]
          },
          "metadata": {
            "tags": []
          },
          "execution_count": 29
        }
      ]
    },
    {
      "cell_type": "code",
      "metadata": {
        "id": "Y2T2XB2Unmc3",
        "colab": {
          "base_uri": "https://localhost:8080/",
          "height": 360
        },
        "outputId": "ac3f359f-15d9-44c6-d8f2-c6a8e02de10d"
      },
      "source": [
        "df_internet.plot( kind = 'bar')\n",
        "plt.title('Динамика роста потребления интернет-трафика ')\n",
        "plt.ylabel('Кол-во потребленного трафика, Гб / Кол-во пользователей') \n",
        "plt.xlabel('Месяц')"
      ],
      "execution_count": 30,
      "outputs": [
        {
          "output_type": "execute_result",
          "data": {
            "text/plain": [
              "Text(0.5, 0, 'Месяц')"
            ]
          },
          "metadata": {
            "tags": []
          },
          "execution_count": 30
        },
        {
          "output_type": "display_data",
          "data": {
            "image/png": "[encoded data removed]",
            "text/plain": [
              "<Figure size 432x288 with 1 Axes>"
            ]
          },
          "metadata": {
            "tags": [],
            "needs_background": "light"
          }
        }
      ]
    },
    {
      "cell_type": "code",
      "metadata": {
        "id": "BTcN9EWDnmc3",
        "colab": {
          "base_uri": "https://localhost:8080/",
          "height": 452
        },
        "outputId": "ef4555f6-e3d1-4a26-f461-79960cc76fc3"
      },
      "source": [
        "#определяем сколько Гб трафика потребляем 1 пользователь в месяц\n",
        "df_internet['gb_per_users'] = df_internet['gb_used'] / df_internet['session']\n",
        "df_internet   "
      ],
      "execution_count": 31,
      "outputs": [
        {
          "output_type": "execute_result",
          "data": {
            "text/html": [
              "<div>\n",
              "<style scoped>\n",
              "    .dataframe tbody tr th:only-of-type {\n",
              "        vertical-align: middle;\n",
              "    }\n",
              "\n",
              "    .dataframe tbody tr th {\n",
              "        vertical-align: top;\n",
              "    }\n",
              "\n",
              "    .dataframe thead th {\n",
              "        text-align: right;\n",
              "    }\n",
              "</style>\n",
              "<table border=\"1\" class=\"dataframe\">\n",
              "  <thead>\n",
              "    <tr style=\"text-align: right;\">\n",
              "      <th></th>\n",
              "      <th>gb_used</th>\n",
              "      <th>session</th>\n",
              "      <th>gb_per_users</th>\n",
              "    </tr>\n",
              "    <tr>\n",
              "      <th>month</th>\n",
              "      <th></th>\n",
              "      <th></th>\n",
              "      <th></th>\n",
              "    </tr>\n",
              "  </thead>\n",
              "  <tbody>\n",
              "    <tr>\n",
              "      <th>1</th>\n",
              "      <td>398</td>\n",
              "      <td>1117</td>\n",
              "      <td>0.356312</td>\n",
              "    </tr>\n",
              "    <tr>\n",
              "      <th>2</th>\n",
              "      <td>932</td>\n",
              "      <td>2641</td>\n",
              "      <td>0.352897</td>\n",
              "    </tr>\n",
              "    <tr>\n",
              "      <th>3</th>\n",
              "      <td>1769</td>\n",
              "      <td>4885</td>\n",
              "      <td>0.362129</td>\n",
              "    </tr>\n",
              "    <tr>\n",
              "      <th>4</th>\n",
              "      <td>2376</td>\n",
              "      <td>6511</td>\n",
              "      <td>0.364921</td>\n",
              "    </tr>\n",
              "    <tr>\n",
              "      <th>5</th>\n",
              "      <td>3443</td>\n",
              "      <td>9408</td>\n",
              "      <td>0.365965</td>\n",
              "    </tr>\n",
              "    <tr>\n",
              "      <th>6</th>\n",
              "      <td>4082</td>\n",
              "      <td>11057</td>\n",
              "      <td>0.369178</td>\n",
              "    </tr>\n",
              "    <tr>\n",
              "      <th>7</th>\n",
              "      <td>4911</td>\n",
              "      <td>13548</td>\n",
              "      <td>0.362489</td>\n",
              "    </tr>\n",
              "    <tr>\n",
              "      <th>8</th>\n",
              "      <td>5857</td>\n",
              "      <td>16092</td>\n",
              "      <td>0.363970</td>\n",
              "    </tr>\n",
              "    <tr>\n",
              "      <th>9</th>\n",
              "      <td>6296</td>\n",
              "      <td>17512</td>\n",
              "      <td>0.359525</td>\n",
              "    </tr>\n",
              "    <tr>\n",
              "      <th>10</th>\n",
              "      <td>7218</td>\n",
              "      <td>20009</td>\n",
              "      <td>0.360738</td>\n",
              "    </tr>\n",
              "    <tr>\n",
              "      <th>11</th>\n",
              "      <td>7803</td>\n",
              "      <td>21817</td>\n",
              "      <td>0.357657</td>\n",
              "    </tr>\n",
              "    <tr>\n",
              "      <th>12</th>\n",
              "      <td>8919</td>\n",
              "      <td>24799</td>\n",
              "      <td>0.359652</td>\n",
              "    </tr>\n",
              "  </tbody>\n",
              "</table>\n",
              "</div>"
            ],
            "text/plain": [
              "       gb_used  session  gb_per_users\n",
              "month                                \n",
              "1          398     1117      0.356312\n",
              "2          932     2641      0.352897\n",
              "3         1769     4885      0.362129\n",
              "4         2376     6511      0.364921\n",
              "5         3443     9408      0.365965\n",
              "6         4082    11057      0.369178\n",
              "7         4911    13548      0.362489\n",
              "8         5857    16092      0.363970\n",
              "9         6296    17512      0.359525\n",
              "10        7218    20009      0.360738\n",
              "11        7803    21817      0.357657\n",
              "12        8919    24799      0.359652"
            ]
          },
          "metadata": {
            "tags": []
          },
          "execution_count": 31
        }
      ]
    },
    {
      "cell_type": "code",
      "metadata": {
        "id": "V6JRYDTanmc3",
        "colab": {
          "base_uri": "https://localhost:8080/",
          "height": 452
        },
        "outputId": "ff719bca-da89-43a9-f18b-3476a7ded30c"
      },
      "source": [
        "# определяем сессии, в которые не был потрачен трафик по тарифу\n",
        "iwz = internet.query('mb_used == 0') \n",
        "iwz_month = iwz.pivot_table(index = 'month', values = 'mb_used', aggfunc = 'count')\n",
        "iwz_month.columns = ['count_zero_mb'] #переназываем столбец\n",
        "share_zero = df_internet.merge(iwz_month, on = 'month') #соединяем 2 таблицы через столбец с номером месяца\n",
        "share_zero['share_zero'] = share_zero['count_zero_mb'] / share_zero['session']\n",
        "share_zero"
      ],
      "execution_count": 32,
      "outputs": [
        {
          "output_type": "execute_result",
          "data": {
            "text/html": [
              "<div>\n",
              "<style scoped>\n",
              "    .dataframe tbody tr th:only-of-type {\n",
              "        vertical-align: middle;\n",
              "    }\n",
              "\n",
              "    .dataframe tbody tr th {\n",
              "        vertical-align: top;\n",
              "    }\n",
              "\n",
              "    .dataframe thead th {\n",
              "        text-align: right;\n",
              "    }\n",
              "</style>\n",
              "<table border=\"1\" class=\"dataframe\">\n",
              "  <thead>\n",
              "    <tr style=\"text-align: right;\">\n",
              "      <th></th>\n",
              "      <th>gb_used</th>\n",
              "      <th>session</th>\n",
              "      <th>gb_per_users</th>\n",
              "      <th>count_zero_mb</th>\n",
              "      <th>share_zero</th>\n",
              "    </tr>\n",
              "    <tr>\n",
              "      <th>month</th>\n",
              "      <th></th>\n",
              "      <th></th>\n",
              "      <th></th>\n",
              "      <th></th>\n",
              "      <th></th>\n",
              "    </tr>\n",
              "  </thead>\n",
              "  <tbody>\n",
              "    <tr>\n",
              "      <th>1</th>\n",
              "      <td>398</td>\n",
              "      <td>1117</td>\n",
              "      <td>0.356312</td>\n",
              "      <td>151</td>\n",
              "      <td>0.135184</td>\n",
              "    </tr>\n",
              "    <tr>\n",
              "      <th>2</th>\n",
              "      <td>932</td>\n",
              "      <td>2641</td>\n",
              "      <td>0.352897</td>\n",
              "      <td>378</td>\n",
              "      <td>0.143128</td>\n",
              "    </tr>\n",
              "    <tr>\n",
              "      <th>3</th>\n",
              "      <td>1769</td>\n",
              "      <td>4885</td>\n",
              "      <td>0.362129</td>\n",
              "      <td>623</td>\n",
              "      <td>0.127533</td>\n",
              "    </tr>\n",
              "    <tr>\n",
              "      <th>4</th>\n",
              "      <td>2376</td>\n",
              "      <td>6511</td>\n",
              "      <td>0.364921</td>\n",
              "      <td>819</td>\n",
              "      <td>0.125787</td>\n",
              "    </tr>\n",
              "    <tr>\n",
              "      <th>5</th>\n",
              "      <td>3443</td>\n",
              "      <td>9408</td>\n",
              "      <td>0.365965</td>\n",
              "      <td>1199</td>\n",
              "      <td>0.127445</td>\n",
              "    </tr>\n",
              "    <tr>\n",
              "      <th>6</th>\n",
              "      <td>4082</td>\n",
              "      <td>11057</td>\n",
              "      <td>0.369178</td>\n",
              "      <td>1401</td>\n",
              "      <td>0.126707</td>\n",
              "    </tr>\n",
              "    <tr>\n",
              "      <th>7</th>\n",
              "      <td>4911</td>\n",
              "      <td>13548</td>\n",
              "      <td>0.362489</td>\n",
              "      <td>1760</td>\n",
              "      <td>0.129908</td>\n",
              "    </tr>\n",
              "    <tr>\n",
              "      <th>8</th>\n",
              "      <td>5857</td>\n",
              "      <td>16092</td>\n",
              "      <td>0.363970</td>\n",
              "      <td>2083</td>\n",
              "      <td>0.129443</td>\n",
              "    </tr>\n",
              "    <tr>\n",
              "      <th>9</th>\n",
              "      <td>6296</td>\n",
              "      <td>17512</td>\n",
              "      <td>0.359525</td>\n",
              "      <td>2314</td>\n",
              "      <td>0.132138</td>\n",
              "    </tr>\n",
              "    <tr>\n",
              "      <th>10</th>\n",
              "      <td>7218</td>\n",
              "      <td>20009</td>\n",
              "      <td>0.360738</td>\n",
              "      <td>2642</td>\n",
              "      <td>0.132041</td>\n",
              "    </tr>\n",
              "    <tr>\n",
              "      <th>11</th>\n",
              "      <td>7803</td>\n",
              "      <td>21817</td>\n",
              "      <td>0.357657</td>\n",
              "      <td>2907</td>\n",
              "      <td>0.133245</td>\n",
              "    </tr>\n",
              "    <tr>\n",
              "      <th>12</th>\n",
              "      <td>8919</td>\n",
              "      <td>24799</td>\n",
              "      <td>0.359652</td>\n",
              "      <td>3321</td>\n",
              "      <td>0.133917</td>\n",
              "    </tr>\n",
              "  </tbody>\n",
              "</table>\n",
              "</div>"
            ],
            "text/plain": [
              "       gb_used  session  gb_per_users  count_zero_mb  share_zero\n",
              "month                                                           \n",
              "1          398     1117      0.356312            151    0.135184\n",
              "2          932     2641      0.352897            378    0.143128\n",
              "3         1769     4885      0.362129            623    0.127533\n",
              "4         2376     6511      0.364921            819    0.125787\n",
              "5         3443     9408      0.365965           1199    0.127445\n",
              "6         4082    11057      0.369178           1401    0.126707\n",
              "7         4911    13548      0.362489           1760    0.129908\n",
              "8         5857    16092      0.363970           2083    0.129443\n",
              "9         6296    17512      0.359525           2314    0.132138\n",
              "10        7218    20009      0.360738           2642    0.132041\n",
              "11        7803    21817      0.357657           2907    0.133245\n",
              "12        8919    24799      0.359652           3321    0.133917"
            ]
          },
          "metadata": {
            "tags": []
          },
          "execution_count": 32
        }
      ]
    },
    {
      "cell_type": "markdown",
      "metadata": {
        "id": "tNgZuVTanmc4"
      },
      "source": [
        "### Вывод"
      ]
    },
    {
      "cell_type": "markdown",
      "metadata": {
        "id": "MKwfEmgDnmc4"
      },
      "source": [
        "На ежемесячной основе увеличивается кол-во потребленных Гб интернет-трафика пользователями за счет прироста в новых клиентах.   Двукратный рост от месяца к месяцу показали февраль и март, также значительный прирост произашел в декабре 2018 года, когда значения потребленного трафика достигли 8 919 Гб. При этом на ежемесячной основе растет и кол-во клиентов, которые не используют интернет в течении месяца, однако их доля остается практически неизменной в течении года (13%)"
      ]
    },
    {
      "cell_type": "markdown",
      "metadata": {
        "id": "rUDoF3P9nmc4"
      },
      "source": [
        "### Определяем помесячную выручку с каждого пользователя   <a id=\"3.4\"></a>"
      ]
    },
    {
      "cell_type": "code",
      "metadata": {
        "id": "0iBQx5Sjnmc4"
      },
      "source": [
        "#создаем сводные таблицы и сбрасываем в них мультииндекс\n",
        "df_call_per_user = calls.pivot_table(index = ['month', 'user_id'], values = 'duration', aggfunc =['sum', 'count']).reset_index()\n",
        "df_messages_per_user = messages.pivot_table(index = ['month', 'user_id'], values = 'id', aggfunc = 'count').reset_index()\n",
        "df_internet_per_user = internet.pivot_table(index = ['month', 'user_id'], values = 'mb_used', aggfunc = 'sum').reset_index()\n",
        "df_call_per_user.columns = ['month', 'user_id', 'sum_duration', 'count_duration']\n",
        "df_messages_per_user.columns = ['month', 'user_id', 'id_messages']"
      ],
      "execution_count": 33,
      "outputs": []
    },
    {
      "cell_type": "code",
      "metadata": {
        "id": "XGLbYM78nmc5",
        "colab": {
          "base_uri": "https://localhost:8080/",
          "height": 419
        },
        "outputId": "8280616e-0f80-4344-80e9-6e35b05ec0f8"
      },
      "source": [
        "#ведем последовательное объединение таблиц с переименовываем столбцов\n",
        "full_one = df_call_per_user.merge(df_messages_per_user, on = ['user_id', 'month'], how = 'outer')\n",
        "full_one\n",
        "full_one.columns = ['month', 'user_id','sum_duration', 'count_duration', 'count_messages']\n",
        "full_one\n",
        "\n",
        "full_two = full_one.merge(df_internet_per_user, on = ['user_id', 'month'], how = 'outer')\n",
        "full_two = full_two.fillna(0)\n",
        "full_two\n",
        "\n",
        "full_three = full_two.merge(users, on = 'user_id', how = 'left')\n",
        "full_three"
      ],
      "execution_count": 34,
      "outputs": [
        {
          "output_type": "execute_result",
          "data": {
            "text/html": [
              "<div>\n",
              "<style scoped>\n",
              "    .dataframe tbody tr th:only-of-type {\n",
              "        vertical-align: middle;\n",
              "    }\n",
              "\n",
              "    .dataframe tbody tr th {\n",
              "        vertical-align: top;\n",
              "    }\n",
              "\n",
              "    .dataframe thead th {\n",
              "        text-align: right;\n",
              "    }\n",
              "</style>\n",
              "<table border=\"1\" class=\"dataframe\">\n",
              "  <thead>\n",
              "    <tr style=\"text-align: right;\">\n",
              "      <th></th>\n",
              "      <th>month</th>\n",
              "      <th>user_id</th>\n",
              "      <th>sum_duration</th>\n",
              "      <th>count_duration</th>\n",
              "      <th>count_messages</th>\n",
              "      <th>mb_used</th>\n",
              "      <th>age</th>\n",
              "      <th>churn_date</th>\n",
              "      <th>city</th>\n",
              "      <th>first_name</th>\n",
              "      <th>last_name</th>\n",
              "      <th>reg_date</th>\n",
              "      <th>tariff</th>\n",
              "    </tr>\n",
              "  </thead>\n",
              "  <tbody>\n",
              "    <tr>\n",
              "      <th>0</th>\n",
              "      <td>1</td>\n",
              "      <td>1005</td>\n",
              "      <td>84.0</td>\n",
              "      <td>15.0</td>\n",
              "      <td>7.0</td>\n",
              "      <td>2727.97</td>\n",
              "      <td>67</td>\n",
              "      <td>NaT</td>\n",
              "      <td>Набережные Челны</td>\n",
              "      <td>Афанасий</td>\n",
              "      <td>Горлов</td>\n",
              "      <td>2018-01-25</td>\n",
              "      <td>smart</td>\n",
              "    </tr>\n",
              "    <tr>\n",
              "      <th>1</th>\n",
              "      <td>1</td>\n",
              "      <td>1032</td>\n",
              "      <td>338.0</td>\n",
              "      <td>61.0</td>\n",
              "      <td>38.0</td>\n",
              "      <td>24127.69</td>\n",
              "      <td>31</td>\n",
              "      <td>NaT</td>\n",
              "      <td>Ульяновск</td>\n",
              "      <td>Инна</td>\n",
              "      <td>Игнатьева</td>\n",
              "      <td>2018-01-04</td>\n",
              "      <td>smart</td>\n",
              "    </tr>\n",
              "    <tr>\n",
              "      <th>2</th>\n",
              "      <td>1</td>\n",
              "      <td>1045</td>\n",
              "      <td>8.0</td>\n",
              "      <td>1.0</td>\n",
              "      <td>5.0</td>\n",
              "      <td>2346.71</td>\n",
              "      <td>48</td>\n",
              "      <td>NaT</td>\n",
              "      <td>Улан-Удэ</td>\n",
              "      <td>Джемма</td>\n",
              "      <td>Карасева</td>\n",
              "      <td>2018-01-30</td>\n",
              "      <td>smart</td>\n",
              "    </tr>\n",
              "    <tr>\n",
              "      <th>3</th>\n",
              "      <td>1</td>\n",
              "      <td>1055</td>\n",
              "      <td>505.0</td>\n",
              "      <td>64.0</td>\n",
              "      <td>30.0</td>\n",
              "      <td>17090.88</td>\n",
              "      <td>39</td>\n",
              "      <td>NaT</td>\n",
              "      <td>Казань</td>\n",
              "      <td>Луиза</td>\n",
              "      <td>Березина</td>\n",
              "      <td>2018-01-02</td>\n",
              "      <td>smart</td>\n",
              "    </tr>\n",
              "    <tr>\n",
              "      <th>4</th>\n",
              "      <td>1</td>\n",
              "      <td>1071</td>\n",
              "      <td>176.0</td>\n",
              "      <td>24.0</td>\n",
              "      <td>16.0</td>\n",
              "      <td>15604.34</td>\n",
              "      <td>20</td>\n",
              "      <td>2018-08-31</td>\n",
              "      <td>Омск</td>\n",
              "      <td>Гектор</td>\n",
              "      <td>Чумаков</td>\n",
              "      <td>2018-01-09</td>\n",
              "      <td>smart</td>\n",
              "    </tr>\n",
              "    <tr>\n",
              "      <th>...</th>\n",
              "      <td>...</td>\n",
              "      <td>...</td>\n",
              "      <td>...</td>\n",
              "      <td>...</td>\n",
              "      <td>...</td>\n",
              "      <td>...</td>\n",
              "      <td>...</td>\n",
              "      <td>...</td>\n",
              "      <td>...</td>\n",
              "      <td>...</td>\n",
              "      <td>...</td>\n",
              "      <td>...</td>\n",
              "      <td>...</td>\n",
              "    </tr>\n",
              "    <tr>\n",
              "      <th>3209</th>\n",
              "      <td>12</td>\n",
              "      <td>1231</td>\n",
              "      <td>0.0</td>\n",
              "      <td>0.0</td>\n",
              "      <td>191.0</td>\n",
              "      <td>32448.00</td>\n",
              "      <td>63</td>\n",
              "      <td>NaT</td>\n",
              "      <td>Чебоксары</td>\n",
              "      <td>Касьян</td>\n",
              "      <td>Авдюков</td>\n",
              "      <td>2018-05-23</td>\n",
              "      <td>ultra</td>\n",
              "    </tr>\n",
              "    <tr>\n",
              "      <th>3210</th>\n",
              "      <td>12</td>\n",
              "      <td>1328</td>\n",
              "      <td>0.0</td>\n",
              "      <td>0.0</td>\n",
              "      <td>7.0</td>\n",
              "      <td>39419.73</td>\n",
              "      <td>44</td>\n",
              "      <td>NaT</td>\n",
              "      <td>Мурманск</td>\n",
              "      <td>Рауль</td>\n",
              "      <td>Аркадьев</td>\n",
              "      <td>2018-10-16</td>\n",
              "      <td>ultra</td>\n",
              "    </tr>\n",
              "    <tr>\n",
              "      <th>3211</th>\n",
              "      <td>12</td>\n",
              "      <td>1473</td>\n",
              "      <td>0.0</td>\n",
              "      <td>0.0</td>\n",
              "      <td>20.0</td>\n",
              "      <td>18418.26</td>\n",
              "      <td>18</td>\n",
              "      <td>NaT</td>\n",
              "      <td>Красноярск</td>\n",
              "      <td>Николай</td>\n",
              "      <td>Лебедев</td>\n",
              "      <td>2018-08-05</td>\n",
              "      <td>ultra</td>\n",
              "    </tr>\n",
              "    <tr>\n",
              "      <th>3212</th>\n",
              "      <td>12</td>\n",
              "      <td>1489</td>\n",
              "      <td>0.0</td>\n",
              "      <td>0.0</td>\n",
              "      <td>35.0</td>\n",
              "      <td>17322.51</td>\n",
              "      <td>35</td>\n",
              "      <td>NaT</td>\n",
              "      <td>Санкт-Петербург</td>\n",
              "      <td>Павел</td>\n",
              "      <td>Гончаров</td>\n",
              "      <td>2018-08-15</td>\n",
              "      <td>smart</td>\n",
              "    </tr>\n",
              "    <tr>\n",
              "      <th>3213</th>\n",
              "      <td>4</td>\n",
              "      <td>1476</td>\n",
              "      <td>0.0</td>\n",
              "      <td>0.0</td>\n",
              "      <td>0.0</td>\n",
              "      <td>530.78</td>\n",
              "      <td>50</td>\n",
              "      <td>NaT</td>\n",
              "      <td>Москва</td>\n",
              "      <td>Валентина</td>\n",
              "      <td>Семенова</td>\n",
              "      <td>2018-04-30</td>\n",
              "      <td>ultra</td>\n",
              "    </tr>\n",
              "  </tbody>\n",
              "</table>\n",
              "<p>3214 rows × 13 columns</p>\n",
              "</div>"
            ],
            "text/plain": [
              "      month  user_id  sum_duration  ...  last_name   reg_date  tariff\n",
              "0         1     1005          84.0  ...     Горлов 2018-01-25   smart\n",
              "1         1     1032         338.0  ...  Игнатьева 2018-01-04   smart\n",
              "2         1     1045           8.0  ...   Карасева 2018-01-30   smart\n",
              "3         1     1055         505.0  ...   Березина 2018-01-02   smart\n",
              "4         1     1071         176.0  ...    Чумаков 2018-01-09   smart\n",
              "...     ...      ...           ...  ...        ...        ...     ...\n",
              "3209     12     1231           0.0  ...    Авдюков 2018-05-23   ultra\n",
              "3210     12     1328           0.0  ...   Аркадьев 2018-10-16   ultra\n",
              "3211     12     1473           0.0  ...    Лебедев 2018-08-05   ultra\n",
              "3212     12     1489           0.0  ...   Гончаров 2018-08-15   smart\n",
              "3213      4     1476           0.0  ...   Семенова 2018-04-30   ultra\n",
              "\n",
              "[3214 rows x 13 columns]"
            ]
          },
          "metadata": {
            "tags": []
          },
          "execution_count": 34
        }
      ]
    },
    {
      "cell_type": "code",
      "metadata": {
        "id": "baSuVb6Cnmc9"
      },
      "source": [
        "#переименовываем название столбца для возможности объединения датасетов\n",
        "tariffs.rename(columns={'tariff_name':'tariff'}, inplace = True)"
      ],
      "execution_count": 35,
      "outputs": []
    },
    {
      "cell_type": "code",
      "metadata": {
        "id": "dT2BfIpRnmc-",
        "colab": {
          "base_uri": "https://localhost:8080/",
          "height": 609
        },
        "outputId": "b9a1d774-032d-4380-9bb3-31897e3f9e19"
      },
      "source": [
        "#продолжаем вести последовательное объединение таблиц с переименовываем столбцов\n",
        "user_data = full_three.merge(tariffs, on = 'tariff', how = 'outer')\n",
        "user_data.rename(columns={'mb_used':'gb_used'}, inplace = True)\n",
        "user_data['gb_used'] = user_data['gb_used'] / 1024\n",
        "user_data.rename(columns={'mb_per_month_included':'gb_per_month_included'}, inplace = True)\n",
        "user_data['gb_per_month_included'] = user_data['gb_per_month_included'] / 1024\n",
        "user_data['gb_used'] =user_data['gb_used'].astype('int')\n",
        "\n",
        "user_data"
      ],
      "execution_count": 36,
      "outputs": [
        {
          "output_type": "execute_result",
          "data": {
            "text/html": [
              "<div>\n",
              "<style scoped>\n",
              "    .dataframe tbody tr th:only-of-type {\n",
              "        vertical-align: middle;\n",
              "    }\n",
              "\n",
              "    .dataframe tbody tr th {\n",
              "        vertical-align: top;\n",
              "    }\n",
              "\n",
              "    .dataframe thead th {\n",
              "        text-align: right;\n",
              "    }\n",
              "</style>\n",
              "<table border=\"1\" class=\"dataframe\">\n",
              "  <thead>\n",
              "    <tr style=\"text-align: right;\">\n",
              "      <th></th>\n",
              "      <th>month</th>\n",
              "      <th>user_id</th>\n",
              "      <th>sum_duration</th>\n",
              "      <th>count_duration</th>\n",
              "      <th>count_messages</th>\n",
              "      <th>gb_used</th>\n",
              "      <th>age</th>\n",
              "      <th>churn_date</th>\n",
              "      <th>city</th>\n",
              "      <th>first_name</th>\n",
              "      <th>last_name</th>\n",
              "      <th>reg_date</th>\n",
              "      <th>tariff</th>\n",
              "      <th>messages_included</th>\n",
              "      <th>gb_per_month_included</th>\n",
              "      <th>minutes_included</th>\n",
              "      <th>rub_monthly_fee</th>\n",
              "      <th>rub_per_gb</th>\n",
              "      <th>rub_per_message</th>\n",
              "      <th>rub_per_minute</th>\n",
              "    </tr>\n",
              "  </thead>\n",
              "  <tbody>\n",
              "    <tr>\n",
              "      <th>0</th>\n",
              "      <td>1</td>\n",
              "      <td>1005</td>\n",
              "      <td>84.0</td>\n",
              "      <td>15.0</td>\n",
              "      <td>7.0</td>\n",
              "      <td>2</td>\n",
              "      <td>67</td>\n",
              "      <td>NaT</td>\n",
              "      <td>Набережные Челны</td>\n",
              "      <td>Афанасий</td>\n",
              "      <td>Горлов</td>\n",
              "      <td>2018-01-25</td>\n",
              "      <td>smart</td>\n",
              "      <td>50</td>\n",
              "      <td>15.0</td>\n",
              "      <td>500</td>\n",
              "      <td>550</td>\n",
              "      <td>200</td>\n",
              "      <td>3</td>\n",
              "      <td>3</td>\n",
              "    </tr>\n",
              "    <tr>\n",
              "      <th>1</th>\n",
              "      <td>1</td>\n",
              "      <td>1032</td>\n",
              "      <td>338.0</td>\n",
              "      <td>61.0</td>\n",
              "      <td>38.0</td>\n",
              "      <td>23</td>\n",
              "      <td>31</td>\n",
              "      <td>NaT</td>\n",
              "      <td>Ульяновск</td>\n",
              "      <td>Инна</td>\n",
              "      <td>Игнатьева</td>\n",
              "      <td>2018-01-04</td>\n",
              "      <td>smart</td>\n",
              "      <td>50</td>\n",
              "      <td>15.0</td>\n",
              "      <td>500</td>\n",
              "      <td>550</td>\n",
              "      <td>200</td>\n",
              "      <td>3</td>\n",
              "      <td>3</td>\n",
              "    </tr>\n",
              "    <tr>\n",
              "      <th>2</th>\n",
              "      <td>1</td>\n",
              "      <td>1045</td>\n",
              "      <td>8.0</td>\n",
              "      <td>1.0</td>\n",
              "      <td>5.0</td>\n",
              "      <td>2</td>\n",
              "      <td>48</td>\n",
              "      <td>NaT</td>\n",
              "      <td>Улан-Удэ</td>\n",
              "      <td>Джемма</td>\n",
              "      <td>Карасева</td>\n",
              "      <td>2018-01-30</td>\n",
              "      <td>smart</td>\n",
              "      <td>50</td>\n",
              "      <td>15.0</td>\n",
              "      <td>500</td>\n",
              "      <td>550</td>\n",
              "      <td>200</td>\n",
              "      <td>3</td>\n",
              "      <td>3</td>\n",
              "    </tr>\n",
              "    <tr>\n",
              "      <th>3</th>\n",
              "      <td>1</td>\n",
              "      <td>1055</td>\n",
              "      <td>505.0</td>\n",
              "      <td>64.0</td>\n",
              "      <td>30.0</td>\n",
              "      <td>16</td>\n",
              "      <td>39</td>\n",
              "      <td>NaT</td>\n",
              "      <td>Казань</td>\n",
              "      <td>Луиза</td>\n",
              "      <td>Березина</td>\n",
              "      <td>2018-01-02</td>\n",
              "      <td>smart</td>\n",
              "      <td>50</td>\n",
              "      <td>15.0</td>\n",
              "      <td>500</td>\n",
              "      <td>550</td>\n",
              "      <td>200</td>\n",
              "      <td>3</td>\n",
              "      <td>3</td>\n",
              "    </tr>\n",
              "    <tr>\n",
              "      <th>4</th>\n",
              "      <td>1</td>\n",
              "      <td>1071</td>\n",
              "      <td>176.0</td>\n",
              "      <td>24.0</td>\n",
              "      <td>16.0</td>\n",
              "      <td>15</td>\n",
              "      <td>20</td>\n",
              "      <td>2018-08-31</td>\n",
              "      <td>Омск</td>\n",
              "      <td>Гектор</td>\n",
              "      <td>Чумаков</td>\n",
              "      <td>2018-01-09</td>\n",
              "      <td>smart</td>\n",
              "      <td>50</td>\n",
              "      <td>15.0</td>\n",
              "      <td>500</td>\n",
              "      <td>550</td>\n",
              "      <td>200</td>\n",
              "      <td>3</td>\n",
              "      <td>3</td>\n",
              "    </tr>\n",
              "    <tr>\n",
              "      <th>...</th>\n",
              "      <td>...</td>\n",
              "      <td>...</td>\n",
              "      <td>...</td>\n",
              "      <td>...</td>\n",
              "      <td>...</td>\n",
              "      <td>...</td>\n",
              "      <td>...</td>\n",
              "      <td>...</td>\n",
              "      <td>...</td>\n",
              "      <td>...</td>\n",
              "      <td>...</td>\n",
              "      <td>...</td>\n",
              "      <td>...</td>\n",
              "      <td>...</td>\n",
              "      <td>...</td>\n",
              "      <td>...</td>\n",
              "      <td>...</td>\n",
              "      <td>...</td>\n",
              "      <td>...</td>\n",
              "      <td>...</td>\n",
              "    </tr>\n",
              "    <tr>\n",
              "      <th>3209</th>\n",
              "      <td>12</td>\n",
              "      <td>1106</td>\n",
              "      <td>0.0</td>\n",
              "      <td>0.0</td>\n",
              "      <td>24.0</td>\n",
              "      <td>18</td>\n",
              "      <td>67</td>\n",
              "      <td>NaT</td>\n",
              "      <td>Калуга</td>\n",
              "      <td>Исаак</td>\n",
              "      <td>Костин</td>\n",
              "      <td>2018-04-26</td>\n",
              "      <td>ultra</td>\n",
              "      <td>1000</td>\n",
              "      <td>30.0</td>\n",
              "      <td>3000</td>\n",
              "      <td>1950</td>\n",
              "      <td>150</td>\n",
              "      <td>1</td>\n",
              "      <td>1</td>\n",
              "    </tr>\n",
              "    <tr>\n",
              "      <th>3210</th>\n",
              "      <td>12</td>\n",
              "      <td>1231</td>\n",
              "      <td>0.0</td>\n",
              "      <td>0.0</td>\n",
              "      <td>191.0</td>\n",
              "      <td>31</td>\n",
              "      <td>63</td>\n",
              "      <td>NaT</td>\n",
              "      <td>Чебоксары</td>\n",
              "      <td>Касьян</td>\n",
              "      <td>Авдюков</td>\n",
              "      <td>2018-05-23</td>\n",
              "      <td>ultra</td>\n",
              "      <td>1000</td>\n",
              "      <td>30.0</td>\n",
              "      <td>3000</td>\n",
              "      <td>1950</td>\n",
              "      <td>150</td>\n",
              "      <td>1</td>\n",
              "      <td>1</td>\n",
              "    </tr>\n",
              "    <tr>\n",
              "      <th>3211</th>\n",
              "      <td>12</td>\n",
              "      <td>1328</td>\n",
              "      <td>0.0</td>\n",
              "      <td>0.0</td>\n",
              "      <td>7.0</td>\n",
              "      <td>38</td>\n",
              "      <td>44</td>\n",
              "      <td>NaT</td>\n",
              "      <td>Мурманск</td>\n",
              "      <td>Рауль</td>\n",
              "      <td>Аркадьев</td>\n",
              "      <td>2018-10-16</td>\n",
              "      <td>ultra</td>\n",
              "      <td>1000</td>\n",
              "      <td>30.0</td>\n",
              "      <td>3000</td>\n",
              "      <td>1950</td>\n",
              "      <td>150</td>\n",
              "      <td>1</td>\n",
              "      <td>1</td>\n",
              "    </tr>\n",
              "    <tr>\n",
              "      <th>3212</th>\n",
              "      <td>12</td>\n",
              "      <td>1473</td>\n",
              "      <td>0.0</td>\n",
              "      <td>0.0</td>\n",
              "      <td>20.0</td>\n",
              "      <td>17</td>\n",
              "      <td>18</td>\n",
              "      <td>NaT</td>\n",
              "      <td>Красноярск</td>\n",
              "      <td>Николай</td>\n",
              "      <td>Лебедев</td>\n",
              "      <td>2018-08-05</td>\n",
              "      <td>ultra</td>\n",
              "      <td>1000</td>\n",
              "      <td>30.0</td>\n",
              "      <td>3000</td>\n",
              "      <td>1950</td>\n",
              "      <td>150</td>\n",
              "      <td>1</td>\n",
              "      <td>1</td>\n",
              "    </tr>\n",
              "    <tr>\n",
              "      <th>3213</th>\n",
              "      <td>4</td>\n",
              "      <td>1476</td>\n",
              "      <td>0.0</td>\n",
              "      <td>0.0</td>\n",
              "      <td>0.0</td>\n",
              "      <td>0</td>\n",
              "      <td>50</td>\n",
              "      <td>NaT</td>\n",
              "      <td>Москва</td>\n",
              "      <td>Валентина</td>\n",
              "      <td>Семенова</td>\n",
              "      <td>2018-04-30</td>\n",
              "      <td>ultra</td>\n",
              "      <td>1000</td>\n",
              "      <td>30.0</td>\n",
              "      <td>3000</td>\n",
              "      <td>1950</td>\n",
              "      <td>150</td>\n",
              "      <td>1</td>\n",
              "      <td>1</td>\n",
              "    </tr>\n",
              "  </tbody>\n",
              "</table>\n",
              "<p>3214 rows × 20 columns</p>\n",
              "</div>"
            ],
            "text/plain": [
              "      month  user_id  sum_duration  ...  rub_per_gb  rub_per_message  rub_per_minute\n",
              "0         1     1005          84.0  ...         200                3               3\n",
              "1         1     1032         338.0  ...         200                3               3\n",
              "2         1     1045           8.0  ...         200                3               3\n",
              "3         1     1055         505.0  ...         200                3               3\n",
              "4         1     1071         176.0  ...         200                3               3\n",
              "...     ...      ...           ...  ...         ...              ...             ...\n",
              "3209     12     1106           0.0  ...         150                1               1\n",
              "3210     12     1231           0.0  ...         150                1               1\n",
              "3211     12     1328           0.0  ...         150                1               1\n",
              "3212     12     1473           0.0  ...         150                1               1\n",
              "3213      4     1476           0.0  ...         150                1               1\n",
              "\n",
              "[3214 rows x 20 columns]"
            ]
          },
          "metadata": {
            "tags": []
          },
          "execution_count": 36
        }
      ]
    },
    {
      "cell_type": "code",
      "metadata": {
        "id": "wcVO0-YUnmc_"
      },
      "source": [
        "#создаем цикл через который определяем перерасход по каждому пользователю по месяцам\n",
        "def monthly_revenue(row):\n",
        "    calls2 = row['sum_duration']\n",
        "    messeges2 = row['count_messages']\n",
        "    internet2 = row['gb_used']\n",
        "    \n",
        "    calls2 = (row['sum_duration'] - row['minutes_included']) * row ['rub_per_minute']\n",
        "    messeges2 = (row['count_messages'] - row['messages_included']) * row ['rub_per_message']\n",
        "    internet2 = (row['gb_used'] - row['gb_per_month_included']) * row ['rub_per_gb']\n",
        "    \n",
        "    over_limits = 0\n",
        "    \n",
        "    for x in [calls2, messeges2, internet2]:\n",
        "        if x > 0:\n",
        "            over_limits += x\n",
        "    return over_limits\n",
        "\n",
        "user_data['over_limit'] = user_data.apply(monthly_revenue, axis  = 1)"
      ],
      "execution_count": 37,
      "outputs": []
    },
    {
      "cell_type": "code",
      "metadata": {
        "id": "gTWmWmh2nmdA",
        "colab": {
          "base_uri": "https://localhost:8080/",
          "height": 609
        },
        "outputId": "01d377aa-2531-4596-c39f-a61174aa2ce8"
      },
      "source": [
        "#создаем столбец с выручкой на 1 пользователя за месяц\n",
        "user_data['income_per_user'] = user_data['rub_monthly_fee'] + user_data['over_limit']\n",
        "user_data"
      ],
      "execution_count": 38,
      "outputs": [
        {
          "output_type": "execute_result",
          "data": {
            "text/html": [
              "<div>\n",
              "<style scoped>\n",
              "    .dataframe tbody tr th:only-of-type {\n",
              "        vertical-align: middle;\n",
              "    }\n",
              "\n",
              "    .dataframe tbody tr th {\n",
              "        vertical-align: top;\n",
              "    }\n",
              "\n",
              "    .dataframe thead th {\n",
              "        text-align: right;\n",
              "    }\n",
              "</style>\n",
              "<table border=\"1\" class=\"dataframe\">\n",
              "  <thead>\n",
              "    <tr style=\"text-align: right;\">\n",
              "      <th></th>\n",
              "      <th>month</th>\n",
              "      <th>user_id</th>\n",
              "      <th>sum_duration</th>\n",
              "      <th>count_duration</th>\n",
              "      <th>count_messages</th>\n",
              "      <th>gb_used</th>\n",
              "      <th>age</th>\n",
              "      <th>churn_date</th>\n",
              "      <th>city</th>\n",
              "      <th>first_name</th>\n",
              "      <th>last_name</th>\n",
              "      <th>reg_date</th>\n",
              "      <th>tariff</th>\n",
              "      <th>messages_included</th>\n",
              "      <th>gb_per_month_included</th>\n",
              "      <th>minutes_included</th>\n",
              "      <th>rub_monthly_fee</th>\n",
              "      <th>rub_per_gb</th>\n",
              "      <th>rub_per_message</th>\n",
              "      <th>rub_per_minute</th>\n",
              "      <th>over_limit</th>\n",
              "      <th>income_per_user</th>\n",
              "    </tr>\n",
              "  </thead>\n",
              "  <tbody>\n",
              "    <tr>\n",
              "      <th>0</th>\n",
              "      <td>1</td>\n",
              "      <td>1005</td>\n",
              "      <td>84.0</td>\n",
              "      <td>15.0</td>\n",
              "      <td>7.0</td>\n",
              "      <td>2</td>\n",
              "      <td>67</td>\n",
              "      <td>NaT</td>\n",
              "      <td>Набережные Челны</td>\n",
              "      <td>Афанасий</td>\n",
              "      <td>Горлов</td>\n",
              "      <td>2018-01-25</td>\n",
              "      <td>smart</td>\n",
              "      <td>50</td>\n",
              "      <td>15.0</td>\n",
              "      <td>500</td>\n",
              "      <td>550</td>\n",
              "      <td>200</td>\n",
              "      <td>3</td>\n",
              "      <td>3</td>\n",
              "      <td>0.0</td>\n",
              "      <td>550.0</td>\n",
              "    </tr>\n",
              "    <tr>\n",
              "      <th>1</th>\n",
              "      <td>1</td>\n",
              "      <td>1032</td>\n",
              "      <td>338.0</td>\n",
              "      <td>61.0</td>\n",
              "      <td>38.0</td>\n",
              "      <td>23</td>\n",
              "      <td>31</td>\n",
              "      <td>NaT</td>\n",
              "      <td>Ульяновск</td>\n",
              "      <td>Инна</td>\n",
              "      <td>Игнатьева</td>\n",
              "      <td>2018-01-04</td>\n",
              "      <td>smart</td>\n",
              "      <td>50</td>\n",
              "      <td>15.0</td>\n",
              "      <td>500</td>\n",
              "      <td>550</td>\n",
              "      <td>200</td>\n",
              "      <td>3</td>\n",
              "      <td>3</td>\n",
              "      <td>1600.0</td>\n",
              "      <td>2150.0</td>\n",
              "    </tr>\n",
              "    <tr>\n",
              "      <th>2</th>\n",
              "      <td>1</td>\n",
              "      <td>1045</td>\n",
              "      <td>8.0</td>\n",
              "      <td>1.0</td>\n",
              "      <td>5.0</td>\n",
              "      <td>2</td>\n",
              "      <td>48</td>\n",
              "      <td>NaT</td>\n",
              "      <td>Улан-Удэ</td>\n",
              "      <td>Джемма</td>\n",
              "      <td>Карасева</td>\n",
              "      <td>2018-01-30</td>\n",
              "      <td>smart</td>\n",
              "      <td>50</td>\n",
              "      <td>15.0</td>\n",
              "      <td>500</td>\n",
              "      <td>550</td>\n",
              "      <td>200</td>\n",
              "      <td>3</td>\n",
              "      <td>3</td>\n",
              "      <td>0.0</td>\n",
              "      <td>550.0</td>\n",
              "    </tr>\n",
              "    <tr>\n",
              "      <th>3</th>\n",
              "      <td>1</td>\n",
              "      <td>1055</td>\n",
              "      <td>505.0</td>\n",
              "      <td>64.0</td>\n",
              "      <td>30.0</td>\n",
              "      <td>16</td>\n",
              "      <td>39</td>\n",
              "      <td>NaT</td>\n",
              "      <td>Казань</td>\n",
              "      <td>Луиза</td>\n",
              "      <td>Березина</td>\n",
              "      <td>2018-01-02</td>\n",
              "      <td>smart</td>\n",
              "      <td>50</td>\n",
              "      <td>15.0</td>\n",
              "      <td>500</td>\n",
              "      <td>550</td>\n",
              "      <td>200</td>\n",
              "      <td>3</td>\n",
              "      <td>3</td>\n",
              "      <td>215.0</td>\n",
              "      <td>765.0</td>\n",
              "    </tr>\n",
              "    <tr>\n",
              "      <th>4</th>\n",
              "      <td>1</td>\n",
              "      <td>1071</td>\n",
              "      <td>176.0</td>\n",
              "      <td>24.0</td>\n",
              "      <td>16.0</td>\n",
              "      <td>15</td>\n",
              "      <td>20</td>\n",
              "      <td>2018-08-31</td>\n",
              "      <td>Омск</td>\n",
              "      <td>Гектор</td>\n",
              "      <td>Чумаков</td>\n",
              "      <td>2018-01-09</td>\n",
              "      <td>smart</td>\n",
              "      <td>50</td>\n",
              "      <td>15.0</td>\n",
              "      <td>500</td>\n",
              "      <td>550</td>\n",
              "      <td>200</td>\n",
              "      <td>3</td>\n",
              "      <td>3</td>\n",
              "      <td>0.0</td>\n",
              "      <td>550.0</td>\n",
              "    </tr>\n",
              "    <tr>\n",
              "      <th>...</th>\n",
              "      <td>...</td>\n",
              "      <td>...</td>\n",
              "      <td>...</td>\n",
              "      <td>...</td>\n",
              "      <td>...</td>\n",
              "      <td>...</td>\n",
              "      <td>...</td>\n",
              "      <td>...</td>\n",
              "      <td>...</td>\n",
              "      <td>...</td>\n",
              "      <td>...</td>\n",
              "      <td>...</td>\n",
              "      <td>...</td>\n",
              "      <td>...</td>\n",
              "      <td>...</td>\n",
              "      <td>...</td>\n",
              "      <td>...</td>\n",
              "      <td>...</td>\n",
              "      <td>...</td>\n",
              "      <td>...</td>\n",
              "      <td>...</td>\n",
              "      <td>...</td>\n",
              "    </tr>\n",
              "    <tr>\n",
              "      <th>3209</th>\n",
              "      <td>12</td>\n",
              "      <td>1106</td>\n",
              "      <td>0.0</td>\n",
              "      <td>0.0</td>\n",
              "      <td>24.0</td>\n",
              "      <td>18</td>\n",
              "      <td>67</td>\n",
              "      <td>NaT</td>\n",
              "      <td>Калуга</td>\n",
              "      <td>Исаак</td>\n",
              "      <td>Костин</td>\n",
              "      <td>2018-04-26</td>\n",
              "      <td>ultra</td>\n",
              "      <td>1000</td>\n",
              "      <td>30.0</td>\n",
              "      <td>3000</td>\n",
              "      <td>1950</td>\n",
              "      <td>150</td>\n",
              "      <td>1</td>\n",
              "      <td>1</td>\n",
              "      <td>0.0</td>\n",
              "      <td>1950.0</td>\n",
              "    </tr>\n",
              "    <tr>\n",
              "      <th>3210</th>\n",
              "      <td>12</td>\n",
              "      <td>1231</td>\n",
              "      <td>0.0</td>\n",
              "      <td>0.0</td>\n",
              "      <td>191.0</td>\n",
              "      <td>31</td>\n",
              "      <td>63</td>\n",
              "      <td>NaT</td>\n",
              "      <td>Чебоксары</td>\n",
              "      <td>Касьян</td>\n",
              "      <td>Авдюков</td>\n",
              "      <td>2018-05-23</td>\n",
              "      <td>ultra</td>\n",
              "      <td>1000</td>\n",
              "      <td>30.0</td>\n",
              "      <td>3000</td>\n",
              "      <td>1950</td>\n",
              "      <td>150</td>\n",
              "      <td>1</td>\n",
              "      <td>1</td>\n",
              "      <td>150.0</td>\n",
              "      <td>2100.0</td>\n",
              "    </tr>\n",
              "    <tr>\n",
              "      <th>3211</th>\n",
              "      <td>12</td>\n",
              "      <td>1328</td>\n",
              "      <td>0.0</td>\n",
              "      <td>0.0</td>\n",
              "      <td>7.0</td>\n",
              "      <td>38</td>\n",
              "      <td>44</td>\n",
              "      <td>NaT</td>\n",
              "      <td>Мурманск</td>\n",
              "      <td>Рауль</td>\n",
              "      <td>Аркадьев</td>\n",
              "      <td>2018-10-16</td>\n",
              "      <td>ultra</td>\n",
              "      <td>1000</td>\n",
              "      <td>30.0</td>\n",
              "      <td>3000</td>\n",
              "      <td>1950</td>\n",
              "      <td>150</td>\n",
              "      <td>1</td>\n",
              "      <td>1</td>\n",
              "      <td>1200.0</td>\n",
              "      <td>3150.0</td>\n",
              "    </tr>\n",
              "    <tr>\n",
              "      <th>3212</th>\n",
              "      <td>12</td>\n",
              "      <td>1473</td>\n",
              "      <td>0.0</td>\n",
              "      <td>0.0</td>\n",
              "      <td>20.0</td>\n",
              "      <td>17</td>\n",
              "      <td>18</td>\n",
              "      <td>NaT</td>\n",
              "      <td>Красноярск</td>\n",
              "      <td>Николай</td>\n",
              "      <td>Лебедев</td>\n",
              "      <td>2018-08-05</td>\n",
              "      <td>ultra</td>\n",
              "      <td>1000</td>\n",
              "      <td>30.0</td>\n",
              "      <td>3000</td>\n",
              "      <td>1950</td>\n",
              "      <td>150</td>\n",
              "      <td>1</td>\n",
              "      <td>1</td>\n",
              "      <td>0.0</td>\n",
              "      <td>1950.0</td>\n",
              "    </tr>\n",
              "    <tr>\n",
              "      <th>3213</th>\n",
              "      <td>4</td>\n",
              "      <td>1476</td>\n",
              "      <td>0.0</td>\n",
              "      <td>0.0</td>\n",
              "      <td>0.0</td>\n",
              "      <td>0</td>\n",
              "      <td>50</td>\n",
              "      <td>NaT</td>\n",
              "      <td>Москва</td>\n",
              "      <td>Валентина</td>\n",
              "      <td>Семенова</td>\n",
              "      <td>2018-04-30</td>\n",
              "      <td>ultra</td>\n",
              "      <td>1000</td>\n",
              "      <td>30.0</td>\n",
              "      <td>3000</td>\n",
              "      <td>1950</td>\n",
              "      <td>150</td>\n",
              "      <td>1</td>\n",
              "      <td>1</td>\n",
              "      <td>0.0</td>\n",
              "      <td>1950.0</td>\n",
              "    </tr>\n",
              "  </tbody>\n",
              "</table>\n",
              "<p>3214 rows × 22 columns</p>\n",
              "</div>"
            ],
            "text/plain": [
              "      month  user_id  sum_duration  ...  rub_per_minute  over_limit  income_per_user\n",
              "0         1     1005          84.0  ...               3         0.0            550.0\n",
              "1         1     1032         338.0  ...               3      1600.0           2150.0\n",
              "2         1     1045           8.0  ...               3         0.0            550.0\n",
              "3         1     1055         505.0  ...               3       215.0            765.0\n",
              "4         1     1071         176.0  ...               3         0.0            550.0\n",
              "...     ...      ...           ...  ...             ...         ...              ...\n",
              "3209     12     1106           0.0  ...               1         0.0           1950.0\n",
              "3210     12     1231           0.0  ...               1       150.0           2100.0\n",
              "3211     12     1328           0.0  ...               1      1200.0           3150.0\n",
              "3212     12     1473           0.0  ...               1         0.0           1950.0\n",
              "3213      4     1476           0.0  ...               1         0.0           1950.0\n",
              "\n",
              "[3214 rows x 22 columns]"
            ]
          },
          "metadata": {
            "tags": []
          },
          "execution_count": 38
        }
      ]
    },
    {
      "cell_type": "code",
      "metadata": {
        "id": "KeU1hnw5nmdA",
        "colab": {
          "base_uri": "https://localhost:8080/",
          "height": 421
        },
        "outputId": "96bc23dc-6b6c-4ad5-b08b-9acd9b1e4c46"
      },
      "source": [
        "#изучаем суммы перерасхода по тарифам и по месяцам\n",
        "mean_income_per_user = user_data.pivot_table(index = 'month',columns = \"tariff\", values = ['income_per_user', 'over_limit'], aggfunc = 'mean')\n",
        "mean_income_per_user.columns = ['income_per_user_smart', 'income_per_user_ultra', 'over_limit_smart', 'over_limit_ultra']\n",
        "mean_income_per_user = mean_income_per_user.reset_index()\n",
        "mean_income_per_userr = mean_income_per_user.round()\n",
        "mean_income_per_userr"
      ],
      "execution_count": 39,
      "outputs": [
        {
          "output_type": "execute_result",
          "data": {
            "text/html": [
              "<div>\n",
              "<style scoped>\n",
              "    .dataframe tbody tr th:only-of-type {\n",
              "        vertical-align: middle;\n",
              "    }\n",
              "\n",
              "    .dataframe tbody tr th {\n",
              "        vertical-align: top;\n",
              "    }\n",
              "\n",
              "    .dataframe thead th {\n",
              "        text-align: right;\n",
              "    }\n",
              "</style>\n",
              "<table border=\"1\" class=\"dataframe\">\n",
              "  <thead>\n",
              "    <tr style=\"text-align: right;\">\n",
              "      <th></th>\n",
              "      <th>month</th>\n",
              "      <th>income_per_user_smart</th>\n",
              "      <th>income_per_user_ultra</th>\n",
              "      <th>over_limit_smart</th>\n",
              "      <th>over_limit_ultra</th>\n",
              "    </tr>\n",
              "  </thead>\n",
              "  <tbody>\n",
              "    <tr>\n",
              "      <th>0</th>\n",
              "      <td>1</td>\n",
              "      <td>676.0</td>\n",
              "      <td>1950.0</td>\n",
              "      <td>126.0</td>\n",
              "      <td>0.0</td>\n",
              "    </tr>\n",
              "    <tr>\n",
              "      <th>1</th>\n",
              "      <td>2</td>\n",
              "      <td>749.0</td>\n",
              "      <td>1962.0</td>\n",
              "      <td>199.0</td>\n",
              "      <td>12.0</td>\n",
              "    </tr>\n",
              "    <tr>\n",
              "      <th>2</th>\n",
              "      <td>3</td>\n",
              "      <td>1008.0</td>\n",
              "      <td>1995.0</td>\n",
              "      <td>458.0</td>\n",
              "      <td>45.0</td>\n",
              "    </tr>\n",
              "    <tr>\n",
              "      <th>3</th>\n",
              "      <td>4</td>\n",
              "      <td>841.0</td>\n",
              "      <td>1988.0</td>\n",
              "      <td>291.0</td>\n",
              "      <td>38.0</td>\n",
              "    </tr>\n",
              "    <tr>\n",
              "      <th>4</th>\n",
              "      <td>5</td>\n",
              "      <td>1042.0</td>\n",
              "      <td>2046.0</td>\n",
              "      <td>492.0</td>\n",
              "      <td>96.0</td>\n",
              "    </tr>\n",
              "    <tr>\n",
              "      <th>5</th>\n",
              "      <td>6</td>\n",
              "      <td>1044.0</td>\n",
              "      <td>2023.0</td>\n",
              "      <td>494.0</td>\n",
              "      <td>73.0</td>\n",
              "    </tr>\n",
              "    <tr>\n",
              "      <th>6</th>\n",
              "      <td>7</td>\n",
              "      <td>1059.0</td>\n",
              "      <td>2095.0</td>\n",
              "      <td>509.0</td>\n",
              "      <td>145.0</td>\n",
              "    </tr>\n",
              "    <tr>\n",
              "      <th>7</th>\n",
              "      <td>8</td>\n",
              "      <td>1138.0</td>\n",
              "      <td>2059.0</td>\n",
              "      <td>588.0</td>\n",
              "      <td>109.0</td>\n",
              "    </tr>\n",
              "    <tr>\n",
              "      <th>8</th>\n",
              "      <td>9</td>\n",
              "      <td>1074.0</td>\n",
              "      <td>2006.0</td>\n",
              "      <td>524.0</td>\n",
              "      <td>56.0</td>\n",
              "    </tr>\n",
              "    <tr>\n",
              "      <th>9</th>\n",
              "      <td>10</td>\n",
              "      <td>1181.0</td>\n",
              "      <td>2045.0</td>\n",
              "      <td>631.0</td>\n",
              "      <td>95.0</td>\n",
              "    </tr>\n",
              "    <tr>\n",
              "      <th>10</th>\n",
              "      <td>11</td>\n",
              "      <td>1151.0</td>\n",
              "      <td>2069.0</td>\n",
              "      <td>601.0</td>\n",
              "      <td>119.0</td>\n",
              "    </tr>\n",
              "    <tr>\n",
              "      <th>11</th>\n",
              "      <td>12</td>\n",
              "      <td>1351.0</td>\n",
              "      <td>2113.0</td>\n",
              "      <td>801.0</td>\n",
              "      <td>163.0</td>\n",
              "    </tr>\n",
              "  </tbody>\n",
              "</table>\n",
              "</div>"
            ],
            "text/plain": [
              "    month  income_per_user_smart  ...  over_limit_smart  over_limit_ultra\n",
              "0       1                  676.0  ...             126.0               0.0\n",
              "1       2                  749.0  ...             199.0              12.0\n",
              "2       3                 1008.0  ...             458.0              45.0\n",
              "3       4                  841.0  ...             291.0              38.0\n",
              "4       5                 1042.0  ...             492.0              96.0\n",
              "5       6                 1044.0  ...             494.0              73.0\n",
              "6       7                 1059.0  ...             509.0             145.0\n",
              "7       8                 1138.0  ...             588.0             109.0\n",
              "8       9                 1074.0  ...             524.0              56.0\n",
              "9      10                 1181.0  ...             631.0              95.0\n",
              "10     11                 1151.0  ...             601.0             119.0\n",
              "11     12                 1351.0  ...             801.0             163.0\n",
              "\n",
              "[12 rows x 5 columns]"
            ]
          },
          "metadata": {
            "tags": []
          },
          "execution_count": 39
        }
      ]
    },
    {
      "cell_type": "code",
      "metadata": {
        "id": "6-wE5gN6nmdB",
        "colab": {
          "base_uri": "https://localhost:8080/",
          "height": 315
        },
        "outputId": "6e9f9d42-d2fe-4bfc-c6dd-e1a352c4fa64"
      },
      "source": [
        "#отображаем на графике общую сумму по месяцам в тарифе Smart\n",
        "mean_income_per_userr.plot(kind = 'bar', x = 'month', y = ['income_per_user_smart', 'over_limit_smart'])\n",
        "plt.title('Динамика средней выручки с 1ого пользователя по тарифу Smart')\n",
        "plt.ylabel('Сумма,р') #назовем сторону y\n",
        "plt.xlabel('Месяц')"
      ],
      "execution_count": 40,
      "outputs": [
        {
          "output_type": "execute_result",
          "data": {
            "text/plain": [
              "Text(0.5, 0, 'Месяц')"
            ]
          },
          "metadata": {
            "tags": []
          },
          "execution_count": 40
        },
        {
          "output_type": "display_data",
          "data": {
            "image/png": "[encoded data removed]",
            "text/plain": [
              "<Figure size 432x288 with 1 Axes>"
            ]
          },
          "metadata": {
            "tags": [],
            "needs_background": "light"
          }
        }
      ]
    },
    {
      "cell_type": "code",
      "metadata": {
        "id": "oTz7IseVnmdC",
        "colab": {
          "base_uri": "https://localhost:8080/",
          "height": 315
        },
        "outputId": "7d53e82b-4a73-43f3-de5f-8974c31add1e"
      },
      "source": [
        "#отображаем на графике общую сумму по месяцам в тарифе Ultra\n",
        "mean_income_per_userr.plot(kind = 'bar', x = 'month', y = ['income_per_user_ultra', 'over_limit_ultra'])\n",
        "plt.title('Динамика средней выручки с 1ого пользователя по тарифу Ultra')\n",
        "plt.ylabel('Сумма,р') #назовем сторону y\n",
        "plt.xlabel('Месяц')"
      ],
      "execution_count": 41,
      "outputs": [
        {
          "output_type": "execute_result",
          "data": {
            "text/plain": [
              "Text(0.5, 0, 'Месяц')"
            ]
          },
          "metadata": {
            "tags": []
          },
          "execution_count": 41
        },
        {
          "output_type": "display_data",
          "data": {
            "image/png": "[encoded data removed]",
            "text/plain": [
              "<Figure size 432x288 with 1 Axes>"
            ]
          },
          "metadata": {
            "tags": [],
            "needs_background": "light"
          }
        }
      ]
    },
    {
      "cell_type": "markdown",
      "metadata": {
        "id": "tTI1qDuSnmdC"
      },
      "source": [
        "### Вывод"
      ]
    },
    {
      "cell_type": "markdown",
      "metadata": {
        "id": "O0VFJX01nmdC"
      },
      "source": [
        "Средняя выручка с одного пользователя за месяц выросла за год с 961р до 1622р. При любом тарифе у клиентов есть перерасход, который достигает свеого пика в декабре.   \n",
        "При этом выручка с одного пользователя по тарифу Smart выросла с 676 до 1351р за год, а перерасход в декабре составил 801р, что больше суммы ежемесячного платежа на 251р! Есть высокие риски того,что клиенты с данного тарифа могут уйти к конкурентам, так как базовый тариф не покрывает все их потребности.   \n",
        "Выручка с одного пользователя по тарифу Ultra выросла с 1950р до 2113р, а перерасход в декабре составил всего 163р, что составляет всего 8% от суммы базового тарифа."
      ]
    },
    {
      "cell_type": "markdown",
      "metadata": {
        "id": "F3F6x1QwnmdD"
      },
      "source": [
        "### Шаг 3 Описываем поведение клиентов оператора, исходя из выборки  <a id=\"4\"></a>"
      ]
    },
    {
      "cell_type": "code",
      "metadata": {
        "id": "kEEwnKC2nmdE",
        "colab": {
          "base_uri": "https://localhost:8080/",
          "height": 452
        },
        "outputId": "9a40bf2c-5885-4b73-8390-4ec22b3e4594"
      },
      "source": [
        "#опредляем помесячное кол-во пользователей по тарифам\n",
        "client = user_data.pivot_table(index = 'month', columns = 'tariff', values = 'rub_monthly_fee', aggfunc = ['count'])\n",
        "client.columns = ['smart', 'ultra']\n",
        "client"
      ],
      "execution_count": 42,
      "outputs": [
        {
          "output_type": "execute_result",
          "data": {
            "text/html": [
              "<div>\n",
              "<style scoped>\n",
              "    .dataframe tbody tr th:only-of-type {\n",
              "        vertical-align: middle;\n",
              "    }\n",
              "\n",
              "    .dataframe tbody tr th {\n",
              "        vertical-align: top;\n",
              "    }\n",
              "\n",
              "    .dataframe thead th {\n",
              "        text-align: right;\n",
              "    }\n",
              "</style>\n",
              "<table border=\"1\" class=\"dataframe\">\n",
              "  <thead>\n",
              "    <tr style=\"text-align: right;\">\n",
              "      <th></th>\n",
              "      <th>smart</th>\n",
              "      <th>ultra</th>\n",
              "    </tr>\n",
              "    <tr>\n",
              "      <th>month</th>\n",
              "      <th></th>\n",
              "      <th></th>\n",
              "    </tr>\n",
              "  </thead>\n",
              "  <tbody>\n",
              "    <tr>\n",
              "      <th>1</th>\n",
              "      <td>34</td>\n",
              "      <td>9</td>\n",
              "    </tr>\n",
              "    <tr>\n",
              "      <th>2</th>\n",
              "      <td>58</td>\n",
              "      <td>24</td>\n",
              "    </tr>\n",
              "    <tr>\n",
              "      <th>3</th>\n",
              "      <td>77</td>\n",
              "      <td>37</td>\n",
              "    </tr>\n",
              "    <tr>\n",
              "      <th>4</th>\n",
              "      <td>112</td>\n",
              "      <td>55</td>\n",
              "    </tr>\n",
              "    <tr>\n",
              "      <th>5</th>\n",
              "      <td>141</td>\n",
              "      <td>67</td>\n",
              "    </tr>\n",
              "    <tr>\n",
              "      <th>6</th>\n",
              "      <td>164</td>\n",
              "      <td>84</td>\n",
              "    </tr>\n",
              "    <tr>\n",
              "      <th>7</th>\n",
              "      <td>201</td>\n",
              "      <td>91</td>\n",
              "    </tr>\n",
              "    <tr>\n",
              "      <th>8</th>\n",
              "      <td>235</td>\n",
              "      <td>107</td>\n",
              "    </tr>\n",
              "    <tr>\n",
              "      <th>9</th>\n",
              "      <td>260</td>\n",
              "      <td>115</td>\n",
              "    </tr>\n",
              "    <tr>\n",
              "      <th>10</th>\n",
              "      <td>294</td>\n",
              "      <td>123</td>\n",
              "    </tr>\n",
              "    <tr>\n",
              "      <th>11</th>\n",
              "      <td>316</td>\n",
              "      <td>134</td>\n",
              "    </tr>\n",
              "    <tr>\n",
              "      <th>12</th>\n",
              "      <td>337</td>\n",
              "      <td>139</td>\n",
              "    </tr>\n",
              "  </tbody>\n",
              "</table>\n",
              "</div>"
            ],
            "text/plain": [
              "       smart  ultra\n",
              "month              \n",
              "1         34      9\n",
              "2         58     24\n",
              "3         77     37\n",
              "4        112     55\n",
              "5        141     67\n",
              "6        164     84\n",
              "7        201     91\n",
              "8        235    107\n",
              "9        260    115\n",
              "10       294    123\n",
              "11       316    134\n",
              "12       337    139"
            ]
          },
          "metadata": {
            "tags": []
          },
          "execution_count": 42
        }
      ]
    },
    {
      "cell_type": "code",
      "metadata": {
        "id": "-mKLXW0pnmdE",
        "colab": {
          "base_uri": "https://localhost:8080/",
          "height": 315
        },
        "outputId": "f348b42d-e658-4106-f401-47c2451411ae"
      },
      "source": [
        "client.plot( kind = 'bar')\n",
        "plt.title('Кол-во пользователей тарифов Smart и Ultra')\n",
        "plt.ylabel('Сумма,р') #назовем сторону y\n",
        "plt.xlabel('Месяц')"
      ],
      "execution_count": 43,
      "outputs": [
        {
          "output_type": "execute_result",
          "data": {
            "text/plain": [
              "Text(0.5, 0, 'Месяц')"
            ]
          },
          "metadata": {
            "tags": []
          },
          "execution_count": 43
        },
        {
          "output_type": "display_data",
          "data": {
            "image/png": "[encoded data removed]",
            "text/plain": [
              "<Figure size 432x288 with 1 Axes>"
            ]
          },
          "metadata": {
            "tags": [],
            "needs_background": "light"
          }
        }
      ]
    },
    {
      "cell_type": "markdown",
      "metadata": {
        "id": "FCmJUV-nnmdF"
      },
      "source": [
        "##### Наблюдение четвертое  \n",
        "2229 клиентов выбрали Тариф 'Smart' за год, а тариф 'Ultra' - 985, что объяснимо их разницей в цене и объеме предосавлямых возможностей. Оба тарифа десмонтрировали рост от месяца к месяцу."
      ]
    },
    {
      "cell_type": "code",
      "metadata": {
        "id": "S2mE8lE0nmdG",
        "colab": {
          "base_uri": "https://localhost:8080/"
        },
        "outputId": "c0eaffd7-7382-4414-a5da-553f09475b51"
      },
      "source": [
        "# Определяем долю тарифа Ultra относительно Smart\n",
        "delta = user_data.pivot_table(index = 'month', columns = 'tariff', values = 'rub_monthly_fee', aggfunc = ['count'])\n",
        "delta.columns = ['smart', 'ultra']\n",
        "delta['share'] = delta['ultra'] / (delta['smart'] + delta['ultra']) *100\n",
        "delta_share = delta['share']\n",
        "delta_share.mean()\n",
        "delta_share"
      ],
      "execution_count": 44,
      "outputs": [
        {
          "output_type": "execute_result",
          "data": {
            "text/plain": [
              "month\n",
              "1     20.930233\n",
              "2     29.268293\n",
              "3     32.456140\n",
              "4     32.934132\n",
              "5     32.211538\n",
              "6     33.870968\n",
              "7     31.164384\n",
              "8     31.286550\n",
              "9     30.666667\n",
              "10    29.496403\n",
              "11    29.777778\n",
              "12    29.201681\n",
              "Name: share, dtype: float64"
            ]
          },
          "metadata": {
            "tags": []
          },
          "execution_count": 44
        }
      ]
    },
    {
      "cell_type": "code",
      "metadata": {
        "id": "vrlXPTE1nmdH",
        "colab": {
          "base_uri": "https://localhost:8080/",
          "height": 315
        },
        "outputId": "e172094c-cd16-477f-b7c9-4720d4ee64da"
      },
      "source": [
        "delta_share.plot( kind = 'bar')\n",
        "plt.title('Доля тарифа Ultra относительно Smart')\n",
        "plt.ylabel('Сумма,р') #назовем сторону y\n",
        "plt.xlabel('Месяц')"
      ],
      "execution_count": 45,
      "outputs": [
        {
          "output_type": "execute_result",
          "data": {
            "text/plain": [
              "Text(0.5, 0, 'Месяц')"
            ]
          },
          "metadata": {
            "tags": []
          },
          "execution_count": 45
        },
        {
          "output_type": "display_data",
          "data": {
            "image/png": "[encoded data removed]",
            "text/plain": [
              "<Figure size 432x288 with 1 Axes>"
            ]
          },
          "metadata": {
            "tags": [],
            "needs_background": "light"
          }
        }
      ]
    },
    {
      "cell_type": "markdown",
      "metadata": {
        "id": "BG2KN4NrnmdI"
      },
      "source": [
        "##### Наблюдение пятое   \n",
        "Доля тарифа Ultra относительно тарифа Smart по году составляет 30%. Наибольший скачек произашел в феврале 2018 года, и начиная со второй половины года кол-во людей, подключивших себе Smart росло немного быстрее в сранении с теми, кто подключал себе Ultra. "
      ]
    },
    {
      "cell_type": "code",
      "metadata": {
        "id": "sed4rW8dnmdI",
        "colab": {
          "base_uri": "https://localhost:8080/"
        },
        "outputId": "253de047-2b44-4dbb-b9c2-59913e32d19e"
      },
      "source": [
        "#определяем кол-во пользователей, которые имеют перерасход по месяцам в тарифе Smart\n",
        "mean_income_per_userr['share_over_limit'] = mean_income_per_userr['over_limit_smart'] / mean_income_per_userr['income_per_user_smart'] * 100\n",
        "share_over_limit = mean_income_per_userr['share_over_limit']\n",
        "share_over_limit"
      ],
      "execution_count": 46,
      "outputs": [
        {
          "output_type": "execute_result",
          "data": {
            "text/plain": [
              "0     18.639053\n",
              "1     26.568758\n",
              "2     45.436508\n",
              "3     34.601665\n",
              "4     47.216891\n",
              "5     47.318008\n",
              "6     48.064212\n",
              "7     51.669596\n",
              "8     48.789572\n",
              "9     53.429297\n",
              "10    52.215465\n",
              "11    59.289415\n",
              "Name: share_over_limit, dtype: float64"
            ]
          },
          "metadata": {
            "tags": []
          },
          "execution_count": 46
        }
      ]
    },
    {
      "cell_type": "code",
      "metadata": {
        "id": "sv1OthH-nmdJ",
        "colab": {
          "base_uri": "https://localhost:8080/"
        },
        "outputId": "533c1bc9-5a63-4dcf-e17a-a945474ff605"
      },
      "source": [
        "#определяем кол-во пользователей, которые имеют перерасход по итогу года в тарифе Smart\n",
        "over_limit_smart = mean_income_per_userr['over_limit_smart'].sum() / mean_income_per_userr['income_per_user_smart'].sum()\n",
        "over_limit_smart"
      ],
      "execution_count": 47,
      "outputs": [
        {
          "output_type": "execute_result",
          "data": {
            "text/plain": [
              "0.4640246873477343"
            ]
          },
          "metadata": {
            "tags": []
          },
          "execution_count": 47
        }
      ]
    },
    {
      "cell_type": "code",
      "metadata": {
        "id": "hfGPeduAnmdJ",
        "colab": {
          "base_uri": "https://localhost:8080/",
          "height": 315
        },
        "outputId": "09f5826c-db76-43e0-9f63-19884d420203"
      },
      "source": [
        "share_over_limit.plot( kind = 'bar')\n",
        "plt.title('Доля перерасхода от суммы по тарифу Smart')\n",
        "plt.ylabel('Сумма,р') #назовем сторону y\n",
        "plt.xlabel('Месяц')"
      ],
      "execution_count": 48,
      "outputs": [
        {
          "output_type": "execute_result",
          "data": {
            "text/plain": [
              "Text(0.5, 0, 'Месяц')"
            ]
          },
          "metadata": {
            "tags": []
          },
          "execution_count": 48
        },
        {
          "output_type": "display_data",
          "data": {
            "image/png": "[encoded data removed]",
            "text/plain": [
              "<Figure size 432x288 with 1 Axes>"
            ]
          },
          "metadata": {
            "tags": [],
            "needs_background": "light"
          }
        }
      ]
    },
    {
      "cell_type": "markdown",
      "metadata": {
        "id": "t0CuEDkFnmdK"
      },
      "source": [
        "##### Наблюдение шестое   \n",
        "46.4% пользователей тарифа Smart доплачивают к базовой ежемесячной сумме, при этом от декабря к январю эта доля выросла с 18.6% до 59.3%"
      ]
    },
    {
      "cell_type": "code",
      "metadata": {
        "id": "EDnU5fbVnmdK"
      },
      "source": [
        "#исследуем пользователей, которые отказались от своего тарифа\n",
        "user_data['churn_date'] = pd.to_datetime(user_data['churn_date'], format = '%Y-%m-%d') #меняем формат столбца"
      ],
      "execution_count": 49,
      "outputs": []
    },
    {
      "cell_type": "code",
      "metadata": {
        "id": "oE5RFQ3rnmdL"
      },
      "source": [
        "user_data['month_churn'] = user_data['churn_date'].dt.month"
      ],
      "execution_count": 50,
      "outputs": []
    },
    {
      "cell_type": "code",
      "metadata": {
        "id": "bzJBBy-QnmdL",
        "colab": {
          "base_uri": "https://localhost:8080/",
          "height": 235
        },
        "outputId": "f9bf5849-4be5-484b-f601-bbb7e0068118"
      },
      "source": [
        "#опреляем по месяцам кол-во пользователей, которые отписались от своего тарифа\n",
        "user_data_churn = user_data.pivot_table(index = 'month_churn', columns = 'tariff', values = 'user_id', aggfunc = 'count')\n",
        "user_data_churn"
      ],
      "execution_count": 51,
      "outputs": [
        {
          "output_type": "execute_result",
          "data": {
            "text/html": [
              "<div>\n",
              "<style scoped>\n",
              "    .dataframe tbody tr th:only-of-type {\n",
              "        vertical-align: middle;\n",
              "    }\n",
              "\n",
              "    .dataframe tbody tr th {\n",
              "        vertical-align: top;\n",
              "    }\n",
              "\n",
              "    .dataframe thead th {\n",
              "        text-align: right;\n",
              "    }\n",
              "</style>\n",
              "<table border=\"1\" class=\"dataframe\">\n",
              "  <thead>\n",
              "    <tr style=\"text-align: right;\">\n",
              "      <th>tariff</th>\n",
              "      <th>smart</th>\n",
              "      <th>ultra</th>\n",
              "    </tr>\n",
              "    <tr>\n",
              "      <th>month_churn</th>\n",
              "      <th></th>\n",
              "      <th></th>\n",
              "    </tr>\n",
              "  </thead>\n",
              "  <tbody>\n",
              "    <tr>\n",
              "      <th>8.0</th>\n",
              "      <td>8</td>\n",
              "      <td>8</td>\n",
              "    </tr>\n",
              "    <tr>\n",
              "      <th>9.0</th>\n",
              "      <td>8</td>\n",
              "      <td>16</td>\n",
              "    </tr>\n",
              "    <tr>\n",
              "      <th>10.0</th>\n",
              "      <td>31</td>\n",
              "      <td>19</td>\n",
              "    </tr>\n",
              "    <tr>\n",
              "      <th>11.0</th>\n",
              "      <td>27</td>\n",
              "      <td>8</td>\n",
              "    </tr>\n",
              "    <tr>\n",
              "      <th>12.0</th>\n",
              "      <td>37</td>\n",
              "      <td>25</td>\n",
              "    </tr>\n",
              "  </tbody>\n",
              "</table>\n",
              "</div>"
            ],
            "text/plain": [
              "tariff       smart  ultra\n",
              "month_churn              \n",
              "8.0              8      8\n",
              "9.0              8     16\n",
              "10.0            31     19\n",
              "11.0            27      8\n",
              "12.0            37     25"
            ]
          },
          "metadata": {
            "tags": []
          },
          "execution_count": 51
        }
      ]
    },
    {
      "cell_type": "code",
      "metadata": {
        "id": "atZ9fRvUnmdL",
        "colab": {
          "base_uri": "https://localhost:8080/",
          "height": 325
        },
        "outputId": "477eecf7-e3e1-432c-858e-f06b62ef4295"
      },
      "source": [
        "user_data_churn.plot( kind = 'bar')\n",
        "plt.title('Кол-во клиентов, отключившихся от тарифа')\n",
        "plt.ylabel('Кол-во клиентов') #назовем сторону y\n",
        "plt.xlabel('Месяц')"
      ],
      "execution_count": 52,
      "outputs": [
        {
          "output_type": "execute_result",
          "data": {
            "text/plain": [
              "Text(0.5, 0, 'Месяц')"
            ]
          },
          "metadata": {
            "tags": []
          },
          "execution_count": 52
        },
        {
          "output_type": "display_data",
          "data": {
            "image/png": "[encoded data removed]",
            "text/plain": [
              "<Figure size 432x288 with 1 Axes>"
            ]
          },
          "metadata": {
            "tags": [],
            "needs_background": "light"
          }
        }
      ]
    },
    {
      "cell_type": "markdown",
      "metadata": {
        "id": "h9zhnu86nmdM"
      },
      "source": [
        "##### Наблюдение седьмое  \n",
        "За 2018 год отлючились от тараифов Smart и Ultra 187 клиентов, из которых от тарифа Smart отказались 111ч, что составило 5% от всех пользователей тарифа и 76ч - от тарифа Ultra, что составило 7,7%. Первые отключения начались в августе 2018 года, четкой динамики по месяцам отключения нет.  "
      ]
    },
    {
      "cell_type": "code",
      "metadata": {
        "id": "_NcfaZ7EnmdM",
        "colab": {
          "base_uri": "https://localhost:8080/",
          "height": 452
        },
        "outputId": "661e4118-b5f7-4467-b4e8-98aba5195460"
      },
      "source": [
        "#опреляем срок использования тарифа\n",
        "user_data['month_churn'] = pd.to_datetime(user_data['month_churn'], format = '%Y-%m-%d')\n",
        "user_data['month_churn'] = user_data['month_churn'].dt.day\n",
        "user_data['delta'] = user_data['month'] - user_data['month_churn']\n",
        "\n",
        "churn = user_data.pivot_table(index = 'delta', columns = 'tariff', values = 'user_id', aggfunc = 'count')\n",
        "churn.columns = ['smart_churn', 'ultra_churn']  \n",
        "churn['smart_churn'].median()\n",
        "churn['ultra_churn'].median()\n",
        "churn"
      ],
      "execution_count": 53,
      "outputs": [
        {
          "output_type": "execute_result",
          "data": {
            "text/html": [
              "<div>\n",
              "<style scoped>\n",
              "    .dataframe tbody tr th:only-of-type {\n",
              "        vertical-align: middle;\n",
              "    }\n",
              "\n",
              "    .dataframe tbody tr th {\n",
              "        vertical-align: top;\n",
              "    }\n",
              "\n",
              "    .dataframe thead th {\n",
              "        text-align: right;\n",
              "    }\n",
              "</style>\n",
              "<table border=\"1\" class=\"dataframe\">\n",
              "  <thead>\n",
              "    <tr style=\"text-align: right;\">\n",
              "      <th></th>\n",
              "      <th>smart_churn</th>\n",
              "      <th>ultra_churn</th>\n",
              "    </tr>\n",
              "    <tr>\n",
              "      <th>delta</th>\n",
              "      <th></th>\n",
              "      <th></th>\n",
              "    </tr>\n",
              "  </thead>\n",
              "  <tbody>\n",
              "    <tr>\n",
              "      <th>0.0</th>\n",
              "      <td>1</td>\n",
              "      <td>1</td>\n",
              "    </tr>\n",
              "    <tr>\n",
              "      <th>1.0</th>\n",
              "      <td>3</td>\n",
              "      <td>3</td>\n",
              "    </tr>\n",
              "    <tr>\n",
              "      <th>2.0</th>\n",
              "      <td>5</td>\n",
              "      <td>3</td>\n",
              "    </tr>\n",
              "    <tr>\n",
              "      <th>3.0</th>\n",
              "      <td>7</td>\n",
              "      <td>4</td>\n",
              "    </tr>\n",
              "    <tr>\n",
              "      <th>4.0</th>\n",
              "      <td>8</td>\n",
              "      <td>5</td>\n",
              "    </tr>\n",
              "    <tr>\n",
              "      <th>5.0</th>\n",
              "      <td>9</td>\n",
              "      <td>7</td>\n",
              "    </tr>\n",
              "    <tr>\n",
              "      <th>6.0</th>\n",
              "      <td>12</td>\n",
              "      <td>9</td>\n",
              "    </tr>\n",
              "    <tr>\n",
              "      <th>7.0</th>\n",
              "      <td>13</td>\n",
              "      <td>11</td>\n",
              "    </tr>\n",
              "    <tr>\n",
              "      <th>8.0</th>\n",
              "      <td>13</td>\n",
              "      <td>11</td>\n",
              "    </tr>\n",
              "    <tr>\n",
              "      <th>9.0</th>\n",
              "      <td>16</td>\n",
              "      <td>10</td>\n",
              "    </tr>\n",
              "    <tr>\n",
              "      <th>10.0</th>\n",
              "      <td>15</td>\n",
              "      <td>7</td>\n",
              "    </tr>\n",
              "    <tr>\n",
              "      <th>11.0</th>\n",
              "      <td>9</td>\n",
              "      <td>5</td>\n",
              "    </tr>\n",
              "  </tbody>\n",
              "</table>\n",
              "</div>"
            ],
            "text/plain": [
              "       smart_churn  ultra_churn\n",
              "delta                          \n",
              "0.0              1            1\n",
              "1.0              3            3\n",
              "2.0              5            3\n",
              "3.0              7            4\n",
              "4.0              8            5\n",
              "5.0              9            7\n",
              "6.0             12            9\n",
              "7.0             13           11\n",
              "8.0             13           11\n",
              "9.0             16           10\n",
              "10.0            15            7\n",
              "11.0             9            5"
            ]
          },
          "metadata": {
            "tags": []
          },
          "execution_count": 53
        }
      ]
    },
    {
      "cell_type": "code",
      "metadata": {
        "id": "6LrpkBgxnmdN",
        "colab": {
          "base_uri": "https://localhost:8080/",
          "height": 325
        },
        "outputId": "aed0335a-4ff2-4984-b761-600ad3fe9d2d"
      },
      "source": [
        "churn.plot( kind = 'bar')\n",
        "plt.title('Срок использования тарифа')\n",
        "plt.ylabel('Кол-во клиентов') #назовем сторону y\n",
        "plt.xlabel('Кол-во месяцев использования тарифа')"
      ],
      "execution_count": 54,
      "outputs": [
        {
          "output_type": "execute_result",
          "data": {
            "text/plain": [
              "Text(0.5, 0, 'Кол-во месяцев использования тарифа')"
            ]
          },
          "metadata": {
            "tags": []
          },
          "execution_count": 54
        },
        {
          "output_type": "display_data",
          "data": {
            "image/png": "[encoded data removed]",
            "text/plain": [
              "<Figure size 432x288 with 1 Axes>"
            ]
          },
          "metadata": {
            "tags": [],
            "needs_background": "light"
          }
        }
      ]
    },
    {
      "cell_type": "markdown",
      "metadata": {
        "id": "QeAxJJPhnmdN"
      },
      "source": [
        "##### Наблюдение восьмое  \n",
        "С ростом периода использования тарифа растет и кол-во отключившихся от него. В первый - второй месяц использования кол-во отключенных от тарифов равно и составляет менее 2% процентов от общего кол-во отлючившихся.\n",
        "Наибольшее кол-во клиентов, использующих тариф Smart отлючаются от него на 9-10 месяце использования, а на тарифе Ultra на 7-8 месяце. <a id=\"4.1\"></a>"
      ]
    },
    {
      "cell_type": "code",
      "metadata": {
        "id": "FCFjF_8cnmdO",
        "colab": {
          "base_uri": "https://localhost:8080/",
          "height": 840
        },
        "outputId": "6561bf6c-0a16-44a9-fa81-5d68e9a53a79"
      },
      "source": [
        "# Считаем среднее количество, дисперсию и стандартное отклонение.\n",
        "df_total_var = user_data.groupby(by=['tariff','month'])['sum_duration', 'count_messages', 'gb_used'].var().reset_index() #группируем данные для формирования графиков с дисперсией по месяцам\n",
        "columns_name = {'sum_duration', 'count_messages', 'gb_used'}\n",
        "for column in columns_name: #создаем цикл для формирования сразу 3х графиков\n",
        "    ax = df_total_var.query('tariff == \"ultra\"').plot(x='month', y = column, color='royalblue', label='Ultra', legend=True, grid = True)\n",
        "    df_total_var.query('tariff == \"smart\"').plot(x='month', y = column, color='purple', label='Smart', ax=ax, legend=True, grid = True)\n",
        "    plt.xlabel(column)\n",
        "    plt.xticks(np.arange (0, 12, step=1.0))\n",
        "    plt.show()"
      ],
      "execution_count": 55,
      "outputs": [
        {
          "output_type": "stream",
          "text": [
            "/usr/local/lib/python3.7/dist-packages/ipykernel_launcher.py:2: FutureWarning: Indexing with multiple keys (implicitly converted to a tuple of keys) will be deprecated, use a list instead.\n",
            "  \n"
          ],
          "name": "stderr"
        },
        {
          "output_type": "display_data",
          "data": {
            "image/png": "[encoded data removed]",
            "text/plain": [
              "<Figure size 432x288 with 1 Axes>"
            ]
          },
          "metadata": {
            "tags": [],
            "needs_background": "light"
          }
        },
        {
          "output_type": "display_data",
          "data": {
            "image/png": "[encoded data removed]",
            "text/plain": [
              "<Figure size 432x288 with 1 Axes>"
            ]
          },
          "metadata": {
            "tags": [],
            "needs_background": "light"
          }
        },
        {
          "output_type": "display_data",
          "data": {
            "image/png": "[encoded data removed]",
            "text/plain": [
              "<Figure size 432x288 with 1 Axes>"
            ]
          },
          "metadata": {
            "tags": [],
            "needs_background": "light"
          }
        }
      ]
    },
    {
      "cell_type": "code",
      "metadata": {
        "id": "Uuq_vbIDnmdO",
        "colab": {
          "base_uri": "https://localhost:8080/",
          "height": 793
        },
        "outputId": "7eac0447-717c-4ec5-9803-e81e8d7b0e57"
      },
      "source": [
        "df_total_var"
      ],
      "execution_count": 56,
      "outputs": [
        {
          "output_type": "execute_result",
          "data": {
            "text/html": [
              "<div>\n",
              "<style scoped>\n",
              "    .dataframe tbody tr th:only-of-type {\n",
              "        vertical-align: middle;\n",
              "    }\n",
              "\n",
              "    .dataframe tbody tr th {\n",
              "        vertical-align: top;\n",
              "    }\n",
              "\n",
              "    .dataframe thead th {\n",
              "        text-align: right;\n",
              "    }\n",
              "</style>\n",
              "<table border=\"1\" class=\"dataframe\">\n",
              "  <thead>\n",
              "    <tr style=\"text-align: right;\">\n",
              "      <th></th>\n",
              "      <th>tariff</th>\n",
              "      <th>month</th>\n",
              "      <th>sum_duration</th>\n",
              "      <th>count_messages</th>\n",
              "      <th>gb_used</th>\n",
              "    </tr>\n",
              "  </thead>\n",
              "  <tbody>\n",
              "    <tr>\n",
              "      <th>0</th>\n",
              "      <td>smart</td>\n",
              "      <td>1</td>\n",
              "      <td>19287.850267</td>\n",
              "      <td>262.367201</td>\n",
              "      <td>39.412656</td>\n",
              "    </tr>\n",
              "    <tr>\n",
              "      <th>1</th>\n",
              "      <td>smart</td>\n",
              "      <td>2</td>\n",
              "      <td>28999.793406</td>\n",
              "      <td>473.097701</td>\n",
              "      <td>37.150938</td>\n",
              "    </tr>\n",
              "    <tr>\n",
              "      <th>2</th>\n",
              "      <td>smart</td>\n",
              "      <td>3</td>\n",
              "      <td>29448.392344</td>\n",
              "      <td>718.492481</td>\n",
              "      <td>32.549897</td>\n",
              "    </tr>\n",
              "    <tr>\n",
              "      <th>3</th>\n",
              "      <td>smart</td>\n",
              "      <td>4</td>\n",
              "      <td>27586.573681</td>\n",
              "      <td>602.139559</td>\n",
              "      <td>31.299550</td>\n",
              "    </tr>\n",
              "    <tr>\n",
              "      <th>4</th>\n",
              "      <td>smart</td>\n",
              "      <td>5</td>\n",
              "      <td>27663.360486</td>\n",
              "      <td>730.990983</td>\n",
              "      <td>34.370010</td>\n",
              "    </tr>\n",
              "    <tr>\n",
              "      <th>5</th>\n",
              "      <td>smart</td>\n",
              "      <td>6</td>\n",
              "      <td>24492.664485</td>\n",
              "      <td>806.806374</td>\n",
              "      <td>31.911716</td>\n",
              "    </tr>\n",
              "    <tr>\n",
              "      <th>6</th>\n",
              "      <td>smart</td>\n",
              "      <td>7</td>\n",
              "      <td>25688.934776</td>\n",
              "      <td>799.887811</td>\n",
              "      <td>33.419453</td>\n",
              "    </tr>\n",
              "    <tr>\n",
              "      <th>7</th>\n",
              "      <td>smart</td>\n",
              "      <td>8</td>\n",
              "      <td>27775.455974</td>\n",
              "      <td>838.257501</td>\n",
              "      <td>29.902419</td>\n",
              "    </tr>\n",
              "    <tr>\n",
              "      <th>8</th>\n",
              "      <td>smart</td>\n",
              "      <td>9</td>\n",
              "      <td>26762.382225</td>\n",
              "      <td>790.617820</td>\n",
              "      <td>25.884110</td>\n",
              "    </tr>\n",
              "    <tr>\n",
              "      <th>9</th>\n",
              "      <td>smart</td>\n",
              "      <td>10</td>\n",
              "      <td>28281.329305</td>\n",
              "      <td>816.111966</td>\n",
              "      <td>32.785215</td>\n",
              "    </tr>\n",
              "    <tr>\n",
              "      <th>10</th>\n",
              "      <td>smart</td>\n",
              "      <td>11</td>\n",
              "      <td>25233.465823</td>\n",
              "      <td>805.937071</td>\n",
              "      <td>27.180952</td>\n",
              "    </tr>\n",
              "    <tr>\n",
              "      <th>11</th>\n",
              "      <td>smart</td>\n",
              "      <td>12</td>\n",
              "      <td>31619.377985</td>\n",
              "      <td>934.952346</td>\n",
              "      <td>29.786544</td>\n",
              "    </tr>\n",
              "    <tr>\n",
              "      <th>12</th>\n",
              "      <td>ultra</td>\n",
              "      <td>1</td>\n",
              "      <td>57077.361111</td>\n",
              "      <td>940.694444</td>\n",
              "      <td>44.444444</td>\n",
              "    </tr>\n",
              "    <tr>\n",
              "      <th>13</th>\n",
              "      <td>ultra</td>\n",
              "      <td>2</td>\n",
              "      <td>69575.188406</td>\n",
              "      <td>716.824275</td>\n",
              "      <td>107.123188</td>\n",
              "    </tr>\n",
              "    <tr>\n",
              "      <th>14</th>\n",
              "      <td>ultra</td>\n",
              "      <td>3</td>\n",
              "      <td>88953.965465</td>\n",
              "      <td>1732.381381</td>\n",
              "      <td>114.345345</td>\n",
              "    </tr>\n",
              "    <tr>\n",
              "      <th>15</th>\n",
              "      <td>ultra</td>\n",
              "      <td>4</td>\n",
              "      <td>57077.995286</td>\n",
              "      <td>1407.287542</td>\n",
              "      <td>89.443098</td>\n",
              "    </tr>\n",
              "    <tr>\n",
              "      <th>16</th>\n",
              "      <td>ultra</td>\n",
              "      <td>5</td>\n",
              "      <td>66320.772501</td>\n",
              "      <td>1624.644052</td>\n",
              "      <td>94.486658</td>\n",
              "    </tr>\n",
              "    <tr>\n",
              "      <th>17</th>\n",
              "      <td>ultra</td>\n",
              "      <td>6</td>\n",
              "      <td>73002.268933</td>\n",
              "      <td>1986.297619</td>\n",
              "      <td>81.949512</td>\n",
              "    </tr>\n",
              "    <tr>\n",
              "      <th>18</th>\n",
              "      <td>ultra</td>\n",
              "      <td>7</td>\n",
              "      <td>74781.258852</td>\n",
              "      <td>2372.042735</td>\n",
              "      <td>95.985836</td>\n",
              "    </tr>\n",
              "    <tr>\n",
              "      <th>19</th>\n",
              "      <td>ultra</td>\n",
              "      <td>8</td>\n",
              "      <td>77476.220949</td>\n",
              "      <td>2171.739199</td>\n",
              "      <td>104.787868</td>\n",
              "    </tr>\n",
              "    <tr>\n",
              "      <th>20</th>\n",
              "      <td>ultra</td>\n",
              "      <td>9</td>\n",
              "      <td>83700.672311</td>\n",
              "      <td>2152.855530</td>\n",
              "      <td>85.927079</td>\n",
              "    </tr>\n",
              "    <tr>\n",
              "      <th>21</th>\n",
              "      <td>ultra</td>\n",
              "      <td>10</td>\n",
              "      <td>84204.401573</td>\n",
              "      <td>2697.181661</td>\n",
              "      <td>90.937225</td>\n",
              "    </tr>\n",
              "    <tr>\n",
              "      <th>22</th>\n",
              "      <td>ultra</td>\n",
              "      <td>11</td>\n",
              "      <td>76419.892549</td>\n",
              "      <td>2476.948491</td>\n",
              "      <td>93.506284</td>\n",
              "    </tr>\n",
              "    <tr>\n",
              "      <th>23</th>\n",
              "      <td>ultra</td>\n",
              "      <td>12</td>\n",
              "      <td>92626.301637</td>\n",
              "      <td>2681.978417</td>\n",
              "      <td>102.928892</td>\n",
              "    </tr>\n",
              "  </tbody>\n",
              "</table>\n",
              "</div>"
            ],
            "text/plain": [
              "   tariff  month  sum_duration  count_messages     gb_used\n",
              "0   smart      1  19287.850267      262.367201   39.412656\n",
              "1   smart      2  28999.793406      473.097701   37.150938\n",
              "2   smart      3  29448.392344      718.492481   32.549897\n",
              "3   smart      4  27586.573681      602.139559   31.299550\n",
              "4   smart      5  27663.360486      730.990983   34.370010\n",
              "5   smart      6  24492.664485      806.806374   31.911716\n",
              "6   smart      7  25688.934776      799.887811   33.419453\n",
              "7   smart      8  27775.455974      838.257501   29.902419\n",
              "8   smart      9  26762.382225      790.617820   25.884110\n",
              "9   smart     10  28281.329305      816.111966   32.785215\n",
              "10  smart     11  25233.465823      805.937071   27.180952\n",
              "11  smart     12  31619.377985      934.952346   29.786544\n",
              "12  ultra      1  57077.361111      940.694444   44.444444\n",
              "13  ultra      2  69575.188406      716.824275  107.123188\n",
              "14  ultra      3  88953.965465     1732.381381  114.345345\n",
              "15  ultra      4  57077.995286     1407.287542   89.443098\n",
              "16  ultra      5  66320.772501     1624.644052   94.486658\n",
              "17  ultra      6  73002.268933     1986.297619   81.949512\n",
              "18  ultra      7  74781.258852     2372.042735   95.985836\n",
              "19  ultra      8  77476.220949     2171.739199  104.787868\n",
              "20  ultra      9  83700.672311     2152.855530   85.927079\n",
              "21  ultra     10  84204.401573     2697.181661   90.937225\n",
              "22  ultra     11  76419.892549     2476.948491   93.506284\n",
              "23  ultra     12  92626.301637     2681.978417  102.928892"
            ]
          },
          "metadata": {
            "tags": []
          },
          "execution_count": 56
        }
      ]
    },
    {
      "cell_type": "code",
      "metadata": {
        "id": "vEDV1YqMnmdP",
        "colab": {
          "base_uri": "https://localhost:8080/",
          "height": 840
        },
        "outputId": "24196a6b-8a0d-4a4a-f504-ec021a31c5d1"
      },
      "source": [
        "#опредялем стандартное отклонение тем же методом\n",
        "df_total_std = user_data.groupby(by=['tariff','month'])['sum_duration', 'count_messages', 'gb_used'].std().reset_index()\n",
        "columns_name = {'sum_duration', 'count_messages', 'gb_used'}\n",
        "for column in columns_name:\n",
        "    ax = df_total_std.query('tariff == \"ultra\"').plot(x='month', y = column, color='royalblue', label='Ultra', legend=True, grid = True)\n",
        "    df_total_std.query('tariff == \"smart\"').plot(x='month', y = column, color='purple', label='Smart', ax=ax, legend=True, grid = True)\n",
        "    plt.xlabel(column)\n",
        "    plt.xticks(np.arange (0, 12, step=1.0))\n",
        "    plt.show()"
      ],
      "execution_count": 57,
      "outputs": [
        {
          "output_type": "stream",
          "text": [
            "/usr/local/lib/python3.7/dist-packages/ipykernel_launcher.py:2: FutureWarning: Indexing with multiple keys (implicitly converted to a tuple of keys) will be deprecated, use a list instead.\n",
            "  \n"
          ],
          "name": "stderr"
        },
        {
          "output_type": "display_data",
          "data": {
            "image/png": "[encoded data removed]",
            "text/plain": [
              "<Figure size 432x288 with 1 Axes>"
            ]
          },
          "metadata": {
            "tags": [],
            "needs_background": "light"
          }
        },
        {
          "output_type": "display_data",
          "data": {
            "image/png": "[encoded data removed]",
            "text/plain": [
              "<Figure size 432x288 with 1 Axes>"
            ]
          },
          "metadata": {
            "tags": [],
            "needs_background": "light"
          }
        },
        {
          "output_type": "display_data",
          "data": {
            "image/png": "[encoded data removed]",
            "text/plain": [
              "<Figure size 432x288 with 1 Axes>"
            ]
          },
          "metadata": {
            "tags": [],
            "needs_background": "light"
          }
        }
      ]
    },
    {
      "cell_type": "markdown",
      "metadata": {
        "id": "fJoRx9PLnmdP"
      },
      "source": [
        "### Вывод"
      ]
    },
    {
      "cell_type": "markdown",
      "metadata": {
        "id": "KelEwx4cnmdQ"
      },
      "source": [
        "Графики со стандратным отклонением и дисперсией аналогичны друг другу.  \n",
        "В целом видно, что в тарифе Smart дисперсия довольно постоянна, а вот в тарифе Ultra она скачет от месяца к месяцу и увеличивается. То есть пользователь от месяца к месяцу ведут себя слегка по разному. Их разброс отличается. Что касается пользователей Smart, то в целом от месяца к месяцу их распределение предсказуемо"
      ]
    },
    {
      "cell_type": "code",
      "metadata": {
        "id": "M1JU3MGPnmdQ",
        "colab": {
          "base_uri": "https://localhost:8080/",
          "height": 840
        },
        "outputId": "44842a86-f582-4685-86af-23e122383225"
      },
      "source": [
        "#опредялем среднее значение тем же методом\n",
        "df_total_mean = user_data.groupby(by=['tariff','month'])['sum_duration', 'count_messages', 'gb_used'].mean().reset_index()\n",
        "columns_name = {'sum_duration', 'count_messages', 'gb_used'}\n",
        "for column in columns_name:\n",
        "    ax = df_total_mean.query('tariff == \"ultra\"').plot(x='month', y = column, color='royalblue', label='Ultra', legend=True, grid = True)\n",
        "    df_total_mean.query('tariff == \"smart\"').plot(x='month', y = column, color='purple', label='Smart', ax=ax, legend=True, grid = True)\n",
        "    plt.xlabel(column)\n",
        "    plt.xticks(np.arange (0, 12, step=1.0))\n",
        "    plt.show()"
      ],
      "execution_count": 58,
      "outputs": [
        {
          "output_type": "stream",
          "text": [
            "/usr/local/lib/python3.7/dist-packages/ipykernel_launcher.py:2: FutureWarning: Indexing with multiple keys (implicitly converted to a tuple of keys) will be deprecated, use a list instead.\n",
            "  \n"
          ],
          "name": "stderr"
        },
        {
          "output_type": "display_data",
          "data": {
            "image/png": "[encoded data removed]",
            "text/plain": [
              "<Figure size 432x288 with 1 Axes>"
            ]
          },
          "metadata": {
            "tags": [],
            "needs_background": "light"
          }
        },
        {
          "output_type": "display_data",
          "data": {
            "image/png": "[encoded data removed]",
            "text/plain": [
              "<Figure size 432x288 with 1 Axes>"
            ]
          },
          "metadata": {
            "tags": [],
            "needs_background": "light"
          }
        },
        {
          "output_type": "display_data",
          "data": {
            "image/png": "[encoded data removed]",
            "text/plain": [
              "<Figure size 432x288 with 1 Axes>"
            ]
          },
          "metadata": {
            "tags": [],
            "needs_background": "light"
          }
        }
      ]
    },
    {
      "cell_type": "markdown",
      "metadata": {
        "id": "JRwQ2kycnmdR"
      },
      "source": [
        "### Вывод"
      ]
    },
    {
      "cell_type": "markdown",
      "metadata": {
        "id": "sCH1ITfXnmdR"
      },
      "source": [
        "В течении года прослеживается тренд на увеличение кол-ва абонентов и как следствие увеличения потребляемых услуг. При этом резко спрос увеличивается в декабре."
      ]
    },
    {
      "cell_type": "markdown",
      "metadata": {
        "id": "AF9W2bhUnmdS"
      },
      "source": [
        "##### Шаг 4. Проверяем Гипотезу - Средняя выручка пользователей тарифов «Ультра» и «Смарт» различается <a id=\"5\"></a>"
      ]
    },
    {
      "cell_type": "markdown",
      "metadata": {
        "id": "bymKINbOnmdS"
      },
      "source": [
        "Нулевая гипотеза - Средняя выручка пользователей тарифов «Ультра» и «Смарт» НЕ различается.  \n",
        "Альтернативная гипотеза - Средняя выручка пользователей тарифов «Ультра» и «Смарт» различается.   \n"
      ]
    },
    {
      "cell_type": "code",
      "metadata": {
        "id": "CVnBioV-nmdT",
        "colab": {
          "base_uri": "https://localhost:8080/"
        },
        "outputId": "abe51eef-35ec-47f6-a521-56f18465afa4"
      },
      "source": [
        "# Проверить гипотезу о равенстве среднего двух генеральных совокупностей по взятым из них выборкам\n",
        "# для нулевой гипотезы среднее равно {не отличается}, а для альтернативной наоборот не равно {отличается}\n",
        "alpha = 0.05  # критический уровень статистической значимости\n",
        "\n",
        "results = st.ttest_ind(user_data.query('tariff == \"smart\"')['income_per_user'],user_data.query('tariff == \"ultra\"')['income_per_user'], equal_var = False)\n",
        "# выбран параметр equal_var = False, так как дисперсии выборок не равны, что видно в графиках выше\n",
        "print('p-значение: ', results.pvalue)\n",
        "\n",
        "if results.pvalue < alpha:\n",
        "    print(\"Отвергаем нулевую гипотезу\")\n",
        "else:\n",
        "    print(\"Не получилось отвергнуть нулевую гипотезу\") "
      ],
      "execution_count": 59,
      "outputs": [
        {
          "output_type": "stream",
          "text": [
            "p-значение:  0.0\n",
            "Отвергаем нулевую гипотезу\n"
          ],
          "name": "stdout"
        }
      ]
    },
    {
      "cell_type": "markdown",
      "metadata": {
        "id": "lS-xO1RlnmdT"
      },
      "source": [
        "##### Вывод  \n",
        "Выручка тарифов значительно отличается."
      ]
    },
    {
      "cell_type": "markdown",
      "metadata": {
        "id": "cld8vVCTnmdU"
      },
      "source": [
        "###### Проверяем Гипотезу - Средняя выручка пользователей из Москвы отличается от выручки пользователей из других регионов"
      ]
    },
    {
      "cell_type": "markdown",
      "metadata": {
        "id": "jHb_747DnmdU"
      },
      "source": [
        "Нулевая гипотеза - Средняя выручка пользователей из Москвы НЕ отличается от выручки пользователей из других регионов  \n",
        "Альтернативаная гипотеза - Средняя выручка пользователей из Москвы отличается от выручки пользователей из других регионов"
      ]
    },
    {
      "cell_type": "code",
      "metadata": {
        "id": "bKsCOO3AnmdU",
        "colab": {
          "base_uri": "https://localhost:8080/"
        },
        "outputId": "27b3dc47-286b-42c7-e3de-ece43e8260e1"
      },
      "source": [
        "# Проверить вторую гипотезу о равенстве среднего двух генеральных совокупностей по взятым из них выборкам\n",
        "results_city = st.ttest_ind(user_data.query('city == \"Москва\"')['income_per_user'],user_data.query('city != \"Москва\"')['income_per_user'], equal_var = False)\n",
        "# выбран параметр equal_var = False, так как дисперсии выборок не равны, что видно в графиках выше\n",
        "print('p-значение: ', results_city.pvalue)\n",
        "\n",
        "if results_city.pvalue < alpha:\n",
        "    print(\"Отвергаем нулевую гипотезу\")\n",
        "else:\n",
        "    print(\"Не получилось отвергнуть нулевую гипотезу\") "
      ],
      "execution_count": 60,
      "outputs": [
        {
          "output_type": "stream",
          "text": [
            "p-значение:  0.2869683109498313\n",
            "Не получилось отвергнуть нулевую гипотезу\n"
          ],
          "name": "stdout"
        }
      ]
    },
    {
      "cell_type": "markdown",
      "metadata": {
        "id": "imHLgbC1nmdV"
      },
      "source": [
        "##### Вывод  \n",
        "\n",
        "Выручка пользователей из других регионов в сравнении с Москвой отличается не значительно. "
      ]
    },
    {
      "cell_type": "code",
      "metadata": {
        "id": "IVXsBcYxnmdW",
        "colab": {
          "base_uri": "https://localhost:8080/",
          "height": 609
        },
        "outputId": "0e4984a5-21cf-4a70-ea23-6286cefa8b9a"
      },
      "source": [
        "user_data"
      ],
      "execution_count": 61,
      "outputs": [
        {
          "output_type": "execute_result",
          "data": {
            "text/html": [
              "<div>\n",
              "<style scoped>\n",
              "    .dataframe tbody tr th:only-of-type {\n",
              "        vertical-align: middle;\n",
              "    }\n",
              "\n",
              "    .dataframe tbody tr th {\n",
              "        vertical-align: top;\n",
              "    }\n",
              "\n",
              "    .dataframe thead th {\n",
              "        text-align: right;\n",
              "    }\n",
              "</style>\n",
              "<table border=\"1\" class=\"dataframe\">\n",
              "  <thead>\n",
              "    <tr style=\"text-align: right;\">\n",
              "      <th></th>\n",
              "      <th>month</th>\n",
              "      <th>user_id</th>\n",
              "      <th>sum_duration</th>\n",
              "      <th>count_duration</th>\n",
              "      <th>count_messages</th>\n",
              "      <th>gb_used</th>\n",
              "      <th>age</th>\n",
              "      <th>churn_date</th>\n",
              "      <th>city</th>\n",
              "      <th>first_name</th>\n",
              "      <th>last_name</th>\n",
              "      <th>reg_date</th>\n",
              "      <th>tariff</th>\n",
              "      <th>messages_included</th>\n",
              "      <th>gb_per_month_included</th>\n",
              "      <th>minutes_included</th>\n",
              "      <th>rub_monthly_fee</th>\n",
              "      <th>rub_per_gb</th>\n",
              "      <th>rub_per_message</th>\n",
              "      <th>rub_per_minute</th>\n",
              "      <th>over_limit</th>\n",
              "      <th>income_per_user</th>\n",
              "      <th>month_churn</th>\n",
              "      <th>delta</th>\n",
              "    </tr>\n",
              "  </thead>\n",
              "  <tbody>\n",
              "    <tr>\n",
              "      <th>0</th>\n",
              "      <td>1</td>\n",
              "      <td>1005</td>\n",
              "      <td>84.0</td>\n",
              "      <td>15.0</td>\n",
              "      <td>7.0</td>\n",
              "      <td>2</td>\n",
              "      <td>67</td>\n",
              "      <td>NaT</td>\n",
              "      <td>Набережные Челны</td>\n",
              "      <td>Афанасий</td>\n",
              "      <td>Горлов</td>\n",
              "      <td>2018-01-25</td>\n",
              "      <td>smart</td>\n",
              "      <td>50</td>\n",
              "      <td>15.0</td>\n",
              "      <td>500</td>\n",
              "      <td>550</td>\n",
              "      <td>200</td>\n",
              "      <td>3</td>\n",
              "      <td>3</td>\n",
              "      <td>0.0</td>\n",
              "      <td>550.0</td>\n",
              "      <td>NaN</td>\n",
              "      <td>NaN</td>\n",
              "    </tr>\n",
              "    <tr>\n",
              "      <th>1</th>\n",
              "      <td>1</td>\n",
              "      <td>1032</td>\n",
              "      <td>338.0</td>\n",
              "      <td>61.0</td>\n",
              "      <td>38.0</td>\n",
              "      <td>23</td>\n",
              "      <td>31</td>\n",
              "      <td>NaT</td>\n",
              "      <td>Ульяновск</td>\n",
              "      <td>Инна</td>\n",
              "      <td>Игнатьева</td>\n",
              "      <td>2018-01-04</td>\n",
              "      <td>smart</td>\n",
              "      <td>50</td>\n",
              "      <td>15.0</td>\n",
              "      <td>500</td>\n",
              "      <td>550</td>\n",
              "      <td>200</td>\n",
              "      <td>3</td>\n",
              "      <td>3</td>\n",
              "      <td>1600.0</td>\n",
              "      <td>2150.0</td>\n",
              "      <td>NaN</td>\n",
              "      <td>NaN</td>\n",
              "    </tr>\n",
              "    <tr>\n",
              "      <th>2</th>\n",
              "      <td>1</td>\n",
              "      <td>1045</td>\n",
              "      <td>8.0</td>\n",
              "      <td>1.0</td>\n",
              "      <td>5.0</td>\n",
              "      <td>2</td>\n",
              "      <td>48</td>\n",
              "      <td>NaT</td>\n",
              "      <td>Улан-Удэ</td>\n",
              "      <td>Джемма</td>\n",
              "      <td>Карасева</td>\n",
              "      <td>2018-01-30</td>\n",
              "      <td>smart</td>\n",
              "      <td>50</td>\n",
              "      <td>15.0</td>\n",
              "      <td>500</td>\n",
              "      <td>550</td>\n",
              "      <td>200</td>\n",
              "      <td>3</td>\n",
              "      <td>3</td>\n",
              "      <td>0.0</td>\n",
              "      <td>550.0</td>\n",
              "      <td>NaN</td>\n",
              "      <td>NaN</td>\n",
              "    </tr>\n",
              "    <tr>\n",
              "      <th>3</th>\n",
              "      <td>1</td>\n",
              "      <td>1055</td>\n",
              "      <td>505.0</td>\n",
              "      <td>64.0</td>\n",
              "      <td>30.0</td>\n",
              "      <td>16</td>\n",
              "      <td>39</td>\n",
              "      <td>NaT</td>\n",
              "      <td>Казань</td>\n",
              "      <td>Луиза</td>\n",
              "      <td>Березина</td>\n",
              "      <td>2018-01-02</td>\n",
              "      <td>smart</td>\n",
              "      <td>50</td>\n",
              "      <td>15.0</td>\n",
              "      <td>500</td>\n",
              "      <td>550</td>\n",
              "      <td>200</td>\n",
              "      <td>3</td>\n",
              "      <td>3</td>\n",
              "      <td>215.0</td>\n",
              "      <td>765.0</td>\n",
              "      <td>NaN</td>\n",
              "      <td>NaN</td>\n",
              "    </tr>\n",
              "    <tr>\n",
              "      <th>4</th>\n",
              "      <td>1</td>\n",
              "      <td>1071</td>\n",
              "      <td>176.0</td>\n",
              "      <td>24.0</td>\n",
              "      <td>16.0</td>\n",
              "      <td>15</td>\n",
              "      <td>20</td>\n",
              "      <td>2018-08-31</td>\n",
              "      <td>Омск</td>\n",
              "      <td>Гектор</td>\n",
              "      <td>Чумаков</td>\n",
              "      <td>2018-01-09</td>\n",
              "      <td>smart</td>\n",
              "      <td>50</td>\n",
              "      <td>15.0</td>\n",
              "      <td>500</td>\n",
              "      <td>550</td>\n",
              "      <td>200</td>\n",
              "      <td>3</td>\n",
              "      <td>3</td>\n",
              "      <td>0.0</td>\n",
              "      <td>550.0</td>\n",
              "      <td>1.0</td>\n",
              "      <td>0.0</td>\n",
              "    </tr>\n",
              "    <tr>\n",
              "      <th>...</th>\n",
              "      <td>...</td>\n",
              "      <td>...</td>\n",
              "      <td>...</td>\n",
              "      <td>...</td>\n",
              "      <td>...</td>\n",
              "      <td>...</td>\n",
              "      <td>...</td>\n",
              "      <td>...</td>\n",
              "      <td>...</td>\n",
              "      <td>...</td>\n",
              "      <td>...</td>\n",
              "      <td>...</td>\n",
              "      <td>...</td>\n",
              "      <td>...</td>\n",
              "      <td>...</td>\n",
              "      <td>...</td>\n",
              "      <td>...</td>\n",
              "      <td>...</td>\n",
              "      <td>...</td>\n",
              "      <td>...</td>\n",
              "      <td>...</td>\n",
              "      <td>...</td>\n",
              "      <td>...</td>\n",
              "      <td>...</td>\n",
              "    </tr>\n",
              "    <tr>\n",
              "      <th>3209</th>\n",
              "      <td>12</td>\n",
              "      <td>1106</td>\n",
              "      <td>0.0</td>\n",
              "      <td>0.0</td>\n",
              "      <td>24.0</td>\n",
              "      <td>18</td>\n",
              "      <td>67</td>\n",
              "      <td>NaT</td>\n",
              "      <td>Калуга</td>\n",
              "      <td>Исаак</td>\n",
              "      <td>Костин</td>\n",
              "      <td>2018-04-26</td>\n",
              "      <td>ultra</td>\n",
              "      <td>1000</td>\n",
              "      <td>30.0</td>\n",
              "      <td>3000</td>\n",
              "      <td>1950</td>\n",
              "      <td>150</td>\n",
              "      <td>1</td>\n",
              "      <td>1</td>\n",
              "      <td>0.0</td>\n",
              "      <td>1950.0</td>\n",
              "      <td>NaN</td>\n",
              "      <td>NaN</td>\n",
              "    </tr>\n",
              "    <tr>\n",
              "      <th>3210</th>\n",
              "      <td>12</td>\n",
              "      <td>1231</td>\n",
              "      <td>0.0</td>\n",
              "      <td>0.0</td>\n",
              "      <td>191.0</td>\n",
              "      <td>31</td>\n",
              "      <td>63</td>\n",
              "      <td>NaT</td>\n",
              "      <td>Чебоксары</td>\n",
              "      <td>Касьян</td>\n",
              "      <td>Авдюков</td>\n",
              "      <td>2018-05-23</td>\n",
              "      <td>ultra</td>\n",
              "      <td>1000</td>\n",
              "      <td>30.0</td>\n",
              "      <td>3000</td>\n",
              "      <td>1950</td>\n",
              "      <td>150</td>\n",
              "      <td>1</td>\n",
              "      <td>1</td>\n",
              "      <td>150.0</td>\n",
              "      <td>2100.0</td>\n",
              "      <td>NaN</td>\n",
              "      <td>NaN</td>\n",
              "    </tr>\n",
              "    <tr>\n",
              "      <th>3211</th>\n",
              "      <td>12</td>\n",
              "      <td>1328</td>\n",
              "      <td>0.0</td>\n",
              "      <td>0.0</td>\n",
              "      <td>7.0</td>\n",
              "      <td>38</td>\n",
              "      <td>44</td>\n",
              "      <td>NaT</td>\n",
              "      <td>Мурманск</td>\n",
              "      <td>Рауль</td>\n",
              "      <td>Аркадьев</td>\n",
              "      <td>2018-10-16</td>\n",
              "      <td>ultra</td>\n",
              "      <td>1000</td>\n",
              "      <td>30.0</td>\n",
              "      <td>3000</td>\n",
              "      <td>1950</td>\n",
              "      <td>150</td>\n",
              "      <td>1</td>\n",
              "      <td>1</td>\n",
              "      <td>1200.0</td>\n",
              "      <td>3150.0</td>\n",
              "      <td>NaN</td>\n",
              "      <td>NaN</td>\n",
              "    </tr>\n",
              "    <tr>\n",
              "      <th>3212</th>\n",
              "      <td>12</td>\n",
              "      <td>1473</td>\n",
              "      <td>0.0</td>\n",
              "      <td>0.0</td>\n",
              "      <td>20.0</td>\n",
              "      <td>17</td>\n",
              "      <td>18</td>\n",
              "      <td>NaT</td>\n",
              "      <td>Красноярск</td>\n",
              "      <td>Николай</td>\n",
              "      <td>Лебедев</td>\n",
              "      <td>2018-08-05</td>\n",
              "      <td>ultra</td>\n",
              "      <td>1000</td>\n",
              "      <td>30.0</td>\n",
              "      <td>3000</td>\n",
              "      <td>1950</td>\n",
              "      <td>150</td>\n",
              "      <td>1</td>\n",
              "      <td>1</td>\n",
              "      <td>0.0</td>\n",
              "      <td>1950.0</td>\n",
              "      <td>NaN</td>\n",
              "      <td>NaN</td>\n",
              "    </tr>\n",
              "    <tr>\n",
              "      <th>3213</th>\n",
              "      <td>4</td>\n",
              "      <td>1476</td>\n",
              "      <td>0.0</td>\n",
              "      <td>0.0</td>\n",
              "      <td>0.0</td>\n",
              "      <td>0</td>\n",
              "      <td>50</td>\n",
              "      <td>NaT</td>\n",
              "      <td>Москва</td>\n",
              "      <td>Валентина</td>\n",
              "      <td>Семенова</td>\n",
              "      <td>2018-04-30</td>\n",
              "      <td>ultra</td>\n",
              "      <td>1000</td>\n",
              "      <td>30.0</td>\n",
              "      <td>3000</td>\n",
              "      <td>1950</td>\n",
              "      <td>150</td>\n",
              "      <td>1</td>\n",
              "      <td>1</td>\n",
              "      <td>0.0</td>\n",
              "      <td>1950.0</td>\n",
              "      <td>NaN</td>\n",
              "      <td>NaN</td>\n",
              "    </tr>\n",
              "  </tbody>\n",
              "</table>\n",
              "<p>3214 rows × 24 columns</p>\n",
              "</div>"
            ],
            "text/plain": [
              "      month  user_id  sum_duration  ...  income_per_user  month_churn  delta\n",
              "0         1     1005          84.0  ...            550.0          NaN    NaN\n",
              "1         1     1032         338.0  ...           2150.0          NaN    NaN\n",
              "2         1     1045           8.0  ...            550.0          NaN    NaN\n",
              "3         1     1055         505.0  ...            765.0          NaN    NaN\n",
              "4         1     1071         176.0  ...            550.0          1.0    0.0\n",
              "...     ...      ...           ...  ...              ...          ...    ...\n",
              "3209     12     1106           0.0  ...           1950.0          NaN    NaN\n",
              "3210     12     1231           0.0  ...           2100.0          NaN    NaN\n",
              "3211     12     1328           0.0  ...           3150.0          NaN    NaN\n",
              "3212     12     1473           0.0  ...           1950.0          NaN    NaN\n",
              "3213      4     1476           0.0  ...           1950.0          NaN    NaN\n",
              "\n",
              "[3214 rows x 24 columns]"
            ]
          },
          "metadata": {
            "tags": []
          },
          "execution_count": 61
        }
      ]
    },
    {
      "cell_type": "code",
      "metadata": {
        "id": "xoqfAK34nmdX",
        "colab": {
          "base_uri": "https://localhost:8080/"
        },
        "outputId": "1215a9de-32b4-480d-dd53-e7607c459725"
      },
      "source": [
        "smart = user_data.query('tariff == \"smart\"')\n",
        "smart['income_per_user'].sum()"
      ],
      "execution_count": 62,
      "outputs": [
        {
          "output_type": "execute_result",
          "data": {
            "text/plain": [
              "2482035.0"
            ]
          },
          "metadata": {
            "tags": []
          },
          "execution_count": 62
        }
      ]
    },
    {
      "cell_type": "code",
      "metadata": {
        "id": "lyPM9-kHnmdX",
        "colab": {
          "base_uri": "https://localhost:8080/"
        },
        "outputId": "f47f211c-a8bd-477a-fb70-7961a2570737"
      },
      "source": [
        "ultra = user_data.query('tariff == \"ultra\"')\n",
        "ultra['income_per_user'].sum()"
      ],
      "execution_count": 63,
      "outputs": [
        {
          "output_type": "execute_result",
          "data": {
            "text/plain": [
              "2019000.0"
            ]
          },
          "metadata": {
            "tags": []
          },
          "execution_count": 63
        }
      ]
    },
    {
      "cell_type": "markdown",
      "metadata": {
        "id": "NTdjxU8JnmdX"
      },
      "source": [
        "# Общий вывод  <a id=\"6\"></a>\n",
        "В моменте по окончанию 2018 года для компании Мегалайн, тариф Smart принес компании большую выручку на примерно 460 тысяч рублей в сравнении с тарифом Ultra. А значит более выгодный с точки зрения товарооборота. Кроме того, ользователи тарифа Smart более стабильны в своих затратах из месяца в месяц.\n",
        "\n",
        "Однако, стоит также учесть и ряд других фактов:  \n",
        "1. Кол-во пользователей тарифа Smart в 3 раза больше, а значит имеется и больше затрат на их обслуживание. Здесь требуется дополнительное исследование.\n",
        "2. 46.4% пользователи тарифа Smart доплачивают сверх своего базового тарифа. Средняя сумма доплаты составляет 1213р\n",
        "3. Нет информации по причинам ухода с тарифом, коих на тарифе Smart 11%, а на тарифе Ultra 18%. Здесь требуется дополнительное исследование. В кол-ве пользователей, с тарифа Smart уходит больше людей в 1,5 раза относительно Ultra.\n",
        "4. Нет информации о стоимости привлечения одного пользователя на разные тарифы. Здесь также требуется дополнительное исследование.\n",
        "\n",
        "Рекомендация:  \n",
        "1) Провести исследования затрат по каждому тарифу для оценки их эффективности.  \n",
        "2) Создать третий вариант тарифа - средний по значениям между Smart и Ultra с целью сегментирования пользователей тарифа Smart. Данное предложение возможно позволит сократить кол-во ушедших пользователей с текущих тарифом, а значит и снизить издержки на рекламу и заведение нового пользователя. "
      ]
    }
  ]
}