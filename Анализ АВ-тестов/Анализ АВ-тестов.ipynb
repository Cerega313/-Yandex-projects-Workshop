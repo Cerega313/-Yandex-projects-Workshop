{
  "nbformat": 4,
  "nbformat_minor": 0,
  "metadata": {
    "kernelspec": {
      "display_name": "Python 3",
      "language": "python",
      "name": "python3"
    },
    "language_info": {
      "codemirror_mode": {
        "name": "ipython",
        "version": 3
      },
      "file_extension": ".py",
      "mimetype": "text/x-python",
      "name": "python",
      "nbconvert_exporter": "python",
      "pygments_lexer": "ipython3",
      "version": "3.7.8"
    },
    "toc": {
      "base_numbering": 1,
      "nav_menu": {},
      "number_sections": false,
      "sideBar": true,
      "skip_h1_title": true,
      "title_cell": "Table of Contents",
      "title_sidebar": "Contents",
      "toc_cell": false,
      "toc_position": {},
      "toc_section_display": true,
      "toc_window_display": false
    },
    "colab": {
      "name": "Сборный проект-2.ipynb",
      "provenance": [],
      "toc_visible": true
    }
  },
  "cells": [
    {
      "cell_type": "markdown",
      "metadata": {
        "id": "Xf9He-La5Wmc"
      },
      "source": [
        "###### Ключевые задачи исследования:  \n",
        "1. Изучить воронку продаж. Узнать, как пользователи доходят до покупки.  \n",
        "2. Исследовать результаты A/A/B-эксперимента. Выяснить какой шрифт лучше"
      ]
    },
    {
      "cell_type": "markdown",
      "metadata": {
        "id": "BLcvhhkd5Wmc"
      },
      "source": [
        "##### План:  \n",
        "   [Шаг 1. Откроем файл с данными](#a1);  \n",
        "   [Шаг 2. Изучим и проверим данные](#a2);  \n",
        "   [Шаг 3. Изучим воронку событий](#a3);  \n",
        "   [Шаг 4. Изучим результаты эксперимента](#a4)."
      ]
    },
    {
      "cell_type": "markdown",
      "metadata": {
        "id": "8ttyKdLS5Wme"
      },
      "source": [
        "### <a id='a1'> Шаг 1. Откроем файл с данными,изучим общую информацию, проверим данные </a>"
      ]
    },
    {
      "cell_type": "code",
      "metadata": {
        "id": "Qe_8rOES5Wmf"
      },
      "source": [
        "#запустим все необходимые для работы билиотеки\n",
        "import pandas as pd\n",
        "import matplotlib.pyplot as plt\n",
        "import datetime\n",
        "import numpy as np\n",
        "import scipy.stats as stats\n",
        "from math import factorial\n",
        "import seaborn as sns\n",
        "import plotly.express as px\n",
        "from plotly import graph_objects as go\n",
        "import math as mth\n",
        "from scipy import stats as st\n",
        "import warnings\n",
        "warnings.filterwarnings('ignore')"
      ],
      "execution_count": 5,
      "outputs": []
    },
    {
      "cell_type": "code",
      "metadata": {
        "id": "VR2On58g5Wmg"
      },
      "source": [
        "#создадим переменную с датафреймом и разделим строки на столбцы\n",
        "df = pd.read_csv('/content/logs_exp.csv',sep = '\\t')"
      ],
      "execution_count": 6,
      "outputs": []
    },
    {
      "cell_type": "code",
      "metadata": {
        "colab": {
          "base_uri": "https://localhost:8080/",
          "height": 419
        },
        "id": "tlermkd45Wmh",
        "outputId": "e1c9a64f-6b7b-43e7-c325-143283235091"
      },
      "source": [
        "df"
      ],
      "execution_count": 8,
      "outputs": [
        {
          "output_type": "execute_result",
          "data": {
            "text/html": [
              "<div>\n",
              "<style scoped>\n",
              "    .dataframe tbody tr th:only-of-type {\n",
              "        vertical-align: middle;\n",
              "    }\n",
              "\n",
              "    .dataframe tbody tr th {\n",
              "        vertical-align: top;\n",
              "    }\n",
              "\n",
              "    .dataframe thead th {\n",
              "        text-align: right;\n",
              "    }\n",
              "</style>\n",
              "<table border=\"1\" class=\"dataframe\">\n",
              "  <thead>\n",
              "    <tr style=\"text-align: right;\">\n",
              "      <th></th>\n",
              "      <th>EventName</th>\n",
              "      <th>DeviceIDHash</th>\n",
              "      <th>EventTimestamp</th>\n",
              "      <th>ExpId</th>\n",
              "    </tr>\n",
              "  </thead>\n",
              "  <tbody>\n",
              "    <tr>\n",
              "      <th>0</th>\n",
              "      <td>MainScreenAppear</td>\n",
              "      <td>4575588528974610257</td>\n",
              "      <td>1564029816</td>\n",
              "      <td>246</td>\n",
              "    </tr>\n",
              "    <tr>\n",
              "      <th>1</th>\n",
              "      <td>MainScreenAppear</td>\n",
              "      <td>7416695313311560658</td>\n",
              "      <td>1564053102</td>\n",
              "      <td>246</td>\n",
              "    </tr>\n",
              "    <tr>\n",
              "      <th>2</th>\n",
              "      <td>PaymentScreenSuccessful</td>\n",
              "      <td>3518123091307005509</td>\n",
              "      <td>1564054127</td>\n",
              "      <td>248</td>\n",
              "    </tr>\n",
              "    <tr>\n",
              "      <th>3</th>\n",
              "      <td>CartScreenAppear</td>\n",
              "      <td>3518123091307005509</td>\n",
              "      <td>1564054127</td>\n",
              "      <td>248</td>\n",
              "    </tr>\n",
              "    <tr>\n",
              "      <th>4</th>\n",
              "      <td>PaymentScreenSuccessful</td>\n",
              "      <td>6217807653094995999</td>\n",
              "      <td>1564055322</td>\n",
              "      <td>248</td>\n",
              "    </tr>\n",
              "    <tr>\n",
              "      <th>...</th>\n",
              "      <td>...</td>\n",
              "      <td>...</td>\n",
              "      <td>...</td>\n",
              "      <td>...</td>\n",
              "    </tr>\n",
              "    <tr>\n",
              "      <th>244121</th>\n",
              "      <td>MainScreenAppear</td>\n",
              "      <td>4599628364049201812</td>\n",
              "      <td>1565212345</td>\n",
              "      <td>247</td>\n",
              "    </tr>\n",
              "    <tr>\n",
              "      <th>244122</th>\n",
              "      <td>MainScreenAppear</td>\n",
              "      <td>5849806612437486590</td>\n",
              "      <td>1565212439</td>\n",
              "      <td>246</td>\n",
              "    </tr>\n",
              "    <tr>\n",
              "      <th>244123</th>\n",
              "      <td>MainScreenAppear</td>\n",
              "      <td>5746969938801999050</td>\n",
              "      <td>1565212483</td>\n",
              "      <td>246</td>\n",
              "    </tr>\n",
              "    <tr>\n",
              "      <th>244124</th>\n",
              "      <td>MainScreenAppear</td>\n",
              "      <td>5746969938801999050</td>\n",
              "      <td>1565212498</td>\n",
              "      <td>246</td>\n",
              "    </tr>\n",
              "    <tr>\n",
              "      <th>244125</th>\n",
              "      <td>OffersScreenAppear</td>\n",
              "      <td>5746969938801999050</td>\n",
              "      <td>1565212517</td>\n",
              "      <td>246</td>\n",
              "    </tr>\n",
              "  </tbody>\n",
              "</table>\n",
              "<p>244126 rows × 4 columns</p>\n",
              "</div>"
            ],
            "text/plain": [
              "                      EventName         DeviceIDHash  EventTimestamp  ExpId\n",
              "0              MainScreenAppear  4575588528974610257      1564029816    246\n",
              "1              MainScreenAppear  7416695313311560658      1564053102    246\n",
              "2       PaymentScreenSuccessful  3518123091307005509      1564054127    248\n",
              "3              CartScreenAppear  3518123091307005509      1564054127    248\n",
              "4       PaymentScreenSuccessful  6217807653094995999      1564055322    248\n",
              "...                         ...                  ...             ...    ...\n",
              "244121         MainScreenAppear  4599628364049201812      1565212345    247\n",
              "244122         MainScreenAppear  5849806612437486590      1565212439    246\n",
              "244123         MainScreenAppear  5746969938801999050      1565212483    246\n",
              "244124         MainScreenAppear  5746969938801999050      1565212498    246\n",
              "244125       OffersScreenAppear  5746969938801999050      1565212517    246\n",
              "\n",
              "[244126 rows x 4 columns]"
            ]
          },
          "metadata": {
            "tags": []
          },
          "execution_count": 8
        }
      ]
    },
    {
      "cell_type": "code",
      "metadata": {
        "colab": {
          "base_uri": "https://localhost:8080/"
        },
        "id": "NHfRBbsF5Wmi",
        "outputId": "e6cc3a4a-95c9-405b-84d1-96edc8a868a5"
      },
      "source": [
        "#изучим типы данных \n",
        "df.info()"
      ],
      "execution_count": 9,
      "outputs": [
        {
          "output_type": "stream",
          "text": [
            "<class 'pandas.core.frame.DataFrame'>\n",
            "RangeIndex: 244126 entries, 0 to 244125\n",
            "Data columns (total 4 columns):\n",
            " #   Column          Non-Null Count   Dtype \n",
            "---  ------          --------------   ----- \n",
            " 0   EventName       244126 non-null  object\n",
            " 1   DeviceIDHash    244126 non-null  int64 \n",
            " 2   EventTimestamp  244126 non-null  int64 \n",
            " 3   ExpId           244126 non-null  int64 \n",
            "dtypes: int64(3), object(1)\n",
            "memory usage: 7.5+ MB\n"
          ],
          "name": "stdout"
        }
      ]
    },
    {
      "cell_type": "code",
      "metadata": {
        "id": "qBz2qCUN5Wmj"
      },
      "source": [
        "#поменяем формат с датой с точностью до секунд\n",
        "df['EventTimestamp'] = pd.to_datetime(df['EventTimestamp'],unit='s')"
      ],
      "execution_count": 10,
      "outputs": []
    },
    {
      "cell_type": "code",
      "metadata": {
        "colab": {
          "base_uri": "https://localhost:8080/"
        },
        "id": "K9c-ogbI5Wmj",
        "outputId": "5f421090-5d02-4a5b-9848-17b6c962c97b"
      },
      "source": [
        "#проверим логи на наличие полных дублей\n",
        "df.duplicated().sum()"
      ],
      "execution_count": 11,
      "outputs": [
        {
          "output_type": "execute_result",
          "data": {
            "text/plain": [
              "413"
            ]
          },
          "metadata": {
            "tags": []
          },
          "execution_count": 11
        }
      ]
    },
    {
      "cell_type": "code",
      "metadata": {
        "id": "KQi-E7I_5Wmk"
      },
      "source": [
        "#удалим дубли\n",
        "df = df.drop_duplicates()"
      ],
      "execution_count": 12,
      "outputs": []
    },
    {
      "cell_type": "code",
      "metadata": {
        "colab": {
          "base_uri": "https://localhost:8080/"
        },
        "id": "8e3eTPJS5Wmk",
        "outputId": "e403b087-eed8-4ab2-b9fd-abc79e68af16"
      },
      "source": [
        "#рассмотрим кол-во событий в каждой кокретной группе\n",
        "df['ExpId'].value_counts()"
      ],
      "execution_count": 13,
      "outputs": [
        {
          "output_type": "execute_result",
          "data": {
            "text/plain": [
              "248    85582\n",
              "246    80181\n",
              "247    77950\n",
              "Name: ExpId, dtype: int64"
            ]
          },
          "metadata": {
            "tags": []
          },
          "execution_count": 13
        }
      ]
    },
    {
      "cell_type": "code",
      "metadata": {
        "id": "dQjSIVH-5Wmk"
      },
      "source": [
        "#переименуем столбцы\n",
        "df = df.rename({'EventName': 'event_name', 'DeviceIDHash': 'device_id','EventTimestamp':'event_time','ExpId':'exp_number'}, axis='columns')"
      ],
      "execution_count": 14,
      "outputs": []
    },
    {
      "cell_type": "code",
      "metadata": {
        "id": "XM3ghlmk5Wml"
      },
      "source": [
        "#выделим дату из столбца с временем и датой\n",
        "df['event_date'] = pd.to_datetime(df['event_time'],format ='%Y-%m-%d').dt.floor('D')"
      ],
      "execution_count": 15,
      "outputs": []
    },
    {
      "cell_type": "markdown",
      "metadata": {
        "id": "ofh_wvOn5Wmm"
      },
      "source": [
        "### <a id='a2'> Шаг 2. Изучим и проверим данные </a>"
      ]
    },
    {
      "cell_type": "code",
      "metadata": {
        "colab": {
          "base_uri": "https://localhost:8080/"
        },
        "id": "1dzewNxz5Wmm",
        "outputId": "13fd898d-f4af-44a1-f1b6-53b76c658d89"
      },
      "source": [
        "#посчитаем кол-во событий в логе\n",
        "df.count()"
      ],
      "execution_count": 16,
      "outputs": [
        {
          "output_type": "execute_result",
          "data": {
            "text/plain": [
              "event_name    243713\n",
              "device_id     243713\n",
              "event_time    243713\n",
              "exp_number    243713\n",
              "event_date    243713\n",
              "dtype: int64"
            ]
          },
          "metadata": {
            "tags": []
          },
          "execution_count": 16
        }
      ]
    },
    {
      "cell_type": "code",
      "metadata": {
        "colab": {
          "base_uri": "https://localhost:8080/",
          "height": 419
        },
        "id": "FAOZd4KU5Wmm",
        "outputId": "c60fc37a-fe66-4c81-b003-23eb2104a0fd"
      },
      "source": [
        "#посчитаем кол-во событий которые приходятся на одного пользователя\n",
        "df_id = df.groupby('device_id').agg({'event_time':'count'}).reset_index().sort_values(by = 'event_time',ascending=False)\n",
        "df_id"
      ],
      "execution_count": 17,
      "outputs": [
        {
          "output_type": "execute_result",
          "data": {
            "text/html": [
              "<div>\n",
              "<style scoped>\n",
              "    .dataframe tbody tr th:only-of-type {\n",
              "        vertical-align: middle;\n",
              "    }\n",
              "\n",
              "    .dataframe tbody tr th {\n",
              "        vertical-align: top;\n",
              "    }\n",
              "\n",
              "    .dataframe thead th {\n",
              "        text-align: right;\n",
              "    }\n",
              "</style>\n",
              "<table border=\"1\" class=\"dataframe\">\n",
              "  <thead>\n",
              "    <tr style=\"text-align: right;\">\n",
              "      <th></th>\n",
              "      <th>device_id</th>\n",
              "      <th>event_time</th>\n",
              "    </tr>\n",
              "  </thead>\n",
              "  <tbody>\n",
              "    <tr>\n",
              "      <th>5116</th>\n",
              "      <td>6304868067479728361</td>\n",
              "      <td>2307</td>\n",
              "    </tr>\n",
              "    <tr>\n",
              "      <th>147</th>\n",
              "      <td>197027893265565660</td>\n",
              "      <td>1998</td>\n",
              "    </tr>\n",
              "    <tr>\n",
              "      <th>3714</th>\n",
              "      <td>4623191541214045580</td>\n",
              "      <td>1768</td>\n",
              "    </tr>\n",
              "    <tr>\n",
              "      <th>5590</th>\n",
              "      <td>6932517045703054087</td>\n",
              "      <td>1439</td>\n",
              "    </tr>\n",
              "    <tr>\n",
              "      <th>1391</th>\n",
              "      <td>1754140665440434215</td>\n",
              "      <td>1221</td>\n",
              "    </tr>\n",
              "    <tr>\n",
              "      <th>...</th>\n",
              "      <td>...</td>\n",
              "      <td>...</td>\n",
              "    </tr>\n",
              "    <tr>\n",
              "      <th>6013</th>\n",
              "      <td>7399061063341528729</td>\n",
              "      <td>1</td>\n",
              "    </tr>\n",
              "    <tr>\n",
              "      <th>2356</th>\n",
              "      <td>2968164493349205501</td>\n",
              "      <td>1</td>\n",
              "    </tr>\n",
              "    <tr>\n",
              "      <th>6575</th>\n",
              "      <td>8071397669512236988</td>\n",
              "      <td>1</td>\n",
              "    </tr>\n",
              "    <tr>\n",
              "      <th>311</th>\n",
              "      <td>425817683219936619</td>\n",
              "      <td>1</td>\n",
              "    </tr>\n",
              "    <tr>\n",
              "      <th>0</th>\n",
              "      <td>6888746892508752</td>\n",
              "      <td>1</td>\n",
              "    </tr>\n",
              "  </tbody>\n",
              "</table>\n",
              "<p>7551 rows × 2 columns</p>\n",
              "</div>"
            ],
            "text/plain": [
              "                device_id  event_time\n",
              "5116  6304868067479728361        2307\n",
              "147    197027893265565660        1998\n",
              "3714  4623191541214045580        1768\n",
              "5590  6932517045703054087        1439\n",
              "1391  1754140665440434215        1221\n",
              "...                   ...         ...\n",
              "6013  7399061063341528729           1\n",
              "2356  2968164493349205501           1\n",
              "6575  8071397669512236988           1\n",
              "311    425817683219936619           1\n",
              "0        6888746892508752           1\n",
              "\n",
              "[7551 rows x 2 columns]"
            ]
          },
          "metadata": {
            "tags": []
          },
          "execution_count": 17
        }
      ]
    },
    {
      "cell_type": "code",
      "metadata": {
        "colab": {
          "base_uri": "https://localhost:8080/",
          "height": 297
        },
        "id": "nn2nlFfh5Wmn",
        "outputId": "7e2731e9-5ef5-4cd9-b2e0-dbdcae9014ec"
      },
      "source": [
        "#изучим кол-во событий на одного пользователя\n",
        "df_id.describe()"
      ],
      "execution_count": 18,
      "outputs": [
        {
          "output_type": "execute_result",
          "data": {
            "text/html": [
              "<div>\n",
              "<style scoped>\n",
              "    .dataframe tbody tr th:only-of-type {\n",
              "        vertical-align: middle;\n",
              "    }\n",
              "\n",
              "    .dataframe tbody tr th {\n",
              "        vertical-align: top;\n",
              "    }\n",
              "\n",
              "    .dataframe thead th {\n",
              "        text-align: right;\n",
              "    }\n",
              "</style>\n",
              "<table border=\"1\" class=\"dataframe\">\n",
              "  <thead>\n",
              "    <tr style=\"text-align: right;\">\n",
              "      <th></th>\n",
              "      <th>device_id</th>\n",
              "      <th>event_time</th>\n",
              "    </tr>\n",
              "  </thead>\n",
              "  <tbody>\n",
              "    <tr>\n",
              "      <th>count</th>\n",
              "      <td>7.551000e+03</td>\n",
              "      <td>7551.000000</td>\n",
              "    </tr>\n",
              "    <tr>\n",
              "      <th>mean</th>\n",
              "      <td>4.677319e+18</td>\n",
              "      <td>32.275593</td>\n",
              "    </tr>\n",
              "    <tr>\n",
              "      <th>std</th>\n",
              "      <td>2.655343e+18</td>\n",
              "      <td>65.154219</td>\n",
              "    </tr>\n",
              "    <tr>\n",
              "      <th>min</th>\n",
              "      <td>6.888747e+15</td>\n",
              "      <td>1.000000</td>\n",
              "    </tr>\n",
              "    <tr>\n",
              "      <th>25%</th>\n",
              "      <td>2.397700e+18</td>\n",
              "      <td>9.000000</td>\n",
              "    </tr>\n",
              "    <tr>\n",
              "      <th>50%</th>\n",
              "      <td>4.688022e+18</td>\n",
              "      <td>20.000000</td>\n",
              "    </tr>\n",
              "    <tr>\n",
              "      <th>75%</th>\n",
              "      <td>7.007353e+18</td>\n",
              "      <td>37.000000</td>\n",
              "    </tr>\n",
              "    <tr>\n",
              "      <th>max</th>\n",
              "      <td>9.222603e+18</td>\n",
              "      <td>2307.000000</td>\n",
              "    </tr>\n",
              "  </tbody>\n",
              "</table>\n",
              "</div>"
            ],
            "text/plain": [
              "          device_id   event_time\n",
              "count  7.551000e+03  7551.000000\n",
              "mean   4.677319e+18    32.275593\n",
              "std    2.655343e+18    65.154219\n",
              "min    6.888747e+15     1.000000\n",
              "25%    2.397700e+18     9.000000\n",
              "50%    4.688022e+18    20.000000\n",
              "75%    7.007353e+18    37.000000\n",
              "max    9.222603e+18  2307.000000"
            ]
          },
          "metadata": {
            "tags": []
          },
          "execution_count": 18
        }
      ]
    },
    {
      "cell_type": "code",
      "metadata": {
        "colab": {
          "base_uri": "https://localhost:8080/",
          "height": 458
        },
        "id": "DmXVMK4F5Wmo",
        "outputId": "11a26ea4-da41-42c7-b753-3d6599dfc73f"
      },
      "source": [
        "#рассмотрим кол-во событий на одного пользователя в графике\n",
        "plt.figure(figsize=(14, 7)) \n",
        "df_id['event_time'].hist(bins = 100)\n",
        "plt.title('Распределение логов во времени')\n",
        "plt.ylabel('Кол-во пользователей') \n",
        "plt.xlabel('Кол-во логов')\n",
        "plt.show()"
      ],
      "execution_count": 19,
      "outputs": [
        {
          "output_type": "display_data",
          "data": {
            "image/png": "[encoded data removed]",
            "text/plain": [
              "<Figure size 1008x504 with 1 Axes>"
            ]
          },
          "metadata": {
            "tags": [],
            "needs_background": "light"
          }
        }
      ]
    },
    {
      "cell_type": "code",
      "metadata": {
        "colab": {
          "base_uri": "https://localhost:8080/",
          "height": 459
        },
        "id": "BpMexdXG5Wmo",
        "outputId": "c359b516-cc2b-41b8-e020-4567387bad6a"
      },
      "source": [
        "#рассмотрим более детально промежуток гистограммы с самым большим кол-вом событий на пользователя\n",
        "plt.figure(figsize=(14, 7)) \n",
        "df_id.query('event_time < 50')['event_time'].hist()\n",
        "plt.title('Распределение логов во времени(Кол-во событий меньше 50)')\n",
        "plt.ylabel('Кол-во пользователей') \n",
        "plt.xlabel('Кол-во логов')\n",
        "plt.show()"
      ],
      "execution_count": 20,
      "outputs": [
        {
          "output_type": "display_data",
          "data": {
            "image/png": "[encoded data removed]",
            "text/plain": [
              "<Figure size 1008x504 with 1 Axes>"
            ]
          },
          "metadata": {
            "tags": [],
            "needs_background": "light"
          }
        }
      ]
    },
    {
      "cell_type": "code",
      "metadata": {
        "colab": {
          "base_uri": "https://localhost:8080/"
        },
        "id": "B8qaUKx05Wmq",
        "outputId": "b3143ab7-4709-4ef5-f705-9965c50671df"
      },
      "source": [
        "#найдем самую ранюю дату, за которую есть данные\n",
        "df['event_date'].min()"
      ],
      "execution_count": 21,
      "outputs": [
        {
          "output_type": "execute_result",
          "data": {
            "text/plain": [
              "Timestamp('2019-07-25 00:00:00')"
            ]
          },
          "metadata": {
            "tags": []
          },
          "execution_count": 21
        }
      ]
    },
    {
      "cell_type": "code",
      "metadata": {
        "colab": {
          "base_uri": "https://localhost:8080/"
        },
        "id": "qPq-2bfk5Wmq",
        "outputId": "31e6f725-3f0b-46bc-9813-00b38e842531"
      },
      "source": [
        "#найдем самую позднюю дату, за которую есть данные\n",
        "df['event_date'].max()"
      ],
      "execution_count": 22,
      "outputs": [
        {
          "output_type": "execute_result",
          "data": {
            "text/plain": [
              "Timestamp('2019-08-07 00:00:00')"
            ]
          },
          "metadata": {
            "tags": []
          },
          "execution_count": 22
        }
      ]
    },
    {
      "cell_type": "code",
      "metadata": {
        "colab": {
          "base_uri": "https://localhost:8080/",
          "height": 497
        },
        "id": "1umsE4Su5Wmq",
        "outputId": "69ee3025-41dc-42c3-f092-ff00bfac6c05"
      },
      "source": [
        "#построим гистограмму по дате и времени событий\n",
        "plt.figure(figsize=(14, 7)) \n",
        "df['event_time'].hist(bins = 20)\n",
        "plt.title('Распределение логов во времени')\n",
        "plt.xticks(rotation=45)\n",
        "plt.ylabel('Кол-во логов') \n",
        "plt.xlabel('Дата')\n",
        "plt.show()"
      ],
      "execution_count": 23,
      "outputs": [
        {
          "output_type": "display_data",
          "data": {
            "image/png": "[encoded data removed]",
            "text/plain": [
              "<Figure size 1008x504 with 1 Axes>"
            ]
          },
          "metadata": {
            "tags": [],
            "needs_background": "light"
          }
        }
      ]
    },
    {
      "cell_type": "code",
      "metadata": {
        "colab": {
          "base_uri": "https://localhost:8080/"
        },
        "id": "mbdbjEMW5Wms",
        "outputId": "f6cad53b-2074-473a-a6f3-6b22148bab67"
      },
      "source": [
        "#найдем кол-во событий в день, когда начало поступать чуть больше данных\n",
        "df.query('event_date == \"2019-07-31\"')['event_date'].count()"
      ],
      "execution_count": 24,
      "outputs": [
        {
          "output_type": "execute_result",
          "data": {
            "text/plain": [
              "2030"
            ]
          },
          "metadata": {
            "tags": []
          },
          "execution_count": 24
        }
      ]
    },
    {
      "cell_type": "code",
      "metadata": {
        "colab": {
          "base_uri": "https://localhost:8080/"
        },
        "id": "dQ4xo4ZR5Wmt",
        "outputId": "332640e0-1333-4b90-8bcb-6014a392b52f"
      },
      "source": [
        "#найдем кол-во зафиксированных событий в первые дни теста до 1 августа \n",
        "df.query('event_date <= \"2019-07-31\"')['event_date'].count()"
      ],
      "execution_count": 25,
      "outputs": [
        {
          "output_type": "execute_result",
          "data": {
            "text/plain": [
              "2826"
            ]
          },
          "metadata": {
            "tags": []
          },
          "execution_count": 25
        }
      ]
    },
    {
      "cell_type": "code",
      "metadata": {
        "id": "zqYsFreP5Wmt"
      },
      "source": [
        "#перезапищем датасет, убрав даты с неполными данными\n",
        "df = df.query('event_date >= \"2019-08-01\"')"
      ],
      "execution_count": 26,
      "outputs": []
    },
    {
      "cell_type": "code",
      "metadata": {
        "colab": {
          "base_uri": "https://localhost:8080/",
          "height": 419
        },
        "id": "P6QKRxsV5Wmt",
        "outputId": "1646a31f-4d61-4618-8536-d576262e3521"
      },
      "source": [
        "#проверим что 1 пользователь попадает только в одну группу, а также, что у нас остались участники всех трех групп после удаления части данных\n",
        "df_exp = df.pivot_table(index = 'device_id',columns = 'exp_number',values = 'event_name', aggfunc = 'count').reset_index()\n",
        "df_exp"
      ],
      "execution_count": 27,
      "outputs": [
        {
          "output_type": "execute_result",
          "data": {
            "text/html": [
              "<div>\n",
              "<style scoped>\n",
              "    .dataframe tbody tr th:only-of-type {\n",
              "        vertical-align: middle;\n",
              "    }\n",
              "\n",
              "    .dataframe tbody tr th {\n",
              "        vertical-align: top;\n",
              "    }\n",
              "\n",
              "    .dataframe thead th {\n",
              "        text-align: right;\n",
              "    }\n",
              "</style>\n",
              "<table border=\"1\" class=\"dataframe\">\n",
              "  <thead>\n",
              "    <tr style=\"text-align: right;\">\n",
              "      <th>exp_number</th>\n",
              "      <th>device_id</th>\n",
              "      <th>246</th>\n",
              "      <th>247</th>\n",
              "      <th>248</th>\n",
              "    </tr>\n",
              "  </thead>\n",
              "  <tbody>\n",
              "    <tr>\n",
              "      <th>0</th>\n",
              "      <td>6888746892508752</td>\n",
              "      <td>1.0</td>\n",
              "      <td>NaN</td>\n",
              "      <td>NaN</td>\n",
              "    </tr>\n",
              "    <tr>\n",
              "      <th>1</th>\n",
              "      <td>6909561520679493</td>\n",
              "      <td>NaN</td>\n",
              "      <td>5.0</td>\n",
              "      <td>NaN</td>\n",
              "    </tr>\n",
              "    <tr>\n",
              "      <th>2</th>\n",
              "      <td>6922444491712477</td>\n",
              "      <td>47.0</td>\n",
              "      <td>NaN</td>\n",
              "      <td>NaN</td>\n",
              "    </tr>\n",
              "    <tr>\n",
              "      <th>3</th>\n",
              "      <td>7435777799948366</td>\n",
              "      <td>NaN</td>\n",
              "      <td>NaN</td>\n",
              "      <td>6.0</td>\n",
              "    </tr>\n",
              "    <tr>\n",
              "      <th>4</th>\n",
              "      <td>7702139951469979</td>\n",
              "      <td>NaN</td>\n",
              "      <td>137.0</td>\n",
              "      <td>NaN</td>\n",
              "    </tr>\n",
              "    <tr>\n",
              "      <th>...</th>\n",
              "      <td>...</td>\n",
              "      <td>...</td>\n",
              "      <td>...</td>\n",
              "      <td>...</td>\n",
              "    </tr>\n",
              "    <tr>\n",
              "      <th>7529</th>\n",
              "      <td>9217594193087726423</td>\n",
              "      <td>9.0</td>\n",
              "      <td>NaN</td>\n",
              "      <td>NaN</td>\n",
              "    </tr>\n",
              "    <tr>\n",
              "      <th>7530</th>\n",
              "      <td>9219463515465815368</td>\n",
              "      <td>NaN</td>\n",
              "      <td>NaN</td>\n",
              "      <td>17.0</td>\n",
              "    </tr>\n",
              "    <tr>\n",
              "      <th>7531</th>\n",
              "      <td>9220879493065341500</td>\n",
              "      <td>6.0</td>\n",
              "      <td>NaN</td>\n",
              "      <td>NaN</td>\n",
              "    </tr>\n",
              "    <tr>\n",
              "      <th>7532</th>\n",
              "      <td>9221926045299980007</td>\n",
              "      <td>7.0</td>\n",
              "      <td>NaN</td>\n",
              "      <td>NaN</td>\n",
              "    </tr>\n",
              "    <tr>\n",
              "      <th>7533</th>\n",
              "      <td>9222603179720523844</td>\n",
              "      <td>NaN</td>\n",
              "      <td>NaN</td>\n",
              "      <td>59.0</td>\n",
              "    </tr>\n",
              "  </tbody>\n",
              "</table>\n",
              "<p>7534 rows × 4 columns</p>\n",
              "</div>"
            ],
            "text/plain": [
              "exp_number            device_id   246    247   248\n",
              "0              6888746892508752   1.0    NaN   NaN\n",
              "1              6909561520679493   NaN    5.0   NaN\n",
              "2              6922444491712477  47.0    NaN   NaN\n",
              "3              7435777799948366   NaN    NaN   6.0\n",
              "4              7702139951469979   NaN  137.0   NaN\n",
              "...                         ...   ...    ...   ...\n",
              "7529        9217594193087726423   9.0    NaN   NaN\n",
              "7530        9219463515465815368   NaN    NaN  17.0\n",
              "7531        9220879493065341500   6.0    NaN   NaN\n",
              "7532        9221926045299980007   7.0    NaN   NaN\n",
              "7533        9222603179720523844   NaN    NaN  59.0\n",
              "\n",
              "[7534 rows x 4 columns]"
            ]
          },
          "metadata": {
            "tags": []
          },
          "execution_count": 27
        }
      ]
    },
    {
      "cell_type": "code",
      "metadata": {
        "colab": {
          "base_uri": "https://localhost:8080/"
        },
        "id": "X5-Zi2Ip5Wmu",
        "outputId": "749db644-fd64-41c0-cc3b-367b419918d6"
      },
      "source": [
        "df_exp.info()"
      ],
      "execution_count": 28,
      "outputs": [
        {
          "output_type": "stream",
          "text": [
            "<class 'pandas.core.frame.DataFrame'>\n",
            "RangeIndex: 7534 entries, 0 to 7533\n",
            "Data columns (total 4 columns):\n",
            " #   Column     Non-Null Count  Dtype  \n",
            "---  ------     --------------  -----  \n",
            " 0   device_id  7534 non-null   int64  \n",
            " 1   246        2484 non-null   float64\n",
            " 2   247        2513 non-null   float64\n",
            " 3   248        2537 non-null   float64\n",
            "dtypes: float64(3), int64(1)\n",
            "memory usage: 235.6 KB\n"
          ],
          "name": "stdout"
        }
      ]
    },
    {
      "cell_type": "code",
      "metadata": {
        "id": "83AYB8Ih5Wmu"
      },
      "source": [
        "#переименуем столбцы, чтобы можно было сделать фильтрацию\n",
        "df_exp.columns = ['device_id','А1','А2','В']"
      ],
      "execution_count": 29,
      "outputs": []
    },
    {
      "cell_type": "code",
      "metadata": {
        "id": "qAiueb845Wmv"
      },
      "source": [
        "#заменим пустые значения на 0\n",
        "df_exp = df_exp.fillna(0)"
      ],
      "execution_count": 30,
      "outputs": []
    },
    {
      "cell_type": "code",
      "metadata": {
        "colab": {
          "base_uri": "https://localhost:8080/",
          "height": 49
        },
        "id": "tDY6CP7L5Wmv",
        "outputId": "3e68c526-ed83-41cc-e9e9-91a08a0a2960"
      },
      "source": [
        "#выведем на экран только тех пользователей, которые попали в несколько групп \n",
        "df_exp.query('А1 != 0 and А2 != 0 and В != 0')"
      ],
      "execution_count": 31,
      "outputs": [
        {
          "output_type": "execute_result",
          "data": {
            "text/html": [
              "<div>\n",
              "<style scoped>\n",
              "    .dataframe tbody tr th:only-of-type {\n",
              "        vertical-align: middle;\n",
              "    }\n",
              "\n",
              "    .dataframe tbody tr th {\n",
              "        vertical-align: top;\n",
              "    }\n",
              "\n",
              "    .dataframe thead th {\n",
              "        text-align: right;\n",
              "    }\n",
              "</style>\n",
              "<table border=\"1\" class=\"dataframe\">\n",
              "  <thead>\n",
              "    <tr style=\"text-align: right;\">\n",
              "      <th></th>\n",
              "      <th>device_id</th>\n",
              "      <th>А1</th>\n",
              "      <th>А2</th>\n",
              "      <th>В</th>\n",
              "    </tr>\n",
              "  </thead>\n",
              "  <tbody>\n",
              "  </tbody>\n",
              "</table>\n",
              "</div>"
            ],
            "text/plain": [
              "Empty DataFrame\n",
              "Columns: [device_id, А1, А2, В]\n",
              "Index: []"
            ]
          },
          "metadata": {
            "tags": []
          },
          "execution_count": 31
        }
      ]
    },
    {
      "cell_type": "code",
      "metadata": {
        "colab": {
          "base_uri": "https://localhost:8080/",
          "height": 49
        },
        "id": "dMmwwI3Q5Wmw",
        "outputId": "a71f218c-152e-4b0e-c61f-ee2fe8a5291d"
      },
      "source": [
        "df_exp.query('А1 == 0 and А2 != 0 and В != 0')"
      ],
      "execution_count": 32,
      "outputs": [
        {
          "output_type": "execute_result",
          "data": {
            "text/html": [
              "<div>\n",
              "<style scoped>\n",
              "    .dataframe tbody tr th:only-of-type {\n",
              "        vertical-align: middle;\n",
              "    }\n",
              "\n",
              "    .dataframe tbody tr th {\n",
              "        vertical-align: top;\n",
              "    }\n",
              "\n",
              "    .dataframe thead th {\n",
              "        text-align: right;\n",
              "    }\n",
              "</style>\n",
              "<table border=\"1\" class=\"dataframe\">\n",
              "  <thead>\n",
              "    <tr style=\"text-align: right;\">\n",
              "      <th></th>\n",
              "      <th>device_id</th>\n",
              "      <th>А1</th>\n",
              "      <th>А2</th>\n",
              "      <th>В</th>\n",
              "    </tr>\n",
              "  </thead>\n",
              "  <tbody>\n",
              "  </tbody>\n",
              "</table>\n",
              "</div>"
            ],
            "text/plain": [
              "Empty DataFrame\n",
              "Columns: [device_id, А1, А2, В]\n",
              "Index: []"
            ]
          },
          "metadata": {
            "tags": []
          },
          "execution_count": 32
        }
      ]
    },
    {
      "cell_type": "code",
      "metadata": {
        "colab": {
          "base_uri": "https://localhost:8080/",
          "height": 49
        },
        "id": "fYfmqlmd5Wmw",
        "outputId": "cc21ced8-97d2-49e4-a1b4-d09a37834dbd"
      },
      "source": [
        "df_exp.query('А1 != 0 and А2 != 0 and В == 0')"
      ],
      "execution_count": 33,
      "outputs": [
        {
          "output_type": "execute_result",
          "data": {
            "text/html": [
              "<div>\n",
              "<style scoped>\n",
              "    .dataframe tbody tr th:only-of-type {\n",
              "        vertical-align: middle;\n",
              "    }\n",
              "\n",
              "    .dataframe tbody tr th {\n",
              "        vertical-align: top;\n",
              "    }\n",
              "\n",
              "    .dataframe thead th {\n",
              "        text-align: right;\n",
              "    }\n",
              "</style>\n",
              "<table border=\"1\" class=\"dataframe\">\n",
              "  <thead>\n",
              "    <tr style=\"text-align: right;\">\n",
              "      <th></th>\n",
              "      <th>device_id</th>\n",
              "      <th>А1</th>\n",
              "      <th>А2</th>\n",
              "      <th>В</th>\n",
              "    </tr>\n",
              "  </thead>\n",
              "  <tbody>\n",
              "  </tbody>\n",
              "</table>\n",
              "</div>"
            ],
            "text/plain": [
              "Empty DataFrame\n",
              "Columns: [device_id, А1, А2, В]\n",
              "Index: []"
            ]
          },
          "metadata": {
            "tags": []
          },
          "execution_count": 33
        }
      ]
    },
    {
      "cell_type": "code",
      "metadata": {
        "colab": {
          "base_uri": "https://localhost:8080/",
          "height": 49
        },
        "id": "F3NAaD2w5Wmw",
        "outputId": "78899701-49cb-44f7-af39-7778932e09c4"
      },
      "source": [
        "df_exp.query('А1 != 0 and А2 == 0 and В != 0')"
      ],
      "execution_count": 34,
      "outputs": [
        {
          "output_type": "execute_result",
          "data": {
            "text/html": [
              "<div>\n",
              "<style scoped>\n",
              "    .dataframe tbody tr th:only-of-type {\n",
              "        vertical-align: middle;\n",
              "    }\n",
              "\n",
              "    .dataframe tbody tr th {\n",
              "        vertical-align: top;\n",
              "    }\n",
              "\n",
              "    .dataframe thead th {\n",
              "        text-align: right;\n",
              "    }\n",
              "</style>\n",
              "<table border=\"1\" class=\"dataframe\">\n",
              "  <thead>\n",
              "    <tr style=\"text-align: right;\">\n",
              "      <th></th>\n",
              "      <th>device_id</th>\n",
              "      <th>А1</th>\n",
              "      <th>А2</th>\n",
              "      <th>В</th>\n",
              "    </tr>\n",
              "  </thead>\n",
              "  <tbody>\n",
              "  </tbody>\n",
              "</table>\n",
              "</div>"
            ],
            "text/plain": [
              "Empty DataFrame\n",
              "Columns: [device_id, А1, А2, В]\n",
              "Index: []"
            ]
          },
          "metadata": {
            "tags": []
          },
          "execution_count": 34
        }
      ]
    },
    {
      "cell_type": "code",
      "metadata": {
        "colab": {
          "base_uri": "https://localhost:8080/"
        },
        "id": "mi6AGpZf5Wmx",
        "outputId": "7e3d01bc-5deb-4f3b-feaf-0c3ae2592a2c"
      },
      "source": [
        "df['exp_number'].value_counts()"
      ],
      "execution_count": 35,
      "outputs": [
        {
          "output_type": "execute_result",
          "data": {
            "text/plain": [
              "248    84563\n",
              "246    79302\n",
              "247    77022\n",
              "Name: exp_number, dtype: int64"
            ]
          },
          "metadata": {
            "tags": []
          },
          "execution_count": 35
        }
      ]
    },
    {
      "cell_type": "markdown",
      "metadata": {
        "id": "4OfWiVCZ5Wmx"
      },
      "source": [
        "#### Промежуточные выводы:  \n",
        "    1. Датасет с логами пользователей, участвующих в A-A-B  тесте имеет 243 713 строк;\n",
        "    2. Уникальных пользователей - 7551;\n",
        "    3. На одного пользователя в среднем приходится 32 событий, однако их кол-во распределено неравномерно и самое большое кол-во пользователей (почти 1200) совершают около 10 событий, но существуют и те, которые совершили более 2000 зафиксированных событий;\n",
        "    4. В датасете представлены данные от 25 июля 2019 до 7 августа 2019 года;\n",
        "    5. До 1 августа 2019 данные почти не поступали (скопилось всего 2826 событий, из которых 2030 за последний день), поэтому в дальнейщем анализе мы будем использовать только период с 1 по 7 августа 2019 года;\n",
        "    6. В датасете нет пользователей, которые бы попали более чем в 1 группу за период эксперимента."
      ]
    },
    {
      "cell_type": "markdown",
      "metadata": {
        "id": "K0En2SGd5Wmx"
      },
      "source": [
        "### <a id='a3'> Шаг 3. Изучим воронку событий</a>"
      ]
    },
    {
      "cell_type": "code",
      "metadata": {
        "colab": {
          "base_uri": "https://localhost:8080/"
        },
        "id": "m-qylmrv5Wmy",
        "outputId": "9ed77ea4-dc54-4f7b-8ca6-09e41ccc1862"
      },
      "source": [
        "#составим список событий\n",
        "df['event_name'].value_counts()"
      ],
      "execution_count": 36,
      "outputs": [
        {
          "output_type": "execute_result",
          "data": {
            "text/plain": [
              "MainScreenAppear           117328\n",
              "OffersScreenAppear          46333\n",
              "CartScreenAppear            42303\n",
              "PaymentScreenSuccessful     33918\n",
              "Tutorial                     1005\n",
              "Name: event_name, dtype: int64"
            ]
          },
          "metadata": {
            "tags": []
          },
          "execution_count": 36
        }
      ]
    },
    {
      "cell_type": "code",
      "metadata": {
        "id": "gDYN8k8y5Wmy"
      },
      "source": [
        "#посчитаем сколько раз каждый пользователь совершил то или иное событие\n",
        "df_e = df.pivot_table(index='event_name',values = 'device_id',aggfunc = 'nunique').sort_values(by='device_id', ascending=False)\n",
        "df_e = df_e['device_id'].reset_index()"
      ],
      "execution_count": 37,
      "outputs": []
    },
    {
      "cell_type": "code",
      "metadata": {
        "colab": {
          "base_uri": "https://localhost:8080/"
        },
        "id": "o6rTrluA5Wmy",
        "outputId": "0120b0d0-1069-47e1-ccc5-c5b26de4fe5f"
      },
      "source": [
        "#найдем общее кол-во уникальных пользователей\n",
        "df.groupby('exp_number')['device_id'].nunique().sum()"
      ],
      "execution_count": 38,
      "outputs": [
        {
          "output_type": "execute_result",
          "data": {
            "text/plain": [
              "7534"
            ]
          },
          "metadata": {
            "tags": []
          },
          "execution_count": 38
        }
      ]
    },
    {
      "cell_type": "code",
      "metadata": {
        "colab": {
          "base_uri": "https://localhost:8080/",
          "height": 204
        },
        "id": "ivWohel75Wmz",
        "outputId": "8560be8a-ad62-4058-cc46-256e9709890b"
      },
      "source": [
        "#посчитаем долю пользователей, которые хоть раз совершили событие\n",
        "df_e['share_for_mainscreen'] = df_e['device_id'] / 7419\n",
        "#посчитаем долю от уникальных пользователей\n",
        "df_e['share_for_unique'] = df_e['device_id'] / 7551\n",
        "df_e['delta'] = df_e['share_for_mainscreen']-df_e['share_for_unique']\n",
        "df_e = df_e.round(3)\n",
        "df_e"
      ],
      "execution_count": 39,
      "outputs": [
        {
          "output_type": "execute_result",
          "data": {
            "text/html": [
              "<div>\n",
              "<style scoped>\n",
              "    .dataframe tbody tr th:only-of-type {\n",
              "        vertical-align: middle;\n",
              "    }\n",
              "\n",
              "    .dataframe tbody tr th {\n",
              "        vertical-align: top;\n",
              "    }\n",
              "\n",
              "    .dataframe thead th {\n",
              "        text-align: right;\n",
              "    }\n",
              "</style>\n",
              "<table border=\"1\" class=\"dataframe\">\n",
              "  <thead>\n",
              "    <tr style=\"text-align: right;\">\n",
              "      <th></th>\n",
              "      <th>event_name</th>\n",
              "      <th>device_id</th>\n",
              "      <th>share_for_mainscreen</th>\n",
              "      <th>share_for_unique</th>\n",
              "      <th>delta</th>\n",
              "    </tr>\n",
              "  </thead>\n",
              "  <tbody>\n",
              "    <tr>\n",
              "      <th>0</th>\n",
              "      <td>MainScreenAppear</td>\n",
              "      <td>7419</td>\n",
              "      <td>1.000</td>\n",
              "      <td>0.983</td>\n",
              "      <td>0.017</td>\n",
              "    </tr>\n",
              "    <tr>\n",
              "      <th>1</th>\n",
              "      <td>OffersScreenAppear</td>\n",
              "      <td>4593</td>\n",
              "      <td>0.619</td>\n",
              "      <td>0.608</td>\n",
              "      <td>0.011</td>\n",
              "    </tr>\n",
              "    <tr>\n",
              "      <th>2</th>\n",
              "      <td>CartScreenAppear</td>\n",
              "      <td>3734</td>\n",
              "      <td>0.503</td>\n",
              "      <td>0.495</td>\n",
              "      <td>0.009</td>\n",
              "    </tr>\n",
              "    <tr>\n",
              "      <th>3</th>\n",
              "      <td>PaymentScreenSuccessful</td>\n",
              "      <td>3539</td>\n",
              "      <td>0.477</td>\n",
              "      <td>0.469</td>\n",
              "      <td>0.008</td>\n",
              "    </tr>\n",
              "    <tr>\n",
              "      <th>4</th>\n",
              "      <td>Tutorial</td>\n",
              "      <td>840</td>\n",
              "      <td>0.113</td>\n",
              "      <td>0.111</td>\n",
              "      <td>0.002</td>\n",
              "    </tr>\n",
              "  </tbody>\n",
              "</table>\n",
              "</div>"
            ],
            "text/plain": [
              "                event_name  device_id  ...  share_for_unique  delta\n",
              "0         MainScreenAppear       7419  ...             0.983  0.017\n",
              "1       OffersScreenAppear       4593  ...             0.608  0.011\n",
              "2         CartScreenAppear       3734  ...             0.495  0.009\n",
              "3  PaymentScreenSuccessful       3539  ...             0.469  0.008\n",
              "4                 Tutorial        840  ...             0.111  0.002\n",
              "\n",
              "[5 rows x 5 columns]"
            ]
          },
          "metadata": {
            "tags": []
          },
          "execution_count": 39
        }
      ]
    },
    {
      "cell_type": "code",
      "metadata": {
        "colab": {
          "base_uri": "https://localhost:8080/",
          "height": 173
        },
        "id": "I8L5iow35Wm0",
        "outputId": "25146e9c-6373-402e-a265-f1f21ab60749"
      },
      "source": [
        "#оставим только последовательные события \n",
        "df_funnel = df_e[['event_name','device_id']].head(4)\n",
        "df_funnel"
      ],
      "execution_count": 40,
      "outputs": [
        {
          "output_type": "execute_result",
          "data": {
            "text/html": [
              "<div>\n",
              "<style scoped>\n",
              "    .dataframe tbody tr th:only-of-type {\n",
              "        vertical-align: middle;\n",
              "    }\n",
              "\n",
              "    .dataframe tbody tr th {\n",
              "        vertical-align: top;\n",
              "    }\n",
              "\n",
              "    .dataframe thead th {\n",
              "        text-align: right;\n",
              "    }\n",
              "</style>\n",
              "<table border=\"1\" class=\"dataframe\">\n",
              "  <thead>\n",
              "    <tr style=\"text-align: right;\">\n",
              "      <th></th>\n",
              "      <th>event_name</th>\n",
              "      <th>device_id</th>\n",
              "    </tr>\n",
              "  </thead>\n",
              "  <tbody>\n",
              "    <tr>\n",
              "      <th>0</th>\n",
              "      <td>MainScreenAppear</td>\n",
              "      <td>7419</td>\n",
              "    </tr>\n",
              "    <tr>\n",
              "      <th>1</th>\n",
              "      <td>OffersScreenAppear</td>\n",
              "      <td>4593</td>\n",
              "    </tr>\n",
              "    <tr>\n",
              "      <th>2</th>\n",
              "      <td>CartScreenAppear</td>\n",
              "      <td>3734</td>\n",
              "    </tr>\n",
              "    <tr>\n",
              "      <th>3</th>\n",
              "      <td>PaymentScreenSuccessful</td>\n",
              "      <td>3539</td>\n",
              "    </tr>\n",
              "  </tbody>\n",
              "</table>\n",
              "</div>"
            ],
            "text/plain": [
              "                event_name  device_id\n",
              "0         MainScreenAppear       7419\n",
              "1       OffersScreenAppear       4593\n",
              "2         CartScreenAppear       3734\n",
              "3  PaymentScreenSuccessful       3539"
            ]
          },
          "metadata": {
            "tags": []
          },
          "execution_count": 40
        }
      ]
    },
    {
      "cell_type": "code",
      "metadata": {
        "colab": {
          "base_uri": "https://localhost:8080/",
          "height": 542
        },
        "id": "Sj_gj6Hp5Wm1",
        "outputId": "6667465f-a335-4186-bb64-cc79206d596e"
      },
      "source": [
        "fig = go.Figure(\n",
        "    go.Funnel(\n",
        "        y=df_funnel['event_name'],\n",
        "        x=df_funnel['device_id'],\n",
        "        textinfo = \"value+percent previous+percent initial\"\n",
        "    )\n",
        ")\n",
        "fig.show() "
      ],
      "execution_count": 41,
      "outputs": [
        {
          "output_type": "display_data",
          "data": {
            "text/html": [
              "<html>\n",
              "<head><meta charset=\"utf-8\" /></head>\n",
              "<body>\n",
              "    <div>\n",
              "            <script src=\"https://cdnjs.cloudflare.com/ajax/libs/mathjax/2.7.5/MathJax.js?config=TeX-AMS-MML_SVG\"></script><script type=\"text/javascript\">if (window.MathJax) {MathJax.Hub.Config({SVG: {font: \"STIX-Web\"}});}</script>\n",
              "                <script type=\"text/javascript\">window.PlotlyConfig = {MathJaxConfig: 'local'};</script>\n",
              "        <script src=\"https://cdn.plot.ly/plotly-latest.min.js\"></script>    \n",
              "            <div id=\"5a75cf74-8c6f-4669-b636-deb55e40afe2\" class=\"plotly-graph-div\" style=\"height:525px; width:100%;\"></div>\n",
              "            <script type=\"text/javascript\">\n",
              "                \n",
              "                    window.PLOTLYENV=window.PLOTLYENV || {};\n",
              "                    \n",
              "                if (document.getElementById(\"5a75cf74-8c6f-4669-b636-deb55e40afe2\")) {\n",
              "                    Plotly.newPlot(\n",
              "                        '5a75cf74-8c6f-4669-b636-deb55e40afe2',\n",
              "                        [{\"textinfo\": \"value+percent previous+percent initial\", \"type\": \"funnel\", \"x\": [7419, 4593, 3734, 3539], \"y\": [\"MainScreenAppear\", \"OffersScreenAppear\", \"CartScreenAppear\", \"PaymentScreenSuccessful\"]}],\n",
              "                        {\"template\": {\"data\": {\"bar\": [{\"error_x\": {\"color\": \"#2a3f5f\"}, \"error_y\": {\"color\": \"#2a3f5f\"}, \"marker\": {\"line\": {\"color\": \"#E5ECF6\", \"width\": 0.5}}, \"type\": \"bar\"}], \"barpolar\": [{\"marker\": {\"line\": {\"color\": \"#E5ECF6\", \"width\": 0.5}}, \"type\": \"barpolar\"}], \"carpet\": [{\"aaxis\": {\"endlinecolor\": \"#2a3f5f\", \"gridcolor\": \"white\", \"linecolor\": \"white\", \"minorgridcolor\": \"white\", \"startlinecolor\": \"#2a3f5f\"}, \"baxis\": {\"endlinecolor\": \"#2a3f5f\", \"gridcolor\": \"white\", \"linecolor\": \"white\", \"minorgridcolor\": \"white\", \"startlinecolor\": \"#2a3f5f\"}, \"type\": \"carpet\"}], \"choropleth\": [{\"colorbar\": {\"outlinewidth\": 0, \"ticks\": \"\"}, \"type\": \"choropleth\"}], \"contour\": [{\"colorbar\": {\"outlinewidth\": 0, \"ticks\": \"\"}, \"colorscale\": [[0.0, \"#0d0887\"], [0.1111111111111111, \"#46039f\"], [0.2222222222222222, \"#7201a8\"], [0.3333333333333333, \"#9c179e\"], [0.4444444444444444, \"#bd3786\"], [0.5555555555555556, \"#d8576b\"], [0.6666666666666666, \"#ed7953\"], [0.7777777777777778, \"#fb9f3a\"], [0.8888888888888888, \"#fdca26\"], [1.0, \"#f0f921\"]], \"type\": \"contour\"}], \"contourcarpet\": [{\"colorbar\": {\"outlinewidth\": 0, \"ticks\": \"\"}, \"type\": \"contourcarpet\"}], \"heatmap\": [{\"colorbar\": {\"outlinewidth\": 0, \"ticks\": \"\"}, \"colorscale\": [[0.0, \"#0d0887\"], [0.1111111111111111, \"#46039f\"], [0.2222222222222222, \"#7201a8\"], [0.3333333333333333, \"#9c179e\"], [0.4444444444444444, \"#bd3786\"], [0.5555555555555556, \"#d8576b\"], [0.6666666666666666, \"#ed7953\"], [0.7777777777777778, \"#fb9f3a\"], [0.8888888888888888, \"#fdca26\"], [1.0, \"#f0f921\"]], \"type\": \"heatmap\"}], \"heatmapgl\": [{\"colorbar\": {\"outlinewidth\": 0, \"ticks\": \"\"}, \"colorscale\": [[0.0, \"#0d0887\"], [0.1111111111111111, \"#46039f\"], [0.2222222222222222, \"#7201a8\"], [0.3333333333333333, \"#9c179e\"], [0.4444444444444444, \"#bd3786\"], [0.5555555555555556, \"#d8576b\"], [0.6666666666666666, \"#ed7953\"], [0.7777777777777778, \"#fb9f3a\"], [0.8888888888888888, \"#fdca26\"], [1.0, \"#f0f921\"]], \"type\": \"heatmapgl\"}], \"histogram\": [{\"marker\": {\"colorbar\": {\"outlinewidth\": 0, \"ticks\": \"\"}}, \"type\": \"histogram\"}], \"histogram2d\": [{\"colorbar\": {\"outlinewidth\": 0, \"ticks\": \"\"}, \"colorscale\": [[0.0, \"#0d0887\"], [0.1111111111111111, \"#46039f\"], [0.2222222222222222, \"#7201a8\"], [0.3333333333333333, \"#9c179e\"], [0.4444444444444444, \"#bd3786\"], [0.5555555555555556, \"#d8576b\"], [0.6666666666666666, \"#ed7953\"], [0.7777777777777778, \"#fb9f3a\"], [0.8888888888888888, \"#fdca26\"], [1.0, \"#f0f921\"]], \"type\": \"histogram2d\"}], \"histogram2dcontour\": [{\"colorbar\": {\"outlinewidth\": 0, \"ticks\": \"\"}, \"colorscale\": [[0.0, \"#0d0887\"], [0.1111111111111111, \"#46039f\"], [0.2222222222222222, \"#7201a8\"], [0.3333333333333333, \"#9c179e\"], [0.4444444444444444, \"#bd3786\"], [0.5555555555555556, \"#d8576b\"], [0.6666666666666666, \"#ed7953\"], [0.7777777777777778, \"#fb9f3a\"], [0.8888888888888888, \"#fdca26\"], [1.0, \"#f0f921\"]], \"type\": \"histogram2dcontour\"}], \"mesh3d\": [{\"colorbar\": {\"outlinewidth\": 0, \"ticks\": \"\"}, \"type\": \"mesh3d\"}], \"parcoords\": [{\"line\": {\"colorbar\": {\"outlinewidth\": 0, \"ticks\": \"\"}}, \"type\": \"parcoords\"}], \"pie\": [{\"automargin\": true, \"type\": \"pie\"}], \"scatter\": [{\"marker\": {\"colorbar\": {\"outlinewidth\": 0, \"ticks\": \"\"}}, \"type\": \"scatter\"}], \"scatter3d\": [{\"line\": {\"colorbar\": {\"outlinewidth\": 0, \"ticks\": \"\"}}, \"marker\": {\"colorbar\": {\"outlinewidth\": 0, \"ticks\": \"\"}}, \"type\": \"scatter3d\"}], \"scattercarpet\": [{\"marker\": {\"colorbar\": {\"outlinewidth\": 0, \"ticks\": \"\"}}, \"type\": \"scattercarpet\"}], \"scattergeo\": [{\"marker\": {\"colorbar\": {\"outlinewidth\": 0, \"ticks\": \"\"}}, \"type\": \"scattergeo\"}], \"scattergl\": [{\"marker\": {\"colorbar\": {\"outlinewidth\": 0, \"ticks\": \"\"}}, \"type\": \"scattergl\"}], \"scattermapbox\": [{\"marker\": {\"colorbar\": {\"outlinewidth\": 0, \"ticks\": \"\"}}, \"type\": \"scattermapbox\"}], \"scatterpolar\": [{\"marker\": {\"colorbar\": {\"outlinewidth\": 0, \"ticks\": \"\"}}, \"type\": \"scatterpolar\"}], \"scatterpolargl\": [{\"marker\": {\"colorbar\": {\"outlinewidth\": 0, \"ticks\": \"\"}}, \"type\": \"scatterpolargl\"}], \"scatterternary\": [{\"marker\": {\"colorbar\": {\"outlinewidth\": 0, \"ticks\": \"\"}}, \"type\": \"scatterternary\"}], \"surface\": [{\"colorbar\": {\"outlinewidth\": 0, \"ticks\": \"\"}, \"colorscale\": [[0.0, \"#0d0887\"], [0.1111111111111111, \"#46039f\"], [0.2222222222222222, \"#7201a8\"], [0.3333333333333333, \"#9c179e\"], [0.4444444444444444, \"#bd3786\"], [0.5555555555555556, \"#d8576b\"], [0.6666666666666666, \"#ed7953\"], [0.7777777777777778, \"#fb9f3a\"], [0.8888888888888888, \"#fdca26\"], [1.0, \"#f0f921\"]], \"type\": \"surface\"}], \"table\": [{\"cells\": {\"fill\": {\"color\": \"#EBF0F8\"}, \"line\": {\"color\": \"white\"}}, \"header\": {\"fill\": {\"color\": \"#C8D4E3\"}, \"line\": {\"color\": \"white\"}}, \"type\": \"table\"}]}, \"layout\": {\"annotationdefaults\": {\"arrowcolor\": \"#2a3f5f\", \"arrowhead\": 0, \"arrowwidth\": 1}, \"coloraxis\": {\"colorbar\": {\"outlinewidth\": 0, \"ticks\": \"\"}}, \"colorscale\": {\"diverging\": [[0, \"#8e0152\"], [0.1, \"#c51b7d\"], [0.2, \"#de77ae\"], [0.3, \"#f1b6da\"], [0.4, \"#fde0ef\"], [0.5, \"#f7f7f7\"], [0.6, \"#e6f5d0\"], [0.7, \"#b8e186\"], [0.8, \"#7fbc41\"], [0.9, \"#4d9221\"], [1, \"#276419\"]], \"sequential\": [[0.0, \"#0d0887\"], [0.1111111111111111, \"#46039f\"], [0.2222222222222222, \"#7201a8\"], [0.3333333333333333, \"#9c179e\"], [0.4444444444444444, \"#bd3786\"], [0.5555555555555556, \"#d8576b\"], [0.6666666666666666, \"#ed7953\"], [0.7777777777777778, \"#fb9f3a\"], [0.8888888888888888, \"#fdca26\"], [1.0, \"#f0f921\"]], \"sequentialminus\": [[0.0, \"#0d0887\"], [0.1111111111111111, \"#46039f\"], [0.2222222222222222, \"#7201a8\"], [0.3333333333333333, \"#9c179e\"], [0.4444444444444444, \"#bd3786\"], [0.5555555555555556, \"#d8576b\"], [0.6666666666666666, \"#ed7953\"], [0.7777777777777778, \"#fb9f3a\"], [0.8888888888888888, \"#fdca26\"], [1.0, \"#f0f921\"]]}, \"colorway\": [\"#636efa\", \"#EF553B\", \"#00cc96\", \"#ab63fa\", \"#FFA15A\", \"#19d3f3\", \"#FF6692\", \"#B6E880\", \"#FF97FF\", \"#FECB52\"], \"font\": {\"color\": \"#2a3f5f\"}, \"geo\": {\"bgcolor\": \"white\", \"lakecolor\": \"white\", \"landcolor\": \"#E5ECF6\", \"showlakes\": true, \"showland\": true, \"subunitcolor\": \"white\"}, \"hoverlabel\": {\"align\": \"left\"}, \"hovermode\": \"closest\", \"mapbox\": {\"style\": \"light\"}, \"paper_bgcolor\": \"white\", \"plot_bgcolor\": \"#E5ECF6\", \"polar\": {\"angularaxis\": {\"gridcolor\": \"white\", \"linecolor\": \"white\", \"ticks\": \"\"}, \"bgcolor\": \"#E5ECF6\", \"radialaxis\": {\"gridcolor\": \"white\", \"linecolor\": \"white\", \"ticks\": \"\"}}, \"scene\": {\"xaxis\": {\"backgroundcolor\": \"#E5ECF6\", \"gridcolor\": \"white\", \"gridwidth\": 2, \"linecolor\": \"white\", \"showbackground\": true, \"ticks\": \"\", \"zerolinecolor\": \"white\"}, \"yaxis\": {\"backgroundcolor\": \"#E5ECF6\", \"gridcolor\": \"white\", \"gridwidth\": 2, \"linecolor\": \"white\", \"showbackground\": true, \"ticks\": \"\", \"zerolinecolor\": \"white\"}, \"zaxis\": {\"backgroundcolor\": \"#E5ECF6\", \"gridcolor\": \"white\", \"gridwidth\": 2, \"linecolor\": \"white\", \"showbackground\": true, \"ticks\": \"\", \"zerolinecolor\": \"white\"}}, \"shapedefaults\": {\"line\": {\"color\": \"#2a3f5f\"}}, \"ternary\": {\"aaxis\": {\"gridcolor\": \"white\", \"linecolor\": \"white\", \"ticks\": \"\"}, \"baxis\": {\"gridcolor\": \"white\", \"linecolor\": \"white\", \"ticks\": \"\"}, \"bgcolor\": \"#E5ECF6\", \"caxis\": {\"gridcolor\": \"white\", \"linecolor\": \"white\", \"ticks\": \"\"}}, \"title\": {\"x\": 0.05}, \"xaxis\": {\"automargin\": true, \"gridcolor\": \"white\", \"linecolor\": \"white\", \"ticks\": \"\", \"title\": {\"standoff\": 15}, \"zerolinecolor\": \"white\", \"zerolinewidth\": 2}, \"yaxis\": {\"automargin\": true, \"gridcolor\": \"white\", \"linecolor\": \"white\", \"ticks\": \"\", \"title\": {\"standoff\": 15}, \"zerolinecolor\": \"white\", \"zerolinewidth\": 2}}}},\n",
              "                        {\"responsive\": true}\n",
              "                    ).then(function(){\n",
              "                            \n",
              "var gd = document.getElementById('5a75cf74-8c6f-4669-b636-deb55e40afe2');\n",
              "var x = new MutationObserver(function (mutations, observer) {{\n",
              "        var display = window.getComputedStyle(gd).display;\n",
              "        if (!display || display === 'none') {{\n",
              "            console.log([gd, 'removed!']);\n",
              "            Plotly.purge(gd);\n",
              "            observer.disconnect();\n",
              "        }}\n",
              "}});\n",
              "\n",
              "// Listen for the removal of the full notebook cells\n",
              "var notebookContainer = gd.closest('#notebook-container');\n",
              "if (notebookContainer) {{\n",
              "    x.observe(notebookContainer, {childList: true});\n",
              "}}\n",
              "\n",
              "// Listen for the clearing of the current output cell\n",
              "var outputEl = gd.closest('.output');\n",
              "if (outputEl) {{\n",
              "    x.observe(outputEl, {childList: true});\n",
              "}}\n",
              "\n",
              "                        })\n",
              "                };\n",
              "                \n",
              "            </script>\n",
              "        </div>\n",
              "</body>\n",
              "</html>"
            ]
          },
          "metadata": {
            "tags": []
          }
        }
      ]
    },
    {
      "cell_type": "markdown",
      "metadata": {
        "id": "5XDSq08I5Wm9"
      },
      "source": [
        "#### Промежуточные выводы:  \n",
        "    1. В тесте мы отслеживаем следующие последовательные события: 'MainScreenAppear'; 'OffersScreenAppear', куда доходит уже 62% пользователей; из них на этап 'CartScreenAppear' переходит 81% пользователей и далее 95% в 'PaymentScreenSuccessful';\n",
        "    2. Событие Tutorial всего 11% пользователей проходят и оно не является логическим продолжением основной цепочки и может вклиниваться в любой момент времени;\n",
        "    3. При переходе на этап OffersScreenAppear теряется больше всего пользователей, на него переходит 62% аудитории сайта;\n",
        "    4. 48% пользователей доходят с этапа MainScreenAppear до PaymentScreenSuccessful;\n",
        "    5. Проход через все шаги воронки не обязателен, например 1.7% пользователей не заходят на главный экран."
      ]
    },
    {
      "cell_type": "markdown",
      "metadata": {
        "id": "Pz_K74Ln5Wm9"
      },
      "source": [
        "### <a id='a4'> Шаг 4. Изучим результаты эксперимента </a>"
      ]
    },
    {
      "cell_type": "code",
      "metadata": {
        "colab": {
          "base_uri": "https://localhost:8080/",
          "height": 142
        },
        "id": "EPi_jssK5Wm9",
        "outputId": "ab3a51a7-0b1c-4353-c0f2-64780866bed5"
      },
      "source": [
        "#найдем кол-во уникальных пользователей в каждой группе и кол-во пользователей по группам, которые фигурируют в датасете\n",
        "df_exd = df.pivot_table(index='exp_number',values = 'device_id',aggfunc=['nunique','count']).reset_index()\n",
        "df_exd.columns = ['nunique','del','count']\n",
        "df_exd = df_exd[['nunique','count']]\n",
        "#найдем долю уникалных пользователей\n",
        "df_exd['share'] = df_exd['nunique']/df_exd['count']\n",
        "df_exd\n",
        "#проверим стат.значимость между группами 246 и 247"
      ],
      "execution_count": 43,
      "outputs": [
        {
          "output_type": "execute_result",
          "data": {
            "text/html": [
              "<div>\n",
              "<style scoped>\n",
              "    .dataframe tbody tr th:only-of-type {\n",
              "        vertical-align: middle;\n",
              "    }\n",
              "\n",
              "    .dataframe tbody tr th {\n",
              "        vertical-align: top;\n",
              "    }\n",
              "\n",
              "    .dataframe thead th {\n",
              "        text-align: right;\n",
              "    }\n",
              "</style>\n",
              "<table border=\"1\" class=\"dataframe\">\n",
              "  <thead>\n",
              "    <tr style=\"text-align: right;\">\n",
              "      <th></th>\n",
              "      <th>nunique</th>\n",
              "      <th>count</th>\n",
              "      <th>share</th>\n",
              "    </tr>\n",
              "  </thead>\n",
              "  <tbody>\n",
              "    <tr>\n",
              "      <th>0</th>\n",
              "      <td>246</td>\n",
              "      <td>79302</td>\n",
              "      <td>0.003102</td>\n",
              "    </tr>\n",
              "    <tr>\n",
              "      <th>1</th>\n",
              "      <td>247</td>\n",
              "      <td>77022</td>\n",
              "      <td>0.003207</td>\n",
              "    </tr>\n",
              "    <tr>\n",
              "      <th>2</th>\n",
              "      <td>248</td>\n",
              "      <td>84563</td>\n",
              "      <td>0.002933</td>\n",
              "    </tr>\n",
              "  </tbody>\n",
              "</table>\n",
              "</div>"
            ],
            "text/plain": [
              "   nunique  count     share\n",
              "0      246  79302  0.003102\n",
              "1      247  77022  0.003207\n",
              "2      248  84563  0.002933"
            ]
          },
          "metadata": {
            "tags": []
          },
          "execution_count": 43
        }
      ]
    },
    {
      "cell_type": "markdown",
      "metadata": {
        "id": "6wIbLV7T5WnA"
      },
      "source": [
        "Нулевая гипотеза - Кол-во пользователей в выборках 246 и 247 статистически не различается  \n",
        "Альтернативная гипотеза - Кол-во пользователей в выборках 246 и 247 различается.  "
      ]
    },
    {
      "cell_type": "code",
      "metadata": {
        "colab": {
          "base_uri": "https://localhost:8080/",
          "height": 204
        },
        "id": "73Ki6vDB5WnB",
        "outputId": "0737719d-b0ba-4820-a7ea-35453c794155"
      },
      "source": [
        "all_funnels = df.pivot_table(index='event_name', columns='exp_number',values='device_id',aggfunc='nunique')\\\n",
        "                       .sort_values(246,ascending=False)\n",
        "all_funnels['246+247'] = all_funnels[246] + all_funnels[247]\n",
        "all_funnels.drop(['Tutorial'], inplace=True)\n",
        "all_funnels"
      ],
      "execution_count": 44,
      "outputs": [
        {
          "output_type": "execute_result",
          "data": {
            "text/html": [
              "<div>\n",
              "<style scoped>\n",
              "    .dataframe tbody tr th:only-of-type {\n",
              "        vertical-align: middle;\n",
              "    }\n",
              "\n",
              "    .dataframe tbody tr th {\n",
              "        vertical-align: top;\n",
              "    }\n",
              "\n",
              "    .dataframe thead th {\n",
              "        text-align: right;\n",
              "    }\n",
              "</style>\n",
              "<table border=\"1\" class=\"dataframe\">\n",
              "  <thead>\n",
              "    <tr style=\"text-align: right;\">\n",
              "      <th>exp_number</th>\n",
              "      <th>246</th>\n",
              "      <th>247</th>\n",
              "      <th>248</th>\n",
              "      <th>246+247</th>\n",
              "    </tr>\n",
              "    <tr>\n",
              "      <th>event_name</th>\n",
              "      <th></th>\n",
              "      <th></th>\n",
              "      <th></th>\n",
              "      <th></th>\n",
              "    </tr>\n",
              "  </thead>\n",
              "  <tbody>\n",
              "    <tr>\n",
              "      <th>MainScreenAppear</th>\n",
              "      <td>2450</td>\n",
              "      <td>2476</td>\n",
              "      <td>2493</td>\n",
              "      <td>4926</td>\n",
              "    </tr>\n",
              "    <tr>\n",
              "      <th>OffersScreenAppear</th>\n",
              "      <td>1542</td>\n",
              "      <td>1520</td>\n",
              "      <td>1531</td>\n",
              "      <td>3062</td>\n",
              "    </tr>\n",
              "    <tr>\n",
              "      <th>CartScreenAppear</th>\n",
              "      <td>1266</td>\n",
              "      <td>1238</td>\n",
              "      <td>1230</td>\n",
              "      <td>2504</td>\n",
              "    </tr>\n",
              "    <tr>\n",
              "      <th>PaymentScreenSuccessful</th>\n",
              "      <td>1200</td>\n",
              "      <td>1158</td>\n",
              "      <td>1181</td>\n",
              "      <td>2358</td>\n",
              "    </tr>\n",
              "  </tbody>\n",
              "</table>\n",
              "</div>"
            ],
            "text/plain": [
              "exp_number                246   247   248  246+247\n",
              "event_name                                        \n",
              "MainScreenAppear         2450  2476  2493     4926\n",
              "OffersScreenAppear       1542  1520  1531     3062\n",
              "CartScreenAppear         1266  1238  1230     2504\n",
              "PaymentScreenSuccessful  1200  1158  1181     2358"
            ]
          },
          "metadata": {
            "tags": []
          },
          "execution_count": 44
        }
      ]
    },
    {
      "cell_type": "code",
      "metadata": {
        "id": "BZGzZB5M5WnC"
      },
      "source": [
        "users = df.groupby('exp_number')['device_id'].nunique()"
      ],
      "execution_count": 45,
      "outputs": []
    },
    {
      "cell_type": "code",
      "metadata": {
        "id": "qLcGpP2w5WnC"
      },
      "source": [
        "users = users.to_frame().reset_index()\n",
        "users.loc[3] = ['246+247', 4997]"
      ],
      "execution_count": 46,
      "outputs": []
    },
    {
      "cell_type": "code",
      "metadata": {
        "colab": {
          "base_uri": "https://localhost:8080/",
          "height": 204
        },
        "id": "28JcVzDl5WnC",
        "outputId": "1206555b-0834-4f11-82a1-b5166a182315"
      },
      "source": [
        "users = users.set_index(users.columns[0])\n",
        "users"
      ],
      "execution_count": 47,
      "outputs": [
        {
          "output_type": "execute_result",
          "data": {
            "text/html": [
              "<div>\n",
              "<style scoped>\n",
              "    .dataframe tbody tr th:only-of-type {\n",
              "        vertical-align: middle;\n",
              "    }\n",
              "\n",
              "    .dataframe tbody tr th {\n",
              "        vertical-align: top;\n",
              "    }\n",
              "\n",
              "    .dataframe thead th {\n",
              "        text-align: right;\n",
              "    }\n",
              "</style>\n",
              "<table border=\"1\" class=\"dataframe\">\n",
              "  <thead>\n",
              "    <tr style=\"text-align: right;\">\n",
              "      <th></th>\n",
              "      <th>device_id</th>\n",
              "    </tr>\n",
              "    <tr>\n",
              "      <th>exp_number</th>\n",
              "      <th></th>\n",
              "    </tr>\n",
              "  </thead>\n",
              "  <tbody>\n",
              "    <tr>\n",
              "      <th>246</th>\n",
              "      <td>2484</td>\n",
              "    </tr>\n",
              "    <tr>\n",
              "      <th>247</th>\n",
              "      <td>2513</td>\n",
              "    </tr>\n",
              "    <tr>\n",
              "      <th>248</th>\n",
              "      <td>2537</td>\n",
              "    </tr>\n",
              "    <tr>\n",
              "      <th>246+247</th>\n",
              "      <td>4997</td>\n",
              "    </tr>\n",
              "  </tbody>\n",
              "</table>\n",
              "</div>"
            ],
            "text/plain": [
              "            device_id\n",
              "exp_number           \n",
              "246              2484\n",
              "247              2513\n",
              "248              2537\n",
              "246+247          4997"
            ]
          },
          "metadata": {
            "tags": []
          },
          "execution_count": 47
        }
      ]
    },
    {
      "cell_type": "code",
      "metadata": {
        "id": "CHxR5xkn5WnD"
      },
      "source": [
        "# Воспользуемся Z-критерием\n",
        "def z_test(exp1, exp2, event, alpha): \n",
        "    p1_ev = all_funnels.loc[event, exp1]\n",
        "    p2_ev = all_funnels.loc[event, exp2] \n",
        "    p1_us = users.loc[exp1, 'device_id'] \n",
        "    p2_us = users.loc[exp2, 'device_id'] \n",
        "    p1 = p1_ev / p1_us \n",
        "    p2 = p2_ev / p2_us \n",
        "    difference = p1 - p2\n",
        "    p_combined = (p1_ev + p2_ev) / (p1_us + p2_us) \n",
        "    z_value = difference / mth.sqrt(p_combined * (1 - p_combined) * (1 / p1_us + 1 / p2_us))\n",
        "    distr = st.norm(0, 1)\n",
        "    p_value = (1 - distr.cdf(abs(z_value))) * 2\n",
        "    print('Проверка для  {} и {}, событие: {}, p-значение: {p_value:.2f}'.format(exp1, exp2, event, p_value=p_value))\n",
        "    if (p_value < alpha):\n",
        "        print(\"Отвергаем нулевую гипотезу\")\n",
        "    else:\n",
        "        print(\"Не получилось отвергнуть нулевую гипотезу\")"
      ],
      "execution_count": 48,
      "outputs": []
    },
    {
      "cell_type": "code",
      "metadata": {
        "colab": {
          "base_uri": "https://localhost:8080/"
        },
        "id": "Px5OImMR5WnE",
        "outputId": "3e4c8fed-5f51-4329-c9af-fb527f667441"
      },
      "source": [
        "for event in all_funnels.index:\n",
        "    z_test(246, 247, event, 0.05)\n",
        "    print()"
      ],
      "execution_count": 49,
      "outputs": [
        {
          "output_type": "stream",
          "text": [
            "Проверка для  246 и 247, событие: MainScreenAppear, p-значение: 0.76\n",
            "Не получилось отвергнуть нулевую гипотезу\n",
            "\n",
            "Проверка для  246 и 247, событие: OffersScreenAppear, p-значение: 0.25\n",
            "Не получилось отвергнуть нулевую гипотезу\n",
            "\n",
            "Проверка для  246 и 247, событие: CartScreenAppear, p-значение: 0.23\n",
            "Не получилось отвергнуть нулевую гипотезу\n",
            "\n",
            "Проверка для  246 и 247, событие: PaymentScreenSuccessful, p-значение: 0.11\n",
            "Не получилось отвергнуть нулевую гипотезу\n",
            "\n"
          ],
          "name": "stdout"
        }
      ]
    },
    {
      "cell_type": "code",
      "metadata": {
        "colab": {
          "base_uri": "https://localhost:8080/"
        },
        "id": "HKHFip485WnG",
        "outputId": "f7d2e3c2-60f7-4186-ff4d-8889ec77efc5"
      },
      "source": [
        "for event in all_funnels.index:\n",
        "    z_test(246, 248, event, 0.05)\n",
        "    print()"
      ],
      "execution_count": 50,
      "outputs": [
        {
          "output_type": "stream",
          "text": [
            "Проверка для  246 и 248, событие: MainScreenAppear, p-значение: 0.29\n",
            "Не получилось отвергнуть нулевую гипотезу\n",
            "\n",
            "Проверка для  246 и 248, событие: OffersScreenAppear, p-значение: 0.21\n",
            "Не получилось отвергнуть нулевую гипотезу\n",
            "\n",
            "Проверка для  246 и 248, событие: CartScreenAppear, p-значение: 0.08\n",
            "Не получилось отвергнуть нулевую гипотезу\n",
            "\n",
            "Проверка для  246 и 248, событие: PaymentScreenSuccessful, p-значение: 0.21\n",
            "Не получилось отвергнуть нулевую гипотезу\n",
            "\n"
          ],
          "name": "stdout"
        }
      ]
    },
    {
      "cell_type": "code",
      "metadata": {
        "colab": {
          "base_uri": "https://localhost:8080/"
        },
        "id": "sphuDrhx5WnG",
        "outputId": "dfe48d31-b5b5-449b-d515-0929cb7eb21d"
      },
      "source": [
        "for event in all_funnels.index:\n",
        "    z_test(247, 248, event, 0.05)\n",
        "    print()"
      ],
      "execution_count": 51,
      "outputs": [
        {
          "output_type": "stream",
          "text": [
            "Проверка для  247 и 248, событие: MainScreenAppear, p-значение: 0.46\n",
            "Не получилось отвергнуть нулевую гипотезу\n",
            "\n",
            "Проверка для  247 и 248, событие: OffersScreenAppear, p-значение: 0.92\n",
            "Не получилось отвергнуть нулевую гипотезу\n",
            "\n",
            "Проверка для  247 и 248, событие: CartScreenAppear, p-значение: 0.58\n",
            "Не получилось отвергнуть нулевую гипотезу\n",
            "\n",
            "Проверка для  247 и 248, событие: PaymentScreenSuccessful, p-значение: 0.74\n",
            "Не получилось отвергнуть нулевую гипотезу\n",
            "\n"
          ],
          "name": "stdout"
        }
      ]
    },
    {
      "cell_type": "code",
      "metadata": {
        "colab": {
          "base_uri": "https://localhost:8080/"
        },
        "id": "Ks8Vjqgr5WnH",
        "outputId": "2588b297-032d-4356-861b-9042f3450966"
      },
      "source": [
        "for event in all_funnels.index:\n",
        "    z_test('246+247', 248, event, 0.05)\n",
        "    print()"
      ],
      "execution_count": 52,
      "outputs": [
        {
          "output_type": "stream",
          "text": [
            "Проверка для  246+247 и 248, событие: MainScreenAppear, p-значение: 0.29\n",
            "Не получилось отвергнуть нулевую гипотезу\n",
            "\n",
            "Проверка для  246+247 и 248, событие: OffersScreenAppear, p-значение: 0.43\n",
            "Не получилось отвергнуть нулевую гипотезу\n",
            "\n",
            "Проверка для  246+247 и 248, событие: CartScreenAppear, p-значение: 0.18\n",
            "Не получилось отвергнуть нулевую гипотезу\n",
            "\n",
            "Проверка для  246+247 и 248, событие: PaymentScreenSuccessful, p-значение: 0.60\n",
            "Не получилось отвергнуть нулевую гипотезу\n",
            "\n"
          ],
          "name": "stdout"
        }
      ]
    },
    {
      "cell_type": "markdown",
      "metadata": {
        "id": "sN5zvPA85WnH"
      },
      "source": [
        "#### Промежуточные выводы:  \n",
        "    1. Кол-во уникальных пользователей между двумя группами A не одинаково, при этом статистической разницы между ними  как по общим значениям, так и по каждому отдельному событию нет;\n",
        "    2. Статистической разницы также нет и между каждой группы A c B и с объедененными данными между группами A с B.\n",
        "P.S. При проверке статестических гипотез использовался уровень значимости в 5%. Все тесты (4 АА и 12 АВ) показали один и тот же результат."
      ]
    },
    {
      "cell_type": "markdown",
      "metadata": {
        "id": "Hr-zhf9N5WnI"
      },
      "source": [
        "### Общий вывод:  \n",
        " В ходе проведения **А-А-В тестов были обнаружены различия** в количестве пользователей в каждой из контрольных групп, а также по этапам их прохождения событий до момента покупки, однако эта разница **статиистически не значима**. То есть изменение шрифта никак не повлияло на поведение пользователей. При этом рекуомендуется продлить проведение эксперимента, так как полные данные есть только за 1 неделю вместо двух."
      ]
    }
  ]
}