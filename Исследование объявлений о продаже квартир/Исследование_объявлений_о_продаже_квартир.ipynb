{
  "nbformat": 4,
  "nbformat_minor": 0,
  "metadata": {
    "kernelspec": {
      "display_name": "Python 3",
      "language": "python",
      "name": "python3"
    },
    "language_info": {
      "codemirror_mode": {
        "name": "ipython",
        "version": 3
      },
      "file_extension": ".py",
      "mimetype": "text/x-python",
      "name": "python",
      "nbconvert_exporter": "python",
      "pygments_lexer": "ipython3",
      "version": "3.7.8"
    },
    "toc": {
      "base_numbering": 1,
      "nav_menu": {},
      "number_sections": true,
      "sideBar": true,
      "skip_h1_title": true,
      "title_cell": "Table of Contents",
      "title_sidebar": "Contents",
      "toc_cell": false,
      "toc_position": {},
      "toc_section_display": true,
      "toc_window_display": false
    },
    "colab": {
      "name": "Исследование объявлений о продаже квартир.ipynb",
      "provenance": [],
      "collapsed_sections": []
    }
  },
  "cells": [
    {
      "cell_type": "markdown",
      "metadata": {
        "id": "v3KGg8etqjCF"
      },
      "source": [
        "# План работы над проектом"
      ]
    },
    {
      "cell_type": "markdown",
      "metadata": {
        "id": "SsDlSuzBqjCG"
      },
      "source": [
        "1. Изучить текущий набор данных\n",
        "    \n",
        "2. Произвести предобработку данных:    \n",
        "   2.1 Заполняем пропуски в столбцах, важных для дальнейшей работы  \n",
        "   2.2 Ищем и удаляем дубликаты в данных     \n",
        "   2.3 Меняем типы данных      \n",
        "3. Находим цену 1 квадратного метра \n",
        "4. Выделяем день недели, месяц и год публикации каждого объявления\n",
        "    \n",
        "5. Опреляем этажи квартир: варианты — первый, последний, другой;\n",
        "    \n",
        "6. Определяем соотношение жилой и общей площади, а также отношение площади кухни к общей\n",
        "    \n",
        "7. Проводим исследовательский анализ данных по инстуркции\n",
        "    \n",
        "8. Пишем общий вывод по проекту  \n"
      ]
    },
    {
      "cell_type": "markdown",
      "metadata": {
        "id": "WafuuTjWqjCO"
      },
      "source": [
        "### Шаг 1 Откройте файл с данными и изучите общую информацию"
      ]
    },
    {
      "cell_type": "code",
      "metadata": {
        "colab": {
          "base_uri": "https://localhost:8080/",
          "height": 810
        },
        "id": "kGPS3Jq6qjCO",
        "outputId": "c4113723-41ba-4dd0-9d27-73c862c1fe21"
      },
      "source": [
        "import pandas as pd #будет работать используя библиотеку pandas, разделим данные на столбцы\n",
        "import matplotlib.pyplot as plt #вызываем библиотеку для более удобной работы с графиками и гистограммами\n",
        "df = pd.read_csv('/content/real_estate_data.csv', sep = '\\t') \n",
        "df.info() #выводим общюю информацию по данным\n",
        "# отображаем все столбцы\n",
        "pd.options.display.max_columns = 40\n",
        "import warnings\n",
        "warnings.filterwarnings('ignore')\n",
        "df.sample(10)\n",
        "df.describe()"
      ],
      "execution_count": 2,
      "outputs": [
        {
          "output_type": "stream",
          "text": [
            "<class 'pandas.core.frame.DataFrame'>\n",
            "RangeIndex: 23699 entries, 0 to 23698\n",
            "Data columns (total 22 columns):\n",
            " #   Column                Non-Null Count  Dtype  \n",
            "---  ------                --------------  -----  \n",
            " 0   total_images          23699 non-null  int64  \n",
            " 1   last_price            23699 non-null  float64\n",
            " 2   total_area            23699 non-null  float64\n",
            " 3   first_day_exposition  23699 non-null  object \n",
            " 4   rooms                 23699 non-null  int64  \n",
            " 5   ceiling_height        14504 non-null  float64\n",
            " 6   floors_total          23613 non-null  float64\n",
            " 7   living_area           21796 non-null  float64\n",
            " 8   floor                 23699 non-null  int64  \n",
            " 9   is_apartment          2775 non-null   object \n",
            " 10  studio                23699 non-null  bool   \n",
            " 11  open_plan             23699 non-null  bool   \n",
            " 12  kitchen_area          21421 non-null  float64\n",
            " 13  balcony               12180 non-null  float64\n",
            " 14  locality_name         23650 non-null  object \n",
            " 15  airports_nearest      18157 non-null  float64\n",
            " 16  cityCenters_nearest   18180 non-null  float64\n",
            " 17  parks_around3000      18181 non-null  float64\n",
            " 18  parks_nearest         8079 non-null   float64\n",
            " 19  ponds_around3000      18181 non-null  float64\n",
            " 20  ponds_nearest         9110 non-null   float64\n",
            " 21  days_exposition       20518 non-null  float64\n",
            "dtypes: bool(2), float64(14), int64(3), object(3)\n",
            "memory usage: 3.7+ MB\n"
          ],
          "name": "stdout"
        },
        {
          "output_type": "execute_result",
          "data": {
            "text/html": [
              "<div>\n",
              "<style scoped>\n",
              "    .dataframe tbody tr th:only-of-type {\n",
              "        vertical-align: middle;\n",
              "    }\n",
              "\n",
              "    .dataframe tbody tr th {\n",
              "        vertical-align: top;\n",
              "    }\n",
              "\n",
              "    .dataframe thead th {\n",
              "        text-align: right;\n",
              "    }\n",
              "</style>\n",
              "<table border=\"1\" class=\"dataframe\">\n",
              "  <thead>\n",
              "    <tr style=\"text-align: right;\">\n",
              "      <th></th>\n",
              "      <th>total_images</th>\n",
              "      <th>last_price</th>\n",
              "      <th>total_area</th>\n",
              "      <th>rooms</th>\n",
              "      <th>ceiling_height</th>\n",
              "      <th>floors_total</th>\n",
              "      <th>living_area</th>\n",
              "      <th>floor</th>\n",
              "      <th>kitchen_area</th>\n",
              "      <th>balcony</th>\n",
              "      <th>airports_nearest</th>\n",
              "      <th>cityCenters_nearest</th>\n",
              "      <th>parks_around3000</th>\n",
              "      <th>parks_nearest</th>\n",
              "      <th>ponds_around3000</th>\n",
              "      <th>ponds_nearest</th>\n",
              "      <th>days_exposition</th>\n",
              "    </tr>\n",
              "  </thead>\n",
              "  <tbody>\n",
              "    <tr>\n",
              "      <th>count</th>\n",
              "      <td>23699.000000</td>\n",
              "      <td>2.369900e+04</td>\n",
              "      <td>23699.000000</td>\n",
              "      <td>23699.000000</td>\n",
              "      <td>14504.000000</td>\n",
              "      <td>23613.000000</td>\n",
              "      <td>21796.000000</td>\n",
              "      <td>23699.000000</td>\n",
              "      <td>21421.000000</td>\n",
              "      <td>12180.000000</td>\n",
              "      <td>18157.000000</td>\n",
              "      <td>18180.000000</td>\n",
              "      <td>18181.000000</td>\n",
              "      <td>8079.000000</td>\n",
              "      <td>18181.000000</td>\n",
              "      <td>9110.000000</td>\n",
              "      <td>20518.000000</td>\n",
              "    </tr>\n",
              "    <tr>\n",
              "      <th>mean</th>\n",
              "      <td>9.858475</td>\n",
              "      <td>6.541549e+06</td>\n",
              "      <td>60.348651</td>\n",
              "      <td>2.070636</td>\n",
              "      <td>2.771499</td>\n",
              "      <td>10.673824</td>\n",
              "      <td>34.457852</td>\n",
              "      <td>5.892358</td>\n",
              "      <td>10.569807</td>\n",
              "      <td>1.150082</td>\n",
              "      <td>28793.672193</td>\n",
              "      <td>14191.277833</td>\n",
              "      <td>0.611408</td>\n",
              "      <td>490.804555</td>\n",
              "      <td>0.770255</td>\n",
              "      <td>517.980900</td>\n",
              "      <td>180.888634</td>\n",
              "    </tr>\n",
              "    <tr>\n",
              "      <th>std</th>\n",
              "      <td>5.682529</td>\n",
              "      <td>1.088701e+07</td>\n",
              "      <td>35.654083</td>\n",
              "      <td>1.078405</td>\n",
              "      <td>1.261056</td>\n",
              "      <td>6.597173</td>\n",
              "      <td>22.030445</td>\n",
              "      <td>4.885249</td>\n",
              "      <td>5.905438</td>\n",
              "      <td>1.071300</td>\n",
              "      <td>12630.880622</td>\n",
              "      <td>8608.386210</td>\n",
              "      <td>0.802074</td>\n",
              "      <td>342.317995</td>\n",
              "      <td>0.938346</td>\n",
              "      <td>277.720643</td>\n",
              "      <td>219.727988</td>\n",
              "    </tr>\n",
              "    <tr>\n",
              "      <th>min</th>\n",
              "      <td>0.000000</td>\n",
              "      <td>1.219000e+04</td>\n",
              "      <td>12.000000</td>\n",
              "      <td>0.000000</td>\n",
              "      <td>1.000000</td>\n",
              "      <td>1.000000</td>\n",
              "      <td>2.000000</td>\n",
              "      <td>1.000000</td>\n",
              "      <td>1.300000</td>\n",
              "      <td>0.000000</td>\n",
              "      <td>0.000000</td>\n",
              "      <td>181.000000</td>\n",
              "      <td>0.000000</td>\n",
              "      <td>1.000000</td>\n",
              "      <td>0.000000</td>\n",
              "      <td>13.000000</td>\n",
              "      <td>1.000000</td>\n",
              "    </tr>\n",
              "    <tr>\n",
              "      <th>25%</th>\n",
              "      <td>6.000000</td>\n",
              "      <td>3.400000e+06</td>\n",
              "      <td>40.000000</td>\n",
              "      <td>1.000000</td>\n",
              "      <td>2.520000</td>\n",
              "      <td>5.000000</td>\n",
              "      <td>18.600000</td>\n",
              "      <td>2.000000</td>\n",
              "      <td>7.000000</td>\n",
              "      <td>0.000000</td>\n",
              "      <td>18585.000000</td>\n",
              "      <td>9238.000000</td>\n",
              "      <td>0.000000</td>\n",
              "      <td>288.000000</td>\n",
              "      <td>0.000000</td>\n",
              "      <td>294.000000</td>\n",
              "      <td>45.000000</td>\n",
              "    </tr>\n",
              "    <tr>\n",
              "      <th>50%</th>\n",
              "      <td>9.000000</td>\n",
              "      <td>4.650000e+06</td>\n",
              "      <td>52.000000</td>\n",
              "      <td>2.000000</td>\n",
              "      <td>2.650000</td>\n",
              "      <td>9.000000</td>\n",
              "      <td>30.000000</td>\n",
              "      <td>4.000000</td>\n",
              "      <td>9.100000</td>\n",
              "      <td>1.000000</td>\n",
              "      <td>26726.000000</td>\n",
              "      <td>13098.500000</td>\n",
              "      <td>0.000000</td>\n",
              "      <td>455.000000</td>\n",
              "      <td>1.000000</td>\n",
              "      <td>502.000000</td>\n",
              "      <td>95.000000</td>\n",
              "    </tr>\n",
              "    <tr>\n",
              "      <th>75%</th>\n",
              "      <td>14.000000</td>\n",
              "      <td>6.800000e+06</td>\n",
              "      <td>69.900000</td>\n",
              "      <td>3.000000</td>\n",
              "      <td>2.800000</td>\n",
              "      <td>16.000000</td>\n",
              "      <td>42.300000</td>\n",
              "      <td>8.000000</td>\n",
              "      <td>12.000000</td>\n",
              "      <td>2.000000</td>\n",
              "      <td>37273.000000</td>\n",
              "      <td>16293.000000</td>\n",
              "      <td>1.000000</td>\n",
              "      <td>612.000000</td>\n",
              "      <td>1.000000</td>\n",
              "      <td>729.000000</td>\n",
              "      <td>232.000000</td>\n",
              "    </tr>\n",
              "    <tr>\n",
              "      <th>max</th>\n",
              "      <td>50.000000</td>\n",
              "      <td>7.630000e+08</td>\n",
              "      <td>900.000000</td>\n",
              "      <td>19.000000</td>\n",
              "      <td>100.000000</td>\n",
              "      <td>60.000000</td>\n",
              "      <td>409.700000</td>\n",
              "      <td>33.000000</td>\n",
              "      <td>112.000000</td>\n",
              "      <td>5.000000</td>\n",
              "      <td>84869.000000</td>\n",
              "      <td>65968.000000</td>\n",
              "      <td>3.000000</td>\n",
              "      <td>3190.000000</td>\n",
              "      <td>3.000000</td>\n",
              "      <td>1344.000000</td>\n",
              "      <td>1580.000000</td>\n",
              "    </tr>\n",
              "  </tbody>\n",
              "</table>\n",
              "</div>"
            ],
            "text/plain": [
              "       total_images    last_price    total_area         rooms  ceiling_height  \\\n",
              "count  23699.000000  2.369900e+04  23699.000000  23699.000000    14504.000000   \n",
              "mean       9.858475  6.541549e+06     60.348651      2.070636        2.771499   \n",
              "std        5.682529  1.088701e+07     35.654083      1.078405        1.261056   \n",
              "min        0.000000  1.219000e+04     12.000000      0.000000        1.000000   \n",
              "25%        6.000000  3.400000e+06     40.000000      1.000000        2.520000   \n",
              "50%        9.000000  4.650000e+06     52.000000      2.000000        2.650000   \n",
              "75%       14.000000  6.800000e+06     69.900000      3.000000        2.800000   \n",
              "max       50.000000  7.630000e+08    900.000000     19.000000      100.000000   \n",
              "\n",
              "       floors_total   living_area         floor  kitchen_area       balcony  \\\n",
              "count  23613.000000  21796.000000  23699.000000  21421.000000  12180.000000   \n",
              "mean      10.673824     34.457852      5.892358     10.569807      1.150082   \n",
              "std        6.597173     22.030445      4.885249      5.905438      1.071300   \n",
              "min        1.000000      2.000000      1.000000      1.300000      0.000000   \n",
              "25%        5.000000     18.600000      2.000000      7.000000      0.000000   \n",
              "50%        9.000000     30.000000      4.000000      9.100000      1.000000   \n",
              "75%       16.000000     42.300000      8.000000     12.000000      2.000000   \n",
              "max       60.000000    409.700000     33.000000    112.000000      5.000000   \n",
              "\n",
              "       airports_nearest  cityCenters_nearest  parks_around3000  parks_nearest  \\\n",
              "count      18157.000000         18180.000000      18181.000000    8079.000000   \n",
              "mean       28793.672193         14191.277833          0.611408     490.804555   \n",
              "std        12630.880622          8608.386210          0.802074     342.317995   \n",
              "min            0.000000           181.000000          0.000000       1.000000   \n",
              "25%        18585.000000          9238.000000          0.000000     288.000000   \n",
              "50%        26726.000000         13098.500000          0.000000     455.000000   \n",
              "75%        37273.000000         16293.000000          1.000000     612.000000   \n",
              "max        84869.000000         65968.000000          3.000000    3190.000000   \n",
              "\n",
              "       ponds_around3000  ponds_nearest  days_exposition  \n",
              "count      18181.000000    9110.000000     20518.000000  \n",
              "mean           0.770255     517.980900       180.888634  \n",
              "std            0.938346     277.720643       219.727988  \n",
              "min            0.000000      13.000000         1.000000  \n",
              "25%            0.000000     294.000000        45.000000  \n",
              "50%            1.000000     502.000000        95.000000  \n",
              "75%            1.000000     729.000000       232.000000  \n",
              "max            3.000000    1344.000000      1580.000000  "
            ]
          },
          "metadata": {
            "tags": []
          },
          "execution_count": 2
        }
      ]
    },
    {
      "cell_type": "markdown",
      "metadata": {
        "id": "E-_RSZbdqjCS"
      },
      "source": [
        "### Вывод"
      ]
    },
    {
      "cell_type": "markdown",
      "metadata": {
        "id": "VG4wmX88qjCT"
      },
      "source": [
        "1. Пропуски с высотой потолков ничем не заполняем, так как данный параметр не является важным для ответа на ключевой вопрос исследования. Пропуски составляют 53% всей выборки, при этом данный параметр не корреклирует в достаточной степени ни с одним из других значений в таблице.\n",
        "2. Пропуски с кол-вом этажей в доме составляют 86шт или 0,4%  от всех строк. Данные значения можно заменить на медианные, то есть 9 этажей. \n",
        "3. Пропуски с жилой площадью составили 8% или 1903 строк, а с площадью кухни 10% или 2276 строк. Данные параметры необходимы для ответа на вопросы задачи. Удалить их нельзя, так как их весьма много и итоговые данные исказятся, соответственно пропуски необходимо заполнить медианными значениями\n",
        "4. Пропуски имеются и в столбце с балконами. В 11 519 строк нет информации о наличии балкона. Скорее всего, в таком случае их 0. Поэтому делаем замену пустых значений на 0. Кроме того, кол-во балконов не коррелирует ни с одной другой величиной явно.\n",
        "\n",
        "Вероятно, раз кол-во балконов и высота потолков заполнялись при публикации объявления людьми и примерно в 50% этих данных нет, данные поля были не обязательными при заполнении. "
      ]
    },
    {
      "cell_type": "markdown",
      "metadata": {
        "id": "fbSJ-afiqjCU"
      },
      "source": [
        "### Шаг 2. Предобработка данных"
      ]
    },
    {
      "cell_type": "code",
      "metadata": {
        "id": "faBHr9O4qjCU"
      },
      "source": [
        "#заполняем пустоты в столбцах living_area и kitchen_area\n",
        "df['living_area_ratio'] = df['living_area'] / df['total_area'] #создаем новый столбец с долей жилой площади\n",
        "df['kitchen_area_ratio'] = df['kitchen_area'] / df['total_area'] #создаем новый столбец с долей кухонной площади\n",
        "#данные по пунктам выше отвечают на пункт номер 6 в плане\n",
        "df.corr() #выясняем зависимость между этими показателями и прочими значениями таблицы\n",
        "# Доля площади квартир от жилой площади / от кухонной площади напрямую коррелирует с кол-вом комнат\n",
        "living_area_ratio = df.groupby('rooms')['living_area_ratio'].median() #сгруппируем по кол-ву комнат и определим медиану, создадим словарь\n",
        "kitchen_area_ratio = df.groupby('rooms')['kitchen_area_ratio'].median() #аналогично\n",
        "df['living_area'] = df['living_area'].fillna(df['rooms'].map(living_area_ratio)*df['total_area']) \n",
        "df['kitchen_area'] = df['kitchen_area'].fillna(df['rooms'].map(kitchen_area_ratio)*df['total_area'])"
      ],
      "execution_count": 3,
      "outputs": []
    },
    {
      "cell_type": "code",
      "metadata": {
        "colab": {
          "base_uri": "https://localhost:8080/"
        },
        "id": "frJ6uui1qjCV",
        "outputId": "77873e03-1094-476f-c5f8-33158216ad64"
      },
      "source": [
        "#заполняем пропуск в столбце floors_total\n",
        "median_floors_total = df['floors_total'].median() #менее 1% пропусков, заполняем медианным значением по столбцу\n",
        "df['floors_total'] = df['floors_total'].fillna(median_floors_total) \n",
        "df.duplicated() #ищем дубликаты - не найдены"
      ],
      "execution_count": 4,
      "outputs": [
        {
          "output_type": "execute_result",
          "data": {
            "text/plain": [
              "0        False\n",
              "1        False\n",
              "2        False\n",
              "3        False\n",
              "4        False\n",
              "         ...  \n",
              "23694    False\n",
              "23695    False\n",
              "23696    False\n",
              "23697    False\n",
              "23698    False\n",
              "Length: 23699, dtype: bool"
            ]
          },
          "metadata": {
            "tags": []
          },
          "execution_count": 4
        }
      ]
    },
    {
      "cell_type": "code",
      "metadata": {
        "id": "I_To-8cLqjCW"
      },
      "source": [
        "df['balcony'] = df['balcony'].fillna(0) #заменяем пропуски в столбце с балконами на 0"
      ],
      "execution_count": 5,
      "outputs": []
    },
    {
      "cell_type": "code",
      "metadata": {
        "id": "sjgKIw2YqjCW"
      },
      "source": [
        "df['is_apartment'] = df['is_apartment'].fillna(False) #заменяем пропуски в столбце с обозначением аппартаментов на False"
      ],
      "execution_count": 6,
      "outputs": []
    },
    {
      "cell_type": "code",
      "metadata": {
        "id": "Uc-MlCKpqjCW"
      },
      "source": [
        "#заменяем тип данных для увеличения быстродействия\n",
        "df['total_area'] = df['total_area'].astype('int64')\n",
        "df['floors_total'] = df['floors_total'].astype('int64')\n",
        "df['living_area'] = df['living_area'].astype('int64')\n",
        "df['balcony'] = df['balcony'].astype('int64')"
      ],
      "execution_count": 7,
      "outputs": []
    },
    {
      "cell_type": "code",
      "metadata": {
        "id": "Cw5UBh6mqjCY"
      },
      "source": [
        "df['days_exposition'] = df['days_exposition'].fillna(df['days_exposition'].median())\n",
        "#заменяем пропуски на медианное значение, пропусков при этом 14%. однако данный показатель не корреклирует в достаточной завизивимости с другими, поэтому менеям на простую медиану"
      ],
      "execution_count": 8,
      "outputs": []
    },
    {
      "cell_type": "code",
      "metadata": {
        "id": "7-NVPd8SqjCZ"
      },
      "source": [
        "df['days_exposition'] = df['days_exposition'].astype('int64')"
      ],
      "execution_count": 9,
      "outputs": []
    },
    {
      "cell_type": "code",
      "metadata": {
        "id": "N18HOdyAqjCZ"
      },
      "source": [
        "df['price_of_1_square_meter'] = df['last_price'] / df['total_area'] #находим цену 1 квадратного метра, выполняя ответ на пункт номер 3"
      ],
      "execution_count": 10,
      "outputs": []
    },
    {
      "cell_type": "code",
      "metadata": {
        "id": "5cZnJupXqjCa"
      },
      "source": [
        "df['price_of_1_square_meter'] = df['price_of_1_square_meter'].astype('int64')"
      ],
      "execution_count": 11,
      "outputs": []
    },
    {
      "cell_type": "code",
      "metadata": {
        "colab": {
          "base_uri": "https://localhost:8080/",
          "height": 592
        },
        "id": "8Zw8reOWqjCa",
        "outputId": "09d9033f-a8bc-4d15-e08e-df352597766f"
      },
      "source": [
        "#выполняем пункт номер 4 - Выделяем день недели, месяц и год публикации каждого объявления\n",
        "import datetime #вызывыаем библиотеку для работы со столбцом со временем\n",
        "df['first_day_exposition'] = pd.to_datetime(df['first_day_exposition'], format = '%Y-%m-%dT%H:%M:%S') #меняем формат отображения даты\n",
        "df['weekday_exposition'] = df['first_day_exposition'].dt.weekday #добавляем столбец с порядковым номером дня в недеде\n",
        "df['month_exposition'] = df['first_day_exposition'].dt.month #добавляем столбец с порядковым номером месяца в недеде\n",
        "df['year_exposition'] = df['first_day_exposition'].dt.year #добавляем столбец с порядковым номером года в недеде\n",
        "#добавляем столбец с наименованием этажа (первый, последний или другой)\n",
        "df\n",
        "def floor_name(value):\n",
        "    floor = value['floor']\n",
        "    floors_total = value['floors_total']\n",
        "    if floor == 1:\n",
        "        return \"первый\"\n",
        "    if floor == floors_total:\n",
        "        return \"последний\"         \n",
        "    return \"другой\"\n",
        "df['floor_name'] = df.apply(floor_name, axis=1)\n",
        "df"
      ],
      "execution_count": 12,
      "outputs": [
        {
          "output_type": "execute_result",
          "data": {
            "text/html": [
              "<div>\n",
              "<style scoped>\n",
              "    .dataframe tbody tr th:only-of-type {\n",
              "        vertical-align: middle;\n",
              "    }\n",
              "\n",
              "    .dataframe tbody tr th {\n",
              "        vertical-align: top;\n",
              "    }\n",
              "\n",
              "    .dataframe thead th {\n",
              "        text-align: right;\n",
              "    }\n",
              "</style>\n",
              "<table border=\"1\" class=\"dataframe\">\n",
              "  <thead>\n",
              "    <tr style=\"text-align: right;\">\n",
              "      <th></th>\n",
              "      <th>total_images</th>\n",
              "      <th>last_price</th>\n",
              "      <th>total_area</th>\n",
              "      <th>first_day_exposition</th>\n",
              "      <th>rooms</th>\n",
              "      <th>ceiling_height</th>\n",
              "      <th>floors_total</th>\n",
              "      <th>living_area</th>\n",
              "      <th>floor</th>\n",
              "      <th>is_apartment</th>\n",
              "      <th>studio</th>\n",
              "      <th>open_plan</th>\n",
              "      <th>kitchen_area</th>\n",
              "      <th>balcony</th>\n",
              "      <th>locality_name</th>\n",
              "      <th>airports_nearest</th>\n",
              "      <th>cityCenters_nearest</th>\n",
              "      <th>parks_around3000</th>\n",
              "      <th>parks_nearest</th>\n",
              "      <th>ponds_around3000</th>\n",
              "      <th>ponds_nearest</th>\n",
              "      <th>days_exposition</th>\n",
              "      <th>living_area_ratio</th>\n",
              "      <th>kitchen_area_ratio</th>\n",
              "      <th>price_of_1_square_meter</th>\n",
              "      <th>weekday_exposition</th>\n",
              "      <th>month_exposition</th>\n",
              "      <th>year_exposition</th>\n",
              "      <th>floor_name</th>\n",
              "    </tr>\n",
              "  </thead>\n",
              "  <tbody>\n",
              "    <tr>\n",
              "      <th>0</th>\n",
              "      <td>20</td>\n",
              "      <td>13000000.0</td>\n",
              "      <td>108</td>\n",
              "      <td>2019-03-07</td>\n",
              "      <td>3</td>\n",
              "      <td>2.70</td>\n",
              "      <td>16</td>\n",
              "      <td>51</td>\n",
              "      <td>8</td>\n",
              "      <td>False</td>\n",
              "      <td>False</td>\n",
              "      <td>False</td>\n",
              "      <td>25.000000</td>\n",
              "      <td>0</td>\n",
              "      <td>Санкт-Петербург</td>\n",
              "      <td>18863.0</td>\n",
              "      <td>16028.0</td>\n",
              "      <td>1.0</td>\n",
              "      <td>482.0</td>\n",
              "      <td>2.0</td>\n",
              "      <td>755.0</td>\n",
              "      <td>95</td>\n",
              "      <td>0.472222</td>\n",
              "      <td>0.231481</td>\n",
              "      <td>120370</td>\n",
              "      <td>3</td>\n",
              "      <td>3</td>\n",
              "      <td>2019</td>\n",
              "      <td>другой</td>\n",
              "    </tr>\n",
              "    <tr>\n",
              "      <th>1</th>\n",
              "      <td>7</td>\n",
              "      <td>3350000.0</td>\n",
              "      <td>40</td>\n",
              "      <td>2018-12-04</td>\n",
              "      <td>1</td>\n",
              "      <td>NaN</td>\n",
              "      <td>11</td>\n",
              "      <td>18</td>\n",
              "      <td>1</td>\n",
              "      <td>False</td>\n",
              "      <td>False</td>\n",
              "      <td>False</td>\n",
              "      <td>11.000000</td>\n",
              "      <td>2</td>\n",
              "      <td>посёлок Шушары</td>\n",
              "      <td>12817.0</td>\n",
              "      <td>18603.0</td>\n",
              "      <td>0.0</td>\n",
              "      <td>NaN</td>\n",
              "      <td>0.0</td>\n",
              "      <td>NaN</td>\n",
              "      <td>81</td>\n",
              "      <td>0.460396</td>\n",
              "      <td>0.272277</td>\n",
              "      <td>83750</td>\n",
              "      <td>1</td>\n",
              "      <td>12</td>\n",
              "      <td>2018</td>\n",
              "      <td>первый</td>\n",
              "    </tr>\n",
              "    <tr>\n",
              "      <th>2</th>\n",
              "      <td>10</td>\n",
              "      <td>5196000.0</td>\n",
              "      <td>56</td>\n",
              "      <td>2015-08-20</td>\n",
              "      <td>2</td>\n",
              "      <td>NaN</td>\n",
              "      <td>5</td>\n",
              "      <td>34</td>\n",
              "      <td>4</td>\n",
              "      <td>False</td>\n",
              "      <td>False</td>\n",
              "      <td>False</td>\n",
              "      <td>8.300000</td>\n",
              "      <td>0</td>\n",
              "      <td>Санкт-Петербург</td>\n",
              "      <td>21741.0</td>\n",
              "      <td>13933.0</td>\n",
              "      <td>1.0</td>\n",
              "      <td>90.0</td>\n",
              "      <td>2.0</td>\n",
              "      <td>574.0</td>\n",
              "      <td>558</td>\n",
              "      <td>0.612500</td>\n",
              "      <td>0.148214</td>\n",
              "      <td>92785</td>\n",
              "      <td>3</td>\n",
              "      <td>8</td>\n",
              "      <td>2015</td>\n",
              "      <td>другой</td>\n",
              "    </tr>\n",
              "    <tr>\n",
              "      <th>3</th>\n",
              "      <td>0</td>\n",
              "      <td>64900000.0</td>\n",
              "      <td>159</td>\n",
              "      <td>2015-07-24</td>\n",
              "      <td>3</td>\n",
              "      <td>NaN</td>\n",
              "      <td>14</td>\n",
              "      <td>100</td>\n",
              "      <td>9</td>\n",
              "      <td>False</td>\n",
              "      <td>False</td>\n",
              "      <td>False</td>\n",
              "      <td>20.442857</td>\n",
              "      <td>0</td>\n",
              "      <td>Санкт-Петербург</td>\n",
              "      <td>28098.0</td>\n",
              "      <td>6800.0</td>\n",
              "      <td>2.0</td>\n",
              "      <td>84.0</td>\n",
              "      <td>3.0</td>\n",
              "      <td>234.0</td>\n",
              "      <td>424</td>\n",
              "      <td>NaN</td>\n",
              "      <td>NaN</td>\n",
              "      <td>408176</td>\n",
              "      <td>4</td>\n",
              "      <td>7</td>\n",
              "      <td>2015</td>\n",
              "      <td>другой</td>\n",
              "    </tr>\n",
              "    <tr>\n",
              "      <th>4</th>\n",
              "      <td>2</td>\n",
              "      <td>10000000.0</td>\n",
              "      <td>100</td>\n",
              "      <td>2018-06-19</td>\n",
              "      <td>2</td>\n",
              "      <td>3.03</td>\n",
              "      <td>14</td>\n",
              "      <td>32</td>\n",
              "      <td>13</td>\n",
              "      <td>False</td>\n",
              "      <td>False</td>\n",
              "      <td>False</td>\n",
              "      <td>41.000000</td>\n",
              "      <td>0</td>\n",
              "      <td>Санкт-Петербург</td>\n",
              "      <td>31856.0</td>\n",
              "      <td>8098.0</td>\n",
              "      <td>2.0</td>\n",
              "      <td>112.0</td>\n",
              "      <td>1.0</td>\n",
              "      <td>48.0</td>\n",
              "      <td>121</td>\n",
              "      <td>0.320000</td>\n",
              "      <td>0.410000</td>\n",
              "      <td>100000</td>\n",
              "      <td>1</td>\n",
              "      <td>6</td>\n",
              "      <td>2018</td>\n",
              "      <td>другой</td>\n",
              "    </tr>\n",
              "    <tr>\n",
              "      <th>...</th>\n",
              "      <td>...</td>\n",
              "      <td>...</td>\n",
              "      <td>...</td>\n",
              "      <td>...</td>\n",
              "      <td>...</td>\n",
              "      <td>...</td>\n",
              "      <td>...</td>\n",
              "      <td>...</td>\n",
              "      <td>...</td>\n",
              "      <td>...</td>\n",
              "      <td>...</td>\n",
              "      <td>...</td>\n",
              "      <td>...</td>\n",
              "      <td>...</td>\n",
              "      <td>...</td>\n",
              "      <td>...</td>\n",
              "      <td>...</td>\n",
              "      <td>...</td>\n",
              "      <td>...</td>\n",
              "      <td>...</td>\n",
              "      <td>...</td>\n",
              "      <td>...</td>\n",
              "      <td>...</td>\n",
              "      <td>...</td>\n",
              "      <td>...</td>\n",
              "      <td>...</td>\n",
              "      <td>...</td>\n",
              "      <td>...</td>\n",
              "      <td>...</td>\n",
              "    </tr>\n",
              "    <tr>\n",
              "      <th>23694</th>\n",
              "      <td>9</td>\n",
              "      <td>9700000.0</td>\n",
              "      <td>133</td>\n",
              "      <td>2017-03-21</td>\n",
              "      <td>3</td>\n",
              "      <td>3.70</td>\n",
              "      <td>5</td>\n",
              "      <td>73</td>\n",
              "      <td>3</td>\n",
              "      <td>False</td>\n",
              "      <td>False</td>\n",
              "      <td>False</td>\n",
              "      <td>13.830000</td>\n",
              "      <td>0</td>\n",
              "      <td>Санкт-Петербург</td>\n",
              "      <td>24665.0</td>\n",
              "      <td>4232.0</td>\n",
              "      <td>1.0</td>\n",
              "      <td>796.0</td>\n",
              "      <td>3.0</td>\n",
              "      <td>381.0</td>\n",
              "      <td>95</td>\n",
              "      <td>0.547792</td>\n",
              "      <td>0.103356</td>\n",
              "      <td>72932</td>\n",
              "      <td>1</td>\n",
              "      <td>3</td>\n",
              "      <td>2017</td>\n",
              "      <td>другой</td>\n",
              "    </tr>\n",
              "    <tr>\n",
              "      <th>23695</th>\n",
              "      <td>14</td>\n",
              "      <td>3100000.0</td>\n",
              "      <td>59</td>\n",
              "      <td>2018-01-15</td>\n",
              "      <td>3</td>\n",
              "      <td>NaN</td>\n",
              "      <td>5</td>\n",
              "      <td>38</td>\n",
              "      <td>4</td>\n",
              "      <td>False</td>\n",
              "      <td>False</td>\n",
              "      <td>False</td>\n",
              "      <td>8.500000</td>\n",
              "      <td>0</td>\n",
              "      <td>Тосно</td>\n",
              "      <td>NaN</td>\n",
              "      <td>NaN</td>\n",
              "      <td>NaN</td>\n",
              "      <td>NaN</td>\n",
              "      <td>NaN</td>\n",
              "      <td>NaN</td>\n",
              "      <td>45</td>\n",
              "      <td>0.644068</td>\n",
              "      <td>0.144068</td>\n",
              "      <td>52542</td>\n",
              "      <td>0</td>\n",
              "      <td>1</td>\n",
              "      <td>2018</td>\n",
              "      <td>другой</td>\n",
              "    </tr>\n",
              "    <tr>\n",
              "      <th>23696</th>\n",
              "      <td>18</td>\n",
              "      <td>2500000.0</td>\n",
              "      <td>56</td>\n",
              "      <td>2018-02-11</td>\n",
              "      <td>2</td>\n",
              "      <td>NaN</td>\n",
              "      <td>3</td>\n",
              "      <td>29</td>\n",
              "      <td>1</td>\n",
              "      <td>False</td>\n",
              "      <td>False</td>\n",
              "      <td>False</td>\n",
              "      <td>9.132958</td>\n",
              "      <td>0</td>\n",
              "      <td>село Рождествено</td>\n",
              "      <td>NaN</td>\n",
              "      <td>NaN</td>\n",
              "      <td>NaN</td>\n",
              "      <td>NaN</td>\n",
              "      <td>NaN</td>\n",
              "      <td>NaN</td>\n",
              "      <td>95</td>\n",
              "      <td>0.523810</td>\n",
              "      <td>NaN</td>\n",
              "      <td>44642</td>\n",
              "      <td>6</td>\n",
              "      <td>2</td>\n",
              "      <td>2018</td>\n",
              "      <td>первый</td>\n",
              "    </tr>\n",
              "    <tr>\n",
              "      <th>23697</th>\n",
              "      <td>13</td>\n",
              "      <td>11475000.0</td>\n",
              "      <td>76</td>\n",
              "      <td>2017-03-28</td>\n",
              "      <td>2</td>\n",
              "      <td>3.00</td>\n",
              "      <td>17</td>\n",
              "      <td>44</td>\n",
              "      <td>12</td>\n",
              "      <td>False</td>\n",
              "      <td>False</td>\n",
              "      <td>False</td>\n",
              "      <td>23.300000</td>\n",
              "      <td>2</td>\n",
              "      <td>Санкт-Петербург</td>\n",
              "      <td>39140.0</td>\n",
              "      <td>10364.0</td>\n",
              "      <td>2.0</td>\n",
              "      <td>173.0</td>\n",
              "      <td>3.0</td>\n",
              "      <td>196.0</td>\n",
              "      <td>602</td>\n",
              "      <td>NaN</td>\n",
              "      <td>0.303583</td>\n",
              "      <td>150986</td>\n",
              "      <td>1</td>\n",
              "      <td>3</td>\n",
              "      <td>2017</td>\n",
              "      <td>другой</td>\n",
              "    </tr>\n",
              "    <tr>\n",
              "      <th>23698</th>\n",
              "      <td>4</td>\n",
              "      <td>1350000.0</td>\n",
              "      <td>32</td>\n",
              "      <td>2017-07-21</td>\n",
              "      <td>1</td>\n",
              "      <td>2.50</td>\n",
              "      <td>5</td>\n",
              "      <td>12</td>\n",
              "      <td>1</td>\n",
              "      <td>False</td>\n",
              "      <td>False</td>\n",
              "      <td>False</td>\n",
              "      <td>9.000000</td>\n",
              "      <td>0</td>\n",
              "      <td>поселок Новый Учхоз</td>\n",
              "      <td>NaN</td>\n",
              "      <td>NaN</td>\n",
              "      <td>NaN</td>\n",
              "      <td>NaN</td>\n",
              "      <td>NaN</td>\n",
              "      <td>NaN</td>\n",
              "      <td>95</td>\n",
              "      <td>0.380805</td>\n",
              "      <td>0.278638</td>\n",
              "      <td>42187</td>\n",
              "      <td>4</td>\n",
              "      <td>7</td>\n",
              "      <td>2017</td>\n",
              "      <td>первый</td>\n",
              "    </tr>\n",
              "  </tbody>\n",
              "</table>\n",
              "<p>23699 rows × 29 columns</p>\n",
              "</div>"
            ],
            "text/plain": [
              "       total_images  last_price  total_area first_day_exposition  rooms  \\\n",
              "0                20  13000000.0         108           2019-03-07      3   \n",
              "1                 7   3350000.0          40           2018-12-04      1   \n",
              "2                10   5196000.0          56           2015-08-20      2   \n",
              "3                 0  64900000.0         159           2015-07-24      3   \n",
              "4                 2  10000000.0         100           2018-06-19      2   \n",
              "...             ...         ...         ...                  ...    ...   \n",
              "23694             9   9700000.0         133           2017-03-21      3   \n",
              "23695            14   3100000.0          59           2018-01-15      3   \n",
              "23696            18   2500000.0          56           2018-02-11      2   \n",
              "23697            13  11475000.0          76           2017-03-28      2   \n",
              "23698             4   1350000.0          32           2017-07-21      1   \n",
              "\n",
              "       ceiling_height  floors_total  living_area  floor  is_apartment  studio  \\\n",
              "0                2.70            16           51      8         False   False   \n",
              "1                 NaN            11           18      1         False   False   \n",
              "2                 NaN             5           34      4         False   False   \n",
              "3                 NaN            14          100      9         False   False   \n",
              "4                3.03            14           32     13         False   False   \n",
              "...               ...           ...          ...    ...           ...     ...   \n",
              "23694            3.70             5           73      3         False   False   \n",
              "23695             NaN             5           38      4         False   False   \n",
              "23696             NaN             3           29      1         False   False   \n",
              "23697            3.00            17           44     12         False   False   \n",
              "23698            2.50             5           12      1         False   False   \n",
              "\n",
              "       open_plan  kitchen_area  balcony        locality_name  \\\n",
              "0          False     25.000000        0      Санкт-Петербург   \n",
              "1          False     11.000000        2       посёлок Шушары   \n",
              "2          False      8.300000        0      Санкт-Петербург   \n",
              "3          False     20.442857        0      Санкт-Петербург   \n",
              "4          False     41.000000        0      Санкт-Петербург   \n",
              "...          ...           ...      ...                  ...   \n",
              "23694      False     13.830000        0      Санкт-Петербург   \n",
              "23695      False      8.500000        0                Тосно   \n",
              "23696      False      9.132958        0     село Рождествено   \n",
              "23697      False     23.300000        2      Санкт-Петербург   \n",
              "23698      False      9.000000        0  поселок Новый Учхоз   \n",
              "\n",
              "       airports_nearest  cityCenters_nearest  parks_around3000  parks_nearest  \\\n",
              "0               18863.0              16028.0               1.0          482.0   \n",
              "1               12817.0              18603.0               0.0            NaN   \n",
              "2               21741.0              13933.0               1.0           90.0   \n",
              "3               28098.0               6800.0               2.0           84.0   \n",
              "4               31856.0               8098.0               2.0          112.0   \n",
              "...                 ...                  ...               ...            ...   \n",
              "23694           24665.0               4232.0               1.0          796.0   \n",
              "23695               NaN                  NaN               NaN            NaN   \n",
              "23696               NaN                  NaN               NaN            NaN   \n",
              "23697           39140.0              10364.0               2.0          173.0   \n",
              "23698               NaN                  NaN               NaN            NaN   \n",
              "\n",
              "       ponds_around3000  ponds_nearest  days_exposition  living_area_ratio  \\\n",
              "0                   2.0          755.0               95           0.472222   \n",
              "1                   0.0            NaN               81           0.460396   \n",
              "2                   2.0          574.0              558           0.612500   \n",
              "3                   3.0          234.0              424                NaN   \n",
              "4                   1.0           48.0              121           0.320000   \n",
              "...                 ...            ...              ...                ...   \n",
              "23694               3.0          381.0               95           0.547792   \n",
              "23695               NaN            NaN               45           0.644068   \n",
              "23696               NaN            NaN               95           0.523810   \n",
              "23697               3.0          196.0              602                NaN   \n",
              "23698               NaN            NaN               95           0.380805   \n",
              "\n",
              "       kitchen_area_ratio  price_of_1_square_meter  weekday_exposition  \\\n",
              "0                0.231481                   120370                   3   \n",
              "1                0.272277                    83750                   1   \n",
              "2                0.148214                    92785                   3   \n",
              "3                     NaN                   408176                   4   \n",
              "4                0.410000                   100000                   1   \n",
              "...                   ...                      ...                 ...   \n",
              "23694            0.103356                    72932                   1   \n",
              "23695            0.144068                    52542                   0   \n",
              "23696                 NaN                    44642                   6   \n",
              "23697            0.303583                   150986                   1   \n",
              "23698            0.278638                    42187                   4   \n",
              "\n",
              "       month_exposition  year_exposition floor_name  \n",
              "0                     3             2019     другой  \n",
              "1                    12             2018     первый  \n",
              "2                     8             2015     другой  \n",
              "3                     7             2015     другой  \n",
              "4                     6             2018     другой  \n",
              "...                 ...              ...        ...  \n",
              "23694                 3             2017     другой  \n",
              "23695                 1             2018     другой  \n",
              "23696                 2             2018     первый  \n",
              "23697                 3             2017     другой  \n",
              "23698                 7             2017     первый  \n",
              "\n",
              "[23699 rows x 29 columns]"
            ]
          },
          "metadata": {
            "tags": []
          },
          "execution_count": 12
        }
      ]
    },
    {
      "cell_type": "markdown",
      "metadata": {
        "id": "nrmWizl0qjCc"
      },
      "source": [
        "### Вывод"
      ]
    },
    {
      "cell_type": "markdown",
      "metadata": {
        "id": "nW7_oqikqjCd"
      },
      "source": [
        "1. Введу большого объема данных и части ручного их ввода, есть большая доля пропущенных значений во многих столбцах\n",
        "2. Для того, чтобы их минимизировать необходимо сделать обязательными для заполнения значения жилой площади и площади кухни, как пример"
      ]
    },
    {
      "cell_type": "markdown",
      "metadata": {
        "id": "gaadtS4DqjCe"
      },
      "source": [
        "### Шаг 4. Проведите исследовательский анализ данных и выполните инструкции:"
      ]
    },
    {
      "cell_type": "code",
      "metadata": {
        "colab": {
          "base_uri": "https://localhost:8080/",
          "height": 448
        },
        "id": "6Fyg7SjHqjCe",
        "outputId": "759107b4-190b-4edb-9a63-45f79c615f01"
      },
      "source": [
        "#анализируем ряд параметров через метод desctibe и гистограммы \n",
        "df.hist('living_area', bins = 100)\n",
        "plt.xlim(0,100)\n",
        "plt.title('Жилая площадь, ЛО и СПб') #назовем график\n",
        "plt.ylabel('Кол-во объявлений, шт') #назовем сторону y\n",
        "plt.xlabel('Площадь, м2') #назовем сторону x\n",
        "df['living_area'].describe()"
      ],
      "execution_count": 13,
      "outputs": [
        {
          "output_type": "execute_result",
          "data": {
            "text/plain": [
              "count    23699.000000\n",
              "mean        34.426642\n",
              "std         22.836103\n",
              "min          2.000000\n",
              "25%         18.000000\n",
              "50%         30.000000\n",
              "75%         42.000000\n",
              "max        430.000000\n",
              "Name: living_area, dtype: float64"
            ]
          },
          "metadata": {
            "tags": []
          },
          "execution_count": 13
        },
        {
          "output_type": "display_data",
          "data": {
            "image/png": "[encoded data removed]",
            "text/plain": [
              "<Figure size 432x288 with 1 Axes>"
            ]
          },
          "metadata": {
            "tags": [],
            "needs_background": "light"
          }
        }
      ]
    },
    {
      "cell_type": "markdown",
      "metadata": {
        "id": "SEGZ5ccSqjCh"
      },
      "source": [
        "Средний метраж, продаваемых квартир в Санкт-Петербурге и Лен области равен 34,7 м2; минимальная квартира - 2 м2, а самая большая 430 м2. Самая распространенная площадью квартиры от 18 до 42х м2. При этом более 5000 объявлений представлено на квартиры до 20 кв м (квартиры-студии или комнаты) "
      ]
    },
    {
      "cell_type": "code",
      "metadata": {
        "colab": {
          "base_uri": "https://localhost:8080/",
          "height": 448
        },
        "id": "NJ6CQG_EqjCh",
        "outputId": "02b7be3a-f8fb-442f-aa8e-4c7c38eb66e2"
      },
      "source": [
        "df.hist('last_price', bins = 2000)\n",
        "plt.xlim(0,40000000)\n",
        "plt.title('Цена на момент снятия с продажи, ЛО и Спб') #назовем график\n",
        "plt.ylabel('Кол-во объявлений, шт') #назовем сторону y\n",
        "plt.xlabel('Цена, млн') #назовем сторону x\n",
        "df['last_price'].describe()"
      ],
      "execution_count": 14,
      "outputs": [
        {
          "output_type": "execute_result",
          "data": {
            "text/plain": [
              "count    2.369900e+04\n",
              "mean     6.541549e+06\n",
              "std      1.088701e+07\n",
              "min      1.219000e+04\n",
              "25%      3.400000e+06\n",
              "50%      4.650000e+06\n",
              "75%      6.800000e+06\n",
              "max      7.630000e+08\n",
              "Name: last_price, dtype: float64"
            ]
          },
          "metadata": {
            "tags": []
          },
          "execution_count": 14
        },
        {
          "output_type": "display_data",
          "data": {
            "image/png": "[encoded data removed]",
            "text/plain": [
              "<Figure size 432x288 with 1 Axes>"
            ]
          },
          "metadata": {
            "tags": [],
            "needs_background": "light"
          }
        }
      ]
    },
    {
      "cell_type": "markdown",
      "metadata": {
        "id": "KiptDD6ZqjCl"
      },
      "source": [
        "Средний цена, продаваемых квартир в Санкт-Петербурге и Лен области равна 6,5 млн р. "
      ]
    },
    {
      "cell_type": "code",
      "metadata": {
        "colab": {
          "base_uri": "https://localhost:8080/",
          "height": 448
        },
        "id": "EIkd-EhRqjCm",
        "outputId": "b1839263-1525-4750-d105-8d6dffe04232"
      },
      "source": [
        "df.hist('rooms', bins = 10)\n",
        "plt.title('Количество комнат, ЛО и Спб') #назовем график\n",
        "plt.ylabel('Кол-во объявлений, шт') #назовем сторону y\n",
        "plt.xlabel('Кол-во комнат в одной квартире, шт') #назовем сторону x\n",
        "df['rooms'].describe()"
      ],
      "execution_count": 15,
      "outputs": [
        {
          "output_type": "execute_result",
          "data": {
            "text/plain": [
              "count    23699.000000\n",
              "mean         2.070636\n",
              "std          1.078405\n",
              "min          0.000000\n",
              "25%          1.000000\n",
              "50%          2.000000\n",
              "75%          3.000000\n",
              "max         19.000000\n",
              "Name: rooms, dtype: float64"
            ]
          },
          "metadata": {
            "tags": []
          },
          "execution_count": 15
        },
        {
          "output_type": "display_data",
          "data": {
            "image/png": "[encoded data removed]",
            "text/plain": [
              "<Figure size 432x288 with 1 Axes>"
            ]
          },
          "metadata": {
            "tags": [],
            "needs_background": "light"
          }
        }
      ]
    },
    {
      "cell_type": "markdown",
      "metadata": {
        "id": "OAZLuyMZqjCn"
      },
      "source": [
        "В среднем в Санктр-Петербруге и Лен. области продаются через Яндекс.Недвижимость квартиры с 2мя комнатами. Однако и была на продаже квартира с 19ю комнатами. Средний диапазон находится в пределах от 1 до 3х комнат"
      ]
    },
    {
      "cell_type": "code",
      "metadata": {
        "colab": {
          "base_uri": "https://localhost:8080/",
          "height": 448
        },
        "id": "kuCf8p0yqjCo",
        "outputId": "f9fb169f-6f33-411a-fb9a-889f3eb17c81"
      },
      "source": [
        "df.hist('ceiling_height', bins = 2000)\n",
        "plt.xlim(0,4)\n",
        "plt.title('Высота потолков, ЛО и Спб') #назовем график\n",
        "plt.ylabel('Кол-во объявлений, шт') #назовем сторону y\n",
        "plt.xlabel('Высота потолков, м') #назовем сторону x\n",
        "df['ceiling_height'].describe()"
      ],
      "execution_count": 16,
      "outputs": [
        {
          "output_type": "execute_result",
          "data": {
            "text/plain": [
              "count    14504.000000\n",
              "mean         2.771499\n",
              "std          1.261056\n",
              "min          1.000000\n",
              "25%          2.520000\n",
              "50%          2.650000\n",
              "75%          2.800000\n",
              "max        100.000000\n",
              "Name: ceiling_height, dtype: float64"
            ]
          },
          "metadata": {
            "tags": []
          },
          "execution_count": 16
        },
        {
          "output_type": "display_data",
          "data": {
            "image/png": "[encoded data removed]",
            "text/plain": [
              "<Figure size 432x288 with 1 Axes>"
            ]
          },
          "metadata": {
            "tags": [],
            "needs_background": "light"
          }
        }
      ]
    },
    {
      "cell_type": "markdown",
      "metadata": {
        "id": "ja1c2Ge-qjCo"
      },
      "source": [
        "Средняя высота потолков продаваемых квартир составляет 2,7 м, норма вцелом находится от 2,5 до 2,8 м. В наборе данных есть значения более 10 м2, что скорее всего является ошибкой в вводе со стороны пользователей и была пропущена запятая. Также ошибкой скорее всего является высота потолков в 1м."
      ]
    },
    {
      "cell_type": "code",
      "metadata": {
        "colab": {
          "base_uri": "https://localhost:8080/",
          "height": 434
        },
        "id": "iujLQQTtqjCp",
        "outputId": "1e705b6f-6e98-4348-87b9-86e13e0902de"
      },
      "source": [
        "# изучаем продажи квартиры\n",
        "plt.boxplot(df['days_exposition']) #строим диаграмму размаха \n",
        "plt.title('Диаграмма размаха по времени продажи 1 квартиры в ЛО и СПБ') #назовем график\n",
        "plt.ylabel('Кол-во дней') #назовем сторону y\n",
        "plt.grid()\n",
        "plt.show()\n",
        "df['days_exposition'].describe()"
      ],
      "execution_count": 17,
      "outputs": [
        {
          "output_type": "display_data",
          "data": {
            "image/png": "[encoded data removed]",
            "text/plain": [
              "<Figure size 432x288 with 1 Axes>"
            ]
          },
          "metadata": {
            "tags": [],
            "needs_background": "light"
          }
        },
        {
          "output_type": "execute_result",
          "data": {
            "text/plain": [
              "count    23699.000000\n",
              "mean       169.360226\n",
              "std        206.535633\n",
              "min          1.000000\n",
              "25%         45.000000\n",
              "50%         95.000000\n",
              "75%        199.000000\n",
              "max       1580.000000\n",
              "Name: days_exposition, dtype: float64"
            ]
          },
          "metadata": {
            "tags": []
          },
          "execution_count": 17
        }
      ]
    },
    {
      "cell_type": "markdown",
      "metadata": {
        "id": "3prq9CBnqjCp"
      },
      "source": [
        "Продажа 1 квартиры в среднем занимает 180 дней. Медианное значение при этом равно 95 дням, между данными цифрами разница почти в 2 раза введу большого стандартного отклонения в 219 дней, то есть наличия квартир, которые очень долго продавались.\n",
        "Обычно продажа квартиры занимает от 45 до 199 дней, при этом можно считать, что если продажа квартиры осуществляется до 45 дней - это быстро, если более 420 - аномально долго. "
      ]
    },
    {
      "cell_type": "code",
      "metadata": {
        "colab": {
          "base_uri": "https://localhost:8080/",
          "height": 434
        },
        "id": "gGQSKOabqjCq",
        "outputId": "84d822fb-8346-41a8-aa88-dffbc3904783"
      },
      "source": [
        "sales_without_anomalies = df.query('days_exposition < 420') #убираем значения более 420\n",
        "plt.boxplot(sales_without_anomalies['days_exposition'])\n",
        "plt.title('Диаграмма размаха по времени продажи 1 квартиры в ЛО и СПБ (продажи до 420 дней)')\n",
        "plt.ylabel('Кол-во дней') #назовем сторону y\n",
        "plt.grid()\n",
        "plt.show()\n",
        "sales_without_anomalies['days_exposition'].describe()"
      ],
      "execution_count": 18,
      "outputs": [
        {
          "output_type": "display_data",
          "data": {
            "image/png": "[encoded data removed]",
            "text/plain": [
              "<Figure size 432x288 with 1 Axes>"
            ]
          },
          "metadata": {
            "tags": [],
            "needs_background": "light"
          }
        },
        {
          "output_type": "execute_result",
          "data": {
            "text/plain": [
              "count    21270.000000\n",
              "mean       111.805407\n",
              "std         94.777488\n",
              "min          1.000000\n",
              "25%         45.000000\n",
              "50%         95.000000\n",
              "75%        145.000000\n",
              "max        419.000000\n",
              "Name: days_exposition, dtype: float64"
            ]
          },
          "metadata": {
            "tags": []
          },
          "execution_count": 18
        }
      ]
    },
    {
      "cell_type": "markdown",
      "metadata": {
        "id": "A84c9XTJqjCr"
      },
      "source": [
        "При этом, для корректности определения нормы, лучше убрать столь крупные аномалии. Тем самым нормой для продажи квартиры станет диапазон от 45 до 145 дней, все что быстрее 45 дней - удачей и быстрой продажей, а все что дольше 295 дней - аномально долго \n"
      ]
    },
    {
      "cell_type": "code",
      "metadata": {
        "colab": {
          "base_uri": "https://localhost:8080/",
          "height": 173
        },
        "id": "8-8wnwosqjCr",
        "outputId": "a2d6ed41-92e9-4bbd-df46-f37d677f1f4c"
      },
      "source": [
        "#изучаем через коэффициент корреляции Пирсона что влияет на продажу квартиры\n",
        "df[['last_price', 'rooms', 'living_area', 'cityCenters_nearest']].corr()\n",
        "#определяем зависимость цены квартиры от кол-ва комнат, жилой площади и близости к центру"
      ],
      "execution_count": 19,
      "outputs": [
        {
          "output_type": "execute_result",
          "data": {
            "text/html": [
              "<div>\n",
              "<style scoped>\n",
              "    .dataframe tbody tr th:only-of-type {\n",
              "        vertical-align: middle;\n",
              "    }\n",
              "\n",
              "    .dataframe tbody tr th {\n",
              "        vertical-align: top;\n",
              "    }\n",
              "\n",
              "    .dataframe thead th {\n",
              "        text-align: right;\n",
              "    }\n",
              "</style>\n",
              "<table border=\"1\" class=\"dataframe\">\n",
              "  <thead>\n",
              "    <tr style=\"text-align: right;\">\n",
              "      <th></th>\n",
              "      <th>last_price</th>\n",
              "      <th>rooms</th>\n",
              "      <th>living_area</th>\n",
              "      <th>cityCenters_nearest</th>\n",
              "    </tr>\n",
              "  </thead>\n",
              "  <tbody>\n",
              "    <tr>\n",
              "      <th>last_price</th>\n",
              "      <td>1.000000</td>\n",
              "      <td>0.363343</td>\n",
              "      <td>0.586214</td>\n",
              "      <td>-0.206747</td>\n",
              "    </tr>\n",
              "    <tr>\n",
              "      <th>rooms</th>\n",
              "      <td>0.363343</td>\n",
              "      <td>1.000000</td>\n",
              "      <td>0.825625</td>\n",
              "      <td>-0.184864</td>\n",
              "    </tr>\n",
              "    <tr>\n",
              "      <th>living_area</th>\n",
              "      <td>0.586214</td>\n",
              "      <td>0.825625</td>\n",
              "      <td>1.000000</td>\n",
              "      <td>-0.227929</td>\n",
              "    </tr>\n",
              "    <tr>\n",
              "      <th>cityCenters_nearest</th>\n",
              "      <td>-0.206747</td>\n",
              "      <td>-0.184864</td>\n",
              "      <td>-0.227929</td>\n",
              "      <td>1.000000</td>\n",
              "    </tr>\n",
              "  </tbody>\n",
              "</table>\n",
              "</div>"
            ],
            "text/plain": [
              "                     last_price     rooms  living_area  cityCenters_nearest\n",
              "last_price             1.000000  0.363343     0.586214            -0.206747\n",
              "rooms                  0.363343  1.000000     0.825625            -0.184864\n",
              "living_area            0.586214  0.825625     1.000000            -0.227929\n",
              "cityCenters_nearest   -0.206747 -0.184864    -0.227929             1.000000"
            ]
          },
          "metadata": {
            "tags": []
          },
          "execution_count": 19
        }
      ]
    },
    {
      "cell_type": "markdown",
      "metadata": {
        "id": "3Xomn7dhqjCs"
      },
      "source": [
        "Стоимость квартиры зависит напрямую на 36,3% от кол-ва в ней комнат и на 58,6% от жилой площади и имеет обратную зависимость на 20,7% от близости к центру. То есть, чем ближе к центру, тем выше цена квартиры. "
      ]
    },
    {
      "cell_type": "code",
      "metadata": {
        "colab": {
          "base_uri": "https://localhost:8080/",
          "height": 173
        },
        "id": "53_Si4lPqjCt",
        "outputId": "9541cadd-0cfc-48d2-f7d2-c96acbbbbf97"
      },
      "source": [
        "df[['last_price','weekday_exposition', 'month_exposition','year_exposition','floor_name']].corr() \n",
        "#определяем зависимость цены продажи квартиры от дня недели, месяца и года"
      ],
      "execution_count": 20,
      "outputs": [
        {
          "output_type": "execute_result",
          "data": {
            "text/html": [
              "<div>\n",
              "<style scoped>\n",
              "    .dataframe tbody tr th:only-of-type {\n",
              "        vertical-align: middle;\n",
              "    }\n",
              "\n",
              "    .dataframe tbody tr th {\n",
              "        vertical-align: top;\n",
              "    }\n",
              "\n",
              "    .dataframe thead th {\n",
              "        text-align: right;\n",
              "    }\n",
              "</style>\n",
              "<table border=\"1\" class=\"dataframe\">\n",
              "  <thead>\n",
              "    <tr style=\"text-align: right;\">\n",
              "      <th></th>\n",
              "      <th>last_price</th>\n",
              "      <th>weekday_exposition</th>\n",
              "      <th>month_exposition</th>\n",
              "      <th>year_exposition</th>\n",
              "    </tr>\n",
              "  </thead>\n",
              "  <tbody>\n",
              "    <tr>\n",
              "      <th>last_price</th>\n",
              "      <td>1.000000</td>\n",
              "      <td>0.001550</td>\n",
              "      <td>0.002779</td>\n",
              "      <td>-0.043089</td>\n",
              "    </tr>\n",
              "    <tr>\n",
              "      <th>weekday_exposition</th>\n",
              "      <td>0.001550</td>\n",
              "      <td>1.000000</td>\n",
              "      <td>0.011496</td>\n",
              "      <td>-0.004799</td>\n",
              "    </tr>\n",
              "    <tr>\n",
              "      <th>month_exposition</th>\n",
              "      <td>0.002779</td>\n",
              "      <td>0.011496</td>\n",
              "      <td>1.000000</td>\n",
              "      <td>-0.269642</td>\n",
              "    </tr>\n",
              "    <tr>\n",
              "      <th>year_exposition</th>\n",
              "      <td>-0.043089</td>\n",
              "      <td>-0.004799</td>\n",
              "      <td>-0.269642</td>\n",
              "      <td>1.000000</td>\n",
              "    </tr>\n",
              "  </tbody>\n",
              "</table>\n",
              "</div>"
            ],
            "text/plain": [
              "                    last_price  weekday_exposition  month_exposition  \\\n",
              "last_price            1.000000            0.001550          0.002779   \n",
              "weekday_exposition    0.001550            1.000000          0.011496   \n",
              "month_exposition      0.002779            0.011496          1.000000   \n",
              "year_exposition      -0.043089           -0.004799         -0.269642   \n",
              "\n",
              "                    year_exposition  \n",
              "last_price                -0.043089  \n",
              "weekday_exposition        -0.004799  \n",
              "month_exposition          -0.269642  \n",
              "year_exposition            1.000000  "
            ]
          },
          "metadata": {
            "tags": []
          },
          "execution_count": 20
        }
      ]
    },
    {
      "cell_type": "markdown",
      "metadata": {
        "id": "FCxu8s34qjCt"
      },
      "source": [
        "Зависимость между ценой квартиры и днем недели при размещении или месяцем не наблюдается. Однако стоить отметить, что с годами цена на квартиры девешевеет от 4,3%"
      ]
    },
    {
      "cell_type": "code",
      "metadata": {
        "colab": {
          "base_uri": "https://localhost:8080/",
          "height": 111
        },
        "id": "8AkDUvoBqjCu",
        "outputId": "de56d01f-26fb-452d-ffbd-b476b60b98c3"
      },
      "source": [
        "#корреляцию можем опделеить только, если в столбце имеются цифры, а не слова, потому проводим замену\n",
        "df['floor_name'] = df['floor_name'].replace('первый', '10')\n",
        "df['floor_name'] = df['floor_name'].replace('последний', '20')\n",
        "df['floor_name'] = df['floor_name'].replace('другой', '30')\n",
        "df['floor_name'] = df['floor_name'].astype('float64') #производим замену формата столбца на числовой\n",
        "df[['last_price','floor_name']].corr()\n",
        "first_floor = df.query('floor_name == \"10\" or floor_name == \"30\"') #смотрим на корреляцию с 1м и другими этажами\n",
        "first_floor[['last_price','floor_name']].corr()"
      ],
      "execution_count": 21,
      "outputs": [
        {
          "output_type": "execute_result",
          "data": {
            "text/html": [
              "<div>\n",
              "<style scoped>\n",
              "    .dataframe tbody tr th:only-of-type {\n",
              "        vertical-align: middle;\n",
              "    }\n",
              "\n",
              "    .dataframe tbody tr th {\n",
              "        vertical-align: top;\n",
              "    }\n",
              "\n",
              "    .dataframe thead th {\n",
              "        text-align: right;\n",
              "    }\n",
              "</style>\n",
              "<table border=\"1\" class=\"dataframe\">\n",
              "  <thead>\n",
              "    <tr style=\"text-align: right;\">\n",
              "      <th></th>\n",
              "      <th>last_price</th>\n",
              "      <th>floor_name</th>\n",
              "    </tr>\n",
              "  </thead>\n",
              "  <tbody>\n",
              "    <tr>\n",
              "      <th>last_price</th>\n",
              "      <td>1.000000</td>\n",
              "      <td>0.079736</td>\n",
              "    </tr>\n",
              "    <tr>\n",
              "      <th>floor_name</th>\n",
              "      <td>0.079736</td>\n",
              "      <td>1.000000</td>\n",
              "    </tr>\n",
              "  </tbody>\n",
              "</table>\n",
              "</div>"
            ],
            "text/plain": [
              "            last_price  floor_name\n",
              "last_price    1.000000    0.079736\n",
              "floor_name    0.079736    1.000000"
            ]
          },
          "metadata": {
            "tags": []
          },
          "execution_count": 21
        }
      ]
    },
    {
      "cell_type": "markdown",
      "metadata": {
        "id": "BrtBA_6xqjCu"
      },
      "source": [
        "Вцелом зависимость цены квартиры от этажа прямая и составляет 4%, при этом разница межу первым и любым другим этажом еще в 4%, то есть цена квартиры будет выше, если она расположена не на 1 этаже на 8%."
      ]
    },
    {
      "cell_type": "code",
      "metadata": {
        "colab": {
          "base_uri": "https://localhost:8080/",
          "height": 390
        },
        "id": "mtti9jJLqjCv",
        "outputId": "dbb43950-8513-4417-e5a9-5aade58784fa"
      },
      "source": [
        "#изучаем 10 населенных пунктов с самым большим кол-вом публикакий\n",
        "ten_cities = df.pivot_table(index = 'locality_name', values = 'last_price', aggfunc = ('median','count')) #создаем отдельную таблицу с названием населенного пункта и по стоимости квартиры. Там считаем медиану, также добавляем столбец с кол-ком объявлений в каждом городе\n",
        "ten_cities.sort_values(by = 'count', ascending = False).head(10) #сортируем таблицу по кол-ву объявлений и выделяем 10 с их наибольшим кол-вом"
      ],
      "execution_count": 22,
      "outputs": [
        {
          "output_type": "execute_result",
          "data": {
            "text/html": [
              "<div>\n",
              "<style scoped>\n",
              "    .dataframe tbody tr th:only-of-type {\n",
              "        vertical-align: middle;\n",
              "    }\n",
              "\n",
              "    .dataframe tbody tr th {\n",
              "        vertical-align: top;\n",
              "    }\n",
              "\n",
              "    .dataframe thead th {\n",
              "        text-align: right;\n",
              "    }\n",
              "</style>\n",
              "<table border=\"1\" class=\"dataframe\">\n",
              "  <thead>\n",
              "    <tr style=\"text-align: right;\">\n",
              "      <th></th>\n",
              "      <th>count</th>\n",
              "      <th>median</th>\n",
              "    </tr>\n",
              "    <tr>\n",
              "      <th>locality_name</th>\n",
              "      <th></th>\n",
              "      <th></th>\n",
              "    </tr>\n",
              "  </thead>\n",
              "  <tbody>\n",
              "    <tr>\n",
              "      <th>Санкт-Петербург</th>\n",
              "      <td>15721</td>\n",
              "      <td>5500000.0</td>\n",
              "    </tr>\n",
              "    <tr>\n",
              "      <th>посёлок Мурино</th>\n",
              "      <td>522</td>\n",
              "      <td>3400000.0</td>\n",
              "    </tr>\n",
              "    <tr>\n",
              "      <th>посёлок Шушары</th>\n",
              "      <td>440</td>\n",
              "      <td>3950000.0</td>\n",
              "    </tr>\n",
              "    <tr>\n",
              "      <th>Всеволожск</th>\n",
              "      <td>398</td>\n",
              "      <td>3450000.0</td>\n",
              "    </tr>\n",
              "    <tr>\n",
              "      <th>Пушкин</th>\n",
              "      <td>369</td>\n",
              "      <td>5180000.0</td>\n",
              "    </tr>\n",
              "    <tr>\n",
              "      <th>Колпино</th>\n",
              "      <td>338</td>\n",
              "      <td>3600000.0</td>\n",
              "    </tr>\n",
              "    <tr>\n",
              "      <th>посёлок Парголово</th>\n",
              "      <td>327</td>\n",
              "      <td>4100000.0</td>\n",
              "    </tr>\n",
              "    <tr>\n",
              "      <th>Гатчина</th>\n",
              "      <td>307</td>\n",
              "      <td>3100000.0</td>\n",
              "    </tr>\n",
              "    <tr>\n",
              "      <th>деревня Кудрово</th>\n",
              "      <td>299</td>\n",
              "      <td>3790000.0</td>\n",
              "    </tr>\n",
              "    <tr>\n",
              "      <th>Выборг</th>\n",
              "      <td>237</td>\n",
              "      <td>2897000.0</td>\n",
              "    </tr>\n",
              "  </tbody>\n",
              "</table>\n",
              "</div>"
            ],
            "text/plain": [
              "                   count     median\n",
              "locality_name                      \n",
              "Санкт-Петербург    15721  5500000.0\n",
              "посёлок Мурино       522  3400000.0\n",
              "посёлок Шушары       440  3950000.0\n",
              "Всеволожск           398  3450000.0\n",
              "Пушкин               369  5180000.0\n",
              "Колпино              338  3600000.0\n",
              "посёлок Парголово    327  4100000.0\n",
              "Гатчина              307  3100000.0\n",
              "деревня Кудрово      299  3790000.0\n",
              "Выборг               237  2897000.0"
            ]
          },
          "metadata": {
            "tags": []
          },
          "execution_count": 22
        }
      ]
    },
    {
      "cell_type": "markdown",
      "metadata": {
        "id": "6nZXHvlzqjCv"
      },
      "source": [
        "<div class=\"alert alert-block alert-success\">\n",
        "<b>Success:</b> отличная работа!"
      ]
    },
    {
      "cell_type": "markdown",
      "metadata": {
        "id": "9cCaHMOZqjCw"
      },
      "source": [
        "Среди 10 населенных пунктов, по которым больше всего объявлений, самая высокая стоимость жилья в Санкт-Петербурге, где медианное значение равно 5 500 000р. На втором месте Пушкин - 5 180 000р, на последнем же месте Гатчина - 3 100 000р "
      ]
    },
    {
      "cell_type": "code",
      "metadata": {
        "colab": {
          "base_uri": "https://localhost:8080/",
          "height": 1000
        },
        "id": "-3_Xgb08qjCw",
        "outputId": "23799c5e-f07c-4c92-c1c8-220491b464bc"
      },
      "source": [
        "#изучаем среднюю цену квадратного метра квартиры в Санкт-Петербурге в зависимости от близости к центру города\n",
        "only_spb = df.query('locality_name == \"Санкт-Петербург\"') #создаем новую таблицу, где представлен только город Санкт-Петербург\n",
        "only_spb['cityCenters_nearest_km'] = only_spb['cityCenters_nearest'] / 1000 #создаем столбец с данными до центра в км\n",
        "only_spb['cityCenters_nearest_km'] = only_spb['cityCenters_nearest_km'].fillna(only_spb['cityCenters_nearest_km'].median()).round() #заменяем пустые значения на медианные, т.к. их всего 61, а также округляем данные в столбце\n",
        "average_price_per_km = only_spb.pivot_table(index = 'cityCenters_nearest_km', values = 'last_price', aggfunc = ('mean','count')).round() #создаем таблицу со средней ценой квартиры на каждом километре в Санкт-Петербурге\n",
        "average_price_per_km"
      ],
      "execution_count": 23,
      "outputs": [
        {
          "output_type": "execute_result",
          "data": {
            "text/html": [
              "<div>\n",
              "<style scoped>\n",
              "    .dataframe tbody tr th:only-of-type {\n",
              "        vertical-align: middle;\n",
              "    }\n",
              "\n",
              "    .dataframe tbody tr th {\n",
              "        vertical-align: top;\n",
              "    }\n",
              "\n",
              "    .dataframe thead th {\n",
              "        text-align: right;\n",
              "    }\n",
              "</style>\n",
              "<table border=\"1\" class=\"dataframe\">\n",
              "  <thead>\n",
              "    <tr style=\"text-align: right;\">\n",
              "      <th></th>\n",
              "      <th>count</th>\n",
              "      <th>mean</th>\n",
              "    </tr>\n",
              "    <tr>\n",
              "      <th>cityCenters_nearest_km</th>\n",
              "      <th></th>\n",
              "      <th></th>\n",
              "    </tr>\n",
              "  </thead>\n",
              "  <tbody>\n",
              "    <tr>\n",
              "      <th>0.0</th>\n",
              "      <td>27</td>\n",
              "      <td>31449116.0</td>\n",
              "    </tr>\n",
              "    <tr>\n",
              "      <th>1.0</th>\n",
              "      <td>192</td>\n",
              "      <td>21206721.0</td>\n",
              "    </tr>\n",
              "    <tr>\n",
              "      <th>2.0</th>\n",
              "      <td>310</td>\n",
              "      <td>17788320.0</td>\n",
              "    </tr>\n",
              "    <tr>\n",
              "      <th>3.0</th>\n",
              "      <td>350</td>\n",
              "      <td>11126581.0</td>\n",
              "    </tr>\n",
              "    <tr>\n",
              "      <th>4.0</th>\n",
              "      <td>688</td>\n",
              "      <td>13304280.0</td>\n",
              "    </tr>\n",
              "    <tr>\n",
              "      <th>5.0</th>\n",
              "      <td>920</td>\n",
              "      <td>14499121.0</td>\n",
              "    </tr>\n",
              "    <tr>\n",
              "      <th>6.0</th>\n",
              "      <td>618</td>\n",
              "      <td>15338418.0</td>\n",
              "    </tr>\n",
              "    <tr>\n",
              "      <th>7.0</th>\n",
              "      <td>420</td>\n",
              "      <td>14775153.0</td>\n",
              "    </tr>\n",
              "    <tr>\n",
              "      <th>8.0</th>\n",
              "      <td>597</td>\n",
              "      <td>9957717.0</td>\n",
              "    </tr>\n",
              "    <tr>\n",
              "      <th>9.0</th>\n",
              "      <td>593</td>\n",
              "      <td>6950659.0</td>\n",
              "    </tr>\n",
              "    <tr>\n",
              "      <th>10.0</th>\n",
              "      <td>719</td>\n",
              "      <td>6504119.0</td>\n",
              "    </tr>\n",
              "    <tr>\n",
              "      <th>11.0</th>\n",
              "      <td>1178</td>\n",
              "      <td>6250815.0</td>\n",
              "    </tr>\n",
              "    <tr>\n",
              "      <th>12.0</th>\n",
              "      <td>1666</td>\n",
              "      <td>6189739.0</td>\n",
              "    </tr>\n",
              "    <tr>\n",
              "      <th>13.0</th>\n",
              "      <td>1457</td>\n",
              "      <td>6083141.0</td>\n",
              "    </tr>\n",
              "    <tr>\n",
              "      <th>14.0</th>\n",
              "      <td>1279</td>\n",
              "      <td>5629101.0</td>\n",
              "    </tr>\n",
              "    <tr>\n",
              "      <th>15.0</th>\n",
              "      <td>1568</td>\n",
              "      <td>5884751.0</td>\n",
              "    </tr>\n",
              "    <tr>\n",
              "      <th>16.0</th>\n",
              "      <td>1265</td>\n",
              "      <td>5373131.0</td>\n",
              "    </tr>\n",
              "    <tr>\n",
              "      <th>17.0</th>\n",
              "      <td>883</td>\n",
              "      <td>5292395.0</td>\n",
              "    </tr>\n",
              "    <tr>\n",
              "      <th>18.0</th>\n",
              "      <td>261</td>\n",
              "      <td>5091331.0</td>\n",
              "    </tr>\n",
              "    <tr>\n",
              "      <th>19.0</th>\n",
              "      <td>157</td>\n",
              "      <td>5037675.0</td>\n",
              "    </tr>\n",
              "    <tr>\n",
              "      <th>20.0</th>\n",
              "      <td>49</td>\n",
              "      <td>5951465.0</td>\n",
              "    </tr>\n",
              "    <tr>\n",
              "      <th>21.0</th>\n",
              "      <td>117</td>\n",
              "      <td>5493469.0</td>\n",
              "    </tr>\n",
              "    <tr>\n",
              "      <th>22.0</th>\n",
              "      <td>202</td>\n",
              "      <td>5415524.0</td>\n",
              "    </tr>\n",
              "    <tr>\n",
              "      <th>23.0</th>\n",
              "      <td>85</td>\n",
              "      <td>4985376.0</td>\n",
              "    </tr>\n",
              "    <tr>\n",
              "      <th>24.0</th>\n",
              "      <td>26</td>\n",
              "      <td>3854430.0</td>\n",
              "    </tr>\n",
              "    <tr>\n",
              "      <th>25.0</th>\n",
              "      <td>26</td>\n",
              "      <td>4052840.0</td>\n",
              "    </tr>\n",
              "    <tr>\n",
              "      <th>26.0</th>\n",
              "      <td>53</td>\n",
              "      <td>3973013.0</td>\n",
              "    </tr>\n",
              "    <tr>\n",
              "      <th>27.0</th>\n",
              "      <td>2</td>\n",
              "      <td>8300000.0</td>\n",
              "    </tr>\n",
              "    <tr>\n",
              "      <th>28.0</th>\n",
              "      <td>7</td>\n",
              "      <td>5026429.0</td>\n",
              "    </tr>\n",
              "    <tr>\n",
              "      <th>29.0</th>\n",
              "      <td>6</td>\n",
              "      <td>4236667.0</td>\n",
              "    </tr>\n",
              "  </tbody>\n",
              "</table>\n",
              "</div>"
            ],
            "text/plain": [
              "                        count        mean\n",
              "cityCenters_nearest_km                   \n",
              "0.0                        27  31449116.0\n",
              "1.0                       192  21206721.0\n",
              "2.0                       310  17788320.0\n",
              "3.0                       350  11126581.0\n",
              "4.0                       688  13304280.0\n",
              "5.0                       920  14499121.0\n",
              "6.0                       618  15338418.0\n",
              "7.0                       420  14775153.0\n",
              "8.0                       597   9957717.0\n",
              "9.0                       593   6950659.0\n",
              "10.0                      719   6504119.0\n",
              "11.0                     1178   6250815.0\n",
              "12.0                     1666   6189739.0\n",
              "13.0                     1457   6083141.0\n",
              "14.0                     1279   5629101.0\n",
              "15.0                     1568   5884751.0\n",
              "16.0                     1265   5373131.0\n",
              "17.0                      883   5292395.0\n",
              "18.0                      261   5091331.0\n",
              "19.0                      157   5037675.0\n",
              "20.0                       49   5951465.0\n",
              "21.0                      117   5493469.0\n",
              "22.0                      202   5415524.0\n",
              "23.0                       85   4985376.0\n",
              "24.0                       26   3854430.0\n",
              "25.0                       26   4052840.0\n",
              "26.0                       53   3973013.0\n",
              "27.0                        2   8300000.0\n",
              "28.0                        7   5026429.0\n",
              "29.0                        6   4236667.0"
            ]
          },
          "metadata": {
            "tags": []
          },
          "execution_count": 23
        }
      ]
    },
    {
      "cell_type": "code",
      "metadata": {
        "colab": {
          "base_uri": "https://localhost:8080/",
          "height": 325
        },
        "id": "h1GBOMfAqjCx",
        "outputId": "e18a5b36-268e-48b6-ff7d-60dee3baebde"
      },
      "source": [
        "#определяем зону центра города в Санкт-Петербурге\n",
        "average_price_per_km.plot(kind = 'bar', y = 'mean') #отобразим график для ответа на вопрос\n",
        "plt.title('Зависимость цены квартиры от удаленности от центра города') #назовем график\n",
        "plt.ylabel('Цена квартиры в млн') #назовем сторону y\n",
        "plt.xlabel('Км от центра Санкт-Петербурга') #назовем сторону x\n"
      ],
      "execution_count": 24,
      "outputs": [
        {
          "output_type": "execute_result",
          "data": {
            "text/plain": [
              "Text(0.5, 0, 'Км от центра Санкт-Петербурга')"
            ]
          },
          "metadata": {
            "tags": []
          },
          "execution_count": 24
        },
        {
          "output_type": "display_data",
          "data": {
            "image/png": "[encoded data removed]",
            "text/plain": [
              "<Figure size 432x288 with 1 Axes>"
            ]
          },
          "metadata": {
            "tags": [],
            "needs_background": "light"
          }
        }
      ]
    },
    {
      "cell_type": "markdown",
      "metadata": {
        "id": "waZm0xwWqjCx"
      },
      "source": [
        "Расстояние до 7 км включительно можно считать центром города"
      ]
    },
    {
      "cell_type": "code",
      "metadata": {
        "colab": {
          "base_uri": "https://localhost:8080/",
          "height": 609
        },
        "id": "N07CGjYNqjCy",
        "outputId": "3cbf239b-d3c5-43db-c932-4868029cd5c4"
      },
      "source": [
        "#изучаем сегмент квартир в центре\n",
        "only_spb_center = only_spb.query('cityCenters_nearest_km <=7') #выделяем сегмент квартир в центре\n",
        "only_spb_center"
      ],
      "execution_count": 25,
      "outputs": [
        {
          "output_type": "execute_result",
          "data": {
            "text/html": [
              "<div>\n",
              "<style scoped>\n",
              "    .dataframe tbody tr th:only-of-type {\n",
              "        vertical-align: middle;\n",
              "    }\n",
              "\n",
              "    .dataframe tbody tr th {\n",
              "        vertical-align: top;\n",
              "    }\n",
              "\n",
              "    .dataframe thead th {\n",
              "        text-align: right;\n",
              "    }\n",
              "</style>\n",
              "<table border=\"1\" class=\"dataframe\">\n",
              "  <thead>\n",
              "    <tr style=\"text-align: right;\">\n",
              "      <th></th>\n",
              "      <th>total_images</th>\n",
              "      <th>last_price</th>\n",
              "      <th>total_area</th>\n",
              "      <th>first_day_exposition</th>\n",
              "      <th>rooms</th>\n",
              "      <th>ceiling_height</th>\n",
              "      <th>floors_total</th>\n",
              "      <th>living_area</th>\n",
              "      <th>floor</th>\n",
              "      <th>is_apartment</th>\n",
              "      <th>studio</th>\n",
              "      <th>open_plan</th>\n",
              "      <th>kitchen_area</th>\n",
              "      <th>balcony</th>\n",
              "      <th>locality_name</th>\n",
              "      <th>airports_nearest</th>\n",
              "      <th>cityCenters_nearest</th>\n",
              "      <th>parks_around3000</th>\n",
              "      <th>parks_nearest</th>\n",
              "      <th>ponds_around3000</th>\n",
              "      <th>ponds_nearest</th>\n",
              "      <th>days_exposition</th>\n",
              "      <th>living_area_ratio</th>\n",
              "      <th>kitchen_area_ratio</th>\n",
              "      <th>price_of_1_square_meter</th>\n",
              "      <th>weekday_exposition</th>\n",
              "      <th>month_exposition</th>\n",
              "      <th>year_exposition</th>\n",
              "      <th>floor_name</th>\n",
              "      <th>cityCenters_nearest_km</th>\n",
              "    </tr>\n",
              "  </thead>\n",
              "  <tbody>\n",
              "    <tr>\n",
              "      <th>3</th>\n",
              "      <td>0</td>\n",
              "      <td>64900000.0</td>\n",
              "      <td>159</td>\n",
              "      <td>2015-07-24</td>\n",
              "      <td>3</td>\n",
              "      <td>NaN</td>\n",
              "      <td>14</td>\n",
              "      <td>100</td>\n",
              "      <td>9</td>\n",
              "      <td>False</td>\n",
              "      <td>False</td>\n",
              "      <td>False</td>\n",
              "      <td>20.442857</td>\n",
              "      <td>0</td>\n",
              "      <td>Санкт-Петербург</td>\n",
              "      <td>28098.0</td>\n",
              "      <td>6800.0</td>\n",
              "      <td>2.0</td>\n",
              "      <td>84.0</td>\n",
              "      <td>3.0</td>\n",
              "      <td>234.0</td>\n",
              "      <td>424</td>\n",
              "      <td>NaN</td>\n",
              "      <td>NaN</td>\n",
              "      <td>408176</td>\n",
              "      <td>4</td>\n",
              "      <td>7</td>\n",
              "      <td>2015</td>\n",
              "      <td>30.0</td>\n",
              "      <td>7.0</td>\n",
              "    </tr>\n",
              "    <tr>\n",
              "      <th>24</th>\n",
              "      <td>8</td>\n",
              "      <td>6500000.0</td>\n",
              "      <td>97</td>\n",
              "      <td>2015-10-31</td>\n",
              "      <td>2</td>\n",
              "      <td>NaN</td>\n",
              "      <td>3</td>\n",
              "      <td>46</td>\n",
              "      <td>1</td>\n",
              "      <td>False</td>\n",
              "      <td>False</td>\n",
              "      <td>False</td>\n",
              "      <td>19.600000</td>\n",
              "      <td>0</td>\n",
              "      <td>Санкт-Петербург</td>\n",
              "      <td>20052.0</td>\n",
              "      <td>2336.0</td>\n",
              "      <td>3.0</td>\n",
              "      <td>411.0</td>\n",
              "      <td>3.0</td>\n",
              "      <td>124.0</td>\n",
              "      <td>265</td>\n",
              "      <td>0.478395</td>\n",
              "      <td>0.201646</td>\n",
              "      <td>67010</td>\n",
              "      <td>5</td>\n",
              "      <td>10</td>\n",
              "      <td>2015</td>\n",
              "      <td>10.0</td>\n",
              "      <td>2.0</td>\n",
              "    </tr>\n",
              "    <tr>\n",
              "      <th>35</th>\n",
              "      <td>6</td>\n",
              "      <td>15500000.0</td>\n",
              "      <td>149</td>\n",
              "      <td>2017-06-26</td>\n",
              "      <td>5</td>\n",
              "      <td>NaN</td>\n",
              "      <td>5</td>\n",
              "      <td>104</td>\n",
              "      <td>4</td>\n",
              "      <td>False</td>\n",
              "      <td>False</td>\n",
              "      <td>False</td>\n",
              "      <td>17.000000</td>\n",
              "      <td>0</td>\n",
              "      <td>Санкт-Петербург</td>\n",
              "      <td>23670.0</td>\n",
              "      <td>3502.0</td>\n",
              "      <td>0.0</td>\n",
              "      <td>NaN</td>\n",
              "      <td>1.0</td>\n",
              "      <td>779.0</td>\n",
              "      <td>644</td>\n",
              "      <td>0.697987</td>\n",
              "      <td>0.114094</td>\n",
              "      <td>104026</td>\n",
              "      <td>0</td>\n",
              "      <td>6</td>\n",
              "      <td>2017</td>\n",
              "      <td>30.0</td>\n",
              "      <td>4.0</td>\n",
              "    </tr>\n",
              "    <tr>\n",
              "      <th>51</th>\n",
              "      <td>7</td>\n",
              "      <td>45000000.0</td>\n",
              "      <td>161</td>\n",
              "      <td>2017-10-17</td>\n",
              "      <td>3</td>\n",
              "      <td>3.20</td>\n",
              "      <td>8</td>\n",
              "      <td>38</td>\n",
              "      <td>4</td>\n",
              "      <td>False</td>\n",
              "      <td>False</td>\n",
              "      <td>False</td>\n",
              "      <td>50.000000</td>\n",
              "      <td>0</td>\n",
              "      <td>Санкт-Петербург</td>\n",
              "      <td>32537.0</td>\n",
              "      <td>6589.0</td>\n",
              "      <td>0.0</td>\n",
              "      <td>NaN</td>\n",
              "      <td>3.0</td>\n",
              "      <td>99.0</td>\n",
              "      <td>541</td>\n",
              "      <td>0.236025</td>\n",
              "      <td>0.310559</td>\n",
              "      <td>279503</td>\n",
              "      <td>1</td>\n",
              "      <td>10</td>\n",
              "      <td>2017</td>\n",
              "      <td>30.0</td>\n",
              "      <td>7.0</td>\n",
              "    </tr>\n",
              "    <tr>\n",
              "      <th>52</th>\n",
              "      <td>20</td>\n",
              "      <td>11795000.0</td>\n",
              "      <td>136</td>\n",
              "      <td>2017-09-22</td>\n",
              "      <td>6</td>\n",
              "      <td>3.00</td>\n",
              "      <td>2</td>\n",
              "      <td>94</td>\n",
              "      <td>2</td>\n",
              "      <td>False</td>\n",
              "      <td>False</td>\n",
              "      <td>False</td>\n",
              "      <td>11.000000</td>\n",
              "      <td>1</td>\n",
              "      <td>Санкт-Петербург</td>\n",
              "      <td>16510.0</td>\n",
              "      <td>6582.0</td>\n",
              "      <td>1.0</td>\n",
              "      <td>526.0</td>\n",
              "      <td>0.0</td>\n",
              "      <td>NaN</td>\n",
              "      <td>95</td>\n",
              "      <td>0.691176</td>\n",
              "      <td>0.080882</td>\n",
              "      <td>86727</td>\n",
              "      <td>4</td>\n",
              "      <td>9</td>\n",
              "      <td>2017</td>\n",
              "      <td>20.0</td>\n",
              "      <td>7.0</td>\n",
              "    </tr>\n",
              "    <tr>\n",
              "      <th>...</th>\n",
              "      <td>...</td>\n",
              "      <td>...</td>\n",
              "      <td>...</td>\n",
              "      <td>...</td>\n",
              "      <td>...</td>\n",
              "      <td>...</td>\n",
              "      <td>...</td>\n",
              "      <td>...</td>\n",
              "      <td>...</td>\n",
              "      <td>...</td>\n",
              "      <td>...</td>\n",
              "      <td>...</td>\n",
              "      <td>...</td>\n",
              "      <td>...</td>\n",
              "      <td>...</td>\n",
              "      <td>...</td>\n",
              "      <td>...</td>\n",
              "      <td>...</td>\n",
              "      <td>...</td>\n",
              "      <td>...</td>\n",
              "      <td>...</td>\n",
              "      <td>...</td>\n",
              "      <td>...</td>\n",
              "      <td>...</td>\n",
              "      <td>...</td>\n",
              "      <td>...</td>\n",
              "      <td>...</td>\n",
              "      <td>...</td>\n",
              "      <td>...</td>\n",
              "      <td>...</td>\n",
              "    </tr>\n",
              "    <tr>\n",
              "      <th>23665</th>\n",
              "      <td>11</td>\n",
              "      <td>4250000.0</td>\n",
              "      <td>47</td>\n",
              "      <td>2016-05-20</td>\n",
              "      <td>1</td>\n",
              "      <td>NaN</td>\n",
              "      <td>6</td>\n",
              "      <td>18</td>\n",
              "      <td>1</td>\n",
              "      <td>False</td>\n",
              "      <td>False</td>\n",
              "      <td>False</td>\n",
              "      <td>14.600000</td>\n",
              "      <td>0</td>\n",
              "      <td>Санкт-Петербург</td>\n",
              "      <td>20503.0</td>\n",
              "      <td>4946.0</td>\n",
              "      <td>2.0</td>\n",
              "      <td>624.0</td>\n",
              "      <td>1.0</td>\n",
              "      <td>519.0</td>\n",
              "      <td>131</td>\n",
              "      <td>0.387234</td>\n",
              "      <td>0.310638</td>\n",
              "      <td>90425</td>\n",
              "      <td>4</td>\n",
              "      <td>5</td>\n",
              "      <td>2016</td>\n",
              "      <td>10.0</td>\n",
              "      <td>5.0</td>\n",
              "    </tr>\n",
              "    <tr>\n",
              "      <th>23681</th>\n",
              "      <td>13</td>\n",
              "      <td>5250000.0</td>\n",
              "      <td>43</td>\n",
              "      <td>2018-05-11</td>\n",
              "      <td>2</td>\n",
              "      <td>2.50</td>\n",
              "      <td>5</td>\n",
              "      <td>29</td>\n",
              "      <td>2</td>\n",
              "      <td>False</td>\n",
              "      <td>False</td>\n",
              "      <td>False</td>\n",
              "      <td>6.000000</td>\n",
              "      <td>0</td>\n",
              "      <td>Санкт-Петербург</td>\n",
              "      <td>28323.0</td>\n",
              "      <td>7262.0</td>\n",
              "      <td>1.0</td>\n",
              "      <td>497.0</td>\n",
              "      <td>2.0</td>\n",
              "      <td>660.0</td>\n",
              "      <td>80</td>\n",
              "      <td>0.674419</td>\n",
              "      <td>0.139535</td>\n",
              "      <td>122093</td>\n",
              "      <td>4</td>\n",
              "      <td>5</td>\n",
              "      <td>2018</td>\n",
              "      <td>30.0</td>\n",
              "      <td>7.0</td>\n",
              "    </tr>\n",
              "    <tr>\n",
              "      <th>23690</th>\n",
              "      <td>3</td>\n",
              "      <td>5500000.0</td>\n",
              "      <td>52</td>\n",
              "      <td>2018-07-19</td>\n",
              "      <td>2</td>\n",
              "      <td>NaN</td>\n",
              "      <td>5</td>\n",
              "      <td>31</td>\n",
              "      <td>2</td>\n",
              "      <td>False</td>\n",
              "      <td>False</td>\n",
              "      <td>False</td>\n",
              "      <td>6.000000</td>\n",
              "      <td>0</td>\n",
              "      <td>Санкт-Петербург</td>\n",
              "      <td>20151.0</td>\n",
              "      <td>6263.0</td>\n",
              "      <td>1.0</td>\n",
              "      <td>300.0</td>\n",
              "      <td>0.0</td>\n",
              "      <td>NaN</td>\n",
              "      <td>15</td>\n",
              "      <td>0.596154</td>\n",
              "      <td>0.115385</td>\n",
              "      <td>105769</td>\n",
              "      <td>3</td>\n",
              "      <td>7</td>\n",
              "      <td>2018</td>\n",
              "      <td>30.0</td>\n",
              "      <td>6.0</td>\n",
              "    </tr>\n",
              "    <tr>\n",
              "      <th>23691</th>\n",
              "      <td>11</td>\n",
              "      <td>9470000.0</td>\n",
              "      <td>72</td>\n",
              "      <td>2016-10-13</td>\n",
              "      <td>2</td>\n",
              "      <td>2.75</td>\n",
              "      <td>25</td>\n",
              "      <td>40</td>\n",
              "      <td>7</td>\n",
              "      <td>False</td>\n",
              "      <td>False</td>\n",
              "      <td>False</td>\n",
              "      <td>10.600000</td>\n",
              "      <td>1</td>\n",
              "      <td>Санкт-Петербург</td>\n",
              "      <td>19424.0</td>\n",
              "      <td>4489.0</td>\n",
              "      <td>0.0</td>\n",
              "      <td>NaN</td>\n",
              "      <td>1.0</td>\n",
              "      <td>806.0</td>\n",
              "      <td>519</td>\n",
              "      <td>0.552812</td>\n",
              "      <td>0.145405</td>\n",
              "      <td>131527</td>\n",
              "      <td>3</td>\n",
              "      <td>10</td>\n",
              "      <td>2016</td>\n",
              "      <td>30.0</td>\n",
              "      <td>4.0</td>\n",
              "    </tr>\n",
              "    <tr>\n",
              "      <th>23694</th>\n",
              "      <td>9</td>\n",
              "      <td>9700000.0</td>\n",
              "      <td>133</td>\n",
              "      <td>2017-03-21</td>\n",
              "      <td>3</td>\n",
              "      <td>3.70</td>\n",
              "      <td>5</td>\n",
              "      <td>73</td>\n",
              "      <td>3</td>\n",
              "      <td>False</td>\n",
              "      <td>False</td>\n",
              "      <td>False</td>\n",
              "      <td>13.830000</td>\n",
              "      <td>0</td>\n",
              "      <td>Санкт-Петербург</td>\n",
              "      <td>24665.0</td>\n",
              "      <td>4232.0</td>\n",
              "      <td>1.0</td>\n",
              "      <td>796.0</td>\n",
              "      <td>3.0</td>\n",
              "      <td>381.0</td>\n",
              "      <td>95</td>\n",
              "      <td>0.547792</td>\n",
              "      <td>0.103356</td>\n",
              "      <td>72932</td>\n",
              "      <td>1</td>\n",
              "      <td>3</td>\n",
              "      <td>2017</td>\n",
              "      <td>30.0</td>\n",
              "      <td>4.0</td>\n",
              "    </tr>\n",
              "  </tbody>\n",
              "</table>\n",
              "<p>3525 rows × 30 columns</p>\n",
              "</div>"
            ],
            "text/plain": [
              "       total_images  last_price  total_area first_day_exposition  rooms  \\\n",
              "3                 0  64900000.0         159           2015-07-24      3   \n",
              "24                8   6500000.0          97           2015-10-31      2   \n",
              "35                6  15500000.0         149           2017-06-26      5   \n",
              "51                7  45000000.0         161           2017-10-17      3   \n",
              "52               20  11795000.0         136           2017-09-22      6   \n",
              "...             ...         ...         ...                  ...    ...   \n",
              "23665            11   4250000.0          47           2016-05-20      1   \n",
              "23681            13   5250000.0          43           2018-05-11      2   \n",
              "23690             3   5500000.0          52           2018-07-19      2   \n",
              "23691            11   9470000.0          72           2016-10-13      2   \n",
              "23694             9   9700000.0         133           2017-03-21      3   \n",
              "\n",
              "       ceiling_height  floors_total  living_area  floor  is_apartment  studio  \\\n",
              "3                 NaN            14          100      9         False   False   \n",
              "24                NaN             3           46      1         False   False   \n",
              "35                NaN             5          104      4         False   False   \n",
              "51               3.20             8           38      4         False   False   \n",
              "52               3.00             2           94      2         False   False   \n",
              "...               ...           ...          ...    ...           ...     ...   \n",
              "23665             NaN             6           18      1         False   False   \n",
              "23681            2.50             5           29      2         False   False   \n",
              "23690             NaN             5           31      2         False   False   \n",
              "23691            2.75            25           40      7         False   False   \n",
              "23694            3.70             5           73      3         False   False   \n",
              "\n",
              "       open_plan  kitchen_area  balcony    locality_name  airports_nearest  \\\n",
              "3          False     20.442857        0  Санкт-Петербург           28098.0   \n",
              "24         False     19.600000        0  Санкт-Петербург           20052.0   \n",
              "35         False     17.000000        0  Санкт-Петербург           23670.0   \n",
              "51         False     50.000000        0  Санкт-Петербург           32537.0   \n",
              "52         False     11.000000        1  Санкт-Петербург           16510.0   \n",
              "...          ...           ...      ...              ...               ...   \n",
              "23665      False     14.600000        0  Санкт-Петербург           20503.0   \n",
              "23681      False      6.000000        0  Санкт-Петербург           28323.0   \n",
              "23690      False      6.000000        0  Санкт-Петербург           20151.0   \n",
              "23691      False     10.600000        1  Санкт-Петербург           19424.0   \n",
              "23694      False     13.830000        0  Санкт-Петербург           24665.0   \n",
              "\n",
              "       cityCenters_nearest  parks_around3000  parks_nearest  ponds_around3000  \\\n",
              "3                   6800.0               2.0           84.0               3.0   \n",
              "24                  2336.0               3.0          411.0               3.0   \n",
              "35                  3502.0               0.0            NaN               1.0   \n",
              "51                  6589.0               0.0            NaN               3.0   \n",
              "52                  6582.0               1.0          526.0               0.0   \n",
              "...                    ...               ...            ...               ...   \n",
              "23665               4946.0               2.0          624.0               1.0   \n",
              "23681               7262.0               1.0          497.0               2.0   \n",
              "23690               6263.0               1.0          300.0               0.0   \n",
              "23691               4489.0               0.0            NaN               1.0   \n",
              "23694               4232.0               1.0          796.0               3.0   \n",
              "\n",
              "       ponds_nearest  days_exposition  living_area_ratio  kitchen_area_ratio  \\\n",
              "3              234.0              424                NaN                 NaN   \n",
              "24             124.0              265           0.478395            0.201646   \n",
              "35             779.0              644           0.697987            0.114094   \n",
              "51              99.0              541           0.236025            0.310559   \n",
              "52               NaN               95           0.691176            0.080882   \n",
              "...              ...              ...                ...                 ...   \n",
              "23665          519.0              131           0.387234            0.310638   \n",
              "23681          660.0               80           0.674419            0.139535   \n",
              "23690            NaN               15           0.596154            0.115385   \n",
              "23691          806.0              519           0.552812            0.145405   \n",
              "23694          381.0               95           0.547792            0.103356   \n",
              "\n",
              "       price_of_1_square_meter  weekday_exposition  month_exposition  \\\n",
              "3                       408176                   4                 7   \n",
              "24                       67010                   5                10   \n",
              "35                      104026                   0                 6   \n",
              "51                      279503                   1                10   \n",
              "52                       86727                   4                 9   \n",
              "...                        ...                 ...               ...   \n",
              "23665                    90425                   4                 5   \n",
              "23681                   122093                   4                 5   \n",
              "23690                   105769                   3                 7   \n",
              "23691                   131527                   3                10   \n",
              "23694                    72932                   1                 3   \n",
              "\n",
              "       year_exposition  floor_name  cityCenters_nearest_km  \n",
              "3                 2015        30.0                     7.0  \n",
              "24                2015        10.0                     2.0  \n",
              "35                2017        30.0                     4.0  \n",
              "51                2017        30.0                     7.0  \n",
              "52                2017        20.0                     7.0  \n",
              "...                ...         ...                     ...  \n",
              "23665             2016        10.0                     5.0  \n",
              "23681             2018        30.0                     7.0  \n",
              "23690             2018        30.0                     6.0  \n",
              "23691             2016        30.0                     4.0  \n",
              "23694             2017        30.0                     4.0  \n",
              "\n",
              "[3525 rows x 30 columns]"
            ]
          },
          "metadata": {
            "tags": []
          },
          "execution_count": 25
        }
      ]
    },
    {
      "cell_type": "code",
      "metadata": {
        "colab": {
          "base_uri": "https://localhost:8080/",
          "height": 448
        },
        "id": "lFOGgDCEqjCy",
        "outputId": "08a11e9c-eb42-4ca6-90fd-6412573a73bc"
      },
      "source": [
        "only_spb_center.hist('living_area', bins = 100) #изучаем площадь для жилья\n",
        "plt.title('Жилая площадь, центр СПб') #назовем график\n",
        "plt.ylabel('Кол-во объявлений, шт') #назовем сторону y\n",
        "plt.xlabel('Площадь, м2') #назовем сторону x\n",
        "only_spb_center['living_area'].describe()"
      ],
      "execution_count": 26,
      "outputs": [
        {
          "output_type": "execute_result",
          "data": {
            "text/plain": [
              "count    3525.000000\n",
              "mean       55.196879\n",
              "std        39.236048\n",
              "min         2.000000\n",
              "25%        31.000000\n",
              "50%        46.000000\n",
              "75%        67.000000\n",
              "max       430.000000\n",
              "Name: living_area, dtype: float64"
            ]
          },
          "metadata": {
            "tags": []
          },
          "execution_count": 26
        },
        {
          "output_type": "display_data",
          "data": {
            "image/png": "[encoded data removed]",
            "text/plain": [
              "<Figure size 432x288 with 1 Axes>"
            ]
          },
          "metadata": {
            "tags": [],
            "needs_background": "light"
          }
        }
      ]
    },
    {
      "cell_type": "markdown",
      "metadata": {
        "id": "a2Gwv2prqjCz"
      },
      "source": [
        "Средний метраж, продаваемых квартир в Санкт-Петербурге равен 55 кв м; минимальная квартира - 2 кв м, а самая большая 430 кв м. \n",
        "Больше всего опубликованных объявлений имеют площадь от 31 до 67 кв м"
      ]
    },
    {
      "cell_type": "code",
      "metadata": {
        "colab": {
          "base_uri": "https://localhost:8080/",
          "height": 448
        },
        "id": "EnjDxsXRqjCz",
        "outputId": "5b49811a-1dee-41f7-a959-c0208037ece3"
      },
      "source": [
        "only_spb_center.hist('last_price', bins = 2000) #изучаем стоимость квартиры  в центре Санкт-Петерубурга\n",
        "plt.xlim(0,35000000)\n",
        "plt.title('Цена на момент снятия с продажи, центр Спб') #назовем график\n",
        "plt.ylabel('Кол-во объявлений, шт') #назовем сторону y\n",
        "plt.xlabel('Цена, млн') #назовем сторону x\n",
        "only_spb_center['last_price'].describe()"
      ],
      "execution_count": 27,
      "outputs": [
        {
          "output_type": "execute_result",
          "data": {
            "text/plain": [
              "count    3.525000e+03\n",
              "mean     1.489553e+07\n",
              "std      2.432091e+07\n",
              "min      1.600000e+06\n",
              "25%      6.690000e+06\n",
              "50%      9.200000e+06\n",
              "75%      1.450000e+07\n",
              "max      7.630000e+08\n",
              "Name: last_price, dtype: float64"
            ]
          },
          "metadata": {
            "tags": []
          },
          "execution_count": 27
        },
        {
          "output_type": "display_data",
          "data": {
            "image/png": "[encoded data removed]",
            "text/plain": [
              "<Figure size 432x288 with 1 Axes>"
            ]
          },
          "metadata": {
            "tags": [],
            "needs_background": "light"
          }
        }
      ]
    },
    {
      "cell_type": "markdown",
      "metadata": {
        "id": "rrgVUfYOqjC0"
      },
      "source": [
        "Средний цена, продаваемых квартир в Санкт-Петербурге составляет  14,8 млн рублей. Норма же находится в диапазоне от 6,7 млн до 14,5 млн р. Что на порядок выше, значений по всеми Санкт-Петербургу и опласти. "
      ]
    },
    {
      "cell_type": "code",
      "metadata": {
        "colab": {
          "base_uri": "https://localhost:8080/",
          "height": 448
        },
        "id": "Ah-Qt8CyqjC0",
        "outputId": "cbdccf77-5547-41dc-9725-ca4c2cdf9161"
      },
      "source": [
        "only_spb_center.hist('rooms', bins = 10) #изучаем кол-во комнат в центре Санкт-Петерубурга\n",
        "plt.xlim(0,7)\n",
        "plt.title('Количество комнат, центр Спб') #назовем график\n",
        "plt.ylabel('Кол-во объявлений, шт') #назовем сторону y\n",
        "plt.xlabel('Кол-во комнат в одной квартире, шт') #назовем сторону x\n",
        "only_spb_center['rooms'].describe()"
      ],
      "execution_count": 28,
      "outputs": [
        {
          "output_type": "execute_result",
          "data": {
            "text/plain": [
              "count    3525.000000\n",
              "mean        2.834326\n",
              "std         1.449808\n",
              "min         0.000000\n",
              "25%         2.000000\n",
              "50%         3.000000\n",
              "75%         3.000000\n",
              "max        19.000000\n",
              "Name: rooms, dtype: float64"
            ]
          },
          "metadata": {
            "tags": []
          },
          "execution_count": 28
        },
        {
          "output_type": "display_data",
          "data": {
            "image/png": "[encoded data removed]",
            "text/plain": [
              "<Figure size 432x288 with 1 Axes>"
            ]
          },
          "metadata": {
            "tags": [],
            "needs_background": "light"
          }
        }
      ]
    },
    {
      "cell_type": "markdown",
      "metadata": {
        "id": "y1O18u6GqjC1"
      },
      "source": [
        "В среднем в центре Санктр-Петербрурга квартиры с 3мя комнатами.Здесь же располагается и рекордсмен с 19ю комнатами. "
      ]
    },
    {
      "cell_type": "code",
      "metadata": {
        "colab": {
          "base_uri": "https://localhost:8080/",
          "height": 448
        },
        "id": "7flX2k3SqjC1",
        "outputId": "f4d004d8-7284-42f8-edff-9f06b3b52cab"
      },
      "source": [
        "only_spb_center.hist('ceiling_height', bins = 50) #изучаем высоту потолков в центре Санкт-Петербурга\n",
        "plt.title('Высота потолков, центр Спб') #назовем график\n",
        "plt.ylabel('Кол-во объявлений, шт') #назовем сторону y\n",
        "plt.xlabel('Высота потолков, м') #назовем сторону x\n",
        "only_spb_center['ceiling_height'].describe()"
      ],
      "execution_count": 29,
      "outputs": [
        {
          "output_type": "execute_result",
          "data": {
            "text/plain": [
              "count    2286.000000\n",
              "mean        3.118609\n",
              "std         0.871873\n",
              "min         2.400000\n",
              "25%         2.830000\n",
              "50%         3.000000\n",
              "75%         3.300000\n",
              "max        32.000000\n",
              "Name: ceiling_height, dtype: float64"
            ]
          },
          "metadata": {
            "tags": []
          },
          "execution_count": 29
        },
        {
          "output_type": "display_data",
          "data": {
            "image/png": "[encoded data removed]",
            "text/plain": [
              "<Figure size 432x288 with 1 Axes>"
            ]
          },
          "metadata": {
            "tags": [],
            "needs_background": "light"
          }
        }
      ]
    },
    {
      "cell_type": "markdown",
      "metadata": {
        "id": "T83xG8OdqjC2"
      },
      "source": [
        "Средняя высота потолков продаваемых квартир составляет 3,1 м, норма вцелом находится от 2,8 до 3,3 м. "
      ]
    },
    {
      "cell_type": "code",
      "metadata": {
        "colab": {
          "base_uri": "https://localhost:8080/",
          "height": 266
        },
        "id": "C8ehx2EiqjC2",
        "outputId": "cdf14192-e13c-480f-b94f-362fe8399d13"
      },
      "source": [
        "#строим матрицу корреляции между показателями в центре Санкт-Петербурга\n",
        "only_spb_center[['last_price','rooms','cityCenters_nearest_km', 'floor_name', 'weekday_exposition', 'month_exposition','year_exposition',]].corr()"
      ],
      "execution_count": 30,
      "outputs": [
        {
          "output_type": "execute_result",
          "data": {
            "text/html": [
              "<div>\n",
              "<style scoped>\n",
              "    .dataframe tbody tr th:only-of-type {\n",
              "        vertical-align: middle;\n",
              "    }\n",
              "\n",
              "    .dataframe tbody tr th {\n",
              "        vertical-align: top;\n",
              "    }\n",
              "\n",
              "    .dataframe thead th {\n",
              "        text-align: right;\n",
              "    }\n",
              "</style>\n",
              "<table border=\"1\" class=\"dataframe\">\n",
              "  <thead>\n",
              "    <tr style=\"text-align: right;\">\n",
              "      <th></th>\n",
              "      <th>last_price</th>\n",
              "      <th>rooms</th>\n",
              "      <th>cityCenters_nearest_km</th>\n",
              "      <th>floor_name</th>\n",
              "      <th>weekday_exposition</th>\n",
              "      <th>month_exposition</th>\n",
              "      <th>year_exposition</th>\n",
              "    </tr>\n",
              "  </thead>\n",
              "  <tbody>\n",
              "    <tr>\n",
              "      <th>last_price</th>\n",
              "      <td>1.000000</td>\n",
              "      <td>0.314874</td>\n",
              "      <td>-0.040549</td>\n",
              "      <td>0.036525</td>\n",
              "      <td>0.028284</td>\n",
              "      <td>-0.012761</td>\n",
              "      <td>-0.047101</td>\n",
              "    </tr>\n",
              "    <tr>\n",
              "      <th>rooms</th>\n",
              "      <td>0.314874</td>\n",
              "      <td>1.000000</td>\n",
              "      <td>-0.156661</td>\n",
              "      <td>0.020311</td>\n",
              "      <td>-0.007036</td>\n",
              "      <td>-0.026147</td>\n",
              "      <td>-0.066291</td>\n",
              "    </tr>\n",
              "    <tr>\n",
              "      <th>cityCenters_nearest_km</th>\n",
              "      <td>-0.040549</td>\n",
              "      <td>-0.156661</td>\n",
              "      <td>1.000000</td>\n",
              "      <td>0.101927</td>\n",
              "      <td>0.010880</td>\n",
              "      <td>0.000960</td>\n",
              "      <td>0.035943</td>\n",
              "    </tr>\n",
              "    <tr>\n",
              "      <th>floor_name</th>\n",
              "      <td>0.036525</td>\n",
              "      <td>0.020311</td>\n",
              "      <td>0.101927</td>\n",
              "      <td>1.000000</td>\n",
              "      <td>-0.001672</td>\n",
              "      <td>-0.002417</td>\n",
              "      <td>-0.030068</td>\n",
              "    </tr>\n",
              "    <tr>\n",
              "      <th>weekday_exposition</th>\n",
              "      <td>0.028284</td>\n",
              "      <td>-0.007036</td>\n",
              "      <td>0.010880</td>\n",
              "      <td>-0.001672</td>\n",
              "      <td>1.000000</td>\n",
              "      <td>0.025350</td>\n",
              "      <td>0.002352</td>\n",
              "    </tr>\n",
              "    <tr>\n",
              "      <th>month_exposition</th>\n",
              "      <td>-0.012761</td>\n",
              "      <td>-0.026147</td>\n",
              "      <td>0.000960</td>\n",
              "      <td>-0.002417</td>\n",
              "      <td>0.025350</td>\n",
              "      <td>1.000000</td>\n",
              "      <td>-0.243528</td>\n",
              "    </tr>\n",
              "    <tr>\n",
              "      <th>year_exposition</th>\n",
              "      <td>-0.047101</td>\n",
              "      <td>-0.066291</td>\n",
              "      <td>0.035943</td>\n",
              "      <td>-0.030068</td>\n",
              "      <td>0.002352</td>\n",
              "      <td>-0.243528</td>\n",
              "      <td>1.000000</td>\n",
              "    </tr>\n",
              "  </tbody>\n",
              "</table>\n",
              "</div>"
            ],
            "text/plain": [
              "                        last_price     rooms  cityCenters_nearest_km  \\\n",
              "last_price                1.000000  0.314874               -0.040549   \n",
              "rooms                     0.314874  1.000000               -0.156661   \n",
              "cityCenters_nearest_km   -0.040549 -0.156661                1.000000   \n",
              "floor_name                0.036525  0.020311                0.101927   \n",
              "weekday_exposition        0.028284 -0.007036                0.010880   \n",
              "month_exposition         -0.012761 -0.026147                0.000960   \n",
              "year_exposition          -0.047101 -0.066291                0.035943   \n",
              "\n",
              "                        floor_name  weekday_exposition  month_exposition  \\\n",
              "last_price                0.036525            0.028284         -0.012761   \n",
              "rooms                     0.020311           -0.007036         -0.026147   \n",
              "cityCenters_nearest_km    0.101927            0.010880          0.000960   \n",
              "floor_name                1.000000           -0.001672         -0.002417   \n",
              "weekday_exposition       -0.001672            1.000000          0.025350   \n",
              "month_exposition         -0.002417            0.025350          1.000000   \n",
              "year_exposition          -0.030068            0.002352         -0.243528   \n",
              "\n",
              "                        year_exposition  \n",
              "last_price                    -0.047101  \n",
              "rooms                         -0.066291  \n",
              "cityCenters_nearest_km         0.035943  \n",
              "floor_name                    -0.030068  \n",
              "weekday_exposition             0.002352  \n",
              "month_exposition              -0.243528  \n",
              "year_exposition                1.000000  "
            ]
          },
          "metadata": {
            "tags": []
          },
          "execution_count": 30
        }
      ]
    },
    {
      "cell_type": "markdown",
      "metadata": {
        "id": "o4Il8KkJqjC3"
      },
      "source": [
        "Цена квартиры в Центре Санкт-Петербурга зависит на 31,4% от кол-ва комнат и всего на 4% от близости к самому центру города. Этаж также не столь важен (3,6%). При это Цена квартиры имеет обратную зависимость с годом продажи (в 4,7%), то есть с годами квартиры дешевеют. "
      ]
    },
    {
      "cell_type": "markdown",
      "metadata": {
        "id": "y1BsTHYuqjC3"
      },
      "source": [
        "### Вывод "
      ]
    },
    {
      "cell_type": "markdown",
      "metadata": {
        "id": "48YbOvt8qjC3"
      },
      "source": [
        "Сравнивая центр Санкт-Петербурга с аналогичными данными всего Санкт-Петербурга и области, можно сделать вывод, что цена квартиры в центре меньше зависит(на 3,6%) от кол-ва комнат, здесь не столь важно фактическое расположение дома в рамках этих 7ми килломентров, но при этом здесь жилье немного быстрее дешевеет (на 0,4%)."
      ]
    },
    {
      "cell_type": "markdown",
      "metadata": {
        "id": "oKtdHdZCqjC4"
      },
      "source": [
        "### Шаг 5. Общий вывод"
      ]
    },
    {
      "cell_type": "markdown",
      "metadata": {
        "id": "1_iRzg8HqjC4"
      },
      "source": [
        "Рыночная стоимость жилья в Санкт-Петерубрге и Лен.области зависит от следующих параметров:\n",
        "1. От жилой площади квартиры на 58,6%\n",
        "2. От кол-ва комнат на 36,3%\n",
        "3. От близости к центру на 20,7% (чем ближе к центру, тем выше цена. Центром города в Санкт-Петербурге можно считать территорию в радиусе до 7 км включительно)\n",
        "4. От этажа на 4% (при этом, если квартира будет располагаться не на 1ом этаже, то цена будет зависеть на 8% от этажа)\n",
        "\n",
        "Средняя квартира в ЛО и Санкт-Петербурге - это 2х комнатная квартира площадью 30 м2, ценой в 6,5 млн р, высотой потолков в 2,7 м, проданная за 95 дней.\n",
        "\n",
        "Больше всего дорогово жилья располагается в центре Санкт-Петербурга, где средняя цена составляет 14,8 млн рублей, за которую можно купить трехкомнатную квартиру с высотой потолков в 3,1 м и жилой площадью в 55 м2.\n",
        "\n",
        "Также стоит отметить, что в центре Санкт-Петербурга жилье немного быстрее дешевеет (на 0,4%), чем вцелом по Санкт-Петербургу и Лен.области. "
      ]
    }
  ]
}