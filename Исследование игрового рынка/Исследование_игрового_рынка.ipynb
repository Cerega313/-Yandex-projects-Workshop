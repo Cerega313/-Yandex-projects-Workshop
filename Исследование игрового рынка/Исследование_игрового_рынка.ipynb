{
  "nbformat": 4,
  "nbformat_minor": 0,
  "metadata": {
    "kernelspec": {
      "display_name": "Python 3",
      "language": "python",
      "name": "python3"
    },
    "language_info": {
      "codemirror_mode": {
        "name": "ipython",
        "version": 3
      },
      "file_extension": ".py",
      "mimetype": "text/x-python",
      "name": "python",
      "nbconvert_exporter": "python",
      "pygments_lexer": "ipython3",
      "version": "3.7.8"
    },
    "toc": {
      "base_numbering": 1,
      "nav_menu": {},
      "number_sections": false,
      "sideBar": true,
      "skip_h1_title": true,
      "title_cell": "Table of Contents",
      "title_sidebar": "Contents",
      "toc_cell": false,
      "toc_position": {},
      "toc_section_display": true,
      "toc_window_display": false
    },
    "colab": {
      "name": "Исследование игрового рынка.ipynb",
      "provenance": [],
      "collapsed_sections": []
    }
  },
  "cells": [
    {
      "cell_type": "markdown",
      "metadata": {
        "id": "6RTDHFRRkOMg"
      },
      "source": [
        "##### План выполнения проекта   \n",
        "1.[Запускаем датасет и изучаем общую информацию по нему](#1);  \n",
        "2.[Подготавливаем данные](#2);  \n",
        "3.[Проводим Исследовательский анализ данных](#3);     \n",
        "4.[Исследуем портрет пользователя каждого региона](#4);     \n",
        "5 [Проверяем гипотезы](#5)      \n",
        "6 [Общий вывод](#6)  "
      ]
    },
    {
      "cell_type": "code",
      "metadata": {
        "id": "gIGexSFikOMh"
      },
      "source": [
        "#запускаем первым шагом все предполагаемые билиотеки, при необходимости в ходе проекта дополняем этот пункт\n",
        "import pandas as pd\n",
        "import matplotlib.pyplot as plt\n",
        "import datetime\n",
        "import numpy as np\n",
        "from scipy import stats as st\n",
        "from math import factorial\n",
        "import seaborn as sns\n",
        "\n",
        "from pymystem3 import Mystem #вызываем библиотеку pymastem для проведения лемматизации\n",
        "m = Mystem()"
      ],
      "execution_count": 22,
      "outputs": []
    },
    {
      "cell_type": "markdown",
      "metadata": {
        "id": "sLOMu2mHkOMj"
      },
      "source": [
        "##### Шаг 1. Запускаем датасет и изучаем общую информацию по нему <a id=\"1\"></a>"
      ]
    },
    {
      "cell_type": "code",
      "metadata": {
        "colab": {
          "base_uri": "https://localhost:8080/",
          "height": 359
        },
        "id": "eeu2hkfjkOMj",
        "outputId": "efc4eddf-4646-43ae-cc1a-787efccd3c6e"
      },
      "source": [
        "first_data = pd.read_csv('/content/games.csv') \n",
        "first_data.sample(n = 10, random_state = 1) "
      ],
      "execution_count": 23,
      "outputs": [
        {
          "output_type": "execute_result",
          "data": {
            "text/html": [
              "<div>\n",
              "<style scoped>\n",
              "    .dataframe tbody tr th:only-of-type {\n",
              "        vertical-align: middle;\n",
              "    }\n",
              "\n",
              "    .dataframe tbody tr th {\n",
              "        vertical-align: top;\n",
              "    }\n",
              "\n",
              "    .dataframe thead th {\n",
              "        text-align: right;\n",
              "    }\n",
              "</style>\n",
              "<table border=\"1\" class=\"dataframe\">\n",
              "  <thead>\n",
              "    <tr style=\"text-align: right;\">\n",
              "      <th></th>\n",
              "      <th>Name</th>\n",
              "      <th>Platform</th>\n",
              "      <th>Year_of_Release</th>\n",
              "      <th>Genre</th>\n",
              "      <th>NA_sales</th>\n",
              "      <th>EU_sales</th>\n",
              "      <th>JP_sales</th>\n",
              "      <th>Other_sales</th>\n",
              "      <th>Critic_Score</th>\n",
              "      <th>User_Score</th>\n",
              "      <th>Rating</th>\n",
              "    </tr>\n",
              "  </thead>\n",
              "  <tbody>\n",
              "    <tr>\n",
              "      <th>14230</th>\n",
              "      <td>Rakushou! Pachi-Slot Sengen 5: Rio Paradise</td>\n",
              "      <td>PS2</td>\n",
              "      <td>2007.0</td>\n",
              "      <td>Misc</td>\n",
              "      <td>0.00</td>\n",
              "      <td>0.00</td>\n",
              "      <td>0.03</td>\n",
              "      <td>0.00</td>\n",
              "      <td>NaN</td>\n",
              "      <td>NaN</td>\n",
              "      <td>NaN</td>\n",
              "    </tr>\n",
              "    <tr>\n",
              "      <th>14043</th>\n",
              "      <td>Nobunaga's Ambition II</td>\n",
              "      <td>3DS</td>\n",
              "      <td>2015.0</td>\n",
              "      <td>Strategy</td>\n",
              "      <td>0.00</td>\n",
              "      <td>0.00</td>\n",
              "      <td>0.04</td>\n",
              "      <td>0.00</td>\n",
              "      <td>NaN</td>\n",
              "      <td>NaN</td>\n",
              "      <td>NaN</td>\n",
              "    </tr>\n",
              "    <tr>\n",
              "      <th>3158</th>\n",
              "      <td>Up</td>\n",
              "      <td>DS</td>\n",
              "      <td>2009.0</td>\n",
              "      <td>Action</td>\n",
              "      <td>0.30</td>\n",
              "      <td>0.27</td>\n",
              "      <td>0.00</td>\n",
              "      <td>0.07</td>\n",
              "      <td>NaN</td>\n",
              "      <td>tbd</td>\n",
              "      <td>E</td>\n",
              "    </tr>\n",
              "    <tr>\n",
              "      <th>22</th>\n",
              "      <td>Super Mario Bros. 3</td>\n",
              "      <td>NES</td>\n",
              "      <td>1988.0</td>\n",
              "      <td>Platform</td>\n",
              "      <td>9.54</td>\n",
              "      <td>3.44</td>\n",
              "      <td>3.84</td>\n",
              "      <td>0.46</td>\n",
              "      <td>NaN</td>\n",
              "      <td>NaN</td>\n",
              "      <td>NaN</td>\n",
              "    </tr>\n",
              "    <tr>\n",
              "      <th>110</th>\n",
              "      <td>Mario Kart 8</td>\n",
              "      <td>WiiU</td>\n",
              "      <td>2014.0</td>\n",
              "      <td>Racing</td>\n",
              "      <td>3.15</td>\n",
              "      <td>2.15</td>\n",
              "      <td>1.28</td>\n",
              "      <td>0.51</td>\n",
              "      <td>88.0</td>\n",
              "      <td>9.1</td>\n",
              "      <td>E</td>\n",
              "    </tr>\n",
              "    <tr>\n",
              "      <th>1988</th>\n",
              "      <td>ATV: Quad Power Racing</td>\n",
              "      <td>PS</td>\n",
              "      <td>2000.0</td>\n",
              "      <td>Racing</td>\n",
              "      <td>0.58</td>\n",
              "      <td>0.39</td>\n",
              "      <td>0.00</td>\n",
              "      <td>0.07</td>\n",
              "      <td>42.0</td>\n",
              "      <td>tbd</td>\n",
              "      <td>E</td>\n",
              "    </tr>\n",
              "    <tr>\n",
              "      <th>7130</th>\n",
              "      <td>64 de Hakken! Tamagotchi Minna de Tamagotchi W...</td>\n",
              "      <td>N64</td>\n",
              "      <td>1997.0</td>\n",
              "      <td>Misc</td>\n",
              "      <td>0.00</td>\n",
              "      <td>0.00</td>\n",
              "      <td>0.22</td>\n",
              "      <td>0.00</td>\n",
              "      <td>NaN</td>\n",
              "      <td>NaN</td>\n",
              "      <td>NaN</td>\n",
              "    </tr>\n",
              "    <tr>\n",
              "      <th>8849</th>\n",
              "      <td>Derby Stallion 64</td>\n",
              "      <td>N64</td>\n",
              "      <td>2001.0</td>\n",
              "      <td>Sports</td>\n",
              "      <td>0.00</td>\n",
              "      <td>0.00</td>\n",
              "      <td>0.15</td>\n",
              "      <td>0.00</td>\n",
              "      <td>NaN</td>\n",
              "      <td>NaN</td>\n",
              "      <td>NaN</td>\n",
              "    </tr>\n",
              "    <tr>\n",
              "      <th>14602</th>\n",
              "      <td>Star Wars: The Force Unleashed II</td>\n",
              "      <td>PC</td>\n",
              "      <td>2010.0</td>\n",
              "      <td>Action</td>\n",
              "      <td>0.03</td>\n",
              "      <td>0.00</td>\n",
              "      <td>0.00</td>\n",
              "      <td>0.00</td>\n",
              "      <td>59.0</td>\n",
              "      <td>5.8</td>\n",
              "      <td>T</td>\n",
              "    </tr>\n",
              "    <tr>\n",
              "      <th>106</th>\n",
              "      <td>Tekken 3</td>\n",
              "      <td>PS</td>\n",
              "      <td>1998.0</td>\n",
              "      <td>Fighting</td>\n",
              "      <td>3.27</td>\n",
              "      <td>2.22</td>\n",
              "      <td>1.40</td>\n",
              "      <td>0.29</td>\n",
              "      <td>96.0</td>\n",
              "      <td>9.1</td>\n",
              "      <td>T</td>\n",
              "    </tr>\n",
              "  </tbody>\n",
              "</table>\n",
              "</div>"
            ],
            "text/plain": [
              "                                                    Name  ... Rating\n",
              "14230        Rakushou! Pachi-Slot Sengen 5: Rio Paradise  ...    NaN\n",
              "14043                             Nobunaga's Ambition II  ...    NaN\n",
              "3158                                                  Up  ...      E\n",
              "22                                   Super Mario Bros. 3  ...    NaN\n",
              "110                                         Mario Kart 8  ...      E\n",
              "1988                              ATV: Quad Power Racing  ...      E\n",
              "7130   64 de Hakken! Tamagotchi Minna de Tamagotchi W...  ...    NaN\n",
              "8849                                   Derby Stallion 64  ...    NaN\n",
              "14602                  Star Wars: The Force Unleashed II  ...      T\n",
              "106                                             Tekken 3  ...      T\n",
              "\n",
              "[10 rows x 11 columns]"
            ]
          },
          "metadata": {
            "tags": []
          },
          "execution_count": 23
        }
      ]
    },
    {
      "cell_type": "code",
      "metadata": {
        "colab": {
          "base_uri": "https://localhost:8080/"
        },
        "id": "4gy93qqZkOMm",
        "outputId": "d792ea83-9c12-42a0-dc8f-3fdc12f84dca"
      },
      "source": [
        "#изучем информацию по пропускам и типам данных\n",
        "first_data.info()"
      ],
      "execution_count": 24,
      "outputs": [
        {
          "output_type": "stream",
          "text": [
            "<class 'pandas.core.frame.DataFrame'>\n",
            "RangeIndex: 16715 entries, 0 to 16714\n",
            "Data columns (total 11 columns):\n",
            " #   Column           Non-Null Count  Dtype  \n",
            "---  ------           --------------  -----  \n",
            " 0   Name             16713 non-null  object \n",
            " 1   Platform         16715 non-null  object \n",
            " 2   Year_of_Release  16446 non-null  float64\n",
            " 3   Genre            16713 non-null  object \n",
            " 4   NA_sales         16715 non-null  float64\n",
            " 5   EU_sales         16715 non-null  float64\n",
            " 6   JP_sales         16715 non-null  float64\n",
            " 7   Other_sales      16715 non-null  float64\n",
            " 8   Critic_Score     8137 non-null   float64\n",
            " 9   User_Score       10014 non-null  object \n",
            " 10  Rating           9949 non-null   object \n",
            "dtypes: float64(6), object(5)\n",
            "memory usage: 1.4+ MB\n"
          ],
          "name": "stdout"
        }
      ]
    },
    {
      "cell_type": "code",
      "metadata": {
        "colab": {
          "base_uri": "https://localhost:8080/"
        },
        "id": "IpkO1V3ekOMn",
        "outputId": "588de4b1-ad1e-4ff8-aba3-8d0f40f803da"
      },
      "source": [
        "#ищем дубликаты строк в датасете\n",
        "first_data.duplicated().sum()"
      ],
      "execution_count": 25,
      "outputs": [
        {
          "output_type": "execute_result",
          "data": {
            "text/plain": [
              "0"
            ]
          },
          "metadata": {
            "tags": []
          },
          "execution_count": 25
        }
      ]
    },
    {
      "cell_type": "markdown",
      "metadata": {
        "id": "wa16gf67kOMp"
      },
      "source": [
        "##### Шаг 2. Подготавливаем данные <a id=\"2\"></a>"
      ]
    },
    {
      "cell_type": "code",
      "metadata": {
        "id": "cfX0UF7UkOMp"
      },
      "source": [
        "#приводим названия столбцов к нижнему регистру\n",
        "first_data.columns = first_data.columns.str.lower()"
      ],
      "execution_count": 26,
      "outputs": []
    },
    {
      "cell_type": "code",
      "metadata": {
        "id": "EWlaDtY_kOMq"
      },
      "source": [
        "#в столбце с названием игр переименовываем два пропущенных значения \n",
        "first_data['name'] = first_data['name'].fillna(\"0\")"
      ],
      "execution_count": 27,
      "outputs": []
    },
    {
      "cell_type": "code",
      "metadata": {
        "colab": {
          "base_uri": "https://localhost:8080/",
          "height": 111
        },
        "id": "UI9Y_uCAkOMr",
        "outputId": "74dc6f88-d685-42be-dccc-e1f332f51dc6"
      },
      "source": [
        "first_data.query('name == \"0\"')\n",
        "#строк мало и они за 1993 - можно этими данными приенебречь и удалить данные строки"
      ],
      "execution_count": 28,
      "outputs": [
        {
          "output_type": "execute_result",
          "data": {
            "text/html": [
              "<div>\n",
              "<style scoped>\n",
              "    .dataframe tbody tr th:only-of-type {\n",
              "        vertical-align: middle;\n",
              "    }\n",
              "\n",
              "    .dataframe tbody tr th {\n",
              "        vertical-align: top;\n",
              "    }\n",
              "\n",
              "    .dataframe thead th {\n",
              "        text-align: right;\n",
              "    }\n",
              "</style>\n",
              "<table border=\"1\" class=\"dataframe\">\n",
              "  <thead>\n",
              "    <tr style=\"text-align: right;\">\n",
              "      <th></th>\n",
              "      <th>name</th>\n",
              "      <th>platform</th>\n",
              "      <th>year_of_release</th>\n",
              "      <th>genre</th>\n",
              "      <th>na_sales</th>\n",
              "      <th>eu_sales</th>\n",
              "      <th>jp_sales</th>\n",
              "      <th>other_sales</th>\n",
              "      <th>critic_score</th>\n",
              "      <th>user_score</th>\n",
              "      <th>rating</th>\n",
              "    </tr>\n",
              "  </thead>\n",
              "  <tbody>\n",
              "    <tr>\n",
              "      <th>659</th>\n",
              "      <td>0</td>\n",
              "      <td>GEN</td>\n",
              "      <td>1993.0</td>\n",
              "      <td>NaN</td>\n",
              "      <td>1.78</td>\n",
              "      <td>0.53</td>\n",
              "      <td>0.00</td>\n",
              "      <td>0.08</td>\n",
              "      <td>NaN</td>\n",
              "      <td>NaN</td>\n",
              "      <td>NaN</td>\n",
              "    </tr>\n",
              "    <tr>\n",
              "      <th>14244</th>\n",
              "      <td>0</td>\n",
              "      <td>GEN</td>\n",
              "      <td>1993.0</td>\n",
              "      <td>NaN</td>\n",
              "      <td>0.00</td>\n",
              "      <td>0.00</td>\n",
              "      <td>0.03</td>\n",
              "      <td>0.00</td>\n",
              "      <td>NaN</td>\n",
              "      <td>NaN</td>\n",
              "      <td>NaN</td>\n",
              "    </tr>\n",
              "  </tbody>\n",
              "</table>\n",
              "</div>"
            ],
            "text/plain": [
              "      name platform  year_of_release  ... critic_score  user_score  rating\n",
              "659      0      GEN           1993.0  ...          NaN         NaN     NaN\n",
              "14244    0      GEN           1993.0  ...          NaN         NaN     NaN\n",
              "\n",
              "[2 rows x 11 columns]"
            ]
          },
          "metadata": {
            "tags": []
          },
          "execution_count": 28
        }
      ]
    },
    {
      "cell_type": "code",
      "metadata": {
        "id": "8xNmVXJ2kOMs"
      },
      "source": [
        "first_data.dropna(subset = ['genre'], inplace=True)"
      ],
      "execution_count": 29,
      "outputs": []
    },
    {
      "cell_type": "code",
      "metadata": {
        "id": "w7IsUABQkOMx"
      },
      "source": [
        "#заменим пропущенные значения на 1000\n",
        "first_data['year_of_release'] = first_data['year_of_release'].fillna(\"1000\")"
      ],
      "execution_count": 30,
      "outputs": []
    },
    {
      "cell_type": "code",
      "metadata": {
        "id": "qTWZD68skOMx"
      },
      "source": [
        "#заменим пропущенные значения \n",
        "first_data['user_score'] = first_data['user_score'].fillna('11')\n",
        "first_data['critic_score'] = first_data['critic_score'].fillna('101')\n",
        "first_data['rating'] = first_data['rating'].fillna('1000')"
      ],
      "execution_count": 31,
      "outputs": []
    },
    {
      "cell_type": "code",
      "metadata": {
        "id": "Kdw6xXDWkOMz"
      },
      "source": [
        "#посчитаем выручку каждой игры по всему миру\n",
        "first_data['all_sales'] = first_data['na_sales'] + first_data['eu_sales'] + first_data['jp_sales']"
      ],
      "execution_count": 32,
      "outputs": []
    },
    {
      "cell_type": "code",
      "metadata": {
        "colab": {
          "base_uri": "https://localhost:8080/",
          "height": 419
        },
        "id": "SCOKLM6EkOM0",
        "outputId": "4602d2df-7ff2-4357-c092-55a7e833f536"
      },
      "source": [
        "#изучим значение tbd\n",
        "first_data.query('user_score == \"tbd\"')"
      ],
      "execution_count": 33,
      "outputs": [
        {
          "output_type": "execute_result",
          "data": {
            "text/html": [
              "<div>\n",
              "<style scoped>\n",
              "    .dataframe tbody tr th:only-of-type {\n",
              "        vertical-align: middle;\n",
              "    }\n",
              "\n",
              "    .dataframe tbody tr th {\n",
              "        vertical-align: top;\n",
              "    }\n",
              "\n",
              "    .dataframe thead th {\n",
              "        text-align: right;\n",
              "    }\n",
              "</style>\n",
              "<table border=\"1\" class=\"dataframe\">\n",
              "  <thead>\n",
              "    <tr style=\"text-align: right;\">\n",
              "      <th></th>\n",
              "      <th>name</th>\n",
              "      <th>platform</th>\n",
              "      <th>year_of_release</th>\n",
              "      <th>genre</th>\n",
              "      <th>na_sales</th>\n",
              "      <th>eu_sales</th>\n",
              "      <th>jp_sales</th>\n",
              "      <th>other_sales</th>\n",
              "      <th>critic_score</th>\n",
              "      <th>user_score</th>\n",
              "      <th>rating</th>\n",
              "      <th>all_sales</th>\n",
              "    </tr>\n",
              "  </thead>\n",
              "  <tbody>\n",
              "    <tr>\n",
              "      <th>119</th>\n",
              "      <td>Zumba Fitness</td>\n",
              "      <td>Wii</td>\n",
              "      <td>2010</td>\n",
              "      <td>Sports</td>\n",
              "      <td>3.45</td>\n",
              "      <td>2.59</td>\n",
              "      <td>0.0</td>\n",
              "      <td>0.66</td>\n",
              "      <td>101</td>\n",
              "      <td>tbd</td>\n",
              "      <td>E</td>\n",
              "      <td>6.04</td>\n",
              "    </tr>\n",
              "    <tr>\n",
              "      <th>301</th>\n",
              "      <td>Namco Museum: 50th Anniversary</td>\n",
              "      <td>PS2</td>\n",
              "      <td>2005</td>\n",
              "      <td>Misc</td>\n",
              "      <td>2.08</td>\n",
              "      <td>1.35</td>\n",
              "      <td>0.0</td>\n",
              "      <td>0.54</td>\n",
              "      <td>61</td>\n",
              "      <td>tbd</td>\n",
              "      <td>E10+</td>\n",
              "      <td>3.43</td>\n",
              "    </tr>\n",
              "    <tr>\n",
              "      <th>520</th>\n",
              "      <td>Zumba Fitness 2</td>\n",
              "      <td>Wii</td>\n",
              "      <td>2011</td>\n",
              "      <td>Sports</td>\n",
              "      <td>1.51</td>\n",
              "      <td>1.03</td>\n",
              "      <td>0.0</td>\n",
              "      <td>0.27</td>\n",
              "      <td>101</td>\n",
              "      <td>tbd</td>\n",
              "      <td>T</td>\n",
              "      <td>2.54</td>\n",
              "    </tr>\n",
              "    <tr>\n",
              "      <th>645</th>\n",
              "      <td>uDraw Studio</td>\n",
              "      <td>Wii</td>\n",
              "      <td>2010</td>\n",
              "      <td>Misc</td>\n",
              "      <td>1.65</td>\n",
              "      <td>0.57</td>\n",
              "      <td>0.0</td>\n",
              "      <td>0.20</td>\n",
              "      <td>71</td>\n",
              "      <td>tbd</td>\n",
              "      <td>E</td>\n",
              "      <td>2.22</td>\n",
              "    </tr>\n",
              "    <tr>\n",
              "      <th>657</th>\n",
              "      <td>Frogger's Adventures: Temple of the Frog</td>\n",
              "      <td>GBA</td>\n",
              "      <td>1000</td>\n",
              "      <td>Adventure</td>\n",
              "      <td>2.15</td>\n",
              "      <td>0.18</td>\n",
              "      <td>0.0</td>\n",
              "      <td>0.07</td>\n",
              "      <td>73</td>\n",
              "      <td>tbd</td>\n",
              "      <td>E</td>\n",
              "      <td>2.33</td>\n",
              "    </tr>\n",
              "    <tr>\n",
              "      <th>...</th>\n",
              "      <td>...</td>\n",
              "      <td>...</td>\n",
              "      <td>...</td>\n",
              "      <td>...</td>\n",
              "      <td>...</td>\n",
              "      <td>...</td>\n",
              "      <td>...</td>\n",
              "      <td>...</td>\n",
              "      <td>...</td>\n",
              "      <td>...</td>\n",
              "      <td>...</td>\n",
              "      <td>...</td>\n",
              "    </tr>\n",
              "    <tr>\n",
              "      <th>16695</th>\n",
              "      <td>Planet Monsters</td>\n",
              "      <td>GBA</td>\n",
              "      <td>2001</td>\n",
              "      <td>Action</td>\n",
              "      <td>0.01</td>\n",
              "      <td>0.00</td>\n",
              "      <td>0.0</td>\n",
              "      <td>0.00</td>\n",
              "      <td>67</td>\n",
              "      <td>tbd</td>\n",
              "      <td>E</td>\n",
              "      <td>0.01</td>\n",
              "    </tr>\n",
              "    <tr>\n",
              "      <th>16697</th>\n",
              "      <td>Bust-A-Move 3000</td>\n",
              "      <td>GC</td>\n",
              "      <td>2003</td>\n",
              "      <td>Puzzle</td>\n",
              "      <td>0.01</td>\n",
              "      <td>0.00</td>\n",
              "      <td>0.0</td>\n",
              "      <td>0.00</td>\n",
              "      <td>53</td>\n",
              "      <td>tbd</td>\n",
              "      <td>E</td>\n",
              "      <td>0.01</td>\n",
              "    </tr>\n",
              "    <tr>\n",
              "      <th>16698</th>\n",
              "      <td>Mega Brain Boost</td>\n",
              "      <td>DS</td>\n",
              "      <td>2008</td>\n",
              "      <td>Puzzle</td>\n",
              "      <td>0.01</td>\n",
              "      <td>0.00</td>\n",
              "      <td>0.0</td>\n",
              "      <td>0.00</td>\n",
              "      <td>48</td>\n",
              "      <td>tbd</td>\n",
              "      <td>E</td>\n",
              "      <td>0.01</td>\n",
              "    </tr>\n",
              "    <tr>\n",
              "      <th>16704</th>\n",
              "      <td>Plushees</td>\n",
              "      <td>DS</td>\n",
              "      <td>2008</td>\n",
              "      <td>Simulation</td>\n",
              "      <td>0.01</td>\n",
              "      <td>0.00</td>\n",
              "      <td>0.0</td>\n",
              "      <td>0.00</td>\n",
              "      <td>101</td>\n",
              "      <td>tbd</td>\n",
              "      <td>E</td>\n",
              "      <td>0.01</td>\n",
              "    </tr>\n",
              "    <tr>\n",
              "      <th>16706</th>\n",
              "      <td>Men in Black II: Alien Escape</td>\n",
              "      <td>GC</td>\n",
              "      <td>2003</td>\n",
              "      <td>Shooter</td>\n",
              "      <td>0.01</td>\n",
              "      <td>0.00</td>\n",
              "      <td>0.0</td>\n",
              "      <td>0.00</td>\n",
              "      <td>101</td>\n",
              "      <td>tbd</td>\n",
              "      <td>T</td>\n",
              "      <td>0.01</td>\n",
              "    </tr>\n",
              "  </tbody>\n",
              "</table>\n",
              "<p>2424 rows × 12 columns</p>\n",
              "</div>"
            ],
            "text/plain": [
              "                                           name platform  ... rating all_sales\n",
              "119                               Zumba Fitness      Wii  ...      E      6.04\n",
              "301              Namco Museum: 50th Anniversary      PS2  ...   E10+      3.43\n",
              "520                             Zumba Fitness 2      Wii  ...      T      2.54\n",
              "645                                uDraw Studio      Wii  ...      E      2.22\n",
              "657    Frogger's Adventures: Temple of the Frog      GBA  ...      E      2.33\n",
              "...                                         ...      ...  ...    ...       ...\n",
              "16695                           Planet Monsters      GBA  ...      E      0.01\n",
              "16697                          Bust-A-Move 3000       GC  ...      E      0.01\n",
              "16698                          Mega Brain Boost       DS  ...      E      0.01\n",
              "16704                                  Plushees       DS  ...      E      0.01\n",
              "16706             Men in Black II: Alien Escape       GC  ...      T      0.01\n",
              "\n",
              "[2424 rows x 12 columns]"
            ]
          },
          "metadata": {
            "tags": []
          },
          "execution_count": 33
        }
      ]
    },
    {
      "cell_type": "code",
      "metadata": {
        "id": "jVaICQEZkOM0"
      },
      "source": [
        "#заменим тип данных \n",
        "first_data['year_of_release'] = first_data['year_of_release'].astype(int)"
      ],
      "execution_count": 34,
      "outputs": []
    },
    {
      "cell_type": "markdown",
      "metadata": {
        "id": "5Bx7ntsXkOM1"
      },
      "source": [
        "###### Вывод\n",
        "Для анализа доступно 16713 строк. Пропущенные знаения в рейтинге и оценках некорректно заполнять медианными или средними значеняими, так как их достаточно много и нет явной зависимости с другими значениями.Пропуски имеются у игр, которые вышли достаточно давно или же имеют низкий уровень продаж.  \n",
        "В столбце с рейтингом пользователей есть значение 'tbd', что означает, что рейтинг еще определяется введу небольшого кол-ва оценок.\n"
      ]
    },
    {
      "cell_type": "markdown",
      "metadata": {
        "id": "bFIjHUMTkOM1"
      },
      "source": [
        "#####  Шаг 3. Исследовательский анализ данных <a id=\"3\"></a>"
      ]
    },
    {
      "cell_type": "code",
      "metadata": {
        "colab": {
          "base_uri": "https://localhost:8080/",
          "height": 1000
        },
        "id": "5yxWDj7dkOM1",
        "outputId": "ce139f83-3e4b-45bf-e8ef-2298d99f4778"
      },
      "source": [
        "#Посмотрим сколько игр выпускалось в разные годы\n",
        "data_of_years = first_data.pivot_table(index = 'year_of_release', values = 'name', aggfunc = 'count').reset_index()\n",
        "data_of_years.columns = ['year_of_release', 'number_of_games']\n",
        "data_of_years"
      ],
      "execution_count": 35,
      "outputs": [
        {
          "output_type": "execute_result",
          "data": {
            "text/html": [
              "<div>\n",
              "<style scoped>\n",
              "    .dataframe tbody tr th:only-of-type {\n",
              "        vertical-align: middle;\n",
              "    }\n",
              "\n",
              "    .dataframe tbody tr th {\n",
              "        vertical-align: top;\n",
              "    }\n",
              "\n",
              "    .dataframe thead th {\n",
              "        text-align: right;\n",
              "    }\n",
              "</style>\n",
              "<table border=\"1\" class=\"dataframe\">\n",
              "  <thead>\n",
              "    <tr style=\"text-align: right;\">\n",
              "      <th></th>\n",
              "      <th>year_of_release</th>\n",
              "      <th>number_of_games</th>\n",
              "    </tr>\n",
              "  </thead>\n",
              "  <tbody>\n",
              "    <tr>\n",
              "      <th>0</th>\n",
              "      <td>1000</td>\n",
              "      <td>269</td>\n",
              "    </tr>\n",
              "    <tr>\n",
              "      <th>1</th>\n",
              "      <td>1980</td>\n",
              "      <td>9</td>\n",
              "    </tr>\n",
              "    <tr>\n",
              "      <th>2</th>\n",
              "      <td>1981</td>\n",
              "      <td>46</td>\n",
              "    </tr>\n",
              "    <tr>\n",
              "      <th>3</th>\n",
              "      <td>1982</td>\n",
              "      <td>36</td>\n",
              "    </tr>\n",
              "    <tr>\n",
              "      <th>4</th>\n",
              "      <td>1983</td>\n",
              "      <td>17</td>\n",
              "    </tr>\n",
              "    <tr>\n",
              "      <th>5</th>\n",
              "      <td>1984</td>\n",
              "      <td>14</td>\n",
              "    </tr>\n",
              "    <tr>\n",
              "      <th>6</th>\n",
              "      <td>1985</td>\n",
              "      <td>14</td>\n",
              "    </tr>\n",
              "    <tr>\n",
              "      <th>7</th>\n",
              "      <td>1986</td>\n",
              "      <td>21</td>\n",
              "    </tr>\n",
              "    <tr>\n",
              "      <th>8</th>\n",
              "      <td>1987</td>\n",
              "      <td>16</td>\n",
              "    </tr>\n",
              "    <tr>\n",
              "      <th>9</th>\n",
              "      <td>1988</td>\n",
              "      <td>15</td>\n",
              "    </tr>\n",
              "    <tr>\n",
              "      <th>10</th>\n",
              "      <td>1989</td>\n",
              "      <td>17</td>\n",
              "    </tr>\n",
              "    <tr>\n",
              "      <th>11</th>\n",
              "      <td>1990</td>\n",
              "      <td>16</td>\n",
              "    </tr>\n",
              "    <tr>\n",
              "      <th>12</th>\n",
              "      <td>1991</td>\n",
              "      <td>41</td>\n",
              "    </tr>\n",
              "    <tr>\n",
              "      <th>13</th>\n",
              "      <td>1992</td>\n",
              "      <td>43</td>\n",
              "    </tr>\n",
              "    <tr>\n",
              "      <th>14</th>\n",
              "      <td>1993</td>\n",
              "      <td>60</td>\n",
              "    </tr>\n",
              "    <tr>\n",
              "      <th>15</th>\n",
              "      <td>1994</td>\n",
              "      <td>121</td>\n",
              "    </tr>\n",
              "    <tr>\n",
              "      <th>16</th>\n",
              "      <td>1995</td>\n",
              "      <td>219</td>\n",
              "    </tr>\n",
              "    <tr>\n",
              "      <th>17</th>\n",
              "      <td>1996</td>\n",
              "      <td>263</td>\n",
              "    </tr>\n",
              "    <tr>\n",
              "      <th>18</th>\n",
              "      <td>1997</td>\n",
              "      <td>289</td>\n",
              "    </tr>\n",
              "    <tr>\n",
              "      <th>19</th>\n",
              "      <td>1998</td>\n",
              "      <td>379</td>\n",
              "    </tr>\n",
              "    <tr>\n",
              "      <th>20</th>\n",
              "      <td>1999</td>\n",
              "      <td>338</td>\n",
              "    </tr>\n",
              "    <tr>\n",
              "      <th>21</th>\n",
              "      <td>2000</td>\n",
              "      <td>350</td>\n",
              "    </tr>\n",
              "    <tr>\n",
              "      <th>22</th>\n",
              "      <td>2001</td>\n",
              "      <td>482</td>\n",
              "    </tr>\n",
              "    <tr>\n",
              "      <th>23</th>\n",
              "      <td>2002</td>\n",
              "      <td>829</td>\n",
              "    </tr>\n",
              "    <tr>\n",
              "      <th>24</th>\n",
              "      <td>2003</td>\n",
              "      <td>775</td>\n",
              "    </tr>\n",
              "    <tr>\n",
              "      <th>25</th>\n",
              "      <td>2004</td>\n",
              "      <td>762</td>\n",
              "    </tr>\n",
              "    <tr>\n",
              "      <th>26</th>\n",
              "      <td>2005</td>\n",
              "      <td>939</td>\n",
              "    </tr>\n",
              "    <tr>\n",
              "      <th>27</th>\n",
              "      <td>2006</td>\n",
              "      <td>1006</td>\n",
              "    </tr>\n",
              "    <tr>\n",
              "      <th>28</th>\n",
              "      <td>2007</td>\n",
              "      <td>1197</td>\n",
              "    </tr>\n",
              "    <tr>\n",
              "      <th>29</th>\n",
              "      <td>2008</td>\n",
              "      <td>1427</td>\n",
              "    </tr>\n",
              "    <tr>\n",
              "      <th>30</th>\n",
              "      <td>2009</td>\n",
              "      <td>1426</td>\n",
              "    </tr>\n",
              "    <tr>\n",
              "      <th>31</th>\n",
              "      <td>2010</td>\n",
              "      <td>1255</td>\n",
              "    </tr>\n",
              "    <tr>\n",
              "      <th>32</th>\n",
              "      <td>2011</td>\n",
              "      <td>1136</td>\n",
              "    </tr>\n",
              "    <tr>\n",
              "      <th>33</th>\n",
              "      <td>2012</td>\n",
              "      <td>653</td>\n",
              "    </tr>\n",
              "    <tr>\n",
              "      <th>34</th>\n",
              "      <td>2013</td>\n",
              "      <td>544</td>\n",
              "    </tr>\n",
              "    <tr>\n",
              "      <th>35</th>\n",
              "      <td>2014</td>\n",
              "      <td>581</td>\n",
              "    </tr>\n",
              "    <tr>\n",
              "      <th>36</th>\n",
              "      <td>2015</td>\n",
              "      <td>606</td>\n",
              "    </tr>\n",
              "    <tr>\n",
              "      <th>37</th>\n",
              "      <td>2016</td>\n",
              "      <td>502</td>\n",
              "    </tr>\n",
              "  </tbody>\n",
              "</table>\n",
              "</div>"
            ],
            "text/plain": [
              "    year_of_release  number_of_games\n",
              "0              1000              269\n",
              "1              1980                9\n",
              "2              1981               46\n",
              "3              1982               36\n",
              "4              1983               17\n",
              "5              1984               14\n",
              "6              1985               14\n",
              "7              1986               21\n",
              "8              1987               16\n",
              "9              1988               15\n",
              "10             1989               17\n",
              "11             1990               16\n",
              "12             1991               41\n",
              "13             1992               43\n",
              "14             1993               60\n",
              "15             1994              121\n",
              "16             1995              219\n",
              "17             1996              263\n",
              "18             1997              289\n",
              "19             1998              379\n",
              "20             1999              338\n",
              "21             2000              350\n",
              "22             2001              482\n",
              "23             2002              829\n",
              "24             2003              775\n",
              "25             2004              762\n",
              "26             2005              939\n",
              "27             2006             1006\n",
              "28             2007             1197\n",
              "29             2008             1427\n",
              "30             2009             1426\n",
              "31             2010             1255\n",
              "32             2011             1136\n",
              "33             2012              653\n",
              "34             2013              544\n",
              "35             2014              581\n",
              "36             2015              606\n",
              "37             2016              502"
            ]
          },
          "metadata": {
            "tags": []
          },
          "execution_count": 35
        }
      ]
    },
    {
      "cell_type": "code",
      "metadata": {
        "colab": {
          "base_uri": "https://localhost:8080/",
          "height": 328
        },
        "id": "WhL_PQ8IkOM2",
        "outputId": "b787813f-46ea-49a4-e9a9-2bf06bb80268"
      },
      "source": [
        "data_of_years.query('year_of_release > 1001').plot( kind = 'bar', x = 'year_of_release', y = 'number_of_games') #создаем график\n",
        "plt.title('Выпуск игр по годам') #называем таблицу\n",
        "plt.ylabel('Кол-во игр') #назовем сторону y\n",
        "plt.xlabel('Год выпуска') #назовем сторону x"
      ],
      "execution_count": 36,
      "outputs": [
        {
          "output_type": "execute_result",
          "data": {
            "text/plain": [
              "Text(0.5, 0, 'Год выпуска')"
            ]
          },
          "metadata": {
            "tags": []
          },
          "execution_count": 36
        },
        {
          "output_type": "display_data",
          "data": {
            "image/png": "[encoded data removed]",
            "text/plain": [
              "<Figure size 432x288 with 1 Axes>"
            ]
          },
          "metadata": {
            "tags": [],
            "needs_background": "light"
          }
        }
      ]
    },
    {
      "cell_type": "markdown",
      "metadata": {
        "id": "Ixige00-kOM2"
      },
      "source": [
        "###### Вывод\n",
        "Больше всего игр было выпущено в 2008 и 2009 годах, что соответсвует 1429 и 1426 шт. После этих лет началось падение в кол-ве выпусков. Для анализа выпущенных игр интересно использовать данные с 2012,когда кол-во игр сопоставимо с текущими. "
      ]
    },
    {
      "cell_type": "code",
      "metadata": {
        "colab": {
          "base_uri": "https://localhost:8080/",
          "height": 235
        },
        "id": "8KQ7gKPrkOM3",
        "outputId": "40daf70d-9585-4394-d03b-f5f513e73182"
      },
      "source": [
        "#Посмотрим, как менялись продажи по платформам\n",
        "pl = first_data.pivot_table(index = ['platform'],values = 'all_sales', aggfunc = 'sum').reset_index() #сделаем сводную таблицу по продажам через платформы\n",
        "top = pl.sort_values(by = 'all_sales', ascending = False) #отфильтруем столбец по продажам\n",
        "top_6 = top.loc[[16,28,26,17,4,15],:] #выведем только top 6 самых поппулярных платформ так как по ним самые высокие продажи, уже у следуюшей в списке платформ продажи в 2 раза ниже\n",
        "top_6"
      ],
      "execution_count": 37,
      "outputs": [
        {
          "output_type": "execute_result",
          "data": {
            "text/html": [
              "<div>\n",
              "<style scoped>\n",
              "    .dataframe tbody tr th:only-of-type {\n",
              "        vertical-align: middle;\n",
              "    }\n",
              "\n",
              "    .dataframe tbody tr th {\n",
              "        vertical-align: top;\n",
              "    }\n",
              "\n",
              "    .dataframe thead th {\n",
              "        text-align: right;\n",
              "    }\n",
              "</style>\n",
              "<table border=\"1\" class=\"dataframe\">\n",
              "  <thead>\n",
              "    <tr style=\"text-align: right;\">\n",
              "      <th></th>\n",
              "      <th>platform</th>\n",
              "      <th>all_sales</th>\n",
              "    </tr>\n",
              "  </thead>\n",
              "  <tbody>\n",
              "    <tr>\n",
              "      <th>16</th>\n",
              "      <td>PS2</td>\n",
              "      <td>1062.33</td>\n",
              "    </tr>\n",
              "    <tr>\n",
              "      <th>28</th>\n",
              "      <td>X360</td>\n",
              "      <td>885.66</td>\n",
              "    </tr>\n",
              "    <tr>\n",
              "      <th>26</th>\n",
              "      <td>Wii</td>\n",
              "      <td>828.44</td>\n",
              "    </tr>\n",
              "    <tr>\n",
              "      <th>17</th>\n",
              "      <td>PS3</td>\n",
              "      <td>803.97</td>\n",
              "    </tr>\n",
              "    <tr>\n",
              "      <th>4</th>\n",
              "      <td>DS</td>\n",
              "      <td>746.86</td>\n",
              "    </tr>\n",
              "    <tr>\n",
              "      <th>15</th>\n",
              "      <td>PS</td>\n",
              "      <td>689.95</td>\n",
              "    </tr>\n",
              "  </tbody>\n",
              "</table>\n",
              "</div>"
            ],
            "text/plain": [
              "   platform  all_sales\n",
              "16      PS2    1062.33\n",
              "28     X360     885.66\n",
              "26      Wii     828.44\n",
              "17      PS3     803.97\n",
              "4        DS     746.86\n",
              "15       PS     689.95"
            ]
          },
          "metadata": {
            "tags": []
          },
          "execution_count": 37
        }
      ]
    },
    {
      "cell_type": "code",
      "metadata": {
        "colab": {
          "base_uri": "https://localhost:8080/",
          "height": 793
        },
        "id": "7zlFecJHkOM4",
        "outputId": "2ffabc02-971b-4fe3-dbed-1e7178db66ec"
      },
      "source": [
        "#выведем только продажи с top6 платформ по годам за которые есть полные данные\n",
        "top = first_data.query('platform == \"PS2\" or platform == \"X360\" or platform == \"Wii\" or platform == \"PS3\" or platform == \"DS\" or platform == \"PS\"')\n",
        "top_platforms = top.query('year_of_release > 1001 and year_of_release < 2016').pivot_table(index = \"year_of_release\",columns = 'platform',values = 'all_sales', aggfunc = 'sum')\n",
        "top_platforms"
      ],
      "execution_count": 38,
      "outputs": [
        {
          "output_type": "execute_result",
          "data": {
            "text/html": [
              "<div>\n",
              "<style scoped>\n",
              "    .dataframe tbody tr th:only-of-type {\n",
              "        vertical-align: middle;\n",
              "    }\n",
              "\n",
              "    .dataframe tbody tr th {\n",
              "        vertical-align: top;\n",
              "    }\n",
              "\n",
              "    .dataframe thead th {\n",
              "        text-align: right;\n",
              "    }\n",
              "</style>\n",
              "<table border=\"1\" class=\"dataframe\">\n",
              "  <thead>\n",
              "    <tr style=\"text-align: right;\">\n",
              "      <th>platform</th>\n",
              "      <th>DS</th>\n",
              "      <th>PS</th>\n",
              "      <th>PS2</th>\n",
              "      <th>PS3</th>\n",
              "      <th>Wii</th>\n",
              "      <th>X360</th>\n",
              "    </tr>\n",
              "    <tr>\n",
              "      <th>year_of_release</th>\n",
              "      <th></th>\n",
              "      <th></th>\n",
              "      <th></th>\n",
              "      <th></th>\n",
              "      <th></th>\n",
              "      <th></th>\n",
              "    </tr>\n",
              "  </thead>\n",
              "  <tbody>\n",
              "    <tr>\n",
              "      <th>1985</th>\n",
              "      <td>0.02</td>\n",
              "      <td>NaN</td>\n",
              "      <td>NaN</td>\n",
              "      <td>NaN</td>\n",
              "      <td>NaN</td>\n",
              "      <td>NaN</td>\n",
              "    </tr>\n",
              "    <tr>\n",
              "      <th>1994</th>\n",
              "      <td>NaN</td>\n",
              "      <td>5.63</td>\n",
              "      <td>NaN</td>\n",
              "      <td>NaN</td>\n",
              "      <td>NaN</td>\n",
              "      <td>NaN</td>\n",
              "    </tr>\n",
              "    <tr>\n",
              "      <th>1995</th>\n",
              "      <td>NaN</td>\n",
              "      <td>34.00</td>\n",
              "      <td>NaN</td>\n",
              "      <td>NaN</td>\n",
              "      <td>NaN</td>\n",
              "      <td>NaN</td>\n",
              "    </tr>\n",
              "    <tr>\n",
              "      <th>1996</th>\n",
              "      <td>NaN</td>\n",
              "      <td>89.16</td>\n",
              "      <td>NaN</td>\n",
              "      <td>NaN</td>\n",
              "      <td>NaN</td>\n",
              "      <td>NaN</td>\n",
              "    </tr>\n",
              "    <tr>\n",
              "      <th>1997</th>\n",
              "      <td>NaN</td>\n",
              "      <td>128.30</td>\n",
              "      <td>NaN</td>\n",
              "      <td>NaN</td>\n",
              "      <td>NaN</td>\n",
              "      <td>NaN</td>\n",
              "    </tr>\n",
              "    <tr>\n",
              "      <th>1998</th>\n",
              "      <td>NaN</td>\n",
              "      <td>160.44</td>\n",
              "      <td>NaN</td>\n",
              "      <td>NaN</td>\n",
              "      <td>NaN</td>\n",
              "      <td>NaN</td>\n",
              "    </tr>\n",
              "    <tr>\n",
              "      <th>1999</th>\n",
              "      <td>NaN</td>\n",
              "      <td>136.61</td>\n",
              "      <td>NaN</td>\n",
              "      <td>NaN</td>\n",
              "      <td>NaN</td>\n",
              "      <td>NaN</td>\n",
              "    </tr>\n",
              "    <tr>\n",
              "      <th>2000</th>\n",
              "      <td>NaN</td>\n",
              "      <td>91.09</td>\n",
              "      <td>35.59</td>\n",
              "      <td>NaN</td>\n",
              "      <td>NaN</td>\n",
              "      <td>NaN</td>\n",
              "    </tr>\n",
              "    <tr>\n",
              "      <th>2001</th>\n",
              "      <td>NaN</td>\n",
              "      <td>33.42</td>\n",
              "      <td>149.65</td>\n",
              "      <td>NaN</td>\n",
              "      <td>NaN</td>\n",
              "      <td>NaN</td>\n",
              "    </tr>\n",
              "    <tr>\n",
              "      <th>2002</th>\n",
              "      <td>NaN</td>\n",
              "      <td>6.31</td>\n",
              "      <td>183.66</td>\n",
              "      <td>NaN</td>\n",
              "      <td>NaN</td>\n",
              "      <td>NaN</td>\n",
              "    </tr>\n",
              "    <tr>\n",
              "      <th>2003</th>\n",
              "      <td>NaN</td>\n",
              "      <td>1.93</td>\n",
              "      <td>163.62</td>\n",
              "      <td>NaN</td>\n",
              "      <td>NaN</td>\n",
              "      <td>NaN</td>\n",
              "    </tr>\n",
              "    <tr>\n",
              "      <th>2004</th>\n",
              "      <td>15.91</td>\n",
              "      <td>NaN</td>\n",
              "      <td>171.96</td>\n",
              "      <td>NaN</td>\n",
              "      <td>NaN</td>\n",
              "      <td>NaN</td>\n",
              "    </tr>\n",
              "    <tr>\n",
              "      <th>2005</th>\n",
              "      <td>119.34</td>\n",
              "      <td>NaN</td>\n",
              "      <td>141.51</td>\n",
              "      <td>NaN</td>\n",
              "      <td>NaN</td>\n",
              "      <td>7.61</td>\n",
              "    </tr>\n",
              "    <tr>\n",
              "      <th>2006</th>\n",
              "      <td>111.64</td>\n",
              "      <td>NaN</td>\n",
              "      <td>89.18</td>\n",
              "      <td>17.30</td>\n",
              "      <td>123.63</td>\n",
              "      <td>47.20</td>\n",
              "    </tr>\n",
              "    <tr>\n",
              "      <th>2007</th>\n",
              "      <td>135.85</td>\n",
              "      <td>NaN</td>\n",
              "      <td>52.30</td>\n",
              "      <td>62.48</td>\n",
              "      <td>139.22</td>\n",
              "      <td>86.68</td>\n",
              "    </tr>\n",
              "    <tr>\n",
              "      <th>2008</th>\n",
              "      <td>134.37</td>\n",
              "      <td>NaN</td>\n",
              "      <td>34.59</td>\n",
              "      <td>101.78</td>\n",
              "      <td>156.33</td>\n",
              "      <td>122.56</td>\n",
              "    </tr>\n",
              "    <tr>\n",
              "      <th>2009</th>\n",
              "      <td>110.99</td>\n",
              "      <td>NaN</td>\n",
              "      <td>16.24</td>\n",
              "      <td>113.08</td>\n",
              "      <td>189.43</td>\n",
              "      <td>109.26</td>\n",
              "    </tr>\n",
              "    <tr>\n",
              "      <th>2010</th>\n",
              "      <td>79.48</td>\n",
              "      <td>NaN</td>\n",
              "      <td>4.44</td>\n",
              "      <td>121.36</td>\n",
              "      <td>117.73</td>\n",
              "      <td>155.80</td>\n",
              "    </tr>\n",
              "    <tr>\n",
              "      <th>2011</th>\n",
              "      <td>24.30</td>\n",
              "      <td>NaN</td>\n",
              "      <td>0.35</td>\n",
              "      <td>135.22</td>\n",
              "      <td>54.37</td>\n",
              "      <td>131.11</td>\n",
              "    </tr>\n",
              "    <tr>\n",
              "      <th>2012</th>\n",
              "      <td>10.42</td>\n",
              "      <td>NaN</td>\n",
              "      <td>NaN</td>\n",
              "      <td>90.87</td>\n",
              "      <td>20.22</td>\n",
              "      <td>91.45</td>\n",
              "    </tr>\n",
              "    <tr>\n",
              "      <th>2013</th>\n",
              "      <td>1.42</td>\n",
              "      <td>NaN</td>\n",
              "      <td>NaN</td>\n",
              "      <td>95.85</td>\n",
              "      <td>7.87</td>\n",
              "      <td>80.82</td>\n",
              "    </tr>\n",
              "    <tr>\n",
              "      <th>2014</th>\n",
              "      <td>NaN</td>\n",
              "      <td>NaN</td>\n",
              "      <td>NaN</td>\n",
              "      <td>40.88</td>\n",
              "      <td>3.45</td>\n",
              "      <td>31.61</td>\n",
              "    </tr>\n",
              "    <tr>\n",
              "      <th>2015</th>\n",
              "      <td>NaN</td>\n",
              "      <td>NaN</td>\n",
              "      <td>NaN</td>\n",
              "      <td>14.70</td>\n",
              "      <td>1.05</td>\n",
              "      <td>10.86</td>\n",
              "    </tr>\n",
              "  </tbody>\n",
              "</table>\n",
              "</div>"
            ],
            "text/plain": [
              "platform             DS      PS     PS2     PS3     Wii    X360\n",
              "year_of_release                                                \n",
              "1985               0.02     NaN     NaN     NaN     NaN     NaN\n",
              "1994                NaN    5.63     NaN     NaN     NaN     NaN\n",
              "1995                NaN   34.00     NaN     NaN     NaN     NaN\n",
              "1996                NaN   89.16     NaN     NaN     NaN     NaN\n",
              "1997                NaN  128.30     NaN     NaN     NaN     NaN\n",
              "1998                NaN  160.44     NaN     NaN     NaN     NaN\n",
              "1999                NaN  136.61     NaN     NaN     NaN     NaN\n",
              "2000                NaN   91.09   35.59     NaN     NaN     NaN\n",
              "2001                NaN   33.42  149.65     NaN     NaN     NaN\n",
              "2002                NaN    6.31  183.66     NaN     NaN     NaN\n",
              "2003                NaN    1.93  163.62     NaN     NaN     NaN\n",
              "2004              15.91     NaN  171.96     NaN     NaN     NaN\n",
              "2005             119.34     NaN  141.51     NaN     NaN    7.61\n",
              "2006             111.64     NaN   89.18   17.30  123.63   47.20\n",
              "2007             135.85     NaN   52.30   62.48  139.22   86.68\n",
              "2008             134.37     NaN   34.59  101.78  156.33  122.56\n",
              "2009             110.99     NaN   16.24  113.08  189.43  109.26\n",
              "2010              79.48     NaN    4.44  121.36  117.73  155.80\n",
              "2011              24.30     NaN    0.35  135.22   54.37  131.11\n",
              "2012              10.42     NaN     NaN   90.87   20.22   91.45\n",
              "2013               1.42     NaN     NaN   95.85    7.87   80.82\n",
              "2014                NaN     NaN     NaN   40.88    3.45   31.61\n",
              "2015                NaN     NaN     NaN   14.70    1.05   10.86"
            ]
          },
          "metadata": {
            "tags": []
          },
          "execution_count": 38
        }
      ]
    },
    {
      "cell_type": "code",
      "metadata": {
        "colab": {
          "base_uri": "https://localhost:8080/",
          "height": 312
        },
        "id": "Bqwu82ZjkOM5",
        "outputId": "9dccb8c7-fc03-4b0b-d940-8ccc0008c1a4"
      },
      "source": [
        "top_platforms.plot(grid = True)\n",
        "plt.title('Выпуск игр по годам') #называем таблицу\n",
        "plt.ylabel('Кол-во игр') #назовем сторону y\n",
        "plt.xlabel('Год выпуска') #назовем сторону x"
      ],
      "execution_count": 39,
      "outputs": [
        {
          "output_type": "execute_result",
          "data": {
            "text/plain": [
              "Text(0.5, 0, 'Год выпуска')"
            ]
          },
          "metadata": {
            "tags": []
          },
          "execution_count": 39
        },
        {
          "output_type": "display_data",
          "data": {
            "image/png": "[encoded data removed]",
            "text/plain": [
              "<Figure size 432x288 with 1 Axes>"
            ]
          },
          "metadata": {
            "tags": [],
            "needs_background": "light"
          }
        }
      ]
    },
    {
      "cell_type": "markdown",
      "metadata": {
        "id": "lCV5DL-DkOM5"
      },
      "source": [
        "###### Вывод  \n",
        "Больше всего заработок получился по платформам DS,PS,PS2,PS3,Wii,X360. Каждая из них показывает средний срок жизни в 10-11 лет, с 1 или двумя пиками. При этом с годами кол-во топовых платформ увеличивается, пик их появления пришелся на 2004-2006 года. "
      ]
    },
    {
      "cell_type": "markdown",
      "metadata": {
        "id": "ZZhMAxVykOM6"
      },
      "source": [
        "###### Исследуемый период  \n",
        "Актуальным периодом будем считать период с 2012 года, так как здесь намечается спад по всем ранее поппулярным платформам. Данный период позводит лучше простроить прогноз на 2017 год, зная основные циклы жизни платформ."
      ]
    },
    {
      "cell_type": "code",
      "metadata": {
        "colab": {
          "base_uri": "https://localhost:8080/",
          "height": 235
        },
        "id": "MTRYFTdOkOM6",
        "outputId": "0689ddac-dd6a-434a-cd64-c26b49d8f9b0"
      },
      "source": [
        "#выведем продажи с 2012 года по платформам\n",
        "actual = first_data.query('year_of_release > 2011').pivot_table(index = \"year_of_release\",columns = 'platform',values = 'all_sales', aggfunc = 'sum')\n",
        "actual"
      ],
      "execution_count": 40,
      "outputs": [
        {
          "output_type": "execute_result",
          "data": {
            "text/html": [
              "<div>\n",
              "<style scoped>\n",
              "    .dataframe tbody tr th:only-of-type {\n",
              "        vertical-align: middle;\n",
              "    }\n",
              "\n",
              "    .dataframe tbody tr th {\n",
              "        vertical-align: top;\n",
              "    }\n",
              "\n",
              "    .dataframe thead th {\n",
              "        text-align: right;\n",
              "    }\n",
              "</style>\n",
              "<table border=\"1\" class=\"dataframe\">\n",
              "  <thead>\n",
              "    <tr style=\"text-align: right;\">\n",
              "      <th>platform</th>\n",
              "      <th>3DS</th>\n",
              "      <th>DS</th>\n",
              "      <th>PC</th>\n",
              "      <th>PS3</th>\n",
              "      <th>PS4</th>\n",
              "      <th>PSP</th>\n",
              "      <th>PSV</th>\n",
              "      <th>Wii</th>\n",
              "      <th>WiiU</th>\n",
              "      <th>X360</th>\n",
              "      <th>XOne</th>\n",
              "    </tr>\n",
              "    <tr>\n",
              "      <th>year_of_release</th>\n",
              "      <th></th>\n",
              "      <th></th>\n",
              "      <th></th>\n",
              "      <th></th>\n",
              "      <th></th>\n",
              "      <th></th>\n",
              "      <th></th>\n",
              "      <th></th>\n",
              "      <th></th>\n",
              "      <th></th>\n",
              "      <th></th>\n",
              "    </tr>\n",
              "  </thead>\n",
              "  <tbody>\n",
              "    <tr>\n",
              "      <th>2012</th>\n",
              "      <td>48.77</td>\n",
              "      <td>10.42</td>\n",
              "      <td>20.41</td>\n",
              "      <td>90.87</td>\n",
              "      <td>NaN</td>\n",
              "      <td>7.56</td>\n",
              "      <td>13.65</td>\n",
              "      <td>20.22</td>\n",
              "      <td>16.30</td>\n",
              "      <td>91.45</td>\n",
              "      <td>NaN</td>\n",
              "    </tr>\n",
              "    <tr>\n",
              "      <th>2013</th>\n",
              "      <td>53.97</td>\n",
              "      <td>1.42</td>\n",
              "      <td>11.27</td>\n",
              "      <td>95.85</td>\n",
              "      <td>22.12</td>\n",
              "      <td>3.10</td>\n",
              "      <td>9.14</td>\n",
              "      <td>7.87</td>\n",
              "      <td>20.12</td>\n",
              "      <td>80.82</td>\n",
              "      <td>17.21</td>\n",
              "    </tr>\n",
              "    <tr>\n",
              "      <th>2014</th>\n",
              "      <td>41.75</td>\n",
              "      <td>NaN</td>\n",
              "      <td>12.38</td>\n",
              "      <td>40.88</td>\n",
              "      <td>84.22</td>\n",
              "      <td>0.24</td>\n",
              "      <td>10.56</td>\n",
              "      <td>3.45</td>\n",
              "      <td>20.35</td>\n",
              "      <td>31.61</td>\n",
              "      <td>49.26</td>\n",
              "    </tr>\n",
              "    <tr>\n",
              "      <th>2015</th>\n",
              "      <td>26.75</td>\n",
              "      <td>NaN</td>\n",
              "      <td>7.93</td>\n",
              "      <td>14.70</td>\n",
              "      <td>100.44</td>\n",
              "      <td>0.12</td>\n",
              "      <td>5.93</td>\n",
              "      <td>1.05</td>\n",
              "      <td>15.22</td>\n",
              "      <td>10.86</td>\n",
              "      <td>54.67</td>\n",
              "    </tr>\n",
              "    <tr>\n",
              "      <th>2016</th>\n",
              "      <td>14.50</td>\n",
              "      <td>NaN</td>\n",
              "      <td>4.89</td>\n",
              "      <td>3.23</td>\n",
              "      <td>59.01</td>\n",
              "      <td>NaN</td>\n",
              "      <td>4.10</td>\n",
              "      <td>0.17</td>\n",
              "      <td>4.25</td>\n",
              "      <td>1.40</td>\n",
              "      <td>23.91</td>\n",
              "    </tr>\n",
              "  </tbody>\n",
              "</table>\n",
              "</div>"
            ],
            "text/plain": [
              "platform           3DS     DS     PC    PS3  ...    Wii   WiiU   X360   XOne\n",
              "year_of_release                              ...                            \n",
              "2012             48.77  10.42  20.41  90.87  ...  20.22  16.30  91.45    NaN\n",
              "2013             53.97   1.42  11.27  95.85  ...   7.87  20.12  80.82  17.21\n",
              "2014             41.75    NaN  12.38  40.88  ...   3.45  20.35  31.61  49.26\n",
              "2015             26.75    NaN   7.93  14.70  ...   1.05  15.22  10.86  54.67\n",
              "2016             14.50    NaN   4.89   3.23  ...   0.17   4.25   1.40  23.91\n",
              "\n",
              "[5 rows x 11 columns]"
            ]
          },
          "metadata": {
            "tags": []
          },
          "execution_count": 40
        }
      ]
    },
    {
      "cell_type": "markdown",
      "metadata": {
        "id": "F--x0AqUkOM6"
      },
      "source": [
        "##### Вывод\n",
        "Потенциально более прибыльными платформами в 2017 году станут PS4 и XOne, так как они появились только в 2013 году, а значит 2017 - будет их пик по поппулряности, если следовать тренду других. \n",
        "\n",
        "<div style=\"border:solid green 2px; padding: 20px\"> "
      ]
    },
    {
      "cell_type": "code",
      "metadata": {
        "colab": {
          "base_uri": "https://localhost:8080/",
          "height": 296
        },
        "id": "-6zMcB8akOM7",
        "outputId": "16803765-2d23-423d-e23d-be6c5450af84"
      },
      "source": [
        "#построим график с усами\n",
        "sns.boxplot(data = actual)"
      ],
      "execution_count": 41,
      "outputs": [
        {
          "output_type": "execute_result",
          "data": {
            "text/plain": [
              "<matplotlib.axes._subplots.AxesSubplot at 0x7fbaa2b70510>"
            ]
          },
          "metadata": {
            "tags": []
          },
          "execution_count": 41
        },
        {
          "output_type": "display_data",
          "data": {
            "image/png": "[encoded data removed]",
            "text/plain": [
              "<Figure size 432x288 with 1 Axes>"
            ]
          },
          "metadata": {
            "tags": [],
            "needs_background": "light"
          }
        }
      ]
    },
    {
      "cell_type": "markdown",
      "metadata": {
        "id": "wRxy88AfkOM7"
      },
      "source": [
        "###### Вывод  \n",
        "Через \"график с усами\" видно, что медиана у платформ PS3,X360, PSP, WII и WIIU располагается левее, что означает, что в указанный период продажи находились в нисходящем тренде.   \n",
        "PS4 имеет длинные усы, особенно левый, что говорит о больших разбросах значений и их резком росте, в отличии от XOne, где медиана также ближе к середине, а вот выбросов почти нет.\n"
      ]
    },
    {
      "cell_type": "code",
      "metadata": {
        "id": "kn-FwW45kOM7"
      },
      "source": [
        "#Изменим типы данных и заменим текстовое значение tbt на условное 11 для опредления коэфициента Пирсона\n",
        "first_data['critic_score'] = first_data['critic_score'].astype('float')\n",
        "first_data['user_score'] = first_data['user_score'].replace(\"tbd\", 11)\n",
        "first_data['user_score'] = first_data['user_score'].astype('float')"
      ],
      "execution_count": 42,
      "outputs": []
    },
    {
      "cell_type": "code",
      "metadata": {
        "colab": {
          "base_uri": "https://localhost:8080/",
          "height": 297
        },
        "id": "fsiSioMQkOM8",
        "outputId": "749acf77-5c51-4dbe-81a6-e5654e19e333"
      },
      "source": [
        "#исслудем зависимость значений друг от друга в актуальном периоде\n",
        "reviews = first_data.query('year_of_release > 2011')\n",
        "reviews.corr()"
      ],
      "execution_count": 43,
      "outputs": [
        {
          "output_type": "execute_result",
          "data": {
            "text/html": [
              "<div>\n",
              "<style scoped>\n",
              "    .dataframe tbody tr th:only-of-type {\n",
              "        vertical-align: middle;\n",
              "    }\n",
              "\n",
              "    .dataframe tbody tr th {\n",
              "        vertical-align: top;\n",
              "    }\n",
              "\n",
              "    .dataframe thead th {\n",
              "        text-align: right;\n",
              "    }\n",
              "</style>\n",
              "<table border=\"1\" class=\"dataframe\">\n",
              "  <thead>\n",
              "    <tr style=\"text-align: right;\">\n",
              "      <th></th>\n",
              "      <th>year_of_release</th>\n",
              "      <th>na_sales</th>\n",
              "      <th>eu_sales</th>\n",
              "      <th>jp_sales</th>\n",
              "      <th>other_sales</th>\n",
              "      <th>critic_score</th>\n",
              "      <th>user_score</th>\n",
              "      <th>all_sales</th>\n",
              "    </tr>\n",
              "  </thead>\n",
              "  <tbody>\n",
              "    <tr>\n",
              "      <th>year_of_release</th>\n",
              "      <td>1.000000</td>\n",
              "      <td>-0.092848</td>\n",
              "      <td>-0.053163</td>\n",
              "      <td>-0.063587</td>\n",
              "      <td>-0.057375</td>\n",
              "      <td>0.054704</td>\n",
              "      <td>0.007975</td>\n",
              "      <td>-0.086101</td>\n",
              "    </tr>\n",
              "    <tr>\n",
              "      <th>na_sales</th>\n",
              "      <td>-0.092848</td>\n",
              "      <td>1.000000</td>\n",
              "      <td>0.767484</td>\n",
              "      <td>0.271010</td>\n",
              "      <td>0.792277</td>\n",
              "      <td>-0.054316</td>\n",
              "      <td>-0.191281</td>\n",
              "      <td>0.925984</td>\n",
              "    </tr>\n",
              "    <tr>\n",
              "      <th>eu_sales</th>\n",
              "      <td>-0.053163</td>\n",
              "      <td>0.767484</td>\n",
              "      <td>1.000000</td>\n",
              "      <td>0.265134</td>\n",
              "      <td>0.936906</td>\n",
              "      <td>-0.047685</td>\n",
              "      <td>-0.184522</td>\n",
              "      <td>0.911745</td>\n",
              "    </tr>\n",
              "    <tr>\n",
              "      <th>jp_sales</th>\n",
              "      <td>-0.063587</td>\n",
              "      <td>0.271010</td>\n",
              "      <td>0.265134</td>\n",
              "      <td>1.000000</td>\n",
              "      <td>0.203078</td>\n",
              "      <td>0.060536</td>\n",
              "      <td>0.096373</td>\n",
              "      <td>0.480363</td>\n",
              "    </tr>\n",
              "    <tr>\n",
              "      <th>other_sales</th>\n",
              "      <td>-0.057375</td>\n",
              "      <td>0.792277</td>\n",
              "      <td>0.936906</td>\n",
              "      <td>0.203078</td>\n",
              "      <td>1.000000</td>\n",
              "      <td>-0.045689</td>\n",
              "      <td>-0.175248</td>\n",
              "      <td>0.881946</td>\n",
              "    </tr>\n",
              "    <tr>\n",
              "      <th>critic_score</th>\n",
              "      <td>0.054704</td>\n",
              "      <td>-0.054316</td>\n",
              "      <td>-0.047685</td>\n",
              "      <td>0.060536</td>\n",
              "      <td>-0.045689</td>\n",
              "      <td>1.000000</td>\n",
              "      <td>0.697278</td>\n",
              "      <td>-0.036544</td>\n",
              "    </tr>\n",
              "    <tr>\n",
              "      <th>user_score</th>\n",
              "      <td>0.007975</td>\n",
              "      <td>-0.191281</td>\n",
              "      <td>-0.184522</td>\n",
              "      <td>0.096373</td>\n",
              "      <td>-0.175248</td>\n",
              "      <td>0.697278</td>\n",
              "      <td>1.000000</td>\n",
              "      <td>-0.161923</td>\n",
              "    </tr>\n",
              "    <tr>\n",
              "      <th>all_sales</th>\n",
              "      <td>-0.086101</td>\n",
              "      <td>0.925984</td>\n",
              "      <td>0.911745</td>\n",
              "      <td>0.480363</td>\n",
              "      <td>0.881946</td>\n",
              "      <td>-0.036544</td>\n",
              "      <td>-0.161923</td>\n",
              "      <td>1.000000</td>\n",
              "    </tr>\n",
              "  </tbody>\n",
              "</table>\n",
              "</div>"
            ],
            "text/plain": [
              "                 year_of_release  na_sales  ...  user_score  all_sales\n",
              "year_of_release         1.000000 -0.092848  ...    0.007975  -0.086101\n",
              "na_sales               -0.092848  1.000000  ...   -0.191281   0.925984\n",
              "eu_sales               -0.053163  0.767484  ...   -0.184522   0.911745\n",
              "jp_sales               -0.063587  0.271010  ...    0.096373   0.480363\n",
              "other_sales            -0.057375  0.792277  ...   -0.175248   0.881946\n",
              "critic_score            0.054704 -0.054316  ...    0.697278  -0.036544\n",
              "user_score              0.007975 -0.191281  ...    1.000000  -0.161923\n",
              "all_sales              -0.086101  0.925984  ...   -0.161923   1.000000\n",
              "\n",
              "[8 rows x 8 columns]"
            ]
          },
          "metadata": {
            "tags": []
          },
          "execution_count": 43
        }
      ]
    },
    {
      "cell_type": "markdown",
      "metadata": {
        "id": "WrYg94ovkOM8"
      },
      "source": [
        "###### Вывод  \n",
        "Оценка критиков и пользователей зависят друг от друга на 77%. При этом в каждом регионе продажи имеют в среднем 19% обратную зависимость от оценки критиков/пользователей. То есть, чем выше продажи, тем ниже оценка, что соотносится с правилом: чем больше отзывов, тем ниже оценка даже у самого ТОП продукта. И все же данное правило не работает для продаж в Японии. Там оценка критика имеет прямую 3% зависимость от оценки критиов/пользователей. "
      ]
    },
    {
      "cell_type": "code",
      "metadata": {
        "colab": {
          "base_uri": "https://localhost:8080/",
          "height": 297
        },
        "id": "FGIF4x9NkOM8",
        "outputId": "7092c3dd-a5cf-4e36-e12c-8c0d002baf32"
      },
      "source": [
        "#изучим зависимость отзывов с выручкой теряющей поппулярность PS3 в актуальном периоде\n",
        "reviews_PS3 = first_data.query('year_of_release > 2011 and platform == \"PS3\"')\n",
        "reviews_PS3.corr()"
      ],
      "execution_count": 44,
      "outputs": [
        {
          "output_type": "execute_result",
          "data": {
            "text/html": [
              "<div>\n",
              "<style scoped>\n",
              "    .dataframe tbody tr th:only-of-type {\n",
              "        vertical-align: middle;\n",
              "    }\n",
              "\n",
              "    .dataframe tbody tr th {\n",
              "        vertical-align: top;\n",
              "    }\n",
              "\n",
              "    .dataframe thead th {\n",
              "        text-align: right;\n",
              "    }\n",
              "</style>\n",
              "<table border=\"1\" class=\"dataframe\">\n",
              "  <thead>\n",
              "    <tr style=\"text-align: right;\">\n",
              "      <th></th>\n",
              "      <th>year_of_release</th>\n",
              "      <th>na_sales</th>\n",
              "      <th>eu_sales</th>\n",
              "      <th>jp_sales</th>\n",
              "      <th>other_sales</th>\n",
              "      <th>critic_score</th>\n",
              "      <th>user_score</th>\n",
              "      <th>all_sales</th>\n",
              "    </tr>\n",
              "  </thead>\n",
              "  <tbody>\n",
              "    <tr>\n",
              "      <th>year_of_release</th>\n",
              "      <td>1.000000</td>\n",
              "      <td>-0.174893</td>\n",
              "      <td>-0.126485</td>\n",
              "      <td>-0.132418</td>\n",
              "      <td>-0.141873</td>\n",
              "      <td>0.385894</td>\n",
              "      <td>0.141688</td>\n",
              "      <td>-0.160666</td>\n",
              "    </tr>\n",
              "    <tr>\n",
              "      <th>na_sales</th>\n",
              "      <td>-0.174893</td>\n",
              "      <td>1.000000</td>\n",
              "      <td>0.842724</td>\n",
              "      <td>0.370904</td>\n",
              "      <td>0.896182</td>\n",
              "      <td>-0.054201</td>\n",
              "      <td>-0.226386</td>\n",
              "      <td>0.945308</td>\n",
              "    </tr>\n",
              "    <tr>\n",
              "      <th>eu_sales</th>\n",
              "      <td>-0.126485</td>\n",
              "      <td>0.842724</td>\n",
              "      <td>1.000000</td>\n",
              "      <td>0.382929</td>\n",
              "      <td>0.981766</td>\n",
              "      <td>-0.025179</td>\n",
              "      <td>-0.189317</td>\n",
              "      <td>0.964710</td>\n",
              "    </tr>\n",
              "    <tr>\n",
              "      <th>jp_sales</th>\n",
              "      <td>-0.132418</td>\n",
              "      <td>0.370904</td>\n",
              "      <td>0.382929</td>\n",
              "      <td>1.000000</td>\n",
              "      <td>0.393358</td>\n",
              "      <td>-0.066628</td>\n",
              "      <td>-0.027215</td>\n",
              "      <td>0.478251</td>\n",
              "    </tr>\n",
              "    <tr>\n",
              "      <th>other_sales</th>\n",
              "      <td>-0.141873</td>\n",
              "      <td>0.896182</td>\n",
              "      <td>0.981766</td>\n",
              "      <td>0.393358</td>\n",
              "      <td>1.000000</td>\n",
              "      <td>-0.028629</td>\n",
              "      <td>-0.182251</td>\n",
              "      <td>0.979156</td>\n",
              "    </tr>\n",
              "    <tr>\n",
              "      <th>critic_score</th>\n",
              "      <td>0.385894</td>\n",
              "      <td>-0.054201</td>\n",
              "      <td>-0.025179</td>\n",
              "      <td>-0.066628</td>\n",
              "      <td>-0.028629</td>\n",
              "      <td>1.000000</td>\n",
              "      <td>0.602958</td>\n",
              "      <td>-0.044639</td>\n",
              "    </tr>\n",
              "    <tr>\n",
              "      <th>user_score</th>\n",
              "      <td>0.141688</td>\n",
              "      <td>-0.226386</td>\n",
              "      <td>-0.189317</td>\n",
              "      <td>-0.027215</td>\n",
              "      <td>-0.182251</td>\n",
              "      <td>0.602958</td>\n",
              "      <td>1.000000</td>\n",
              "      <td>-0.207363</td>\n",
              "    </tr>\n",
              "    <tr>\n",
              "      <th>all_sales</th>\n",
              "      <td>-0.160666</td>\n",
              "      <td>0.945308</td>\n",
              "      <td>0.964710</td>\n",
              "      <td>0.478251</td>\n",
              "      <td>0.979156</td>\n",
              "      <td>-0.044639</td>\n",
              "      <td>-0.207363</td>\n",
              "      <td>1.000000</td>\n",
              "    </tr>\n",
              "  </tbody>\n",
              "</table>\n",
              "</div>"
            ],
            "text/plain": [
              "                 year_of_release  na_sales  ...  user_score  all_sales\n",
              "year_of_release         1.000000 -0.174893  ...    0.141688  -0.160666\n",
              "na_sales               -0.174893  1.000000  ...   -0.226386   0.945308\n",
              "eu_sales               -0.126485  0.842724  ...   -0.189317   0.964710\n",
              "jp_sales               -0.132418  0.370904  ...   -0.027215   0.478251\n",
              "other_sales            -0.141873  0.896182  ...   -0.182251   0.979156\n",
              "critic_score            0.385894 -0.054201  ...    0.602958  -0.044639\n",
              "user_score              0.141688 -0.226386  ...    1.000000  -0.207363\n",
              "all_sales              -0.160666  0.945308  ...   -0.207363   1.000000\n",
              "\n",
              "[8 rows x 8 columns]"
            ]
          },
          "metadata": {
            "tags": []
          },
          "execution_count": 44
        }
      ]
    },
    {
      "cell_type": "code",
      "metadata": {
        "colab": {
          "base_uri": "https://localhost:8080/",
          "height": 312
        },
        "id": "N947VkhbkOM9",
        "outputId": "39462555-12f8-47eb-de80-b1f0dc6004a0"
      },
      "source": [
        "#сформируем диаграмму рассеивания с оценками пользователей\n",
        "reviews_PS3.query('user_score <10').plot(kind = 'scatter', x = \"user_score\", y = \"all_sales\", grid = True, alpha = 0.3)\n",
        "plt.title('Диаграмма рассеивания по оценкам пользователей') #называем таблицу\n",
        "plt.ylabel('Продажи, млн') #назовем сторону y\n",
        "plt.xlabel('Оценки пользователей') #назовем сторону x"
      ],
      "execution_count": 45,
      "outputs": [
        {
          "output_type": "execute_result",
          "data": {
            "text/plain": [
              "Text(0.5, 0, 'Оценки пользователей')"
            ]
          },
          "metadata": {
            "tags": []
          },
          "execution_count": 45
        },
        {
          "output_type": "display_data",
          "data": {
            "image/png": "[encoded data removed]",
            "text/plain": [
              "<Figure size 432x288 with 1 Axes>"
            ]
          },
          "metadata": {
            "tags": [],
            "needs_background": "light"
          }
        }
      ]
    },
    {
      "cell_type": "code",
      "metadata": {
        "colab": {
          "base_uri": "https://localhost:8080/",
          "height": 312
        },
        "id": "WBtR4CIhkOM9",
        "outputId": "db86fdbb-726e-495e-cd19-1118cfa3570f"
      },
      "source": [
        "#сформируем диаграмму рассеивания с оценками критика\n",
        "reviews_PS3.query('critic_score <100').plot(kind = 'scatter', x = \"critic_score\", y = \"all_sales\", grid = True, alpha = 0.3)\n",
        "plt.title('Диаграмма рассеивания по оценкам критиков') #называем таблицу\n",
        "plt.ylabel('Продажи, млн') #назовем сторону y\n",
        "plt.xlabel('Оценки пользователей') #назовем сторону x"
      ],
      "execution_count": 46,
      "outputs": [
        {
          "output_type": "execute_result",
          "data": {
            "text/plain": [
              "Text(0.5, 0, 'Оценки пользователей')"
            ]
          },
          "metadata": {
            "tags": []
          },
          "execution_count": 46
        },
        {
          "output_type": "display_data",
          "data": {
            "image/png": "[encoded data removed]",
            "text/plain": [
              "<Figure size 432x288 with 1 Axes>"
            ]
          },
          "metadata": {
            "tags": [],
            "needs_background": "light"
          }
        }
      ]
    },
    {
      "cell_type": "code",
      "metadata": {
        "colab": {
          "base_uri": "https://localhost:8080/",
          "height": 142
        },
        "id": "nIJsMGt7kOM9",
        "outputId": "2a3b40c7-c698-4a68-da86-7711b0cc6086"
      },
      "source": [
        "#посмотрим более детально на артефакты в нашей выборке\n",
        "reviews_PS3.query('all_sales > 7.5')"
      ],
      "execution_count": 47,
      "outputs": [
        {
          "output_type": "execute_result",
          "data": {
            "text/html": [
              "<div>\n",
              "<style scoped>\n",
              "    .dataframe tbody tr th:only-of-type {\n",
              "        vertical-align: middle;\n",
              "    }\n",
              "\n",
              "    .dataframe tbody tr th {\n",
              "        vertical-align: top;\n",
              "    }\n",
              "\n",
              "    .dataframe thead th {\n",
              "        text-align: right;\n",
              "    }\n",
              "</style>\n",
              "<table border=\"1\" class=\"dataframe\">\n",
              "  <thead>\n",
              "    <tr style=\"text-align: right;\">\n",
              "      <th></th>\n",
              "      <th>name</th>\n",
              "      <th>platform</th>\n",
              "      <th>year_of_release</th>\n",
              "      <th>genre</th>\n",
              "      <th>na_sales</th>\n",
              "      <th>eu_sales</th>\n",
              "      <th>jp_sales</th>\n",
              "      <th>other_sales</th>\n",
              "      <th>critic_score</th>\n",
              "      <th>user_score</th>\n",
              "      <th>rating</th>\n",
              "      <th>all_sales</th>\n",
              "    </tr>\n",
              "  </thead>\n",
              "  <tbody>\n",
              "    <tr>\n",
              "      <th>16</th>\n",
              "      <td>Grand Theft Auto V</td>\n",
              "      <td>PS3</td>\n",
              "      <td>2013</td>\n",
              "      <td>Action</td>\n",
              "      <td>7.02</td>\n",
              "      <td>9.09</td>\n",
              "      <td>0.98</td>\n",
              "      <td>3.96</td>\n",
              "      <td>97.0</td>\n",
              "      <td>8.2</td>\n",
              "      <td>M</td>\n",
              "      <td>17.09</td>\n",
              "    </tr>\n",
              "    <tr>\n",
              "      <th>34</th>\n",
              "      <td>Call of Duty: Black Ops II</td>\n",
              "      <td>PS3</td>\n",
              "      <td>2012</td>\n",
              "      <td>Shooter</td>\n",
              "      <td>4.99</td>\n",
              "      <td>5.73</td>\n",
              "      <td>0.65</td>\n",
              "      <td>2.42</td>\n",
              "      <td>83.0</td>\n",
              "      <td>5.3</td>\n",
              "      <td>M</td>\n",
              "      <td>11.37</td>\n",
              "    </tr>\n",
              "    <tr>\n",
              "      <th>69</th>\n",
              "      <td>Call of Duty: Ghosts</td>\n",
              "      <td>PS3</td>\n",
              "      <td>2013</td>\n",
              "      <td>Shooter</td>\n",
              "      <td>4.10</td>\n",
              "      <td>3.63</td>\n",
              "      <td>0.38</td>\n",
              "      <td>1.25</td>\n",
              "      <td>71.0</td>\n",
              "      <td>2.6</td>\n",
              "      <td>M</td>\n",
              "      <td>8.11</td>\n",
              "    </tr>\n",
              "  </tbody>\n",
              "</table>\n",
              "</div>"
            ],
            "text/plain": [
              "                          name platform  ...  rating all_sales\n",
              "16          Grand Theft Auto V      PS3  ...       M     17.09\n",
              "34  Call of Duty: Black Ops II      PS3  ...       M     11.37\n",
              "69        Call of Duty: Ghosts      PS3  ...       M      8.11\n",
              "\n",
              "[3 rows x 12 columns]"
            ]
          },
          "metadata": {
            "tags": []
          },
          "execution_count": 47
        }
      ]
    },
    {
      "cell_type": "markdown",
      "metadata": {
        "id": "5RhCl2ZmkOM-"
      },
      "source": [
        "###### Вывод\n",
        "В акутальном периоде на платформе PC3 немногим более ярко заметна обратная зависимость между продажами и отзывами критиков/пользователей. Здесь показатели зависят на 23% друг от друга.  \n",
        "Большая же часть оценок пользователей располагается в диапазоне до 60 до 85, а критиков от 6 до 9, что сопоставимо.\n",
        "При этом есть 3 игры, в которых продажи по миру многим больше, чем у всех остальных: \"Grand Theft Auto V\", \"Call of Duty: Black Ops II\", \"Call of Duty: Ghosts\". Среди же этих трех игр чем больше выручка, тем лучше оценки."
      ]
    },
    {
      "cell_type": "code",
      "metadata": {
        "colab": {
          "base_uri": "https://localhost:8080/",
          "height": 312
        },
        "id": "0GooavpjkOM-",
        "outputId": "4df868e8-3fa9-497f-e20b-7646bb5485f4"
      },
      "source": [
        "#проверим на случайной платформе распределение оценок критика\n",
        "reviews_GC = first_data.query('platform == \"GC\"')\n",
        "reviews_GC.query('critic_score<100').plot(kind = 'scatter', x = \"critic_score\", y = \"all_sales\", grid = True, alpha = 0.3)\n",
        "plt.title('Диаграмма рассеивания по оценкам критиков') #называем таблицу\n",
        "plt.ylabel('Продажи, млн') #назовем сторону y\n",
        "plt.xlabel('Оценки пользователей') #назовем сторону x"
      ],
      "execution_count": 48,
      "outputs": [
        {
          "output_type": "execute_result",
          "data": {
            "text/plain": [
              "Text(0.5, 0, 'Оценки пользователей')"
            ]
          },
          "metadata": {
            "tags": []
          },
          "execution_count": 48
        },
        {
          "output_type": "display_data",
          "data": {
            "image/png": "[encoded data removed]",
            "text/plain": [
              "<Figure size 432x288 with 1 Axes>"
            ]
          },
          "metadata": {
            "tags": [],
            "needs_background": "light"
          }
        }
      ]
    },
    {
      "cell_type": "code",
      "metadata": {
        "colab": {
          "base_uri": "https://localhost:8080/",
          "height": 854
        },
        "id": "jfJhEOaGkOM-",
        "outputId": "5821efd0-8135-4a7b-8a53-e23e5b38d3b1"
      },
      "source": [
        "#проверим на нескольких платформах зависимость выручки от отзывов критиков\n",
        "platforms = ('GC', 'XB', 'WiiU')\n",
        "for platform in platforms:\n",
        "    first_data[(first_data['platform'] == platform)].query('critic_score<100').plot(kind='scatter', x='critic_score', y='all_sales',grid = True, alpha = 0.3) \n",
        "    plt.title('Взаимосвязь между продажами и отзывами критиков')"
      ],
      "execution_count": 49,
      "outputs": [
        {
          "output_type": "display_data",
          "data": {
            "image/png": "[encoded data removed]",
            "text/plain": [
              "<Figure size 432x288 with 1 Axes>"
            ]
          },
          "metadata": {
            "tags": [],
            "needs_background": "light"
          }
        },
        {
          "output_type": "display_data",
          "data": {
            "image/png": "[encoded data removed]",
            "text/plain": [
              "<Figure size 432x288 with 1 Axes>"
            ]
          },
          "metadata": {
            "tags": [],
            "needs_background": "light"
          }
        },
        {
          "output_type": "display_data",
          "data": {
            "image/png": "[encoded data removed]",
            "text/plain": [
              "<Figure size 432x288 with 1 Axes>"
            ]
          },
          "metadata": {
            "tags": [],
            "needs_background": "light"
          }
        }
      ]
    },
    {
      "cell_type": "markdown",
      "metadata": {
        "id": "fuGEpqGXkOM_"
      },
      "source": [
        "###### Вывод  \n",
        "Изучая несколько случайных платформ, а именно 'GC', 'XB', 'WiiU' по отзывам критика, подверждаются более ранние выводы: чем меньше оценок, тем она выше. При этом на всех платформах одинакого много не оwененных игр, при том, что многие из них имеют весьма высокие продажи. "
      ]
    },
    {
      "cell_type": "code",
      "metadata": {
        "colab": {
          "base_uri": "https://localhost:8080/",
          "height": 421
        },
        "id": "Q-wf9keOkOM_",
        "outputId": "5176cc23-a6cb-4e8c-ae29-7dca118b23b5"
      },
      "source": [
        "#Исследуем распределение по жанрам\n",
        "genre = reviews.pivot_table(index = \"genre\", values = \"all_sales\", aggfunc = [\"sum\", \"count\"]).reset_index()\n",
        "genre.columns = ['genre', 'all_sales', 'number_of_games']\n",
        "genre[\"revenue_from_one_game\"] = genre['all_sales']/genre['number_of_games'] #добавляем столбец с выручкой на 1 игру\n",
        "genre.sort_values(by = \"all_sales\", ascending = False)"
      ],
      "execution_count": 50,
      "outputs": [
        {
          "output_type": "execute_result",
          "data": {
            "text/html": [
              "<div>\n",
              "<style scoped>\n",
              "    .dataframe tbody tr th:only-of-type {\n",
              "        vertical-align: middle;\n",
              "    }\n",
              "\n",
              "    .dataframe tbody tr th {\n",
              "        vertical-align: top;\n",
              "    }\n",
              "\n",
              "    .dataframe thead th {\n",
              "        text-align: right;\n",
              "    }\n",
              "</style>\n",
              "<table border=\"1\" class=\"dataframe\">\n",
              "  <thead>\n",
              "    <tr style=\"text-align: right;\">\n",
              "      <th></th>\n",
              "      <th>genre</th>\n",
              "      <th>all_sales</th>\n",
              "      <th>number_of_games</th>\n",
              "      <th>revenue_from_one_game</th>\n",
              "    </tr>\n",
              "  </thead>\n",
              "  <tbody>\n",
              "    <tr>\n",
              "      <th>0</th>\n",
              "      <td>Action</td>\n",
              "      <td>389.98</td>\n",
              "      <td>1031</td>\n",
              "      <td>0.378254</td>\n",
              "    </tr>\n",
              "    <tr>\n",
              "      <th>8</th>\n",
              "      <td>Shooter</td>\n",
              "      <td>267.47</td>\n",
              "      <td>235</td>\n",
              "      <td>1.138170</td>\n",
              "    </tr>\n",
              "    <tr>\n",
              "      <th>7</th>\n",
              "      <td>Role-Playing</td>\n",
              "      <td>177.97</td>\n",
              "      <td>370</td>\n",
              "      <td>0.481000</td>\n",
              "    </tr>\n",
              "    <tr>\n",
              "      <th>10</th>\n",
              "      <td>Sports</td>\n",
              "      <td>158.63</td>\n",
              "      <td>268</td>\n",
              "      <td>0.591903</td>\n",
              "    </tr>\n",
              "    <tr>\n",
              "      <th>3</th>\n",
              "      <td>Misc</td>\n",
              "      <td>77.37</td>\n",
              "      <td>192</td>\n",
              "      <td>0.402969</td>\n",
              "    </tr>\n",
              "    <tr>\n",
              "      <th>4</th>\n",
              "      <td>Platform</td>\n",
              "      <td>55.42</td>\n",
              "      <td>85</td>\n",
              "      <td>0.652000</td>\n",
              "    </tr>\n",
              "    <tr>\n",
              "      <th>6</th>\n",
              "      <td>Racing</td>\n",
              "      <td>47.01</td>\n",
              "      <td>115</td>\n",
              "      <td>0.408783</td>\n",
              "    </tr>\n",
              "    <tr>\n",
              "      <th>2</th>\n",
              "      <td>Fighting</td>\n",
              "      <td>40.02</td>\n",
              "      <td>109</td>\n",
              "      <td>0.367156</td>\n",
              "    </tr>\n",
              "    <tr>\n",
              "      <th>9</th>\n",
              "      <td>Simulation</td>\n",
              "      <td>32.93</td>\n",
              "      <td>80</td>\n",
              "      <td>0.411625</td>\n",
              "    </tr>\n",
              "    <tr>\n",
              "      <th>1</th>\n",
              "      <td>Adventure</td>\n",
              "      <td>26.62</td>\n",
              "      <td>302</td>\n",
              "      <td>0.088146</td>\n",
              "    </tr>\n",
              "    <tr>\n",
              "      <th>11</th>\n",
              "      <td>Strategy</td>\n",
              "      <td>12.28</td>\n",
              "      <td>71</td>\n",
              "      <td>0.172958</td>\n",
              "    </tr>\n",
              "    <tr>\n",
              "      <th>5</th>\n",
              "      <td>Puzzle</td>\n",
              "      <td>4.67</td>\n",
              "      <td>28</td>\n",
              "      <td>0.166786</td>\n",
              "    </tr>\n",
              "  </tbody>\n",
              "</table>\n",
              "</div>"
            ],
            "text/plain": [
              "           genre  all_sales  number_of_games  revenue_from_one_game\n",
              "0         Action     389.98             1031               0.378254\n",
              "8        Shooter     267.47              235               1.138170\n",
              "7   Role-Playing     177.97              370               0.481000\n",
              "10        Sports     158.63              268               0.591903\n",
              "3           Misc      77.37              192               0.402969\n",
              "4       Platform      55.42               85               0.652000\n",
              "6         Racing      47.01              115               0.408783\n",
              "2       Fighting      40.02              109               0.367156\n",
              "9     Simulation      32.93               80               0.411625\n",
              "1      Adventure      26.62              302               0.088146\n",
              "11      Strategy      12.28               71               0.172958\n",
              "5         Puzzle       4.67               28               0.166786"
            ]
          },
          "metadata": {
            "tags": []
          },
          "execution_count": 50
        }
      ]
    },
    {
      "cell_type": "code",
      "metadata": {
        "colab": {
          "base_uri": "https://localhost:8080/",
          "height": 347
        },
        "id": "Eji5TVaIkONA",
        "outputId": "a3e2f1b6-f763-4665-c127-2881cc865e31"
      },
      "source": [
        "genre.plot(kind = 'bar', x = 'genre', y = 'revenue_from_one_game', grid = True)\n",
        "plt.title('Выручка по странам и платформам') #называем таблицу\n",
        "plt.ylabel('Средняя выручка с одной игры, млн') #назовем сторону y\n",
        "plt.xlabel('Жанры') #назовем сторону x\n",
        "plt.show()"
      ],
      "execution_count": 51,
      "outputs": [
        {
          "output_type": "display_data",
          "data": {
            "image/png": "[encoded data removed]",
            "text/plain": [
              "<Figure size 432x288 with 1 Axes>"
            ]
          },
          "metadata": {
            "tags": [],
            "needs_background": "light"
          }
        }
      ]
    },
    {
      "cell_type": "markdown",
      "metadata": {
        "id": "sXQ2lp_SkONA"
      },
      "source": [
        "###### Вывод\n",
        "С точки зрения жанра самым зарабатываемым является \"Action\" с результатом почти в 390 млн копий, а на последнем месте - \"Puzzle\" с 4.67 млн копий  \n",
        "Однако, кол-во игр проданных в рамках каждого жанра разниться почти в 37 раз от меньшего к большему.\n",
        "Введу чего интересно обратить внимание на жанр \"Shooter\" с 1.14 млн копий на одну игру в этом жанре, в сравнии с лидером по выручке у которого всего 0.38 млн копий\n"
      ]
    },
    {
      "cell_type": "markdown",
      "metadata": {
        "id": "k81CuGrUkONB"
      },
      "source": [
        "#### Шаг 4. Портрет пользователя каждого региона <a id=\"4\"></a>"
      ]
    },
    {
      "cell_type": "code",
      "metadata": {
        "colab": {
          "base_uri": "https://localhost:8080/",
          "height": 390
        },
        "id": "pOs3T1v-kONB",
        "outputId": "a1d9d64e-9dc8-4264-e794-f2489fd269d0"
      },
      "source": [
        "#исследуем продажи на каждой платформе в каждом регионе\n",
        "platform_by_region = reviews.pivot_table(index = 'platform', values = ['na_sales', 'eu_sales', 'jp_sales', 'other_sales'], aggfunc = ['sum']).reset_index()\n",
        "platform_by_region.columns = ['platform', 'eu_sales', 'jp_sales', 'na_sales', 'other_sales']\n",
        "platform_by_region"
      ],
      "execution_count": 52,
      "outputs": [
        {
          "output_type": "execute_result",
          "data": {
            "text/html": [
              "<div>\n",
              "<style scoped>\n",
              "    .dataframe tbody tr th:only-of-type {\n",
              "        vertical-align: middle;\n",
              "    }\n",
              "\n",
              "    .dataframe tbody tr th {\n",
              "        vertical-align: top;\n",
              "    }\n",
              "\n",
              "    .dataframe thead th {\n",
              "        text-align: right;\n",
              "    }\n",
              "</style>\n",
              "<table border=\"1\" class=\"dataframe\">\n",
              "  <thead>\n",
              "    <tr style=\"text-align: right;\">\n",
              "      <th></th>\n",
              "      <th>platform</th>\n",
              "      <th>eu_sales</th>\n",
              "      <th>jp_sales</th>\n",
              "      <th>na_sales</th>\n",
              "      <th>other_sales</th>\n",
              "    </tr>\n",
              "  </thead>\n",
              "  <tbody>\n",
              "    <tr>\n",
              "      <th>0</th>\n",
              "      <td>3DS</td>\n",
              "      <td>42.64</td>\n",
              "      <td>87.79</td>\n",
              "      <td>55.31</td>\n",
              "      <td>8.87</td>\n",
              "    </tr>\n",
              "    <tr>\n",
              "      <th>1</th>\n",
              "      <td>DS</td>\n",
              "      <td>3.53</td>\n",
              "      <td>3.72</td>\n",
              "      <td>4.59</td>\n",
              "      <td>0.71</td>\n",
              "    </tr>\n",
              "    <tr>\n",
              "      <th>2</th>\n",
              "      <td>PC</td>\n",
              "      <td>37.76</td>\n",
              "      <td>0.00</td>\n",
              "      <td>19.12</td>\n",
              "      <td>5.77</td>\n",
              "    </tr>\n",
              "    <tr>\n",
              "      <th>3</th>\n",
              "      <td>PS3</td>\n",
              "      <td>106.86</td>\n",
              "      <td>35.29</td>\n",
              "      <td>103.38</td>\n",
              "      <td>43.26</td>\n",
              "    </tr>\n",
              "    <tr>\n",
              "      <th>4</th>\n",
              "      <td>PS4</td>\n",
              "      <td>141.09</td>\n",
              "      <td>15.96</td>\n",
              "      <td>108.74</td>\n",
              "      <td>48.35</td>\n",
              "    </tr>\n",
              "    <tr>\n",
              "      <th>5</th>\n",
              "      <td>PSP</td>\n",
              "      <td>0.42</td>\n",
              "      <td>10.47</td>\n",
              "      <td>0.13</td>\n",
              "      <td>0.17</td>\n",
              "    </tr>\n",
              "    <tr>\n",
              "      <th>6</th>\n",
              "      <td>PSV</td>\n",
              "      <td>11.36</td>\n",
              "      <td>21.04</td>\n",
              "      <td>10.98</td>\n",
              "      <td>5.80</td>\n",
              "    </tr>\n",
              "    <tr>\n",
              "      <th>7</th>\n",
              "      <td>Wii</td>\n",
              "      <td>11.92</td>\n",
              "      <td>3.39</td>\n",
              "      <td>17.45</td>\n",
              "      <td>2.61</td>\n",
              "    </tr>\n",
              "    <tr>\n",
              "      <th>8</th>\n",
              "      <td>WiiU</td>\n",
              "      <td>25.13</td>\n",
              "      <td>13.01</td>\n",
              "      <td>38.10</td>\n",
              "      <td>5.95</td>\n",
              "    </tr>\n",
              "    <tr>\n",
              "      <th>9</th>\n",
              "      <td>X360</td>\n",
              "      <td>74.52</td>\n",
              "      <td>1.57</td>\n",
              "      <td>140.05</td>\n",
              "      <td>20.40</td>\n",
              "    </tr>\n",
              "    <tr>\n",
              "      <th>10</th>\n",
              "      <td>XOne</td>\n",
              "      <td>51.59</td>\n",
              "      <td>0.34</td>\n",
              "      <td>93.12</td>\n",
              "      <td>14.27</td>\n",
              "    </tr>\n",
              "  </tbody>\n",
              "</table>\n",
              "</div>"
            ],
            "text/plain": [
              "   platform  eu_sales  jp_sales  na_sales  other_sales\n",
              "0       3DS     42.64     87.79     55.31         8.87\n",
              "1        DS      3.53      3.72      4.59         0.71\n",
              "2        PC     37.76      0.00     19.12         5.77\n",
              "3       PS3    106.86     35.29    103.38        43.26\n",
              "4       PS4    141.09     15.96    108.74        48.35\n",
              "5       PSP      0.42     10.47      0.13         0.17\n",
              "6       PSV     11.36     21.04     10.98         5.80\n",
              "7       Wii     11.92      3.39     17.45         2.61\n",
              "8      WiiU     25.13     13.01     38.10         5.95\n",
              "9      X360     74.52      1.57    140.05        20.40\n",
              "10     XOne     51.59      0.34     93.12        14.27"
            ]
          },
          "metadata": {
            "tags": []
          },
          "execution_count": 52
        }
      ]
    },
    {
      "cell_type": "code",
      "metadata": {
        "colab": {
          "base_uri": "https://localhost:8080/",
          "height": 312
        },
        "id": "4SC3Wl8pkONB",
        "outputId": "e5804019-bc61-40a6-e8b0-8f3de3b1386a"
      },
      "source": [
        "platform_by_region.plot(kind = 'bar', x = 'platform', grid = True)\n",
        "plt.title('Выручка по странам и платформам') #называем таблицу\n",
        "plt.ylabel('Продажи, млн копий') #назовем сторону y\n",
        "plt.xlabel('Платформы') #назовем сторону x\n",
        "plt.show()"
      ],
      "execution_count": 53,
      "outputs": [
        {
          "output_type": "display_data",
          "data": {
            "image/png": "[encoded data removed]",
            "text/plain": [
              "<Figure size 432x288 with 1 Axes>"
            ]
          },
          "metadata": {
            "tags": [],
            "needs_background": "light"
          }
        }
      ]
    },
    {
      "cell_type": "code",
      "metadata": {
        "colab": {
          "base_uri": "https://localhost:8080/",
          "height": 1000
        },
        "id": "BrUGENEfkONC",
        "outputId": "a480d379-855b-4d7a-c5d2-0032a4b2e85a"
      },
      "source": [
        "#построим графики TOP-5 по продажам в каждом регионе\n",
        "reviews.groupby(by='platform').agg({'na_sales':'sum'}).reset_index().sort_values(by='na_sales', ascending=False).head(5).plot(kind = 'bar', x = 'platform', grid = True)\n",
        "plt.title('Самые популярные жанры в Северной Америке')\n",
        "plt.ylabel('Продажи, млн копий') #назовем сторону y\n",
        "plt.xlabel('Платформы') #назовем сторону x\n",
        "reviews.groupby(by='platform').agg({'jp_sales':'sum'}).reset_index().sort_values(by='jp_sales', ascending=False).head(5).plot(kind = 'bar', x = 'platform', grid = True)\n",
        "plt.title('Самые популярные жанры в Японии')\n",
        "plt.ylabel('Продажи, млн копий') #назовем сторону y\n",
        "plt.xlabel('Платформы') #назовем сторону x\n",
        "reviews.groupby(by='platform').agg({'eu_sales':'sum'}).reset_index().sort_values(by='eu_sales', ascending=False).head(5).plot(kind = 'bar', x = 'platform', grid = True)\n",
        "plt.title('Самые популярные жанры в Европе')\n",
        "plt.ylabel('Продажи, млн копий') #назовем сторону y\n",
        "plt.xlabel('Платформы') #назовем сторону x\n",
        "reviews.groupby(by='platform').agg({'other_sales':'sum'}).reset_index().sort_values(by='other_sales', ascending=False).head(5).plot(kind = 'bar', x = 'platform', grid = True)\n",
        "plt.title('Самые популярные жанры в других странах')\n",
        "plt.ylabel('Продажи, млн копий') #назовем сторону y\n",
        "plt.xlabel('Платформы') #назовем сторону x\n",
        "plt.show()"
      ],
      "execution_count": 54,
      "outputs": [
        {
          "output_type": "display_data",
          "data": {
            "image/png": "[encoded data removed]",
            "text/plain": [
              "<Figure size 432x288 with 1 Axes>"
            ]
          },
          "metadata": {
            "tags": [],
            "needs_background": "light"
          }
        },
        {
          "output_type": "display_data",
          "data": {
            "image/png": "[encoded data removed]",
            "text/plain": [
              "<Figure size 432x288 with 1 Axes>"
            ]
          },
          "metadata": {
            "tags": [],
            "needs_background": "light"
          }
        },
        {
          "output_type": "display_data",
          "data": {
            "image/png": "[encoded data removed]",
            "text/plain": [
              "<Figure size 432x288 with 1 Axes>"
            ]
          },
          "metadata": {
            "tags": [],
            "needs_background": "light"
          }
        },
        {
          "output_type": "display_data",
          "data": {
            "image/png": "[encoded data removed]",
            "text/plain": [
              "<Figure size 432x288 with 1 Axes>"
            ]
          },
          "metadata": {
            "tags": [],
            "needs_background": "light"
          }
        }
      ]
    },
    {
      "cell_type": "code",
      "metadata": {
        "colab": {
          "base_uri": "https://localhost:8080/",
          "height": 957
        },
        "id": "q_Joc2zqkONC",
        "outputId": "dcf81ae0-7287-4611-e91c-71600dc52b5c"
      },
      "source": [
        "#определим долю каждой платформы в каждом регионе в продажах\n",
        "for region_sales in ['na_sales', 'eu_sales', 'jp_sales','other_sales']:\n",
        "    sum_of_region_sales = reviews[region_sales].sum()\n",
        "    temp = reviews.pivot_table(index='platform', values=region_sales, aggfunc='sum').sort_values(by=region_sales, ascending=False).head(5)\n",
        "    temp['share'] = (temp[region_sales]/sum_of_region_sales).map('{:.1%}'.format)\n",
        "    display(temp)\n",
        "    print()"
      ],
      "execution_count": 55,
      "outputs": [
        {
          "output_type": "display_data",
          "data": {
            "text/html": [
              "<div>\n",
              "<style scoped>\n",
              "    .dataframe tbody tr th:only-of-type {\n",
              "        vertical-align: middle;\n",
              "    }\n",
              "\n",
              "    .dataframe tbody tr th {\n",
              "        vertical-align: top;\n",
              "    }\n",
              "\n",
              "    .dataframe thead th {\n",
              "        text-align: right;\n",
              "    }\n",
              "</style>\n",
              "<table border=\"1\" class=\"dataframe\">\n",
              "  <thead>\n",
              "    <tr style=\"text-align: right;\">\n",
              "      <th></th>\n",
              "      <th>na_sales</th>\n",
              "      <th>share</th>\n",
              "    </tr>\n",
              "    <tr>\n",
              "      <th>platform</th>\n",
              "      <th></th>\n",
              "      <th></th>\n",
              "    </tr>\n",
              "  </thead>\n",
              "  <tbody>\n",
              "    <tr>\n",
              "      <th>X360</th>\n",
              "      <td>140.05</td>\n",
              "      <td>23.7%</td>\n",
              "    </tr>\n",
              "    <tr>\n",
              "      <th>PS4</th>\n",
              "      <td>108.74</td>\n",
              "      <td>18.4%</td>\n",
              "    </tr>\n",
              "    <tr>\n",
              "      <th>PS3</th>\n",
              "      <td>103.38</td>\n",
              "      <td>17.5%</td>\n",
              "    </tr>\n",
              "    <tr>\n",
              "      <th>XOne</th>\n",
              "      <td>93.12</td>\n",
              "      <td>15.8%</td>\n",
              "    </tr>\n",
              "    <tr>\n",
              "      <th>3DS</th>\n",
              "      <td>55.31</td>\n",
              "      <td>9.4%</td>\n",
              "    </tr>\n",
              "  </tbody>\n",
              "</table>\n",
              "</div>"
            ],
            "text/plain": [
              "          na_sales  share\n",
              "platform                 \n",
              "X360        140.05  23.7%\n",
              "PS4         108.74  18.4%\n",
              "PS3         103.38  17.5%\n",
              "XOne         93.12  15.8%\n",
              "3DS          55.31   9.4%"
            ]
          },
          "metadata": {
            "tags": []
          }
        },
        {
          "output_type": "stream",
          "text": [
            "\n"
          ],
          "name": "stdout"
        },
        {
          "output_type": "display_data",
          "data": {
            "text/html": [
              "<div>\n",
              "<style scoped>\n",
              "    .dataframe tbody tr th:only-of-type {\n",
              "        vertical-align: middle;\n",
              "    }\n",
              "\n",
              "    .dataframe tbody tr th {\n",
              "        vertical-align: top;\n",
              "    }\n",
              "\n",
              "    .dataframe thead th {\n",
              "        text-align: right;\n",
              "    }\n",
              "</style>\n",
              "<table border=\"1\" class=\"dataframe\">\n",
              "  <thead>\n",
              "    <tr style=\"text-align: right;\">\n",
              "      <th></th>\n",
              "      <th>eu_sales</th>\n",
              "      <th>share</th>\n",
              "    </tr>\n",
              "    <tr>\n",
              "      <th>platform</th>\n",
              "      <th></th>\n",
              "      <th></th>\n",
              "    </tr>\n",
              "  </thead>\n",
              "  <tbody>\n",
              "    <tr>\n",
              "      <th>PS4</th>\n",
              "      <td>141.09</td>\n",
              "      <td>27.8%</td>\n",
              "    </tr>\n",
              "    <tr>\n",
              "      <th>PS3</th>\n",
              "      <td>106.86</td>\n",
              "      <td>21.1%</td>\n",
              "    </tr>\n",
              "    <tr>\n",
              "      <th>X360</th>\n",
              "      <td>74.52</td>\n",
              "      <td>14.7%</td>\n",
              "    </tr>\n",
              "    <tr>\n",
              "      <th>XOne</th>\n",
              "      <td>51.59</td>\n",
              "      <td>10.2%</td>\n",
              "    </tr>\n",
              "    <tr>\n",
              "      <th>3DS</th>\n",
              "      <td>42.64</td>\n",
              "      <td>8.4%</td>\n",
              "    </tr>\n",
              "  </tbody>\n",
              "</table>\n",
              "</div>"
            ],
            "text/plain": [
              "          eu_sales  share\n",
              "platform                 \n",
              "PS4         141.09  27.8%\n",
              "PS3         106.86  21.1%\n",
              "X360         74.52  14.7%\n",
              "XOne         51.59  10.2%\n",
              "3DS          42.64   8.4%"
            ]
          },
          "metadata": {
            "tags": []
          }
        },
        {
          "output_type": "stream",
          "text": [
            "\n"
          ],
          "name": "stdout"
        },
        {
          "output_type": "display_data",
          "data": {
            "text/html": [
              "<div>\n",
              "<style scoped>\n",
              "    .dataframe tbody tr th:only-of-type {\n",
              "        vertical-align: middle;\n",
              "    }\n",
              "\n",
              "    .dataframe tbody tr th {\n",
              "        vertical-align: top;\n",
              "    }\n",
              "\n",
              "    .dataframe thead th {\n",
              "        text-align: right;\n",
              "    }\n",
              "</style>\n",
              "<table border=\"1\" class=\"dataframe\">\n",
              "  <thead>\n",
              "    <tr style=\"text-align: right;\">\n",
              "      <th></th>\n",
              "      <th>jp_sales</th>\n",
              "      <th>share</th>\n",
              "    </tr>\n",
              "    <tr>\n",
              "      <th>platform</th>\n",
              "      <th></th>\n",
              "      <th></th>\n",
              "    </tr>\n",
              "  </thead>\n",
              "  <tbody>\n",
              "    <tr>\n",
              "      <th>3DS</th>\n",
              "      <td>87.79</td>\n",
              "      <td>45.6%</td>\n",
              "    </tr>\n",
              "    <tr>\n",
              "      <th>PS3</th>\n",
              "      <td>35.29</td>\n",
              "      <td>18.3%</td>\n",
              "    </tr>\n",
              "    <tr>\n",
              "      <th>PSV</th>\n",
              "      <td>21.04</td>\n",
              "      <td>10.9%</td>\n",
              "    </tr>\n",
              "    <tr>\n",
              "      <th>PS4</th>\n",
              "      <td>15.96</td>\n",
              "      <td>8.3%</td>\n",
              "    </tr>\n",
              "    <tr>\n",
              "      <th>WiiU</th>\n",
              "      <td>13.01</td>\n",
              "      <td>6.8%</td>\n",
              "    </tr>\n",
              "  </tbody>\n",
              "</table>\n",
              "</div>"
            ],
            "text/plain": [
              "          jp_sales  share\n",
              "platform                 \n",
              "3DS          87.79  45.6%\n",
              "PS3          35.29  18.3%\n",
              "PSV          21.04  10.9%\n",
              "PS4          15.96   8.3%\n",
              "WiiU         13.01   6.8%"
            ]
          },
          "metadata": {
            "tags": []
          }
        },
        {
          "output_type": "stream",
          "text": [
            "\n"
          ],
          "name": "stdout"
        },
        {
          "output_type": "display_data",
          "data": {
            "text/html": [
              "<div>\n",
              "<style scoped>\n",
              "    .dataframe tbody tr th:only-of-type {\n",
              "        vertical-align: middle;\n",
              "    }\n",
              "\n",
              "    .dataframe tbody tr th {\n",
              "        vertical-align: top;\n",
              "    }\n",
              "\n",
              "    .dataframe thead th {\n",
              "        text-align: right;\n",
              "    }\n",
              "</style>\n",
              "<table border=\"1\" class=\"dataframe\">\n",
              "  <thead>\n",
              "    <tr style=\"text-align: right;\">\n",
              "      <th></th>\n",
              "      <th>other_sales</th>\n",
              "      <th>share</th>\n",
              "    </tr>\n",
              "    <tr>\n",
              "      <th>platform</th>\n",
              "      <th></th>\n",
              "      <th></th>\n",
              "    </tr>\n",
              "  </thead>\n",
              "  <tbody>\n",
              "    <tr>\n",
              "      <th>PS4</th>\n",
              "      <td>48.35</td>\n",
              "      <td>31.0%</td>\n",
              "    </tr>\n",
              "    <tr>\n",
              "      <th>PS3</th>\n",
              "      <td>43.26</td>\n",
              "      <td>27.7%</td>\n",
              "    </tr>\n",
              "    <tr>\n",
              "      <th>X360</th>\n",
              "      <td>20.40</td>\n",
              "      <td>13.1%</td>\n",
              "    </tr>\n",
              "    <tr>\n",
              "      <th>XOne</th>\n",
              "      <td>14.27</td>\n",
              "      <td>9.1%</td>\n",
              "    </tr>\n",
              "    <tr>\n",
              "      <th>3DS</th>\n",
              "      <td>8.87</td>\n",
              "      <td>5.7%</td>\n",
              "    </tr>\n",
              "  </tbody>\n",
              "</table>\n",
              "</div>"
            ],
            "text/plain": [
              "          other_sales  share\n",
              "platform                    \n",
              "PS4             48.35  31.0%\n",
              "PS3             43.26  27.7%\n",
              "X360            20.40  13.1%\n",
              "XOne            14.27   9.1%\n",
              "3DS              8.87   5.7%"
            ]
          },
          "metadata": {
            "tags": []
          }
        },
        {
          "output_type": "stream",
          "text": [
            "\n"
          ],
          "name": "stdout"
        }
      ]
    },
    {
      "cell_type": "markdown",
      "metadata": {
        "id": "KzYsIsg0kONC"
      },
      "source": [
        "###### Вывод  \n",
        "Самыми крупными рынками являются Северная Америка и Европа. Во всех регионах встречаются в TOP-5 платформ PS4,PS3 и 3DS. \n",
        "При этом рынок в Северной Америке максимально дифференцирован по платформам, а вот в Японии в разы больший акцент на родную для них платформу -  3DS. Ее доля на локальном рынке составляет 45.6%"
      ]
    },
    {
      "cell_type": "code",
      "metadata": {
        "colab": {
          "base_uri": "https://localhost:8080/",
          "height": 957
        },
        "id": "05tsNEZykOND",
        "outputId": "1010cb11-9275-4895-c610-0c54b3299c92"
      },
      "source": [
        "#определим долю каждого жанра в каждом регионе в продажах\n",
        "for region_sales in ['na_sales', 'eu_sales', 'jp_sales','other_sales']:\n",
        "    sum_of_region_sales = reviews[region_sales].sum()\n",
        "    temp = reviews.pivot_table(index='genre', values=region_sales, aggfunc='sum').sort_values(by=region_sales, ascending=False).head(5)\n",
        "    temp['share'] = (temp[region_sales]/sum_of_region_sales).map('{:.1%}'.format)\n",
        "    display(temp)\n",
        "    print()"
      ],
      "execution_count": 56,
      "outputs": [
        {
          "output_type": "display_data",
          "data": {
            "text/html": [
              "<div>\n",
              "<style scoped>\n",
              "    .dataframe tbody tr th:only-of-type {\n",
              "        vertical-align: middle;\n",
              "    }\n",
              "\n",
              "    .dataframe tbody tr th {\n",
              "        vertical-align: top;\n",
              "    }\n",
              "\n",
              "    .dataframe thead th {\n",
              "        text-align: right;\n",
              "    }\n",
              "</style>\n",
              "<table border=\"1\" class=\"dataframe\">\n",
              "  <thead>\n",
              "    <tr style=\"text-align: right;\">\n",
              "      <th></th>\n",
              "      <th>na_sales</th>\n",
              "      <th>share</th>\n",
              "    </tr>\n",
              "    <tr>\n",
              "      <th>genre</th>\n",
              "      <th></th>\n",
              "      <th></th>\n",
              "    </tr>\n",
              "  </thead>\n",
              "  <tbody>\n",
              "    <tr>\n",
              "      <th>Action</th>\n",
              "      <td>177.84</td>\n",
              "      <td>30.1%</td>\n",
              "    </tr>\n",
              "    <tr>\n",
              "      <th>Shooter</th>\n",
              "      <td>144.77</td>\n",
              "      <td>24.5%</td>\n",
              "    </tr>\n",
              "    <tr>\n",
              "      <th>Sports</th>\n",
              "      <td>81.53</td>\n",
              "      <td>13.8%</td>\n",
              "    </tr>\n",
              "    <tr>\n",
              "      <th>Role-Playing</th>\n",
              "      <td>64.00</td>\n",
              "      <td>10.8%</td>\n",
              "    </tr>\n",
              "    <tr>\n",
              "      <th>Misc</th>\n",
              "      <td>38.19</td>\n",
              "      <td>6.5%</td>\n",
              "    </tr>\n",
              "  </tbody>\n",
              "</table>\n",
              "</div>"
            ],
            "text/plain": [
              "              na_sales  share\n",
              "genre                        \n",
              "Action          177.84  30.1%\n",
              "Shooter         144.77  24.5%\n",
              "Sports           81.53  13.8%\n",
              "Role-Playing     64.00  10.8%\n",
              "Misc             38.19   6.5%"
            ]
          },
          "metadata": {
            "tags": []
          }
        },
        {
          "output_type": "stream",
          "text": [
            "\n"
          ],
          "name": "stdout"
        },
        {
          "output_type": "display_data",
          "data": {
            "text/html": [
              "<div>\n",
              "<style scoped>\n",
              "    .dataframe tbody tr th:only-of-type {\n",
              "        vertical-align: middle;\n",
              "    }\n",
              "\n",
              "    .dataframe tbody tr th {\n",
              "        vertical-align: top;\n",
              "    }\n",
              "\n",
              "    .dataframe thead th {\n",
              "        text-align: right;\n",
              "    }\n",
              "</style>\n",
              "<table border=\"1\" class=\"dataframe\">\n",
              "  <thead>\n",
              "    <tr style=\"text-align: right;\">\n",
              "      <th></th>\n",
              "      <th>eu_sales</th>\n",
              "      <th>share</th>\n",
              "    </tr>\n",
              "    <tr>\n",
              "      <th>genre</th>\n",
              "      <th></th>\n",
              "      <th></th>\n",
              "    </tr>\n",
              "  </thead>\n",
              "  <tbody>\n",
              "    <tr>\n",
              "      <th>Action</th>\n",
              "      <td>159.34</td>\n",
              "      <td>31.4%</td>\n",
              "    </tr>\n",
              "    <tr>\n",
              "      <th>Shooter</th>\n",
              "      <td>113.47</td>\n",
              "      <td>22.4%</td>\n",
              "    </tr>\n",
              "    <tr>\n",
              "      <th>Sports</th>\n",
              "      <td>69.09</td>\n",
              "      <td>13.6%</td>\n",
              "    </tr>\n",
              "    <tr>\n",
              "      <th>Role-Playing</th>\n",
              "      <td>48.53</td>\n",
              "      <td>9.6%</td>\n",
              "    </tr>\n",
              "    <tr>\n",
              "      <th>Racing</th>\n",
              "      <td>27.29</td>\n",
              "      <td>5.4%</td>\n",
              "    </tr>\n",
              "  </tbody>\n",
              "</table>\n",
              "</div>"
            ],
            "text/plain": [
              "              eu_sales  share\n",
              "genre                        \n",
              "Action          159.34  31.4%\n",
              "Shooter         113.47  22.4%\n",
              "Sports           69.09  13.6%\n",
              "Role-Playing     48.53   9.6%\n",
              "Racing           27.29   5.4%"
            ]
          },
          "metadata": {
            "tags": []
          }
        },
        {
          "output_type": "stream",
          "text": [
            "\n"
          ],
          "name": "stdout"
        },
        {
          "output_type": "display_data",
          "data": {
            "text/html": [
              "<div>\n",
              "<style scoped>\n",
              "    .dataframe tbody tr th:only-of-type {\n",
              "        vertical-align: middle;\n",
              "    }\n",
              "\n",
              "    .dataframe tbody tr th {\n",
              "        vertical-align: top;\n",
              "    }\n",
              "\n",
              "    .dataframe thead th {\n",
              "        text-align: right;\n",
              "    }\n",
              "</style>\n",
              "<table border=\"1\" class=\"dataframe\">\n",
              "  <thead>\n",
              "    <tr style=\"text-align: right;\">\n",
              "      <th></th>\n",
              "      <th>jp_sales</th>\n",
              "      <th>share</th>\n",
              "    </tr>\n",
              "    <tr>\n",
              "      <th>genre</th>\n",
              "      <th></th>\n",
              "      <th></th>\n",
              "    </tr>\n",
              "  </thead>\n",
              "  <tbody>\n",
              "    <tr>\n",
              "      <th>Role-Playing</th>\n",
              "      <td>65.44</td>\n",
              "      <td>34.0%</td>\n",
              "    </tr>\n",
              "    <tr>\n",
              "      <th>Action</th>\n",
              "      <td>52.80</td>\n",
              "      <td>27.4%</td>\n",
              "    </tr>\n",
              "    <tr>\n",
              "      <th>Misc</th>\n",
              "      <td>12.86</td>\n",
              "      <td>6.7%</td>\n",
              "    </tr>\n",
              "    <tr>\n",
              "      <th>Simulation</th>\n",
              "      <td>10.41</td>\n",
              "      <td>5.4%</td>\n",
              "    </tr>\n",
              "    <tr>\n",
              "      <th>Fighting</th>\n",
              "      <td>9.44</td>\n",
              "      <td>4.9%</td>\n",
              "    </tr>\n",
              "  </tbody>\n",
              "</table>\n",
              "</div>"
            ],
            "text/plain": [
              "              jp_sales  share\n",
              "genre                        \n",
              "Role-Playing     65.44  34.0%\n",
              "Action           52.80  27.4%\n",
              "Misc             12.86   6.7%\n",
              "Simulation       10.41   5.4%\n",
              "Fighting          9.44   4.9%"
            ]
          },
          "metadata": {
            "tags": []
          }
        },
        {
          "output_type": "stream",
          "text": [
            "\n"
          ],
          "name": "stdout"
        },
        {
          "output_type": "display_data",
          "data": {
            "text/html": [
              "<div>\n",
              "<style scoped>\n",
              "    .dataframe tbody tr th:only-of-type {\n",
              "        vertical-align: middle;\n",
              "    }\n",
              "\n",
              "    .dataframe tbody tr th {\n",
              "        vertical-align: top;\n",
              "    }\n",
              "\n",
              "    .dataframe thead th {\n",
              "        text-align: right;\n",
              "    }\n",
              "</style>\n",
              "<table border=\"1\" class=\"dataframe\">\n",
              "  <thead>\n",
              "    <tr style=\"text-align: right;\">\n",
              "      <th></th>\n",
              "      <th>other_sales</th>\n",
              "      <th>share</th>\n",
              "    </tr>\n",
              "    <tr>\n",
              "      <th>genre</th>\n",
              "      <th></th>\n",
              "      <th></th>\n",
              "    </tr>\n",
              "  </thead>\n",
              "  <tbody>\n",
              "    <tr>\n",
              "      <th>Action</th>\n",
              "      <td>51.14</td>\n",
              "      <td>32.7%</td>\n",
              "    </tr>\n",
              "    <tr>\n",
              "      <th>Shooter</th>\n",
              "      <td>37.26</td>\n",
              "      <td>23.9%</td>\n",
              "    </tr>\n",
              "    <tr>\n",
              "      <th>Sports</th>\n",
              "      <td>22.44</td>\n",
              "      <td>14.4%</td>\n",
              "    </tr>\n",
              "    <tr>\n",
              "      <th>Role-Playing</th>\n",
              "      <td>14.83</td>\n",
              "      <td>9.5%</td>\n",
              "    </tr>\n",
              "    <tr>\n",
              "      <th>Misc</th>\n",
              "      <td>7.67</td>\n",
              "      <td>4.9%</td>\n",
              "    </tr>\n",
              "  </tbody>\n",
              "</table>\n",
              "</div>"
            ],
            "text/plain": [
              "              other_sales  share\n",
              "genre                           \n",
              "Action              51.14  32.7%\n",
              "Shooter             37.26  23.9%\n",
              "Sports              22.44  14.4%\n",
              "Role-Playing        14.83   9.5%\n",
              "Misc                 7.67   4.9%"
            ]
          },
          "metadata": {
            "tags": []
          }
        },
        {
          "output_type": "stream",
          "text": [
            "\n"
          ],
          "name": "stdout"
        }
      ]
    },
    {
      "cell_type": "markdown",
      "metadata": {
        "id": "asNmnR6rkOND"
      },
      "source": [
        "###### Вывод  \n",
        "По всему миру самыми популярными жанрами на всех платформах являются Action, Shooter, Sports и Role-Playing, исключением является Яплония, где в TOP-5 вообще не попадают Shooter. Они замещены Role-Playing. Данные особенности связаны с закрытостью данного рынка и зависит в том числе и от платформ, которые используют пользователи в разных регионах.  "
      ]
    },
    {
      "cell_type": "code",
      "metadata": {
        "colab": {
          "base_uri": "https://localhost:8080/",
          "height": 957
        },
        "id": "qox1DEh5kOND",
        "outputId": "77c53b9f-a056-4698-e72e-95b6bcc7bf02"
      },
      "source": [
        "#определим долю каждого рейтинга в каждом регионе \n",
        "for region_sales in ['na_sales', 'eu_sales', 'jp_sales','other_sales']:\n",
        "    sum_of_region_sales = reviews[region_sales].sum()\n",
        "    temp = reviews.pivot_table(index='rating', values=region_sales, aggfunc='sum').sort_values(by=region_sales, ascending=False).head(5)\n",
        "    temp['share'] = (temp[region_sales]/sum_of_region_sales).map('{:.1%}'.format)\n",
        "    display(temp)\n",
        "    print()"
      ],
      "execution_count": 57,
      "outputs": [
        {
          "output_type": "display_data",
          "data": {
            "text/html": [
              "<div>\n",
              "<style scoped>\n",
              "    .dataframe tbody tr th:only-of-type {\n",
              "        vertical-align: middle;\n",
              "    }\n",
              "\n",
              "    .dataframe tbody tr th {\n",
              "        vertical-align: top;\n",
              "    }\n",
              "\n",
              "    .dataframe thead th {\n",
              "        text-align: right;\n",
              "    }\n",
              "</style>\n",
              "<table border=\"1\" class=\"dataframe\">\n",
              "  <thead>\n",
              "    <tr style=\"text-align: right;\">\n",
              "      <th></th>\n",
              "      <th>na_sales</th>\n",
              "      <th>share</th>\n",
              "    </tr>\n",
              "    <tr>\n",
              "      <th>rating</th>\n",
              "      <th></th>\n",
              "      <th></th>\n",
              "    </tr>\n",
              "  </thead>\n",
              "  <tbody>\n",
              "    <tr>\n",
              "      <th>M</th>\n",
              "      <td>231.57</td>\n",
              "      <td>39.2%</td>\n",
              "    </tr>\n",
              "    <tr>\n",
              "      <th>E</th>\n",
              "      <td>114.37</td>\n",
              "      <td>19.4%</td>\n",
              "    </tr>\n",
              "    <tr>\n",
              "      <th>1000</th>\n",
              "      <td>103.31</td>\n",
              "      <td>17.5%</td>\n",
              "    </tr>\n",
              "    <tr>\n",
              "      <th>E10+</th>\n",
              "      <td>75.70</td>\n",
              "      <td>12.8%</td>\n",
              "    </tr>\n",
              "    <tr>\n",
              "      <th>T</th>\n",
              "      <td>66.02</td>\n",
              "      <td>11.2%</td>\n",
              "    </tr>\n",
              "  </tbody>\n",
              "</table>\n",
              "</div>"
            ],
            "text/plain": [
              "        na_sales  share\n",
              "rating                 \n",
              "M         231.57  39.2%\n",
              "E         114.37  19.4%\n",
              "1000      103.31  17.5%\n",
              "E10+       75.70  12.8%\n",
              "T          66.02  11.2%"
            ]
          },
          "metadata": {
            "tags": []
          }
        },
        {
          "output_type": "stream",
          "text": [
            "\n"
          ],
          "name": "stdout"
        },
        {
          "output_type": "display_data",
          "data": {
            "text/html": [
              "<div>\n",
              "<style scoped>\n",
              "    .dataframe tbody tr th:only-of-type {\n",
              "        vertical-align: middle;\n",
              "    }\n",
              "\n",
              "    .dataframe tbody tr th {\n",
              "        vertical-align: top;\n",
              "    }\n",
              "\n",
              "    .dataframe thead th {\n",
              "        text-align: right;\n",
              "    }\n",
              "</style>\n",
              "<table border=\"1\" class=\"dataframe\">\n",
              "  <thead>\n",
              "    <tr style=\"text-align: right;\">\n",
              "      <th></th>\n",
              "      <th>eu_sales</th>\n",
              "      <th>share</th>\n",
              "    </tr>\n",
              "    <tr>\n",
              "      <th>rating</th>\n",
              "      <th></th>\n",
              "      <th></th>\n",
              "    </tr>\n",
              "  </thead>\n",
              "  <tbody>\n",
              "    <tr>\n",
              "      <th>M</th>\n",
              "      <td>193.96</td>\n",
              "      <td>38.3%</td>\n",
              "    </tr>\n",
              "    <tr>\n",
              "      <th>E</th>\n",
              "      <td>113.03</td>\n",
              "      <td>22.3%</td>\n",
              "    </tr>\n",
              "    <tr>\n",
              "      <th>1000</th>\n",
              "      <td>91.50</td>\n",
              "      <td>18.1%</td>\n",
              "    </tr>\n",
              "    <tr>\n",
              "      <th>E10+</th>\n",
              "      <td>55.37</td>\n",
              "      <td>10.9%</td>\n",
              "    </tr>\n",
              "    <tr>\n",
              "      <th>T</th>\n",
              "      <td>52.96</td>\n",
              "      <td>10.4%</td>\n",
              "    </tr>\n",
              "  </tbody>\n",
              "</table>\n",
              "</div>"
            ],
            "text/plain": [
              "        eu_sales  share\n",
              "rating                 \n",
              "M         193.96  38.3%\n",
              "E         113.03  22.3%\n",
              "1000       91.50  18.1%\n",
              "E10+       55.37  10.9%\n",
              "T          52.96  10.4%"
            ]
          },
          "metadata": {
            "tags": []
          }
        },
        {
          "output_type": "stream",
          "text": [
            "\n"
          ],
          "name": "stdout"
        },
        {
          "output_type": "display_data",
          "data": {
            "text/html": [
              "<div>\n",
              "<style scoped>\n",
              "    .dataframe tbody tr th:only-of-type {\n",
              "        vertical-align: middle;\n",
              "    }\n",
              "\n",
              "    .dataframe tbody tr th {\n",
              "        vertical-align: top;\n",
              "    }\n",
              "\n",
              "    .dataframe thead th {\n",
              "        text-align: right;\n",
              "    }\n",
              "</style>\n",
              "<table border=\"1\" class=\"dataframe\">\n",
              "  <thead>\n",
              "    <tr style=\"text-align: right;\">\n",
              "      <th></th>\n",
              "      <th>jp_sales</th>\n",
              "      <th>share</th>\n",
              "    </tr>\n",
              "    <tr>\n",
              "      <th>rating</th>\n",
              "      <th></th>\n",
              "      <th></th>\n",
              "    </tr>\n",
              "  </thead>\n",
              "  <tbody>\n",
              "    <tr>\n",
              "      <th>1000</th>\n",
              "      <td>108.84</td>\n",
              "      <td>56.5%</td>\n",
              "    </tr>\n",
              "    <tr>\n",
              "      <th>E</th>\n",
              "      <td>28.33</td>\n",
              "      <td>14.7%</td>\n",
              "    </tr>\n",
              "    <tr>\n",
              "      <th>T</th>\n",
              "      <td>26.02</td>\n",
              "      <td>13.5%</td>\n",
              "    </tr>\n",
              "    <tr>\n",
              "      <th>M</th>\n",
              "      <td>21.20</td>\n",
              "      <td>11.0%</td>\n",
              "    </tr>\n",
              "    <tr>\n",
              "      <th>E10+</th>\n",
              "      <td>8.19</td>\n",
              "      <td>4.3%</td>\n",
              "    </tr>\n",
              "  </tbody>\n",
              "</table>\n",
              "</div>"
            ],
            "text/plain": [
              "        jp_sales  share\n",
              "rating                 \n",
              "1000      108.84  56.5%\n",
              "E          28.33  14.7%\n",
              "T          26.02  13.5%\n",
              "M          21.20  11.0%\n",
              "E10+        8.19   4.3%"
            ]
          },
          "metadata": {
            "tags": []
          }
        },
        {
          "output_type": "stream",
          "text": [
            "\n"
          ],
          "name": "stdout"
        },
        {
          "output_type": "display_data",
          "data": {
            "text/html": [
              "<div>\n",
              "<style scoped>\n",
              "    .dataframe tbody tr th:only-of-type {\n",
              "        vertical-align: middle;\n",
              "    }\n",
              "\n",
              "    .dataframe tbody tr th {\n",
              "        vertical-align: top;\n",
              "    }\n",
              "\n",
              "    .dataframe thead th {\n",
              "        text-align: right;\n",
              "    }\n",
              "</style>\n",
              "<table border=\"1\" class=\"dataframe\">\n",
              "  <thead>\n",
              "    <tr style=\"text-align: right;\">\n",
              "      <th></th>\n",
              "      <th>other_sales</th>\n",
              "      <th>share</th>\n",
              "    </tr>\n",
              "    <tr>\n",
              "      <th>rating</th>\n",
              "      <th></th>\n",
              "      <th></th>\n",
              "    </tr>\n",
              "  </thead>\n",
              "  <tbody>\n",
              "    <tr>\n",
              "      <th>M</th>\n",
              "      <td>63.38</td>\n",
              "      <td>40.6%</td>\n",
              "    </tr>\n",
              "    <tr>\n",
              "      <th>E</th>\n",
              "      <td>31.44</td>\n",
              "      <td>20.1%</td>\n",
              "    </tr>\n",
              "    <tr>\n",
              "      <th>1000</th>\n",
              "      <td>27.17</td>\n",
              "      <td>17.4%</td>\n",
              "    </tr>\n",
              "    <tr>\n",
              "      <th>T</th>\n",
              "      <td>17.94</td>\n",
              "      <td>11.5%</td>\n",
              "    </tr>\n",
              "    <tr>\n",
              "      <th>E10+</th>\n",
              "      <td>16.23</td>\n",
              "      <td>10.4%</td>\n",
              "    </tr>\n",
              "  </tbody>\n",
              "</table>\n",
              "</div>"
            ],
            "text/plain": [
              "        other_sales  share\n",
              "rating                    \n",
              "M             63.38  40.6%\n",
              "E             31.44  20.1%\n",
              "1000          27.17  17.4%\n",
              "T             17.94  11.5%\n",
              "E10+          16.23  10.4%"
            ]
          },
          "metadata": {
            "tags": []
          }
        },
        {
          "output_type": "stream",
          "text": [
            "\n"
          ],
          "name": "stdout"
        }
      ]
    },
    {
      "cell_type": "markdown",
      "metadata": {
        "id": "4yGIDfh-kOND"
      },
      "source": [
        "###### Вывод  \n",
        "Согласно рейтингу ESRB весь мир находится примерно на одном уровне, то есть порядка 40% имеют взрослый рейтинг,20% - для детей от 3х лет, 18%-неопределен рейтинг, 11% - для подростков и 10% - E10+  - для детей старше 10 лет.\n",
        "При этом столь значительный % неоцененных игр имеется, так как данный рейтинг присваивается частной некоммерческой организацией из США, а значит и локальные игры не будут оценены, что видно по рынку Японии. "
      ]
    },
    {
      "cell_type": "markdown",
      "metadata": {
        "id": "C-mkDBHgkONE"
      },
      "source": [
        "##### Шаг 5. Проверяем Гипотезы <a id=\"5\"></a>"
      ]
    },
    {
      "cell_type": "markdown",
      "metadata": {
        "id": "ZOfo1gcEkONE"
      },
      "source": [
        "Нулевая Гипотеза - Средние пользовательские рейтинги платформ Xbox One и PC равны  \n",
        "Альтернативная гипотеза - Средние пользовательские рейтинги платформ Xbox One и PC отличаются"
      ]
    },
    {
      "cell_type": "code",
      "metadata": {
        "id": "0WERN3XvkONE"
      },
      "source": [
        "#определяем дисперсии выборок\n",
        "var1 = reviews.query('platform == \"XOne\"')['user_score']\n",
        "var3 = reviews.query('platform == \"PC\"')['user_score']"
      ],
      "execution_count": 58,
      "outputs": []
    },
    {
      "cell_type": "code",
      "metadata": {
        "colab": {
          "base_uri": "https://localhost:8080/"
        },
        "id": "MGDnKBDFkONE",
        "outputId": "ed79eb37-0c36-4bcb-f388-f2be62e3a34e"
      },
      "source": [
        "var2 = np.std(var1)\n",
        "var2"
      ],
      "execution_count": 59,
      "outputs": [
        {
          "output_type": "execute_result",
          "data": {
            "text/plain": [
              "2.2992869868229318"
            ]
          },
          "metadata": {
            "tags": []
          },
          "execution_count": 59
        }
      ]
    },
    {
      "cell_type": "code",
      "metadata": {
        "colab": {
          "base_uri": "https://localhost:8080/"
        },
        "id": "2I2HiIS7kONF",
        "outputId": "172f91e4-5cbc-41c2-bada-e1c3cdae62b9"
      },
      "source": [
        "var4 = np.std(var3)\n",
        "var4"
      ],
      "execution_count": 60,
      "outputs": [
        {
          "output_type": "execute_result",
          "data": {
            "text/plain": [
              "2.3026892452087386"
            ]
          },
          "metadata": {
            "tags": []
          },
          "execution_count": 60
        }
      ]
    },
    {
      "cell_type": "code",
      "metadata": {
        "colab": {
          "base_uri": "https://localhost:8080/"
        },
        "id": "u6xH9oOTkONF",
        "outputId": "cc04c0f5-1e4d-474f-b84e-a1e4650103f2"
      },
      "source": [
        "alpha = 0.05  # критический уровень статистической значимости\n",
        "\n",
        "results = st.ttest_ind(reviews.query('platform == \"XOne\"')['user_score'],reviews.query('platform == \"PC\"')['user_score'], equal_var = False)\n",
        "# выбран параметр equal_var = False, так как дисперсии выборок не равны\n",
        "print('p-значение: ', results.pvalue)\n",
        "\n",
        "if results.pvalue < alpha:\n",
        "    print(\"Отвергаем нулевую гипотезу\")\n",
        "else:\n",
        "    print(\"Не получилось отвергнуть нулевую гипотезу\") "
      ],
      "execution_count": 61,
      "outputs": [
        {
          "output_type": "stream",
          "text": [
            "p-значение:  0.024459213374860758\n",
            "Отвергаем нулевую гипотезу\n"
          ],
          "name": "stdout"
        }
      ]
    },
    {
      "cell_type": "markdown",
      "metadata": {
        "id": "sVWR7gE6kONF"
      },
      "source": [
        "###### Вывод  \n",
        "Средние пользовательские рейтинги платформ Xbox One и PC в исследуемый период отличаются"
      ]
    },
    {
      "cell_type": "markdown",
      "metadata": {
        "id": "k4fQkTV-kONG"
      },
      "source": [
        "Нулевая гипотеза - Средние пользовательские рейтинги жанров Action  и Sports Не разные  \n",
        "Альтернативная гипотеза - Средние пользовательские рейтинги жанров Action  и Sports разные"
      ]
    },
    {
      "cell_type": "code",
      "metadata": {
        "id": "8H_ocWydkONG"
      },
      "source": [
        "#определяем дисперсии выборок\n",
        "var5 = reviews.query('genre == \"Action\"')['user_score']\n",
        "var6 = reviews.query('genre == \"Sports\"')['user_score']"
      ],
      "execution_count": 62,
      "outputs": []
    },
    {
      "cell_type": "code",
      "metadata": {
        "colab": {
          "base_uri": "https://localhost:8080/"
        },
        "id": "juPXmntvkONG",
        "outputId": "572e2610-f282-4345-c60a-07cce18e2ec3"
      },
      "source": [
        "var7 = np.std(var5)\n",
        "var7"
      ],
      "execution_count": 63,
      "outputs": [
        {
          "output_type": "execute_result",
          "data": {
            "text/plain": [
              "2.3050132223430158"
            ]
          },
          "metadata": {
            "tags": []
          },
          "execution_count": 63
        }
      ]
    },
    {
      "cell_type": "code",
      "metadata": {
        "colab": {
          "base_uri": "https://localhost:8080/"
        },
        "id": "Y1GBNEzlkONG",
        "outputId": "790183ed-87ad-4289-b99a-13cd28617fae"
      },
      "source": [
        "var8 = np.std(var6)\n",
        "var8"
      ],
      "execution_count": 64,
      "outputs": [
        {
          "output_type": "execute_result",
          "data": {
            "text/plain": [
              "2.877512534473968"
            ]
          },
          "metadata": {
            "tags": []
          },
          "execution_count": 64
        }
      ]
    },
    {
      "cell_type": "code",
      "metadata": {
        "colab": {
          "base_uri": "https://localhost:8080/"
        },
        "id": "lw1AWqIPkONH",
        "outputId": "4fd48a09-379b-4de0-e825-599c80d358cb"
      },
      "source": [
        "alpha = 0.05  # критический уровень статистической значимости\n",
        "\n",
        "results = st.ttest_ind(reviews.query('genre == \"Action\"')['user_score'],reviews.query('genre == \"Sports\"')['user_score'], equal_var = False)\n",
        "# выбран параметр equal_var = False, так как дисперсии выборок не равны\n",
        "print('p-значение: ', results.pvalue)\n",
        "\n",
        "if results.pvalue < alpha:\n",
        "    print(\"Отвергаем нулевую гипотезу\")\n",
        "else:\n",
        "    print(\"Не получилось отвергнуть нулевую гипотезу\") "
      ],
      "execution_count": 65,
      "outputs": [
        {
          "output_type": "stream",
          "text": [
            "p-значение:  3.362831594209793e-21\n",
            "Отвергаем нулевую гипотезу\n"
          ],
          "name": "stdout"
        }
      ]
    },
    {
      "cell_type": "markdown",
      "metadata": {
        "id": "p2qMZx0QkONH"
      },
      "source": [
        "###### Вывод  \n",
        "Средние пользовательские рейтинги жанров Action  и Sports отличаются в исследуемом периоде значительно друг от друга\n",
        "\n",
        "\n",
        "<div style=\"border:solid green 2px; padding: 20px\"> \n",
        "  "
      ]
    },
    {
      "cell_type": "markdown",
      "metadata": {
        "id": "WmP_B8xlkONH"
      },
      "source": [
        "### Общий вывод   <a id=\"6\"></a>"
      ]
    },
    {
      "cell_type": "markdown",
      "metadata": {
        "id": "w0IFxt7jkONI"
      },
      "source": [
        "Для более успешного расходования денежных средств на рекламу в 2017 году необходимо учесть несколько закономерностей:    \n",
        "    1. Каждая игровая платформа имеет цикл своей жизни примерно в 10-11 лет, восхождение же занимает от года до 4х.  \n",
        "    2. В связи с этим платформы PS4 и XOne в 2017 будут на пике поппулярности  \n",
        "    3. В игры, представленные на платформы PS3, WII вкладывать бюджет не нужно, так как они находятся в нисходящем тренде и скоро закончат свое существование  \n",
        "    4. Рынки Северной Америки, Европы и Остального мира почти индентичны, за исклоючением Японии  \n",
        "    5. Рынок Японии отличается от всего остального мира спецификой пользователей ( не играют в Шутеры, а играют в RPG), отсутствием оценок рейтинга ESRB на 44% игр и особенностью платформ (3DS генерит более 40% всей выручки по региону)  \n",
        "    6. Оценки пользователей и критиков сопоставимы и имеют примерно 23% влияние на уровень продаж игр  \n",
        "    7. Чем больше оценок у игры, тем более корректно определен ее рейтинг, то есть игры с небольшими продажами, а соответсвенно и небольшим кол-вом оценок имеют более высокие оценки  \n",
        "    8. Наибольшую выручку приносят игры в жанре Шутер, что почти в 2 раза выше в сравнении с жанрами на 2 и 3 месте топа"
      ]
    },
    {
      "cell_type": "code",
      "metadata": {
        "id": "38_nOsshkONI"
      },
      "source": [
        ""
      ],
      "execution_count": 65,
      "outputs": []
    }
  ]
}