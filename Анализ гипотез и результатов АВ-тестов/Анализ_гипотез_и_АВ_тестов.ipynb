{
  "nbformat": 4,
  "nbformat_minor": 0,
  "metadata": {
    "kernelspec": {
      "display_name": "Python 3",
      "language": "python",
      "name": "python3"
    },
    "language_info": {
      "codemirror_mode": {
        "name": "ipython",
        "version": 3
      },
      "file_extension": ".py",
      "mimetype": "text/x-python",
      "name": "python",
      "nbconvert_exporter": "python",
      "pygments_lexer": "ipython3",
      "version": "3.7.8"
    },
    "toc": {
      "base_numbering": 1,
      "nav_menu": {},
      "number_sections": true,
      "sideBar": true,
      "skip_h1_title": true,
      "title_cell": "Table of Contents",
      "title_sidebar": "Contents",
      "toc_cell": false,
      "toc_position": {
        "height": "calc(100% - 180px)",
        "left": "10px",
        "top": "150px",
        "width": "289.6px"
      },
      "toc_section_display": true,
      "toc_window_display": false
    },
    "colab": {
      "name": "Анализ гипотез и АВ-тестов.ipynb",
      "provenance": [],
      "collapsed_sections": [],
      "toc_visible": true
    }
  },
  "cells": [
    {
      "cell_type": "markdown",
      "metadata": {
        "id": "kvl-rxXKGrxK"
      },
      "source": [
        "#### План:  \n",
        "1. Приоритизировать гипотезы;  \n",
        "2. Произвести анализ A/B-теста:  \n",
        "  2.1 Проверить статестически значимые различия по выручке и среднему чеку;   \n",
        "  2.2 Исследовать выбросы и проверить результаты теста без них;   \n",
        "  2.3 Сформировать вывод о продлении или прекращении теста."
      ]
    },
    {
      "cell_type": "markdown",
      "metadata": {
        "id": "dSN4kx4uGrxL"
      },
      "source": [
        "#### Часть 1. Приоритизация гипотез."
      ]
    },
    {
      "cell_type": "code",
      "metadata": {
        "id": "3kwiD1nfGrxL"
      },
      "source": [
        "#запустим библиотеки\n",
        "import pandas as pd\n",
        "import matplotlib.pyplot as plt\n",
        "import datetime\n",
        "import numpy as np\n",
        "import scipy.stats as stats\n",
        "from math import factorial\n",
        "import seaborn as sns\n",
        "import warnings\n",
        "warnings.filterwarnings('ignore')"
      ],
      "execution_count": 6,
      "outputs": []
    },
    {
      "cell_type": "code",
      "metadata": {
        "id": "lm_eq7_KGrxM"
      },
      "source": [
        "#напечатаем первый датасет и покажем полное описание гипотез\n",
        "df_h = pd.read_csv('/content/hypothesis.csv')\n",
        "pd.set_option('max_colwidth',-1)"
      ],
      "execution_count": 7,
      "outputs": []
    },
    {
      "cell_type": "code",
      "metadata": {
        "colab": {
          "base_uri": "https://localhost:8080/",
          "height": 328
        },
        "id": "Z90C5eWPGrxN",
        "outputId": "157120c0-8bae-4239-e7f1-d7dbaaf7e3c9"
      },
      "source": [
        "df_h['ICE'] = df_h['Impact'] * df_h['Confidence'] / df_h['Efforts']\n",
        "df_h.round(1).sort_values(by='ICE',ascending=False)"
      ],
      "execution_count": 8,
      "outputs": [
        {
          "output_type": "execute_result",
          "data": {
            "text/html": [
              "<div>\n",
              "<style scoped>\n",
              "    .dataframe tbody tr th:only-of-type {\n",
              "        vertical-align: middle;\n",
              "    }\n",
              "\n",
              "    .dataframe tbody tr th {\n",
              "        vertical-align: top;\n",
              "    }\n",
              "\n",
              "    .dataframe thead th {\n",
              "        text-align: right;\n",
              "    }\n",
              "</style>\n",
              "<table border=\"1\" class=\"dataframe\">\n",
              "  <thead>\n",
              "    <tr style=\"text-align: right;\">\n",
              "      <th></th>\n",
              "      <th>Hypothesis</th>\n",
              "      <th>Reach</th>\n",
              "      <th>Impact</th>\n",
              "      <th>Confidence</th>\n",
              "      <th>Efforts</th>\n",
              "      <th>ICE</th>\n",
              "    </tr>\n",
              "  </thead>\n",
              "  <tbody>\n",
              "    <tr>\n",
              "      <th>8</th>\n",
              "      <td>Запустить акцию, дающую скидку на товар в день рождения</td>\n",
              "      <td>1</td>\n",
              "      <td>9</td>\n",
              "      <td>9</td>\n",
              "      <td>5</td>\n",
              "      <td>16.2</td>\n",
              "    </tr>\n",
              "    <tr>\n",
              "      <th>0</th>\n",
              "      <td>Добавить два новых канала привлечения трафика, что позволит привлекать на 30% больше пользователей</td>\n",
              "      <td>3</td>\n",
              "      <td>10</td>\n",
              "      <td>8</td>\n",
              "      <td>6</td>\n",
              "      <td>13.3</td>\n",
              "    </tr>\n",
              "    <tr>\n",
              "      <th>7</th>\n",
              "      <td>Добавить форму подписки на все основные страницы, чтобы собрать базу клиентов для email-рассылок</td>\n",
              "      <td>10</td>\n",
              "      <td>7</td>\n",
              "      <td>8</td>\n",
              "      <td>5</td>\n",
              "      <td>11.2</td>\n",
              "    </tr>\n",
              "    <tr>\n",
              "      <th>6</th>\n",
              "      <td>Показать на главной странице баннеры с актуальными акциями и распродажами, чтобы увеличить конверсию</td>\n",
              "      <td>5</td>\n",
              "      <td>3</td>\n",
              "      <td>8</td>\n",
              "      <td>3</td>\n",
              "      <td>8.0</td>\n",
              "    </tr>\n",
              "    <tr>\n",
              "      <th>2</th>\n",
              "      <td>Добавить блоки рекомендаций товаров на сайт интернет магазина, чтобы повысить конверсию и средний чек заказа</td>\n",
              "      <td>8</td>\n",
              "      <td>3</td>\n",
              "      <td>7</td>\n",
              "      <td>3</td>\n",
              "      <td>7.0</td>\n",
              "    </tr>\n",
              "    <tr>\n",
              "      <th>1</th>\n",
              "      <td>Запустить собственную службу доставки, что сократит срок доставки заказов</td>\n",
              "      <td>2</td>\n",
              "      <td>5</td>\n",
              "      <td>4</td>\n",
              "      <td>10</td>\n",
              "      <td>2.0</td>\n",
              "    </tr>\n",
              "    <tr>\n",
              "      <th>5</th>\n",
              "      <td>Добавить страницу отзывов клиентов о магазине, что позволит увеличить количество заказов</td>\n",
              "      <td>3</td>\n",
              "      <td>2</td>\n",
              "      <td>2</td>\n",
              "      <td>3</td>\n",
              "      <td>1.3</td>\n",
              "    </tr>\n",
              "    <tr>\n",
              "      <th>3</th>\n",
              "      <td>Изменить структура категорий, что увеличит конверсию, т.к. пользователи быстрее найдут нужный товар</td>\n",
              "      <td>8</td>\n",
              "      <td>3</td>\n",
              "      <td>3</td>\n",
              "      <td>8</td>\n",
              "      <td>1.1</td>\n",
              "    </tr>\n",
              "    <tr>\n",
              "      <th>4</th>\n",
              "      <td>Изменить цвет фона главной страницы, чтобы увеличить вовлеченность пользователей</td>\n",
              "      <td>3</td>\n",
              "      <td>1</td>\n",
              "      <td>1</td>\n",
              "      <td>1</td>\n",
              "      <td>1.0</td>\n",
              "    </tr>\n",
              "  </tbody>\n",
              "</table>\n",
              "</div>"
            ],
            "text/plain": [
              "                                                                                                     Hypothesis  ...   ICE\n",
              "8  Запустить акцию, дающую скидку на товар в день рождения                                                       ...  16.2\n",
              "0  Добавить два новых канала привлечения трафика, что позволит привлекать на 30% больше пользователей            ...  13.3\n",
              "7  Добавить форму подписки на все основные страницы, чтобы собрать базу клиентов для email-рассылок              ...  11.2\n",
              "6  Показать на главной странице баннеры с актуальными акциями и распродажами, чтобы увеличить конверсию          ...  8.0 \n",
              "2  Добавить блоки рекомендаций товаров на сайт интернет магазина, чтобы повысить конверсию и средний чек заказа  ...  7.0 \n",
              "1  Запустить собственную службу доставки, что сократит срок доставки заказов                                     ...  2.0 \n",
              "5  Добавить страницу отзывов клиентов о магазине, что позволит увеличить количество заказов                      ...  1.3 \n",
              "3  Изменить структура категорий, что увеличит конверсию, т.к. пользователи быстрее найдут нужный товар           ...  1.1 \n",
              "4  Изменить цвет фона главной страницы, чтобы увеличить вовлеченность пользователей                              ...  1.0 \n",
              "\n",
              "[9 rows x 6 columns]"
            ]
          },
          "metadata": {
            "tags": []
          },
          "execution_count": 8
        }
      ]
    },
    {
      "cell_type": "code",
      "metadata": {
        "colab": {
          "base_uri": "https://localhost:8080/",
          "height": 328
        },
        "id": "dG7MNNWvGrxO",
        "outputId": "3743b1b1-6dd8-41db-d053-51513c50b3b9"
      },
      "source": [
        "df_h['RICE'] = df_h['Impact'] * df_h['Confidence'] * df_h['Reach'] / df_h['Efforts']\n",
        "df_h.round(1).sort_values(by='RICE',ascending=False)"
      ],
      "execution_count": 9,
      "outputs": [
        {
          "output_type": "execute_result",
          "data": {
            "text/html": [
              "<div>\n",
              "<style scoped>\n",
              "    .dataframe tbody tr th:only-of-type {\n",
              "        vertical-align: middle;\n",
              "    }\n",
              "\n",
              "    .dataframe tbody tr th {\n",
              "        vertical-align: top;\n",
              "    }\n",
              "\n",
              "    .dataframe thead th {\n",
              "        text-align: right;\n",
              "    }\n",
              "</style>\n",
              "<table border=\"1\" class=\"dataframe\">\n",
              "  <thead>\n",
              "    <tr style=\"text-align: right;\">\n",
              "      <th></th>\n",
              "      <th>Hypothesis</th>\n",
              "      <th>Reach</th>\n",
              "      <th>Impact</th>\n",
              "      <th>Confidence</th>\n",
              "      <th>Efforts</th>\n",
              "      <th>ICE</th>\n",
              "      <th>RICE</th>\n",
              "    </tr>\n",
              "  </thead>\n",
              "  <tbody>\n",
              "    <tr>\n",
              "      <th>7</th>\n",
              "      <td>Добавить форму подписки на все основные страницы, чтобы собрать базу клиентов для email-рассылок</td>\n",
              "      <td>10</td>\n",
              "      <td>7</td>\n",
              "      <td>8</td>\n",
              "      <td>5</td>\n",
              "      <td>11.2</td>\n",
              "      <td>112.0</td>\n",
              "    </tr>\n",
              "    <tr>\n",
              "      <th>2</th>\n",
              "      <td>Добавить блоки рекомендаций товаров на сайт интернет магазина, чтобы повысить конверсию и средний чек заказа</td>\n",
              "      <td>8</td>\n",
              "      <td>3</td>\n",
              "      <td>7</td>\n",
              "      <td>3</td>\n",
              "      <td>7.0</td>\n",
              "      <td>56.0</td>\n",
              "    </tr>\n",
              "    <tr>\n",
              "      <th>0</th>\n",
              "      <td>Добавить два новых канала привлечения трафика, что позволит привлекать на 30% больше пользователей</td>\n",
              "      <td>3</td>\n",
              "      <td>10</td>\n",
              "      <td>8</td>\n",
              "      <td>6</td>\n",
              "      <td>13.3</td>\n",
              "      <td>40.0</td>\n",
              "    </tr>\n",
              "    <tr>\n",
              "      <th>6</th>\n",
              "      <td>Показать на главной странице баннеры с актуальными акциями и распродажами, чтобы увеличить конверсию</td>\n",
              "      <td>5</td>\n",
              "      <td>3</td>\n",
              "      <td>8</td>\n",
              "      <td>3</td>\n",
              "      <td>8.0</td>\n",
              "      <td>40.0</td>\n",
              "    </tr>\n",
              "    <tr>\n",
              "      <th>8</th>\n",
              "      <td>Запустить акцию, дающую скидку на товар в день рождения</td>\n",
              "      <td>1</td>\n",
              "      <td>9</td>\n",
              "      <td>9</td>\n",
              "      <td>5</td>\n",
              "      <td>16.2</td>\n",
              "      <td>16.2</td>\n",
              "    </tr>\n",
              "    <tr>\n",
              "      <th>3</th>\n",
              "      <td>Изменить структура категорий, что увеличит конверсию, т.к. пользователи быстрее найдут нужный товар</td>\n",
              "      <td>8</td>\n",
              "      <td>3</td>\n",
              "      <td>3</td>\n",
              "      <td>8</td>\n",
              "      <td>1.1</td>\n",
              "      <td>9.0</td>\n",
              "    </tr>\n",
              "    <tr>\n",
              "      <th>1</th>\n",
              "      <td>Запустить собственную службу доставки, что сократит срок доставки заказов</td>\n",
              "      <td>2</td>\n",
              "      <td>5</td>\n",
              "      <td>4</td>\n",
              "      <td>10</td>\n",
              "      <td>2.0</td>\n",
              "      <td>4.0</td>\n",
              "    </tr>\n",
              "    <tr>\n",
              "      <th>5</th>\n",
              "      <td>Добавить страницу отзывов клиентов о магазине, что позволит увеличить количество заказов</td>\n",
              "      <td>3</td>\n",
              "      <td>2</td>\n",
              "      <td>2</td>\n",
              "      <td>3</td>\n",
              "      <td>1.3</td>\n",
              "      <td>4.0</td>\n",
              "    </tr>\n",
              "    <tr>\n",
              "      <th>4</th>\n",
              "      <td>Изменить цвет фона главной страницы, чтобы увеличить вовлеченность пользователей</td>\n",
              "      <td>3</td>\n",
              "      <td>1</td>\n",
              "      <td>1</td>\n",
              "      <td>1</td>\n",
              "      <td>1.0</td>\n",
              "      <td>3.0</td>\n",
              "    </tr>\n",
              "  </tbody>\n",
              "</table>\n",
              "</div>"
            ],
            "text/plain": [
              "                                                                                                     Hypothesis  ...   RICE\n",
              "7  Добавить форму подписки на все основные страницы, чтобы собрать базу клиентов для email-рассылок              ...  112.0\n",
              "2  Добавить блоки рекомендаций товаров на сайт интернет магазина, чтобы повысить конверсию и средний чек заказа  ...  56.0 \n",
              "0  Добавить два новых канала привлечения трафика, что позволит привлекать на 30% больше пользователей            ...  40.0 \n",
              "6  Показать на главной странице баннеры с актуальными акциями и распродажами, чтобы увеличить конверсию          ...  40.0 \n",
              "8  Запустить акцию, дающую скидку на товар в день рождения                                                       ...  16.2 \n",
              "3  Изменить структура категорий, что увеличит конверсию, т.к. пользователи быстрее найдут нужный товар           ...  9.0  \n",
              "1  Запустить собственную службу доставки, что сократит срок доставки заказов                                     ...  4.0  \n",
              "5  Добавить страницу отзывов клиентов о магазине, что позволит увеличить количество заказов                      ...  4.0  \n",
              "4  Изменить цвет фона главной страницы, чтобы увеличить вовлеченность пользователей                              ...  3.0  \n",
              "\n",
              "[9 rows x 7 columns]"
            ]
          },
          "metadata": {
            "tags": []
          },
          "execution_count": 9
        }
      ]
    },
    {
      "cell_type": "markdown",
      "metadata": {
        "id": "tsN7wmZ9GrxO"
      },
      "source": [
        "##### Выводы:\n",
        "По методологии ICE необходимо браться за выполнение гипотез № 8,0 и 7, а согласно RICE - № 7,2,0 и 6, причем гопотеза номер 7 набрала в 2 раза выше оценку.  \n",
        "Такая разница обусловлена тем, гипотеза номер 7 затронет всех пользователей сайта, а вот восьмая очень узкую категорию. Введу чего рекомендую следовать методологии RICE."
      ]
    },
    {
      "cell_type": "markdown",
      "metadata": {
        "id": "SquUqavLGrxP"
      },
      "source": [
        "#### Часть 2. Анализ A/B-теста"
      ]
    },
    {
      "cell_type": "code",
      "metadata": {
        "id": "62W3wCx7GrxP"
      },
      "source": [
        "df_o = pd.read_csv('/content/orders.csv')"
      ],
      "execution_count": 12,
      "outputs": []
    },
    {
      "cell_type": "code",
      "metadata": {
        "colab": {
          "base_uri": "https://localhost:8080/"
        },
        "id": "gH4Sxm2vGrxQ",
        "outputId": "a395a978-cffc-4a32-fc25-2084a053fa8c"
      },
      "source": [
        "#изучим типы данных\n",
        "df_o.info()"
      ],
      "execution_count": 13,
      "outputs": [
        {
          "output_type": "stream",
          "text": [
            "<class 'pandas.core.frame.DataFrame'>\n",
            "RangeIndex: 1197 entries, 0 to 1196\n",
            "Data columns (total 5 columns):\n",
            " #   Column         Non-Null Count  Dtype \n",
            "---  ------         --------------  ----- \n",
            " 0   transactionId  1197 non-null   int64 \n",
            " 1   visitorId      1197 non-null   int64 \n",
            " 2   date           1197 non-null   object\n",
            " 3   revenue        1197 non-null   int64 \n",
            " 4   group          1197 non-null   object\n",
            "dtypes: int64(3), object(2)\n",
            "memory usage: 46.9+ KB\n"
          ],
          "name": "stdout"
        }
      ]
    },
    {
      "cell_type": "code",
      "metadata": {
        "id": "i5NzvihwGrxQ"
      },
      "source": [
        "#поменяем формат столбца с датой\n",
        "df_o['date'] = pd.to_datetime(df_o['date'])"
      ],
      "execution_count": 14,
      "outputs": []
    },
    {
      "cell_type": "code",
      "metadata": {
        "colab": {
          "base_uri": "https://localhost:8080/",
          "height": 297
        },
        "id": "p7RMC3oSGrxQ",
        "outputId": "870b7a1b-a161-427a-d361-f7243e751b11"
      },
      "source": [
        "#убедимся что нет нулевой выручки\n",
        "df_o.describe()"
      ],
      "execution_count": 15,
      "outputs": [
        {
          "output_type": "execute_result",
          "data": {
            "text/html": [
              "<div>\n",
              "<style scoped>\n",
              "    .dataframe tbody tr th:only-of-type {\n",
              "        vertical-align: middle;\n",
              "    }\n",
              "\n",
              "    .dataframe tbody tr th {\n",
              "        vertical-align: top;\n",
              "    }\n",
              "\n",
              "    .dataframe thead th {\n",
              "        text-align: right;\n",
              "    }\n",
              "</style>\n",
              "<table border=\"1\" class=\"dataframe\">\n",
              "  <thead>\n",
              "    <tr style=\"text-align: right;\">\n",
              "      <th></th>\n",
              "      <th>transactionId</th>\n",
              "      <th>visitorId</th>\n",
              "      <th>revenue</th>\n",
              "    </tr>\n",
              "  </thead>\n",
              "  <tbody>\n",
              "    <tr>\n",
              "      <th>count</th>\n",
              "      <td>1.197000e+03</td>\n",
              "      <td>1.197000e+03</td>\n",
              "      <td>1.197000e+03</td>\n",
              "    </tr>\n",
              "    <tr>\n",
              "      <th>mean</th>\n",
              "      <td>2.155621e+09</td>\n",
              "      <td>2.165960e+09</td>\n",
              "      <td>8.348006e+03</td>\n",
              "    </tr>\n",
              "    <tr>\n",
              "      <th>std</th>\n",
              "      <td>1.229085e+09</td>\n",
              "      <td>1.236014e+09</td>\n",
              "      <td>3.919113e+04</td>\n",
              "    </tr>\n",
              "    <tr>\n",
              "      <th>min</th>\n",
              "      <td>1.062393e+06</td>\n",
              "      <td>5.114589e+06</td>\n",
              "      <td>5.000000e+01</td>\n",
              "    </tr>\n",
              "    <tr>\n",
              "      <th>25%</th>\n",
              "      <td>1.166776e+09</td>\n",
              "      <td>1.111826e+09</td>\n",
              "      <td>1.220000e+03</td>\n",
              "    </tr>\n",
              "    <tr>\n",
              "      <th>50%</th>\n",
              "      <td>2.145194e+09</td>\n",
              "      <td>2.217985e+09</td>\n",
              "      <td>2.978000e+03</td>\n",
              "    </tr>\n",
              "    <tr>\n",
              "      <th>75%</th>\n",
              "      <td>3.237740e+09</td>\n",
              "      <td>3.177606e+09</td>\n",
              "      <td>8.290000e+03</td>\n",
              "    </tr>\n",
              "    <tr>\n",
              "      <th>max</th>\n",
              "      <td>4.293856e+09</td>\n",
              "      <td>4.283872e+09</td>\n",
              "      <td>1.294500e+06</td>\n",
              "    </tr>\n",
              "  </tbody>\n",
              "</table>\n",
              "</div>"
            ],
            "text/plain": [
              "       transactionId     visitorId       revenue\n",
              "count  1.197000e+03   1.197000e+03  1.197000e+03\n",
              "mean   2.155621e+09   2.165960e+09  8.348006e+03\n",
              "std    1.229085e+09   1.236014e+09  3.919113e+04\n",
              "min    1.062393e+06   5.114589e+06  5.000000e+01\n",
              "25%    1.166776e+09   1.111826e+09  1.220000e+03\n",
              "50%    2.145194e+09   2.217985e+09  2.978000e+03\n",
              "75%    3.237740e+09   3.177606e+09  8.290000e+03\n",
              "max    4.293856e+09   4.283872e+09  1.294500e+06"
            ]
          },
          "metadata": {
            "tags": []
          },
          "execution_count": 15
        }
      ]
    },
    {
      "cell_type": "code",
      "metadata": {
        "colab": {
          "base_uri": "https://localhost:8080/"
        },
        "id": "oqugwxWyGrxR",
        "outputId": "df424490-8d7a-4bc5-c24d-72599584abd4"
      },
      "source": [
        "#проверим что есть только 2 группы теста\n",
        "df_o['group'].unique()"
      ],
      "execution_count": 16,
      "outputs": [
        {
          "output_type": "execute_result",
          "data": {
            "text/plain": [
              "array(['B', 'A'], dtype=object)"
            ]
          },
          "metadata": {
            "tags": []
          },
          "execution_count": 16
        }
      ]
    },
    {
      "cell_type": "code",
      "metadata": {
        "colab": {
          "base_uri": "https://localhost:8080/",
          "height": 419
        },
        "id": "eIaZZkBUGrxR",
        "outputId": "300cf822-30c1-4abb-f50b-ce7b55881cf6"
      },
      "source": [
        "#найдем пользователей, которые попали в 2 разных группы \n",
        "df_o2 = df_o.pivot_table(index=['visitorId'],values = 'group',aggfunc = {'group':'nunique'}).reset_index()\n",
        "df_o2.columns = ['visitorId','group2']\n",
        "df_o2"
      ],
      "execution_count": 17,
      "outputs": [
        {
          "output_type": "execute_result",
          "data": {
            "text/html": [
              "<div>\n",
              "<style scoped>\n",
              "    .dataframe tbody tr th:only-of-type {\n",
              "        vertical-align: middle;\n",
              "    }\n",
              "\n",
              "    .dataframe tbody tr th {\n",
              "        vertical-align: top;\n",
              "    }\n",
              "\n",
              "    .dataframe thead th {\n",
              "        text-align: right;\n",
              "    }\n",
              "</style>\n",
              "<table border=\"1\" class=\"dataframe\">\n",
              "  <thead>\n",
              "    <tr style=\"text-align: right;\">\n",
              "      <th></th>\n",
              "      <th>visitorId</th>\n",
              "      <th>group2</th>\n",
              "    </tr>\n",
              "  </thead>\n",
              "  <tbody>\n",
              "    <tr>\n",
              "      <th>0</th>\n",
              "      <td>5114589</td>\n",
              "      <td>1</td>\n",
              "    </tr>\n",
              "    <tr>\n",
              "      <th>1</th>\n",
              "      <td>6958315</td>\n",
              "      <td>1</td>\n",
              "    </tr>\n",
              "    <tr>\n",
              "      <th>2</th>\n",
              "      <td>8300375</td>\n",
              "      <td>2</td>\n",
              "    </tr>\n",
              "    <tr>\n",
              "      <th>3</th>\n",
              "      <td>11685486</td>\n",
              "      <td>1</td>\n",
              "    </tr>\n",
              "    <tr>\n",
              "      <th>4</th>\n",
              "      <td>39475350</td>\n",
              "      <td>1</td>\n",
              "    </tr>\n",
              "    <tr>\n",
              "      <th>...</th>\n",
              "      <td>...</td>\n",
              "      <td>...</td>\n",
              "    </tr>\n",
              "    <tr>\n",
              "      <th>1026</th>\n",
              "      <td>4266935830</td>\n",
              "      <td>2</td>\n",
              "    </tr>\n",
              "    <tr>\n",
              "      <th>1027</th>\n",
              "      <td>4278982564</td>\n",
              "      <td>1</td>\n",
              "    </tr>\n",
              "    <tr>\n",
              "      <th>1028</th>\n",
              "      <td>4279090005</td>\n",
              "      <td>1</td>\n",
              "    </tr>\n",
              "    <tr>\n",
              "      <th>1029</th>\n",
              "      <td>4281247801</td>\n",
              "      <td>1</td>\n",
              "    </tr>\n",
              "    <tr>\n",
              "      <th>1030</th>\n",
              "      <td>4283872382</td>\n",
              "      <td>1</td>\n",
              "    </tr>\n",
              "  </tbody>\n",
              "</table>\n",
              "<p>1031 rows × 2 columns</p>\n",
              "</div>"
            ],
            "text/plain": [
              "       visitorId  group2\n",
              "0     5114589     1     \n",
              "1     6958315     1     \n",
              "2     8300375     2     \n",
              "3     11685486    1     \n",
              "4     39475350    1     \n",
              "...        ...   ..     \n",
              "1026  4266935830  2     \n",
              "1027  4278982564  1     \n",
              "1028  4279090005  1     \n",
              "1029  4281247801  1     \n",
              "1030  4283872382  1     \n",
              "\n",
              "[1031 rows x 2 columns]"
            ]
          },
          "metadata": {
            "tags": []
          },
          "execution_count": 17
        }
      ]
    },
    {
      "cell_type": "code",
      "metadata": {
        "colab": {
          "base_uri": "https://localhost:8080/"
        },
        "id": "DkALtZVwGrxR",
        "outputId": "c57eaf07-1bed-4af7-db38-c72f28489a67"
      },
      "source": [
        "#посчитаем их кол-во\n",
        "df_o2B= df_o2.query('group2 == 2')\n",
        "df_o2B.count()"
      ],
      "execution_count": 18,
      "outputs": [
        {
          "output_type": "execute_result",
          "data": {
            "text/plain": [
              "visitorId    58\n",
              "group2       58\n",
              "dtype: int64"
            ]
          },
          "metadata": {
            "tags": []
          },
          "execution_count": 18
        }
      ]
    },
    {
      "cell_type": "markdown",
      "metadata": {
        "id": "tn6Ky2zlGrxS"
      },
      "source": [
        "##### Вывод:  \n",
        "58 пользователей попали и в группу А и в группу B при проведении теста. Данные по ним нельзя считать корректными. Однако мы не можем убрать этих пользователей из следующего датасета с визитами, потому оставим их и в текущей таблице."
      ]
    },
    {
      "cell_type": "code",
      "metadata": {
        "id": "-BJ6PqgIGrxS"
      },
      "source": [
        "df_v = pd.read_csv('/content/visitors.csv')"
      ],
      "execution_count": 21,
      "outputs": []
    },
    {
      "cell_type": "code",
      "metadata": {
        "colab": {
          "base_uri": "https://localhost:8080/"
        },
        "id": "iTc8_UlsGrxS",
        "outputId": "4f1a88f6-4a62-4500-e4a1-3a14e6b2136b"
      },
      "source": [
        "#удостоверимся, что здесь также толькj 2 группы\n",
        "df_v['group'].unique()"
      ],
      "execution_count": 22,
      "outputs": [
        {
          "output_type": "execute_result",
          "data": {
            "text/plain": [
              "array(['A', 'B'], dtype=object)"
            ]
          },
          "metadata": {
            "tags": []
          },
          "execution_count": 22
        }
      ]
    },
    {
      "cell_type": "code",
      "metadata": {
        "colab": {
          "base_uri": "https://localhost:8080/"
        },
        "id": "ME0A3k8IGrxT",
        "outputId": "c90ad30c-0ac1-4e8b-b1e9-4de954bc28d1"
      },
      "source": [
        "#изучим второй датасет\n",
        "df_v.info()"
      ],
      "execution_count": 23,
      "outputs": [
        {
          "output_type": "stream",
          "text": [
            "<class 'pandas.core.frame.DataFrame'>\n",
            "RangeIndex: 62 entries, 0 to 61\n",
            "Data columns (total 3 columns):\n",
            " #   Column    Non-Null Count  Dtype \n",
            "---  ------    --------------  ----- \n",
            " 0   date      62 non-null     object\n",
            " 1   group     62 non-null     object\n",
            " 2   visitors  62 non-null     int64 \n",
            "dtypes: int64(1), object(2)\n",
            "memory usage: 1.6+ KB\n"
          ],
          "name": "stdout"
        }
      ]
    },
    {
      "cell_type": "code",
      "metadata": {
        "id": "BWR7GiSdGrxT"
      },
      "source": [
        "#поменяем формат столбца\n",
        "df_v['date'] = pd.to_datetime(df_v['date'])"
      ],
      "execution_count": 24,
      "outputs": []
    },
    {
      "cell_type": "markdown",
      "metadata": {
        "id": "Uiii0k7LGrxU"
      },
      "source": [
        " #### Построим график кумулятивной выручки по группам"
      ]
    },
    {
      "cell_type": "code",
      "metadata": {
        "id": "OjJeKAWcGrxU"
      },
      "source": [
        "#оставим только 2 столбца и уберем дубликаты\n",
        "datesGroups = df_o[['date','group']].drop_duplicates()"
      ],
      "execution_count": 25,
      "outputs": []
    },
    {
      "cell_type": "code",
      "metadata": {
        "id": "ZAvU7b9hGrxV"
      },
      "source": [
        "#сформируем датасет с кумулятивной выручкой\n",
        "revenueAggregated = datesGroups.apply(lambda x: df_o[np.logical_and(df_o['date'] <= x['date'], df_o['group'] == x['group'])].agg({'date' : 'max', 'group' : 'max', 'transactionId' : pd.Series.nunique, 'visitorId' : pd.Series.nunique, 'revenue' : 'sum'}), axis=1).sort_values(by=['date','group'])\n",
        "revenueAggregated.columns = ['date','group','orders','visitor','revenue']"
      ],
      "execution_count": 26,
      "outputs": []
    },
    {
      "cell_type": "code",
      "metadata": {
        "id": "qc08VTq0GrxV"
      },
      "source": [
        "#visitorsAggregated = datesGroups.apply(lambda x: df_v[np.logical_and(df_v['date'] <= x['date'], df_v['group'] == x['group'])].agg({'date' : 'max', 'group' : 'max', 'visitors' : 'sum'}), axis=1).sort_values(by=['date','group'])"
      ],
      "execution_count": 27,
      "outputs": []
    },
    {
      "cell_type": "code",
      "metadata": {
        "id": "IOr3UmnRGrxV"
      },
      "source": [
        "#разделим прошлый датасет на 2 по группам\n",
        "cumulativeRevenueA = revenueAggregated[revenueAggregated['group']=='A'][['date','revenue','orders']]\n",
        "cumulativeRevenueB = revenueAggregated[revenueAggregated['group']=='B'][['date','revenue','orders']]"
      ],
      "execution_count": 28,
      "outputs": []
    },
    {
      "cell_type": "code",
      "metadata": {
        "colab": {
          "base_uri": "https://localhost:8080/",
          "height": 374
        },
        "id": "fGwSRLMUGrxW",
        "outputId": "c992fe25-c6b6-4dfa-e703-5c6413fe9ab9"
      },
      "source": [
        "plt.figure(figsize=(10, 5))\n",
        "plt.plot(cumulativeRevenueA['date'], cumulativeRevenueA['revenue'], label='A')\n",
        "plt.plot(cumulativeRevenueB['date'], cumulativeRevenueB['revenue'], label='B')\n",
        "plt.title('График кумулятивной выручки по группам')\n",
        "plt.ylabel(\"Выручка\")\n",
        "plt.xticks(rotation=45)\n",
        "plt.legend()\n",
        "plt.show()"
      ],
      "execution_count": 29,
      "outputs": [
        {
          "output_type": "display_data",
          "data": {
            "image/png": "[encoded data removed]",
            "text/plain": [
              "<Figure size 720x360 with 1 Axes>"
            ]
          },
          "metadata": {
            "tags": [],
            "needs_background": "light"
          }
        }
      ]
    },
    {
      "cell_type": "markdown",
      "metadata": {
        "id": "-GKuTnm6GrxW"
      },
      "source": [
        "##### Вывод:  \n",
        "Накопительная выручка в группе B стабильно больше, чем в группе А, начиная с 5.08.2019 года, также наблюдается резкий скачек выручку 17.08.2019 в группе B введу скорее всего крупной покупки одним пользователем.  \n"
      ]
    },
    {
      "cell_type": "markdown",
      "metadata": {
        "id": "BNEbFbb4GrxX"
      },
      "source": [
        " #### Построим график кумулятивного среднего чека по группам."
      ]
    },
    {
      "cell_type": "code",
      "metadata": {
        "colab": {
          "base_uri": "https://localhost:8080/",
          "height": 374
        },
        "id": "Q7VbcSEgGrxX",
        "outputId": "e73f5f66-d918-454c-8cea-bb62627f139c"
      },
      "source": [
        "plt.figure(figsize=(10, 5))\n",
        "plt.plot(cumulativeRevenueA['date'], cumulativeRevenueA['revenue']/cumulativeRevenueA['orders'], label='A')\n",
        "plt.plot(cumulativeRevenueB['date'], cumulativeRevenueB['revenue']/cumulativeRevenueB['orders'], label='B')\n",
        "plt.xticks(rotation=45)\n",
        "plt.title('График кумулятивного среднего чека по группам')\n",
        "plt.ylabel(\"Ср.чек\")\n",
        "plt.legend()\n",
        "plt.show()"
      ],
      "execution_count": 30,
      "outputs": [
        {
          "output_type": "display_data",
          "data": {
            "image/png": "[encoded data removed]",
            "text/plain": [
              "<Figure size 720x360 with 1 Axes>"
            ]
          },
          "metadata": {
            "tags": [],
            "needs_background": "light"
          }
        }
      ]
    },
    {
      "cell_type": "markdown",
      "metadata": {
        "id": "O2UDTfrjGrxY"
      },
      "source": [
        "##### Вывод:\n",
        "Накопительный средний чек ведет себя нестабильно в течение проводимого тестирования, 8.07.2019 наблюдается резкий скачек среднего чека и далее с каждым днем он уменьшается, что говорит о том, что больше таких крупных покупок не было."
      ]
    },
    {
      "cell_type": "markdown",
      "metadata": {
        "id": "npcALGDSGrxY"
      },
      "source": [
        " #### Построим график относительного изменения кумулятивного среднего чека группы B к группе A"
      ]
    },
    {
      "cell_type": "code",
      "metadata": {
        "id": "dXORxNNEGrxY"
      },
      "source": [
        "#объеденим 2 датасета\n",
        "mergedCumulativeRevenue = cumulativeRevenueA.merge(cumulativeRevenueB, left_on='date', right_on='date', how='left', suffixes=['A', 'B'])"
      ],
      "execution_count": 31,
      "outputs": []
    },
    {
      "cell_type": "code",
      "metadata": {
        "colab": {
          "base_uri": "https://localhost:8080/",
          "height": 374
        },
        "id": "4I5gOBqkGrxY",
        "outputId": "a1859ac1-98de-429d-f91c-166a64f391a1"
      },
      "source": [
        "plt.figure(figsize=(10, 5))\n",
        "plt.plot(mergedCumulativeRevenue['date'], (mergedCumulativeRevenue['revenueB']/mergedCumulativeRevenue['ordersB'])/(mergedCumulativeRevenue['revenueA']/mergedCumulativeRevenue['ordersA'])-1)\n",
        "plt.axhline(y=0, color='black', linestyle='--') \n",
        "plt.xticks(rotation=45)\n",
        "plt.title('График относительного изменения кумулятивного среднего чека группы B к группе A')\n",
        "plt.show()"
      ],
      "execution_count": 32,
      "outputs": [
        {
          "output_type": "display_data",
          "data": {
            "image/png": "[encoded data removed]",
            "text/plain": [
              "<Figure size 720x360 with 1 Axes>"
            ]
          },
          "metadata": {
            "tags": [],
            "needs_background": "light"
          }
        }
      ]
    },
    {
      "cell_type": "markdown",
      "metadata": {
        "id": "CVs_6q7gGrxZ"
      },
      "source": [
        "##### Вывод:  \n",
        "Отношение накопительного среднего чека нестабильно - в данных имеются крупные заказы, т.е. выбросы."
      ]
    },
    {
      "cell_type": "markdown",
      "metadata": {
        "id": "QrBRSzVsGrxZ"
      },
      "source": [
        " #### Построим график кумулятивной конверсии по группам"
      ]
    },
    {
      "cell_type": "code",
      "metadata": {
        "id": "81FXVDPYGrxa"
      },
      "source": [
        "#сформируем датасет с кумулятивным кол-вом заказов\n",
        "visitorsAggregated = datesGroups.apply(lambda x: df_v[np.logical_and(df_v['date'] <= x['date'], df_v['group'] == x['group'])].agg({'date' : 'max', 'group' : 'max', 'visitors' : 'sum'}), axis=1).sort_values(by=['date','group'])"
      ],
      "execution_count": 33,
      "outputs": []
    },
    {
      "cell_type": "code",
      "metadata": {
        "id": "lS_NPGpiGrxa"
      },
      "source": [
        "#объеденим 2 датасета: с выручкой и кол-вом заказов с с кол-вом визитов\n",
        "cumulativeData = revenueAggregated.merge(visitorsAggregated, left_on=['date', 'group'], right_on=['date', 'group'])\n",
        "cumulativeData.columns = ['date', 'group', 'orders', 'buyers', 'revenue', 'visitors']"
      ],
      "execution_count": 34,
      "outputs": []
    },
    {
      "cell_type": "code",
      "metadata": {
        "id": "TCTbONjnGrxa"
      },
      "source": [
        "#посчитаем конверсию\n",
        "cumulativeData['conversion'] = cumulativeData['orders']/cumulativeData['visitors']"
      ],
      "execution_count": 35,
      "outputs": []
    },
    {
      "cell_type": "code",
      "metadata": {
        "id": "58oy95NTGrxa"
      },
      "source": [
        "#разделим график на 2 группы \n",
        "cumulativeDataA = cumulativeData[cumulativeData['group']=='A']\n",
        "cumulativeDataB = cumulativeData[cumulativeData['group']=='B']"
      ],
      "execution_count": 36,
      "outputs": []
    },
    {
      "cell_type": "code",
      "metadata": {
        "colab": {
          "base_uri": "https://localhost:8080/",
          "height": 374
        },
        "id": "QfGeDDRfGrxa",
        "outputId": "d4fc4c56-4f33-4c54-9f1b-b1bdccc30da4"
      },
      "source": [
        "plt.figure(figsize=(10, 5))\n",
        "plt.plot(cumulativeDataA['date'], cumulativeDataA['conversion'], label='A')\n",
        "plt.plot(cumulativeDataB['date'], cumulativeDataB['conversion'], label='B')\n",
        "plt.xticks(rotation=45)\n",
        "plt.title('График кумулятивной конверсии по группам')\n",
        "plt.ylabel(\"Конверсия\")\n",
        "plt.legend()\n",
        "plt.show()"
      ],
      "execution_count": 37,
      "outputs": [
        {
          "output_type": "display_data",
          "data": {
            "image/png": "[encoded data removed]",
            "text/plain": [
              "<Figure size 720x360 with 1 Axes>"
            ]
          },
          "metadata": {
            "tags": [],
            "needs_background": "light"
          }
        }
      ]
    },
    {
      "cell_type": "markdown",
      "metadata": {
        "id": "7Q4BOfjpGrxe"
      },
      "source": [
        "##### Вывод:  \n",
        " Конверсия в покупателей в группе B значительно выше, начиная с 5.08.2019г, для обеих групп значения достаточно стабильны и колеблятся в тысячных долях."
      ]
    },
    {
      "cell_type": "markdown",
      "metadata": {
        "id": "kt-33pbOGrxe"
      },
      "source": [
        "#### Построим график относительного изменения кумулятивной конверсии группы B к группе A"
      ]
    },
    {
      "cell_type": "code",
      "metadata": {
        "id": "51GP5ajRGrxf"
      },
      "source": [
        "#соедим 2 датасета только по нужным столбцам\n",
        "mergedCumulativeConversions = cumulativeDataA[['date','conversion']].merge(cumulativeDataB[['date','conversion']], left_on='date', right_on='date', how='left', suffixes=['A', 'B'])"
      ],
      "execution_count": 38,
      "outputs": []
    },
    {
      "cell_type": "code",
      "metadata": {
        "colab": {
          "base_uri": "https://localhost:8080/",
          "height": 374
        },
        "id": "T2ZVtkYqGrxf",
        "outputId": "97d415d5-bab7-4b65-fed4-3ec9ae82d89d"
      },
      "source": [
        "plt.figure(figsize=(10, 5))\n",
        "plt.plot(mergedCumulativeConversions['date'], mergedCumulativeConversions['conversionB']/mergedCumulativeConversions['conversionA']-1, label=\"Относительный прирост конверсии группы B относительно группы A\")\n",
        "plt.axhline(y=0, color='black', linestyle='--')\n",
        "plt.xticks(rotation=45)\n",
        "plt.title('График относительного изменения кумулятивной конверсии группы B к группе A')\n",
        "plt.show()"
      ],
      "execution_count": 39,
      "outputs": [
        {
          "output_type": "display_data",
          "data": {
            "image/png": "[encoded data removed]",
            "text/plain": [
              "<Figure size 720x360 with 1 Axes>"
            ]
          },
          "metadata": {
            "tags": [],
            "needs_background": "light"
          }
        }
      ]
    },
    {
      "cell_type": "markdown",
      "metadata": {
        "id": "Pw_pSoAEGrxg"
      },
      "source": [
        "##### Вывод:  \n",
        "В начале теста группа B по кумулятивной конверсии группы B к группе A значительно отставала, однако после 5.08.2019 года  вырвалась вверх.\n"
      ]
    },
    {
      "cell_type": "markdown",
      "metadata": {
        "id": "qvpHNCdYGrxg"
      },
      "source": [
        "#### Построим точечный график количества заказов по пользователям"
      ]
    },
    {
      "cell_type": "code",
      "metadata": {
        "colab": {
          "base_uri": "https://localhost:8080/",
          "height": 295
        },
        "id": "jZzkNyUCGrxg",
        "outputId": "34b8487d-0d23-4fa1-828a-cf4843c070a4"
      },
      "source": [
        "df_ov = df_o.pivot_table(index = 'visitorId',values = 'transactionId', aggfunc = 'count').reset_index()\n",
        "df_ov.plot(x = 'visitorId', y = 'transactionId', kind = 'scatter',grid = True, alpha = 0.2)\n",
        "plt.title('Точечный график количества заказов по пользователям')\n",
        "plt.ylabel(\"Кол-во заказов\")\n",
        "plt.xlabel(\"Пользователи\")\n",
        "plt.show()"
      ],
      "execution_count": 40,
      "outputs": [
        {
          "output_type": "display_data",
          "data": {
            "image/png": "[encoded data removed]",
            "text/plain": [
              "<Figure size 432x288 with 1 Axes>"
            ]
          },
          "metadata": {
            "tags": [],
            "needs_background": "light"
          }
        }
      ]
    },
    {
      "cell_type": "markdown",
      "metadata": {
        "id": "pmsiqsu0Grxh"
      },
      "source": [
        "##### Вывод:  \n",
        "Большая часть пользователей совершило по 1 заказу, значимую долю имеют и те, кто совершил 2 заказа. Всех, кто совершил больше 2х заказов можно считать аномальными пользователями, однако стоит это проверить и другим способом."
      ]
    },
    {
      "cell_type": "markdown",
      "metadata": {
        "id": "1W5mtt6gGrxh"
      },
      "source": [
        "#### Посчитаем 95-й и 99-й перцентили количества заказов на пользователя"
      ]
    },
    {
      "cell_type": "code",
      "metadata": {
        "colab": {
          "base_uri": "https://localhost:8080/"
        },
        "id": "uJoEcvktGrxh",
        "outputId": "06160efa-435a-41e0-8ed4-d11e7afc3fd0"
      },
      "source": [
        "np.percentile(df_ov['transactionId'], [95, 99])"
      ],
      "execution_count": 41,
      "outputs": [
        {
          "output_type": "execute_result",
          "data": {
            "text/plain": [
              "array([2., 4.])"
            ]
          },
          "metadata": {
            "tags": []
          },
          "execution_count": 41
        }
      ]
    },
    {
      "cell_type": "markdown",
      "metadata": {
        "id": "8uOVUn2lGrxh"
      },
      "source": [
        "##### Вывод:  \n",
        "5% пользователей совершили 2 и более заказ и 1% пользователей совершили 4 и более заказа. Введу чего и тех и других будем считать аномальными."
      ]
    },
    {
      "cell_type": "markdown",
      "metadata": {
        "id": "nAQWA8OVGrxi"
      },
      "source": [
        "#### Построим точечный график стоимостей заказов"
      ]
    },
    {
      "cell_type": "code",
      "metadata": {
        "colab": {
          "base_uri": "https://localhost:8080/",
          "height": 295
        },
        "id": "jLskLaEeGrxi",
        "outputId": "9d8ab61e-db1f-44d4-ff2b-b565b78ba974"
      },
      "source": [
        "df_ot = df_o[['transactionId','revenue']]\n",
        "df_ot.plot(x = 'transactionId', y = 'revenue', kind = 'scatter',grid = True, alpha = 0.2)\n",
        "plt.title('Точечный график стоимости заказов')\n",
        "plt.ylabel(\"Сумма 1ого заказа\")\n",
        "plt.xlabel(\"Заказы\")\n",
        "plt.show()"
      ],
      "execution_count": 42,
      "outputs": [
        {
          "output_type": "display_data",
          "data": {
            "image/png": "[encoded data removed]",
            "text/plain": [
              "<Figure size 432x288 with 1 Axes>"
            ]
          },
          "metadata": {
            "tags": [],
            "needs_background": "light"
          }
        }
      ]
    },
    {
      "cell_type": "markdown",
      "metadata": {
        "id": "NCtPVeV_Grxi"
      },
      "source": [
        "##### Вывод:  \n",
        "Большая часть заказов имеет сумму до 200 000, однако существует и 1 заказ, который составил 1 200 000. \n"
      ]
    },
    {
      "cell_type": "markdown",
      "metadata": {
        "id": "LxShyEXTGrxi"
      },
      "source": [
        "#### Посчитаем 95-й и 99-й перцентили стоимости заказов"
      ]
    },
    {
      "cell_type": "code",
      "metadata": {
        "colab": {
          "base_uri": "https://localhost:8080/"
        },
        "id": "DoQB_n5VGrxj",
        "outputId": "ad80fff5-665e-42d3-cb93-b24577be68e7"
      },
      "source": [
        "np.percentile(df_ot['revenue'], [95, 99])"
      ],
      "execution_count": 43,
      "outputs": [
        {
          "output_type": "execute_result",
          "data": {
            "text/plain": [
              "array([28000. , 58233.2])"
            ]
          },
          "metadata": {
            "tags": []
          },
          "execution_count": 43
        }
      ]
    },
    {
      "cell_type": "markdown",
      "metadata": {
        "id": "677EUEh8Grxj"
      },
      "source": [
        "##### Вывод:  \n",
        "5% заказов имеют стоимость больше 28 000, а 1% - больше 58 233. Границей аномальных заказов по сумме считаем по 95ому проценталю. \n"
      ]
    },
    {
      "cell_type": "markdown",
      "metadata": {
        "id": "_pSkjbKoGrxj"
      },
      "source": [
        "#### Посчитаем статистическую значимость различий в конверсии между группами по «сырым» данным"
      ]
    },
    {
      "cell_type": "code",
      "metadata": {
        "id": "dVP3Q7f2Grxj"
      },
      "source": [
        "# Нулевая гипотеза - нет статестической значимости в конверсиях групп А и B \n",
        "# Альтернативная гипотеза - есть статестическая значимость в конверсиях групп А и B "
      ],
      "execution_count": 44,
      "outputs": []
    },
    {
      "cell_type": "code",
      "metadata": {
        "id": "RU4RjDP3Grxk"
      },
      "source": [
        "#сгруппируем датасет с визитами по группам и переназовем столбцы\n",
        "visitorsADaily = df_v[df_v['group'] == 'A'][['date', 'visitors']]\n",
        "visitorsADaily.columns = ['date', 'visitorsPerDateA']\n",
        "visitorsBDaily = df_v[df_v['group'] == 'B'][['date', 'visitors']]\n",
        "visitorsBDaily.columns = ['date', 'visitorsPerDateB']"
      ],
      "execution_count": 45,
      "outputs": []
    },
    {
      "cell_type": "code",
      "metadata": {
        "id": "zJEVQt1XGrxk"
      },
      "source": [
        "#сформируем датасеты с кумулятивным трафиком по группам\n",
        "visitorsACummulative = visitorsADaily.apply(\n",
        "    lambda x: visitorsADaily[visitorsADaily['date'] <= x['date']].agg(\n",
        "        {'date': 'max', 'visitorsPerDateA': 'sum'}\n",
        "    ),\n",
        "    axis=1,\n",
        ")\n",
        "visitorsACummulative.columns = ['date', 'visitorsCummulativeA']\n",
        "\n",
        "visitorsBCummulative = visitorsBDaily.apply(\n",
        "    lambda x: visitorsBDaily[visitorsBDaily['date'] <= x['date']].agg(\n",
        "        {'date': 'max', 'visitorsPerDateB': 'sum'}\n",
        "    ),\n",
        "    axis=1,\n",
        ")\n",
        "visitorsBCummulative.columns = ['date', 'visitorsCummulativeB']"
      ],
      "execution_count": 46,
      "outputs": []
    },
    {
      "cell_type": "code",
      "metadata": {
        "id": "FHLQz9H_Grxk"
      },
      "source": [
        "#переимнуем столбцы и уберем лишние\n",
        "ordersACummulative = cumulativeDataA[['date','orders','revenue']]\n",
        "ordersACummulative.columns = ['date', 'ordersPerDateA', 'revenuePerDateA']"
      ],
      "execution_count": 47,
      "outputs": []
    },
    {
      "cell_type": "code",
      "metadata": {
        "id": "3Jlb0DFSGrxl"
      },
      "source": [
        "ordersBCummulative = cumulativeDataB[['date','orders','revenue']]\n",
        "ordersBCummulative.columns = ['date', 'ordersPerDateB', 'revenuePerDateB']"
      ],
      "execution_count": 48,
      "outputs": []
    },
    {
      "cell_type": "code",
      "metadata": {
        "id": "d3XVgo0nGrxl"
      },
      "source": [
        "#объеденим все датасеты в один\n",
        "data = (\n",
        "    ordersACummulative.merge(\n",
        "        ordersBCummulative, left_on='date', right_on='date', how='left'\n",
        "    )\n",
        "    .merge(ordersACummulative, left_on='date', right_on='date', how='left')\n",
        "    .merge(ordersBCummulative, left_on='date', right_on='date', how='left')\n",
        "    .merge(visitorsADaily, left_on='date', right_on='date', how='left')\n",
        "    .merge(visitorsBDaily, left_on='date', right_on='date', how='left')\n",
        "    .merge(visitorsACummulative, left_on='date', right_on='date', how='left')\n",
        "    .merge(visitorsBCummulative, left_on='date', right_on='date', how='left')\n",
        ")"
      ],
      "execution_count": 50,
      "outputs": []
    },
    {
      "cell_type": "code",
      "metadata": {
        "id": "SfddVm0WGrxl"
      },
      "source": [
        "#посчитаем кол-во уникальных заказов на одного пользователя в каждой группе\n",
        "ordersByUsersA = (\n",
        "    df_o[df_o['group'] == 'A']\n",
        "    .groupby('visitorId', as_index=False)\n",
        "    .agg({'transactionId': pd.Series.nunique})\n",
        ")\n",
        "ordersByUsersA.columns = ['userId', 'orders']\n",
        "\n",
        "ordersByUsersB = (\n",
        "    df_o[df_o['group'] == 'B']\n",
        "    .groupby('visitorId', as_index=False)\n",
        "    .agg({'transactionId': pd.Series.nunique})\n",
        ")\n",
        "ordersByUsersB.columns = ['userId', 'orders'] "
      ],
      "execution_count": 51,
      "outputs": []
    },
    {
      "cell_type": "code",
      "metadata": {
        "id": "taQP5ly9Grxl"
      },
      "source": [
        "sampleA = pd.concat([ordersByUsersA['orders'],pd.Series(0, index=np.arange(data['visitorsPerDateA'].sum() - len(ordersByUsersA['orders'])), name='orders')],axis=0)\n",
        "\n",
        "sampleB = pd.concat([ordersByUsersB['orders'],pd.Series(0, index=np.arange(data['visitorsPerDateB'].sum() - len(ordersByUsersB['orders'])), name='orders')],axis=0) "
      ],
      "execution_count": 52,
      "outputs": []
    },
    {
      "cell_type": "code",
      "metadata": {
        "colab": {
          "base_uri": "https://localhost:8080/"
        },
        "id": "1N_UL56sGrxl",
        "outputId": "4145265d-aecb-451c-8dc1-e46bd043cb49"
      },
      "source": [
        "print(\"{0:.3f}\".format(stats.mannwhitneyu(sampleA, sampleB)[1]))\n",
        "print(\"{0:.3f}\".format(sampleB.mean() / sampleA.mean() - 1))"
      ],
      "execution_count": 53,
      "outputs": [
        {
          "output_type": "stream",
          "text": [
            "0.008\n",
            "0.138\n"
          ],
          "name": "stdout"
        }
      ]
    },
    {
      "cell_type": "markdown",
      "metadata": {
        "id": "QObeYHKZGrxm"
      },
      "source": [
        "##### Вывод:  \n",
        "По «сырым» данным различия в конверсии групп A и B есть, так как по результатам теста Манна-Уйтни мы получили значение меньше, чем 0.05, то есть мы принимаем нулевую гипотезу.  \n",
        "Конверсия в группе B на 13.8% выше, чем в группе А."
      ]
    },
    {
      "cell_type": "markdown",
      "metadata": {
        "id": "PmDxVen9Grxm"
      },
      "source": [
        "####  Посчитаем статистическую значимость различий в среднем чеке заказа между группами по «сырым» данным"
      ]
    },
    {
      "cell_type": "code",
      "metadata": {
        "id": "dxr9tfWxGrxm"
      },
      "source": [
        "# Нулевая гипотеза - нет статестической значимости в среднем чеке групп А и B \n",
        "# Альтернативная гипотеза - есть статестическая значимость в среднем чеке групп А и B "
      ],
      "execution_count": 54,
      "outputs": []
    },
    {
      "cell_type": "code",
      "metadata": {
        "colab": {
          "base_uri": "https://localhost:8080/"
        },
        "id": "dK6pI9NBGrxm",
        "outputId": "300dc78e-4a04-43b8-c2ba-0b35870acc5f"
      },
      "source": [
        "print('{0:.3f}'.format(stats.mannwhitneyu(df_o[df_o['group']=='A']['revenue'], df_o[df_o['group']=='B']['revenue'])[1]))\n",
        "print('{0:.3f}'.format(df_o[df_o['group']=='B']['revenue'].mean()/df_o[df_o['group']=='A']['revenue'].mean()-1)) "
      ],
      "execution_count": 55,
      "outputs": [
        {
          "output_type": "stream",
          "text": [
            "0.365\n",
            "0.259\n"
          ],
          "name": "stdout"
        }
      ]
    },
    {
      "cell_type": "markdown",
      "metadata": {
        "id": "H1zuH-FyGrxn"
      },
      "source": [
        "##### Вывод:  \n",
        "P-value значительно больше 0.05. Значит, причин отвергать нулевую гипотезу и считать, что в среднем чеке есть различия, нет. Впрочем, средний чек группы B значительно выше среднего чека группы A."
      ]
    },
    {
      "cell_type": "markdown",
      "metadata": {
        "id": "JRI5HlKJGrxn"
      },
      "source": [
        "#### Посчитаем статистическую значимость различий в конверсии между группами по «очищенным» данным"
      ]
    },
    {
      "cell_type": "code",
      "metadata": {
        "id": "AJ48kt1SGrxn"
      },
      "source": [
        "# Нулевая гипотеза - нет статестической значимости в конверсиях групп А и B по 'очищенным данным'\n",
        "# Альтернативная гипотеза - есть статестическая значимость в конверсиях групп А и B  по 'очищенным данным'"
      ],
      "execution_count": 56,
      "outputs": []
    },
    {
      "cell_type": "code",
      "metadata": {
        "scrolled": true,
        "colab": {
          "base_uri": "https://localhost:8080/"
        },
        "id": "8qFpWe5FGrxn",
        "outputId": "62189065-ae6e-4025-b204-4ecc01755615"
      },
      "source": [
        "usersWithManyOrders = pd.concat(\n",
        "    [\n",
        "        ordersByUsersA[ordersByUsersA['orders'] > 2]['userId'],\n",
        "        ordersByUsersB[ordersByUsersB['orders'] > 2]['userId'],\n",
        "    ],\n",
        "    axis=0,\n",
        ")\n",
        "usersWithExpensiveOrders = df_o[df_o['revenue'] > 28000]['visitorId']\n",
        "abnormalUsers = (\n",
        "    pd.concat([usersWithManyOrders, usersWithExpensiveOrders], axis=0)\n",
        "    .drop_duplicates()\n",
        "    .sort_values()\n",
        ")\n",
        "print(abnormalUsers.shape) "
      ],
      "execution_count": 57,
      "outputs": [
        {
          "output_type": "stream",
          "text": [
            "(74,)\n"
          ],
          "name": "stdout"
        }
      ]
    },
    {
      "cell_type": "code",
      "metadata": {
        "id": "RZNVdJg2Grxo"
      },
      "source": [
        "sampleAFiltered = pd.concat(\n",
        "    [\n",
        "        ordersByUsersA[\n",
        "            np.logical_not(ordersByUsersA['userId'].isin(abnormalUsers))\n",
        "        ]['orders'],\n",
        "        pd.Series(\n",
        "            0,\n",
        "            index=np.arange(\n",
        "                data['visitorsPerDateA'].sum() - len(ordersByUsersA['orders'])\n",
        "            ),\n",
        "            name='orders',\n",
        "        ),\n",
        "    ],\n",
        "    axis=0,\n",
        ")\n",
        "\n",
        "sampleBFiltered = pd.concat(\n",
        "    [\n",
        "        ordersByUsersB[\n",
        "            np.logical_not(ordersByUsersB['userId'].isin(abnormalUsers))\n",
        "        ]['orders'],\n",
        "        pd.Series(\n",
        "            0,\n",
        "            index=np.arange(\n",
        "                data['visitorsPerDateB'].sum() - len(ordersByUsersB['orders'])\n",
        "            ),\n",
        "            name='orders',\n",
        "        ),\n",
        "    ],\n",
        "    axis=0,\n",
        ") "
      ],
      "execution_count": 58,
      "outputs": []
    },
    {
      "cell_type": "code",
      "metadata": {
        "colab": {
          "base_uri": "https://localhost:8080/"
        },
        "id": "x1QZXZDIGrxo",
        "outputId": "673011ef-b864-4f02-d393-d2d380cb11c0"
      },
      "source": [
        "print('{0:.3f}'.format(stats.mannwhitneyu(sampleAFiltered, sampleBFiltered)[1]))\n",
        "print('{0:.3f}'.format(sampleBFiltered.mean()/sampleAFiltered.mean()-1)) "
      ],
      "execution_count": 59,
      "outputs": [
        {
          "output_type": "stream",
          "text": [
            "0.007\n",
            "0.173\n"
          ],
          "name": "stdout"
        }
      ]
    },
    {
      "cell_type": "markdown",
      "metadata": {
        "id": "8EEg3CxTGrxo"
      },
      "source": [
        "##### Вывод:  \n",
        "Существует 74 пользователя с аномально высокой выручкой. Если их исключить из выборки, то по тесту Манна-Уитни значение p-values составит 0.007, что демонстирует нам, что мы  отвергаем нулевую гипотезу."
      ]
    },
    {
      "cell_type": "markdown",
      "metadata": {
        "id": "xJOYQ5sbGrxo"
      },
      "source": [
        "#### Посчитаем статистическую значимость различий в среднем чеке заказа между группами по «очищенным» данным"
      ]
    },
    {
      "cell_type": "code",
      "metadata": {
        "id": "uiw82nYvGrxp"
      },
      "source": [
        "# Нулевая гипотеза - нет статестической значимости в среднем чеке групп А и B по 'очищенным' данным \n",
        "# Альтернативная гипотеза - есть статестическая значимость в среднем чеке групп А и B  по 'очищенным' данным "
      ],
      "execution_count": 60,
      "outputs": []
    },
    {
      "cell_type": "code",
      "metadata": {
        "colab": {
          "base_uri": "https://localhost:8080/"
        },
        "id": "c1GJYE2OGrxp",
        "outputId": "6b3b4391-d49d-4189-e1e1-feaaabfc8f3c"
      },
      "source": [
        "print(\n",
        "    '{0:.3f}'.format(\n",
        "        stats.mannwhitneyu(\n",
        "            df_o[\n",
        "                np.logical_and(\n",
        "                    df_o['group'] == 'A',\n",
        "                    np.logical_not(df_o['visitorId'].isin(abnormalUsers)),\n",
        "                )\n",
        "            ]['revenue'],\n",
        "            df_o[\n",
        "                np.logical_and(\n",
        "                    df_o['group'] == 'B',\n",
        "                    np.logical_not(df_o['visitorId'].isin(abnormalUsers)),\n",
        "                )\n",
        "            ]['revenue'],\n",
        "        )[1]\n",
        "    )\n",
        ")\n",
        "\n",
        "print(\n",
        "    \"{0:.3f}\".format(\n",
        "        df_o[\n",
        "            np.logical_and(\n",
        "                df_o['group'] == 'B',\n",
        "                np.logical_not(df_o['visitorId'].isin(abnormalUsers)),\n",
        "            )\n",
        "        ]['revenue'].mean()\n",
        "        / df_o[\n",
        "            np.logical_and(\n",
        "                df_o['group'] == 'A',\n",
        "                np.logical_not(df_o['visitorId'].isin(abnormalUsers)),\n",
        "            )\n",
        "        ]['revenue'].mean()\n",
        "        - 1\n",
        "    )\n",
        ") "
      ],
      "execution_count": 61,
      "outputs": [
        {
          "output_type": "stream",
          "text": [
            "0.369\n",
            "-0.020\n"
          ],
          "name": "stdout"
        }
      ]
    },
    {
      "cell_type": "markdown",
      "metadata": {
        "id": "QvGsS0t8Grxp"
      },
      "source": [
        "##### Вывод:  \n",
        "Cтатистическая значимость достигнута в разнице среднего чека  между группами по «очищенным» данным, p-values составляет 0.481. При этом средний чек меньше на 1.4% в группе B относительно А."
      ]
    },
    {
      "cell_type": "markdown",
      "metadata": {
        "id": "Ph-3K7k-Grxq"
      },
      "source": [
        "####  Решение по результатам теста"
      ]
    },
    {
      "cell_type": "markdown",
      "metadata": {
        "id": "9_dq7qJ2Grxq"
      },
      "source": [
        "**Остановить тест, зафиксировать победу одной из групп**  \n",
        "- существуют статестически значимые отличия по выручке в группах А и B, как по 'сырам' данным, так и выборке без выбросов;  \n",
        "- разница в среднем чеке статетически не значима;\n",
        "- график различия конверсии между группами демонстируем, что результаты группы B лучше группы A."
      ]
    },
    {
      "cell_type": "code",
      "metadata": {
        "id": "37vgPb6LGrxq"
      },
      "source": [
        ""
      ],
      "execution_count": 61,
      "outputs": []
    }
  ]
}