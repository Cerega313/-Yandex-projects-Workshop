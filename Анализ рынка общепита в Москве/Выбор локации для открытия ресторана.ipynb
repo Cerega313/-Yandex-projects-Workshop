{
  "nbformat": 4,
  "nbformat_minor": 0,
  "metadata": {
    "kernelspec": {
      "display_name": "Python 3",
      "language": "python",
      "name": "python3"
    },
    "language_info": {
      "codemirror_mode": {
        "name": "ipython",
        "version": 3
      },
      "file_extension": ".py",
      "mimetype": "text/x-python",
      "name": "python",
      "nbconvert_exporter": "python",
      "pygments_lexer": "ipython3",
      "version": "3.7.8"
    },
    "toc": {
      "base_numbering": 1,
      "nav_menu": {},
      "number_sections": true,
      "sideBar": true,
      "skip_h1_title": true,
      "title_cell": "Table of Contents",
      "title_sidebar": "Contents",
      "toc_cell": false,
      "toc_position": {},
      "toc_section_display": true,
      "toc_window_display": false
    },
    "colab": {
      "name": "83b2cffd-5125-4e68-bc0e-f3ffae2de398.ipynb",
      "provenance": [],
      "collapsed_sections": [],
      "toc_visible": true
    }
  },
  "cells": [
    {
      "cell_type": "markdown",
      "metadata": {
        "id": "M4i5Q6fYDdl1"
      },
      "source": [
        "### Загрузим данные и подготовим их к анализу"
      ]
    },
    {
      "cell_type": "code",
      "metadata": {
        "id": "0w5SiaGxDdl1"
      },
      "source": [
        "import pandas as pd\n",
        "import plotly.express as px\n",
        "from plotly import graph_objects as go\n",
        "import matplotlib.pyplot as plt\n",
        "import datetime\n",
        "import numpy as np\n",
        "import scipy.stats as stats\n",
        "from math import factorial\n",
        "import seaborn as sns\n",
        "import plotly.express as px"
      ],
      "execution_count": 1,
      "outputs": []
    },
    {
      "cell_type": "code",
      "metadata": {
        "id": "3pgkoc9zDdl2"
      },
      "source": [
        "#создадим переменную с нашим датафреймом\n",
        "df = pd.read_csv('/content/rest_data.csv')"
      ],
      "execution_count": 2,
      "outputs": []
    },
    {
      "cell_type": "code",
      "metadata": {
        "colab": {
          "base_uri": "https://localhost:8080/",
          "height": 359
        },
        "id": "m8a8qOblDdl3",
        "outputId": "427ea6a6-7ef7-431d-f3e2-a0b43953b693"
      },
      "source": [
        "df.sample(n = 10, random_state = 1)"
      ],
      "execution_count": 3,
      "outputs": [
        {
          "output_type": "execute_result",
          "data": {
            "text/html": [
              "<div>\n",
              "<style scoped>\n",
              "    .dataframe tbody tr th:only-of-type {\n",
              "        vertical-align: middle;\n",
              "    }\n",
              "\n",
              "    .dataframe tbody tr th {\n",
              "        vertical-align: top;\n",
              "    }\n",
              "\n",
              "    .dataframe thead th {\n",
              "        text-align: right;\n",
              "    }\n",
              "</style>\n",
              "<table border=\"1\" class=\"dataframe\">\n",
              "  <thead>\n",
              "    <tr style=\"text-align: right;\">\n",
              "      <th></th>\n",
              "      <th>id</th>\n",
              "      <th>object_name</th>\n",
              "      <th>chain</th>\n",
              "      <th>object_type</th>\n",
              "      <th>address</th>\n",
              "      <th>number</th>\n",
              "    </tr>\n",
              "  </thead>\n",
              "  <tbody>\n",
              "    <tr>\n",
              "      <th>2973</th>\n",
              "      <td>22736</td>\n",
              "      <td>Луна</td>\n",
              "      <td>нет</td>\n",
              "      <td>кафе</td>\n",
              "      <td>город Москва, Михалковская улица, дом 38, стро...</td>\n",
              "      <td>40</td>\n",
              "    </tr>\n",
              "    <tr>\n",
              "      <th>2593</th>\n",
              "      <td>29065</td>\n",
              "      <td>Столовая ГБОУ 45 Гимназия имени Л.И. Мильграмма</td>\n",
              "      <td>нет</td>\n",
              "      <td>столовая</td>\n",
              "      <td>город Москва, улица Гримау, дом 8</td>\n",
              "      <td>300</td>\n",
              "    </tr>\n",
              "    <tr>\n",
              "      <th>6737</th>\n",
              "      <td>23349</td>\n",
              "      <td>Столовая ГБОУ СОШ № 1900</td>\n",
              "      <td>нет</td>\n",
              "      <td>столовая</td>\n",
              "      <td>город Москва, Дубравная улица, дом 41, корпус 4</td>\n",
              "      <td>240</td>\n",
              "    </tr>\n",
              "    <tr>\n",
              "      <th>14940</th>\n",
              "      <td>222539</td>\n",
              "      <td>Holy Vegan</td>\n",
              "      <td>нет</td>\n",
              "      <td>кафе</td>\n",
              "      <td>город Москва, Ходынский бульвар, дом 4</td>\n",
              "      <td>0</td>\n",
              "    </tr>\n",
              "    <tr>\n",
              "      <th>4088</th>\n",
              "      <td>26585</td>\n",
              "      <td>Ресторан «Очаг гурманов»</td>\n",
              "      <td>нет</td>\n",
              "      <td>ресторан</td>\n",
              "      <td>город Москва, Каширское шоссе, дом 51, корпус 3</td>\n",
              "      <td>42</td>\n",
              "    </tr>\n",
              "    <tr>\n",
              "      <th>5910</th>\n",
              "      <td>28867</td>\n",
              "      <td>школа 775</td>\n",
              "      <td>нет</td>\n",
              "      <td>буфет</td>\n",
              "      <td>город Москва, Армавирская улица, дом 4</td>\n",
              "      <td>210</td>\n",
              "    </tr>\n",
              "    <tr>\n",
              "      <th>10541</th>\n",
              "      <td>187743</td>\n",
              "      <td>24 Градуса</td>\n",
              "      <td>нет</td>\n",
              "      <td>бар</td>\n",
              "      <td>город Москва, Митинская улица, дом 36</td>\n",
              "      <td>4</td>\n",
              "    </tr>\n",
              "    <tr>\n",
              "      <th>14563</th>\n",
              "      <td>217236</td>\n",
              "      <td>Чайхана ОШ</td>\n",
              "      <td>нет</td>\n",
              "      <td>ресторан</td>\n",
              "      <td>город Москва, проспект Андропова, дом 36</td>\n",
              "      <td>49</td>\n",
              "    </tr>\n",
              "    <tr>\n",
              "      <th>10497</th>\n",
              "      <td>182718</td>\n",
              "      <td>ABC Coffee Roasters</td>\n",
              "      <td>нет</td>\n",
              "      <td>кафе</td>\n",
              "      <td>город Москва, улица Покровка, дом 7/9-11, корп...</td>\n",
              "      <td>15</td>\n",
              "    </tr>\n",
              "    <tr>\n",
              "      <th>7708</th>\n",
              "      <td>111069</td>\n",
              "      <td>Кафе Иль Патио «Il Patio»</td>\n",
              "      <td>да</td>\n",
              "      <td>кафе</td>\n",
              "      <td>город Москва, Каширское шоссе, дом 26</td>\n",
              "      <td>176</td>\n",
              "    </tr>\n",
              "  </tbody>\n",
              "</table>\n",
              "</div>"
            ],
            "text/plain": [
              "           id  ... number\n",
              "2973    22736  ...     40\n",
              "2593    29065  ...    300\n",
              "6737    23349  ...    240\n",
              "14940  222539  ...      0\n",
              "4088    26585  ...     42\n",
              "5910    28867  ...    210\n",
              "10541  187743  ...      4\n",
              "14563  217236  ...     49\n",
              "10497  182718  ...     15\n",
              "7708   111069  ...    176\n",
              "\n",
              "[10 rows x 6 columns]"
            ]
          },
          "metadata": {
            "tags": []
          },
          "execution_count": 3
        }
      ]
    },
    {
      "cell_type": "code",
      "metadata": {
        "colab": {
          "base_uri": "https://localhost:8080/"
        },
        "id": "uCUkbryPDdl4",
        "outputId": "cd11f177-1a44-4d70-d559-999381265098"
      },
      "source": [
        "#изучим базовую информацию по датафрейму\n",
        "df.info()"
      ],
      "execution_count": 4,
      "outputs": [
        {
          "output_type": "stream",
          "text": [
            "<class 'pandas.core.frame.DataFrame'>\n",
            "RangeIndex: 15366 entries, 0 to 15365\n",
            "Data columns (total 6 columns):\n",
            " #   Column       Non-Null Count  Dtype \n",
            "---  ------       --------------  ----- \n",
            " 0   id           15366 non-null  int64 \n",
            " 1   object_name  15366 non-null  object\n",
            " 2   chain        15366 non-null  object\n",
            " 3   object_type  15366 non-null  object\n",
            " 4   address      15366 non-null  object\n",
            " 5   number       15366 non-null  int64 \n",
            "dtypes: int64(2), object(4)\n",
            "memory usage: 720.4+ KB\n"
          ],
          "name": "stdout"
        }
      ]
    },
    {
      "cell_type": "code",
      "metadata": {
        "colab": {
          "base_uri": "https://localhost:8080/"
        },
        "id": "uMHF6b2kDdl4",
        "outputId": "9810b085-9c65-47a5-a7df-b06fd59f982f"
      },
      "source": [
        "#найдем дубли в датафрейме\n",
        "df.duplicated().sum()"
      ],
      "execution_count": 5,
      "outputs": [
        {
          "output_type": "execute_result",
          "data": {
            "text/plain": [
              "0"
            ]
          },
          "metadata": {
            "tags": []
          },
          "execution_count": 5
        }
      ]
    },
    {
      "cell_type": "code",
      "metadata": {
        "colab": {
          "base_uri": "https://localhost:8080/"
        },
        "id": "tq0exAEKDdl5",
        "outputId": "89126386-1c00-452a-bd2e-5906f0921a29"
      },
      "source": [
        "#найдем дубликаты в столбце id\n",
        "df['id'].duplicated().sum()"
      ],
      "execution_count": 6,
      "outputs": [
        {
          "output_type": "execute_result",
          "data": {
            "text/plain": [
              "0"
            ]
          },
          "metadata": {
            "tags": []
          },
          "execution_count": 6
        }
      ]
    },
    {
      "cell_type": "code",
      "metadata": {
        "colab": {
          "base_uri": "https://localhost:8080/"
        },
        "id": "JQEvZi3TDdl5",
        "outputId": "6d8f452a-42b2-4855-cc5a-6830d5a6bedb"
      },
      "source": [
        "#изучим столбец с адресами\n",
        "df['address'].value_counts().head(20)"
      ],
      "execution_count": 7,
      "outputs": [
        {
          "output_type": "execute_result",
          "data": {
            "text/plain": [
              "город Москва, Ходынский бульвар, дом 4                                       95\n",
              "город Москва, Пресненская набережная, дом 2                                  63\n",
              "город Москва, проспект Мира, дом 211, корпус 2                               60\n",
              "город Москва, Кировоградская улица, дом 13А                                  53\n",
              "город Москва, площадь Киевского Вокзала, дом 2                               48\n",
              "город Москва, улица Земляной Вал, дом 33                                     46\n",
              "город Москва, Мытная улица, дом 74                                           46\n",
              "город Москва, улица Новый Арбат, дом 21                                      42\n",
              "город Москва, улица Ленинская Слобода, дом 26                                41\n",
              "город Москва, Кутузовский проспект, дом 57                                   40\n",
              "город Москва, Ярцевская улица, дом 19                                        40\n",
              "город Москва, поселение Сосенское, Калужское шоссе, 22-й километр, дом 10    38\n",
              "город Москва, Манежная площадь, дом 1, строение 2                            38\n",
              "город Москва, Нижняя Красносельская улица, дом 35, строение 59               38\n",
              "город Москва, Открытое шоссе, дом 9, строение 14А                            37\n",
              "город Москва, Автозаводская улица, дом 18                                    35\n",
              "город Москва, Хорошёвское шоссе, дом 27                                      35\n",
              "город Москва, Ленинградское шоссе, дом 16А, строение 4                       34\n",
              "город Москва, Театральный проезд, дом 5, строение 1                          34\n",
              "город Москва, улица Маросейка, дом 4/2, строение 1                           34\n",
              "Name: address, dtype: int64"
            ]
          },
          "metadata": {
            "tags": []
          },
          "execution_count": 7
        }
      ]
    },
    {
      "cell_type": "code",
      "metadata": {
        "colab": {
          "base_uri": "https://localhost:8080/"
        },
        "id": "gYc00a5xDdl6",
        "outputId": "aff85d8a-3234-4999-eafa-db55fec0a67a"
      },
      "source": [
        "#найдем кол-во дублирубщихся адресов\n",
        "df['address'].duplicated().sum()"
      ],
      "execution_count": 8,
      "outputs": [
        {
          "output_type": "execute_result",
          "data": {
            "text/plain": [
              "6258"
            ]
          },
          "metadata": {
            "tags": []
          },
          "execution_count": 8
        }
      ]
    },
    {
      "cell_type": "code",
      "metadata": {
        "colab": {
          "base_uri": "https://localhost:8080/"
        },
        "id": "bUe-YPmaDdl6",
        "outputId": "e7e4da9b-ef5e-4237-cd0d-bdaafd73b2cd"
      },
      "source": [
        "#рассмотрим заведения по брендам\n",
        "df['object_name'].value_counts().head(20)"
      ],
      "execution_count": 9,
      "outputs": [
        {
          "output_type": "execute_result",
          "data": {
            "text/plain": [
              "Столовая                    267\n",
              "Кафе                        236\n",
              "Шаурма                      234\n",
              "KFC                         155\n",
              "Шоколадница                 142\n",
              "Бургер Кинг                 122\n",
              "Макдоналдс                  122\n",
              "Домино'с Пицца               86\n",
              "Теремок                      84\n",
              "Крошка Картошка              82\n",
              "Пекарня                      76\n",
              "Милти                        65\n",
              "Суши Wok                     61\n",
              "Буфет                        59\n",
              "СТОЛОВАЯ                     52\n",
              "Папа Джонс                   50\n",
              "Школьно-базовая столовая     44\n",
              "Кофе с собой                 44\n",
              "Чайхона №1                   42\n",
              "КАФЕ                         41\n",
              "Name: object_name, dtype: int64"
            ]
          },
          "metadata": {
            "tags": []
          },
          "execution_count": 9
        }
      ]
    },
    {
      "cell_type": "code",
      "metadata": {
        "colab": {
          "base_uri": "https://localhost:8080/"
        },
        "id": "7zvbm1wADdl6",
        "outputId": "33e9f284-be20-4766-8b2d-c0aef7ddc08f"
      },
      "source": [
        "#проверим на наличие аномалий данные в столбце\n",
        "df['chain'].value_counts()"
      ],
      "execution_count": 10,
      "outputs": [
        {
          "output_type": "execute_result",
          "data": {
            "text/plain": [
              "нет    12398\n",
              "да      2968\n",
              "Name: chain, dtype: int64"
            ]
          },
          "metadata": {
            "tags": []
          },
          "execution_count": 10
        }
      ]
    },
    {
      "cell_type": "code",
      "metadata": {
        "colab": {
          "base_uri": "https://localhost:8080/"
        },
        "id": "3tNOcyz7Ddl7",
        "outputId": "0a38dc5e-35ca-458d-906f-5959b8e51a8c"
      },
      "source": [
        "#проверим типы заведений на уникальность\n",
        "df['object_type'].value_counts()"
      ],
      "execution_count": 11,
      "outputs": [
        {
          "output_type": "execute_result",
          "data": {
            "text/plain": [
              "кафе                                 6099\n",
              "столовая                             2587\n",
              "ресторан                             2285\n",
              "предприятие быстрого обслуживания    1923\n",
              "бар                                   856\n",
              "буфет                                 585\n",
              "кафетерий                             398\n",
              "закусочная                            360\n",
              "магазин (отдел кулинарии)             273\n",
              "Name: object_type, dtype: int64"
            ]
          },
          "metadata": {
            "tags": []
          },
          "execution_count": 11
        }
      ]
    },
    {
      "cell_type": "code",
      "metadata": {
        "colab": {
          "base_uri": "https://localhost:8080/"
        },
        "id": "Kvl-wdnDDdl7",
        "outputId": "60c33180-94ec-46e6-8829-0c1172a4d690"
      },
      "source": [
        "df.duplicated(subset=['object_name', 'chain','object_type','address','number']).sum()"
      ],
      "execution_count": 12,
      "outputs": [
        {
          "output_type": "execute_result",
          "data": {
            "text/plain": [
              "82"
            ]
          },
          "metadata": {
            "tags": []
          },
          "execution_count": 12
        }
      ]
    },
    {
      "cell_type": "code",
      "metadata": {
        "id": "JgoJ6BISDdl7"
      },
      "source": [
        "df = df.drop_duplicates(subset=['object_name', 'chain','object_type','address','number'])"
      ],
      "execution_count": 13,
      "outputs": []
    },
    {
      "cell_type": "code",
      "metadata": {
        "colab": {
          "base_uri": "https://localhost:8080/",
          "height": 419
        },
        "id": "PnBsOo8TDdl8",
        "outputId": "3ddd1ccd-6ba8-4c4a-c1bc-6b5dbf1025a4"
      },
      "source": [
        "df"
      ],
      "execution_count": 14,
      "outputs": [
        {
          "output_type": "execute_result",
          "data": {
            "text/html": [
              "<div>\n",
              "<style scoped>\n",
              "    .dataframe tbody tr th:only-of-type {\n",
              "        vertical-align: middle;\n",
              "    }\n",
              "\n",
              "    .dataframe tbody tr th {\n",
              "        vertical-align: top;\n",
              "    }\n",
              "\n",
              "    .dataframe thead th {\n",
              "        text-align: right;\n",
              "    }\n",
              "</style>\n",
              "<table border=\"1\" class=\"dataframe\">\n",
              "  <thead>\n",
              "    <tr style=\"text-align: right;\">\n",
              "      <th></th>\n",
              "      <th>id</th>\n",
              "      <th>object_name</th>\n",
              "      <th>chain</th>\n",
              "      <th>object_type</th>\n",
              "      <th>address</th>\n",
              "      <th>number</th>\n",
              "    </tr>\n",
              "  </thead>\n",
              "  <tbody>\n",
              "    <tr>\n",
              "      <th>0</th>\n",
              "      <td>151635</td>\n",
              "      <td>СМЕТАНА</td>\n",
              "      <td>нет</td>\n",
              "      <td>кафе</td>\n",
              "      <td>город Москва, улица Егора Абакумова, дом 9</td>\n",
              "      <td>48</td>\n",
              "    </tr>\n",
              "    <tr>\n",
              "      <th>1</th>\n",
              "      <td>77874</td>\n",
              "      <td>Родник</td>\n",
              "      <td>нет</td>\n",
              "      <td>кафе</td>\n",
              "      <td>город Москва, улица Талалихина, дом 2/1, корпус 1</td>\n",
              "      <td>35</td>\n",
              "    </tr>\n",
              "    <tr>\n",
              "      <th>2</th>\n",
              "      <td>24309</td>\n",
              "      <td>Кафе «Академия»</td>\n",
              "      <td>нет</td>\n",
              "      <td>кафе</td>\n",
              "      <td>город Москва, Абельмановская улица, дом 6</td>\n",
              "      <td>95</td>\n",
              "    </tr>\n",
              "    <tr>\n",
              "      <th>3</th>\n",
              "      <td>21894</td>\n",
              "      <td>ПИЦЦЕТОРИЯ</td>\n",
              "      <td>да</td>\n",
              "      <td>кафе</td>\n",
              "      <td>город Москва, Абрамцевская улица, дом 1</td>\n",
              "      <td>40</td>\n",
              "    </tr>\n",
              "    <tr>\n",
              "      <th>4</th>\n",
              "      <td>119365</td>\n",
              "      <td>Кафе «Вишневая метель»</td>\n",
              "      <td>нет</td>\n",
              "      <td>кафе</td>\n",
              "      <td>город Москва, Абрамцевская улица, дом 9, корпус 1</td>\n",
              "      <td>50</td>\n",
              "    </tr>\n",
              "    <tr>\n",
              "      <th>...</th>\n",
              "      <td>...</td>\n",
              "      <td>...</td>\n",
              "      <td>...</td>\n",
              "      <td>...</td>\n",
              "      <td>...</td>\n",
              "      <td>...</td>\n",
              "    </tr>\n",
              "    <tr>\n",
              "      <th>15361</th>\n",
              "      <td>208537</td>\n",
              "      <td>Шоколадница</td>\n",
              "      <td>да</td>\n",
              "      <td>кафе</td>\n",
              "      <td>город Москва, 3-й Крутицкий переулок, дом 18</td>\n",
              "      <td>50</td>\n",
              "    </tr>\n",
              "    <tr>\n",
              "      <th>15362</th>\n",
              "      <td>209264</td>\n",
              "      <td>Шоколадница</td>\n",
              "      <td>да</td>\n",
              "      <td>кафе</td>\n",
              "      <td>город Москва, улица Земляной Вал, дом 33</td>\n",
              "      <td>10</td>\n",
              "    </tr>\n",
              "    <tr>\n",
              "      <th>15363</th>\n",
              "      <td>209186</td>\n",
              "      <td>Шоколадница</td>\n",
              "      <td>да</td>\n",
              "      <td>кафе</td>\n",
              "      <td>город Москва, улица Земляной Вал, дом 33</td>\n",
              "      <td>20</td>\n",
              "    </tr>\n",
              "    <tr>\n",
              "      <th>15364</th>\n",
              "      <td>221900</td>\n",
              "      <td>Шоколадница</td>\n",
              "      <td>да</td>\n",
              "      <td>кафе</td>\n",
              "      <td>город Москва, поселение Московский, Киевское ш...</td>\n",
              "      <td>36</td>\n",
              "    </tr>\n",
              "    <tr>\n",
              "      <th>15365</th>\n",
              "      <td>222535</td>\n",
              "      <td>Шоколадница</td>\n",
              "      <td>да</td>\n",
              "      <td>кафе</td>\n",
              "      <td>город Москва, Ходынский бульвар, дом 4</td>\n",
              "      <td>10</td>\n",
              "    </tr>\n",
              "  </tbody>\n",
              "</table>\n",
              "<p>15284 rows × 6 columns</p>\n",
              "</div>"
            ],
            "text/plain": [
              "           id  ... number\n",
              "0      151635  ...     48\n",
              "1       77874  ...     35\n",
              "2       24309  ...     95\n",
              "3       21894  ...     40\n",
              "4      119365  ...     50\n",
              "...       ...  ...    ...\n",
              "15361  208537  ...     50\n",
              "15362  209264  ...     10\n",
              "15363  209186  ...     20\n",
              "15364  221900  ...     36\n",
              "15365  222535  ...     10\n",
              "\n",
              "[15284 rows x 6 columns]"
            ]
          },
          "metadata": {
            "tags": []
          },
          "execution_count": 14
        }
      ]
    },
    {
      "cell_type": "markdown",
      "metadata": {
        "id": "d9UIBuquDdl9"
      },
      "source": [
        "##### Первичные выводы:\n",
        "1. В исследовании представлены 15284 уникальных московских заведения;\n",
        "2. Заведения могут быть как сетевыми, так и иметь всего 1 точку по городу;  \n",
        "3. По одному адресу может располагаться множество заведений, яркий пример Ходынский бульвар, дом 4, где представлено 95 точек общественного питания. Всего же в исследовании встречается 6258 заведений, которые соседствуют в одном здании с другими заведениями общепита;  \n",
        "4. В датафрейме предсталено 82 дубликата, то есть одно и тоже заведение имеет разное ID, их мы не будем учитывать в дальнейшем; \n",
        "5. К каждому ресторану относится один из 10 типов: от \"кафе\" до \"магазин (отдел кулинарии)\", далее изучим их более детально."
      ]
    },
    {
      "cell_type": "markdown",
      "metadata": {
        "id": "qlUYFLPoDdmA"
      },
      "source": [
        "### Анализ данных"
      ]
    },
    {
      "cell_type": "markdown",
      "metadata": {
        "id": "SoRnGpgrDdmA"
      },
      "source": [
        "#### Исследуем соотношение видов объектов общественного питания по количеству"
      ]
    },
    {
      "cell_type": "code",
      "metadata": {
        "colab": {
          "base_uri": "https://localhost:8080/",
          "height": 328
        },
        "id": "S6DwDzPCDdmB",
        "outputId": "e889085c-431c-41db-bd34-4be6a743d5ff"
      },
      "source": [
        "df_ot = df.pivot_table(index='object_type',values='id',aggfunc='count').reset_index().sort_values(by='id',ascending=False)\n",
        "df_ot"
      ],
      "execution_count": 15,
      "outputs": [
        {
          "output_type": "execute_result",
          "data": {
            "text/html": [
              "<div>\n",
              "<style scoped>\n",
              "    .dataframe tbody tr th:only-of-type {\n",
              "        vertical-align: middle;\n",
              "    }\n",
              "\n",
              "    .dataframe tbody tr th {\n",
              "        vertical-align: top;\n",
              "    }\n",
              "\n",
              "    .dataframe thead th {\n",
              "        text-align: right;\n",
              "    }\n",
              "</style>\n",
              "<table border=\"1\" class=\"dataframe\">\n",
              "  <thead>\n",
              "    <tr style=\"text-align: right;\">\n",
              "      <th></th>\n",
              "      <th>object_type</th>\n",
              "      <th>id</th>\n",
              "    </tr>\n",
              "  </thead>\n",
              "  <tbody>\n",
              "    <tr>\n",
              "      <th>3</th>\n",
              "      <td>кафе</td>\n",
              "      <td>6071</td>\n",
              "    </tr>\n",
              "    <tr>\n",
              "      <th>8</th>\n",
              "      <td>столовая</td>\n",
              "      <td>2584</td>\n",
              "    </tr>\n",
              "    <tr>\n",
              "      <th>7</th>\n",
              "      <td>ресторан</td>\n",
              "      <td>2282</td>\n",
              "    </tr>\n",
              "    <tr>\n",
              "      <th>6</th>\n",
              "      <td>предприятие быстрого обслуживания</td>\n",
              "      <td>1898</td>\n",
              "    </tr>\n",
              "    <tr>\n",
              "      <th>0</th>\n",
              "      <td>бар</td>\n",
              "      <td>855</td>\n",
              "    </tr>\n",
              "    <tr>\n",
              "      <th>1</th>\n",
              "      <td>буфет</td>\n",
              "      <td>577</td>\n",
              "    </tr>\n",
              "    <tr>\n",
              "      <th>4</th>\n",
              "      <td>кафетерий</td>\n",
              "      <td>395</td>\n",
              "    </tr>\n",
              "    <tr>\n",
              "      <th>2</th>\n",
              "      <td>закусочная</td>\n",
              "      <td>349</td>\n",
              "    </tr>\n",
              "    <tr>\n",
              "      <th>5</th>\n",
              "      <td>магазин (отдел кулинарии)</td>\n",
              "      <td>273</td>\n",
              "    </tr>\n",
              "  </tbody>\n",
              "</table>\n",
              "</div>"
            ],
            "text/plain": [
              "                         object_type    id\n",
              "3                               кафе  6071\n",
              "8                           столовая  2584\n",
              "7                           ресторан  2282\n",
              "6  предприятие быстрого обслуживания  1898\n",
              "0                                бар   855\n",
              "1                              буфет   577\n",
              "4                          кафетерий   395\n",
              "2                         закусочная   349\n",
              "5          магазин (отдел кулинарии)   273"
            ]
          },
          "metadata": {
            "tags": []
          },
          "execution_count": 15
        }
      ]
    },
    {
      "cell_type": "code",
      "metadata": {
        "colab": {
          "base_uri": "https://localhost:8080/",
          "height": 601
        },
        "id": "r075p-z0DdmB",
        "outputId": "9e8ac704-475b-4a65-aa5a-2722b9d0eea7"
      },
      "source": [
        "#впосльзуемся бибилотекой seaborn и создадим график, увеличим его размер и записи на стороне x поставим под углом\n",
        "plt.figure(figsize=(14, 7)) \n",
        "ax = sns.barplot(x = 'object_type', y='id',data=df_ot)\n",
        "ax.set_title('Кол-во заведений общественного питания в Москве по видам',fontsize=12)\n",
        "ax.set_xlabel('Вид объекта общественного питания',fontsize=12)\n",
        "ax.set_ylabel('Кол-во заведений',fontsize=12)\n",
        "ax.set_xticklabels(ax.get_xticklabels(),rotation=45)\n",
        "plt.show()"
      ],
      "execution_count": 16,
      "outputs": [
        {
          "output_type": "display_data",
          "data": {
            "image/png": "[encoded data removed]",
            "text/plain": [
              "<Figure size 1008x504 with 1 Axes>"
            ]
          },
          "metadata": {
            "tags": [],
            "needs_background": "light"
          }
        }
      ]
    },
    {
      "cell_type": "markdown",
      "metadata": {
        "id": "A6Y891juDdmB"
      },
      "source": [
        "##### Выводы:\n",
        "1. В Москве больше всего заведений общественного питания по типу \"Кафе\"(6071), что обусловлено высоким темпом жизни в городской среде и большим кол-вом туристов. В кафе можно относительно быстро пообедать по демократичным ценам и в красивой атмосфере;\n",
        "2. На втором месте \"Столовая\"(2584) и почти на том же уровне \"Ресторан\"(2282). Столовая пользуется такой поппулярностью, так как в городе много студентов, которым не по карману ежедневно ходить в кафе или рестораны. А вот обилие ресторанов обусловлено тем, что Москва-столица и крупный мегаполис, где хочется найти уединение в заведении с качественным сервисом и интересной кулинарией;\n",
        "3. На четвертом месте по поппулярности располагаются \"Предприятия быстрого обуслуживания\"(1898). Их распространенность обусловлена все теми же параметром, что и кафе - быстрый городкий ритм. В первом же значительно ниже средний чек;\n",
        "4. Все прочие типы: \"Бар\",\"буфет\",\"кафетерий\",\"закусочная\",\"магазин(отдел кулинарии)\" имет менее 1000 заведений в Москве."
      ]
    },
    {
      "cell_type": "markdown",
      "metadata": {
        "id": "rUveIgoyDdmC"
      },
      "source": [
        "#### Исследуем соотношение сетевых и несетевых заведений по количеству"
      ]
    },
    {
      "cell_type": "code",
      "metadata": {
        "colab": {
          "base_uri": "https://localhost:8080/",
          "height": 111
        },
        "id": "gwgVZsweDdmD",
        "outputId": "d1a612eb-f6fd-4f18-98ed-091a296525cd"
      },
      "source": [
        "#создадим сводную таблицу и переименуем столбцы для большей понятности\n",
        "df_c = df.pivot_table(index='chain',values='id',aggfunc='count').reset_index()\n",
        "df_c['chain'] = df_c['chain'].replace('да','сетевые')\n",
        "df_c['chain'] = df_c['chain'].replace('нет','уникальные')\n",
        "df_c"
      ],
      "execution_count": 17,
      "outputs": [
        {
          "output_type": "execute_result",
          "data": {
            "text/html": [
              "<div>\n",
              "<style scoped>\n",
              "    .dataframe tbody tr th:only-of-type {\n",
              "        vertical-align: middle;\n",
              "    }\n",
              "\n",
              "    .dataframe tbody tr th {\n",
              "        vertical-align: top;\n",
              "    }\n",
              "\n",
              "    .dataframe thead th {\n",
              "        text-align: right;\n",
              "    }\n",
              "</style>\n",
              "<table border=\"1\" class=\"dataframe\">\n",
              "  <thead>\n",
              "    <tr style=\"text-align: right;\">\n",
              "      <th></th>\n",
              "      <th>chain</th>\n",
              "      <th>id</th>\n",
              "    </tr>\n",
              "  </thead>\n",
              "  <tbody>\n",
              "    <tr>\n",
              "      <th>0</th>\n",
              "      <td>сетевые</td>\n",
              "      <td>2964</td>\n",
              "    </tr>\n",
              "    <tr>\n",
              "      <th>1</th>\n",
              "      <td>уникальные</td>\n",
              "      <td>12320</td>\n",
              "    </tr>\n",
              "  </tbody>\n",
              "</table>\n",
              "</div>"
            ],
            "text/plain": [
              "        chain     id\n",
              "0     сетевые   2964\n",
              "1  уникальные  12320"
            ]
          },
          "metadata": {
            "tags": []
          },
          "execution_count": 17
        }
      ]
    },
    {
      "cell_type": "code",
      "metadata": {
        "scrolled": true,
        "colab": {
          "base_uri": "https://localhost:8080/",
          "height": 298
        },
        "id": "1CUcXSvRDdmE",
        "outputId": "930e590a-9cc3-4d4d-a1b0-e72f8a00441d"
      },
      "source": [
        "ax = sns.barplot(x = 'chain', y='id',data=df_c)\n",
        "ax.set_title('Кол-во заведений общественного питания в Москве',fontsize=12)\n",
        "ax.set_xlabel('Тип заведения',fontsize=12)\n",
        "ax.set_ylabel('Кол-во заведений',fontsize=12)\n",
        "plt.show()"
      ],
      "execution_count": 18,
      "outputs": [
        {
          "output_type": "display_data",
          "data": {
            "image/png": "[encoded data removed]",
            "text/plain": [
              "<Figure size 432x288 with 1 Axes>"
            ]
          },
          "metadata": {
            "tags": [],
            "needs_background": "light"
          }
        }
      ]
    },
    {
      "cell_type": "markdown",
      "metadata": {
        "id": "Up24uh8gDdmE"
      },
      "source": [
        "##### Выводы:\n",
        "В Москве  12320 уникальных заведений общественного питания и 2964 точек относится к сетевым*.  \n",
        "  *Корректно посчитать кол-во сетей невозможно простыми методами,так как в датасете представители одной сети могут иметь разные имена, как например Макдональдс и Кафе \"Макдональдс\"; кроме того, это не ключевой вопрос исследования."
      ]
    },
    {
      "cell_type": "markdown",
      "metadata": {
        "id": "dqRHYlNfDdmF"
      },
      "source": [
        "#### Для какого вида объекта общественного питания характерно сетевое распространение?"
      ]
    },
    {
      "cell_type": "code",
      "metadata": {
        "colab": {
          "base_uri": "https://localhost:8080/",
          "height": 359
        },
        "id": "vF-SeKFnDdmF",
        "outputId": "6cda4619-cbf8-4a5f-a79b-5232a2c0b3ae"
      },
      "source": [
        "#создадим датафрейм аналогичный более раннему добавив в него рапределение по виду заведения\n",
        "df_co = df.pivot_table(index='object_type',columns = 'chain',values='id',aggfunc='count')\n",
        "df_co.columns = ['сетевые','уникальные']\n",
        "df_co"
      ],
      "execution_count": 19,
      "outputs": [
        {
          "output_type": "execute_result",
          "data": {
            "text/html": [
              "<div>\n",
              "<style scoped>\n",
              "    .dataframe tbody tr th:only-of-type {\n",
              "        vertical-align: middle;\n",
              "    }\n",
              "\n",
              "    .dataframe tbody tr th {\n",
              "        vertical-align: top;\n",
              "    }\n",
              "\n",
              "    .dataframe thead th {\n",
              "        text-align: right;\n",
              "    }\n",
              "</style>\n",
              "<table border=\"1\" class=\"dataframe\">\n",
              "  <thead>\n",
              "    <tr style=\"text-align: right;\">\n",
              "      <th></th>\n",
              "      <th>сетевые</th>\n",
              "      <th>уникальные</th>\n",
              "    </tr>\n",
              "    <tr>\n",
              "      <th>object_type</th>\n",
              "      <th></th>\n",
              "      <th></th>\n",
              "    </tr>\n",
              "  </thead>\n",
              "  <tbody>\n",
              "    <tr>\n",
              "      <th>бар</th>\n",
              "      <td>37</td>\n",
              "      <td>818</td>\n",
              "    </tr>\n",
              "    <tr>\n",
              "      <th>буфет</th>\n",
              "      <td>11</td>\n",
              "      <td>566</td>\n",
              "    </tr>\n",
              "    <tr>\n",
              "      <th>закусочная</th>\n",
              "      <td>56</td>\n",
              "      <td>293</td>\n",
              "    </tr>\n",
              "    <tr>\n",
              "      <th>кафе</th>\n",
              "      <td>1396</td>\n",
              "      <td>4675</td>\n",
              "    </tr>\n",
              "    <tr>\n",
              "      <th>кафетерий</th>\n",
              "      <td>52</td>\n",
              "      <td>343</td>\n",
              "    </tr>\n",
              "    <tr>\n",
              "      <th>магазин (отдел кулинарии)</th>\n",
              "      <td>78</td>\n",
              "      <td>195</td>\n",
              "    </tr>\n",
              "    <tr>\n",
              "      <th>предприятие быстрого обслуживания</th>\n",
              "      <td>788</td>\n",
              "      <td>1110</td>\n",
              "    </tr>\n",
              "    <tr>\n",
              "      <th>ресторан</th>\n",
              "      <td>543</td>\n",
              "      <td>1739</td>\n",
              "    </tr>\n",
              "    <tr>\n",
              "      <th>столовая</th>\n",
              "      <td>3</td>\n",
              "      <td>2581</td>\n",
              "    </tr>\n",
              "  </tbody>\n",
              "</table>\n",
              "</div>"
            ],
            "text/plain": [
              "                                   сетевые  уникальные\n",
              "object_type                                           \n",
              "бар                                     37         818\n",
              "буфет                                   11         566\n",
              "закусочная                              56         293\n",
              "кафе                                  1396        4675\n",
              "кафетерий                               52         343\n",
              "магазин (отдел кулинарии)               78         195\n",
              "предприятие быстрого обслуживания      788        1110\n",
              "ресторан                               543        1739\n",
              "столовая                                 3        2581"
            ]
          },
          "metadata": {
            "tags": []
          },
          "execution_count": 19
        }
      ]
    },
    {
      "cell_type": "code",
      "metadata": {
        "id": "L3wY4i22DdmF"
      },
      "source": [
        "df_co = df_co.reset_index()"
      ],
      "execution_count": 20,
      "outputs": []
    },
    {
      "cell_type": "code",
      "metadata": {
        "colab": {
          "base_uri": "https://localhost:8080/",
          "height": 601
        },
        "id": "VziP3Zf_DdmF",
        "outputId": "1e301ab5-d953-4519-ef47-b16a1199411f"
      },
      "source": [
        "plt.figure(figsize=(14, 7)) \n",
        "ax = sns.barplot(x = 'object_type', y='сетевые',data=df_co.sort_values(by='сетевые',ascending=False))\n",
        "ax.set_title('Кол-во сетевых заведений общественного питания в Москве по видам',fontsize=12)\n",
        "ax.set_xlabel('Вид объекта общественного питания',fontsize=12)\n",
        "ax.set_ylabel('Кол-во заведений',fontsize=12)\n",
        "ax.set_xticklabels(ax.get_xticklabels(),rotation=45)\n",
        "plt.show()"
      ],
      "execution_count": 21,
      "outputs": [
        {
          "output_type": "display_data",
          "data": {
            "image/png": "[encoded data removed]",
            "text/plain": [
              "<Figure size 1008x504 with 1 Axes>"
            ]
          },
          "metadata": {
            "tags": [],
            "needs_background": "light"
          }
        }
      ]
    },
    {
      "cell_type": "code",
      "metadata": {
        "colab": {
          "base_uri": "https://localhost:8080/",
          "height": 328
        },
        "id": "ggslOkf1DdmG",
        "outputId": "d7025bf1-1ec6-4dcd-c586-3081c1d65ea6"
      },
      "source": [
        "df_co['доля'] = (df_co['сетевые']/(df_co['сетевые']+df_co['уникальные'])) * 100\n",
        "df_co"
      ],
      "execution_count": 22,
      "outputs": [
        {
          "output_type": "execute_result",
          "data": {
            "text/html": [
              "<div>\n",
              "<style scoped>\n",
              "    .dataframe tbody tr th:only-of-type {\n",
              "        vertical-align: middle;\n",
              "    }\n",
              "\n",
              "    .dataframe tbody tr th {\n",
              "        vertical-align: top;\n",
              "    }\n",
              "\n",
              "    .dataframe thead th {\n",
              "        text-align: right;\n",
              "    }\n",
              "</style>\n",
              "<table border=\"1\" class=\"dataframe\">\n",
              "  <thead>\n",
              "    <tr style=\"text-align: right;\">\n",
              "      <th></th>\n",
              "      <th>object_type</th>\n",
              "      <th>сетевые</th>\n",
              "      <th>уникальные</th>\n",
              "      <th>доля</th>\n",
              "    </tr>\n",
              "  </thead>\n",
              "  <tbody>\n",
              "    <tr>\n",
              "      <th>0</th>\n",
              "      <td>бар</td>\n",
              "      <td>37</td>\n",
              "      <td>818</td>\n",
              "      <td>4.327485</td>\n",
              "    </tr>\n",
              "    <tr>\n",
              "      <th>1</th>\n",
              "      <td>буфет</td>\n",
              "      <td>11</td>\n",
              "      <td>566</td>\n",
              "      <td>1.906412</td>\n",
              "    </tr>\n",
              "    <tr>\n",
              "      <th>2</th>\n",
              "      <td>закусочная</td>\n",
              "      <td>56</td>\n",
              "      <td>293</td>\n",
              "      <td>16.045845</td>\n",
              "    </tr>\n",
              "    <tr>\n",
              "      <th>3</th>\n",
              "      <td>кафе</td>\n",
              "      <td>1396</td>\n",
              "      <td>4675</td>\n",
              "      <td>22.994564</td>\n",
              "    </tr>\n",
              "    <tr>\n",
              "      <th>4</th>\n",
              "      <td>кафетерий</td>\n",
              "      <td>52</td>\n",
              "      <td>343</td>\n",
              "      <td>13.164557</td>\n",
              "    </tr>\n",
              "    <tr>\n",
              "      <th>5</th>\n",
              "      <td>магазин (отдел кулинарии)</td>\n",
              "      <td>78</td>\n",
              "      <td>195</td>\n",
              "      <td>28.571429</td>\n",
              "    </tr>\n",
              "    <tr>\n",
              "      <th>6</th>\n",
              "      <td>предприятие быстрого обслуживания</td>\n",
              "      <td>788</td>\n",
              "      <td>1110</td>\n",
              "      <td>41.517387</td>\n",
              "    </tr>\n",
              "    <tr>\n",
              "      <th>7</th>\n",
              "      <td>ресторан</td>\n",
              "      <td>543</td>\n",
              "      <td>1739</td>\n",
              "      <td>23.794917</td>\n",
              "    </tr>\n",
              "    <tr>\n",
              "      <th>8</th>\n",
              "      <td>столовая</td>\n",
              "      <td>3</td>\n",
              "      <td>2581</td>\n",
              "      <td>0.116099</td>\n",
              "    </tr>\n",
              "  </tbody>\n",
              "</table>\n",
              "</div>"
            ],
            "text/plain": [
              "                         object_type  сетевые  уникальные       доля\n",
              "0                                бар       37         818   4.327485\n",
              "1                              буфет       11         566   1.906412\n",
              "2                         закусочная       56         293  16.045845\n",
              "3                               кафе     1396        4675  22.994564\n",
              "4                          кафетерий       52         343  13.164557\n",
              "5          магазин (отдел кулинарии)       78         195  28.571429\n",
              "6  предприятие быстрого обслуживания      788        1110  41.517387\n",
              "7                           ресторан      543        1739  23.794917\n",
              "8                           столовая        3        2581   0.116099"
            ]
          },
          "metadata": {
            "tags": []
          },
          "execution_count": 22
        }
      ]
    },
    {
      "cell_type": "code",
      "metadata": {
        "colab": {
          "base_uri": "https://localhost:8080/",
          "height": 486
        },
        "id": "zZ0pIF2iDdmG",
        "outputId": "14f298bd-78ff-4fe6-f60c-a842f8de2218"
      },
      "source": [
        "df_co[['object_type','доля']].sort_values(by='доля',ascending=False).plot(kind = 'bar',x='object_type')\n",
        "plt.title('Доля сетевых заведений от всей категории')\n",
        "plt.ylabel('Доля вида заведения') \n",
        "plt.xlabel('Вид объекта общественного питания')\n",
        "plt.show()"
      ],
      "execution_count": 23,
      "outputs": [
        {
          "output_type": "display_data",
          "data": {
            "image/png": "[encoded data removed]",
            "text/plain": [
              "<Figure size 432x288 with 1 Axes>"
            ]
          },
          "metadata": {
            "tags": [],
            "needs_background": "light"
          }
        }
      ]
    },
    {
      "cell_type": "code",
      "metadata": {
        "id": "Bad3CXHeDdmG"
      },
      "source": [
        "#посчитаем долю сетевых заведений относительно их общего кол-ва и отфильтруем таблицу по новому столбцу\n",
        "df_co['доля_сетевых_заведений'] = (df_co['сетевые']/df_co['сетевые'].sum())"
      ],
      "execution_count": 24,
      "outputs": []
    },
    {
      "cell_type": "code",
      "metadata": {
        "id": "jSf65JIJDdmI"
      },
      "source": [
        "df_co = df_co.sort_values(by='доля_сетевых_заведений',ascending=False)"
      ],
      "execution_count": 25,
      "outputs": []
    },
    {
      "cell_type": "code",
      "metadata": {
        "colab": {
          "base_uri": "https://localhost:8080/",
          "height": 328
        },
        "id": "Ldr4xUp2DdmI",
        "outputId": "2fb57d00-77d1-4a57-b11b-539ff439948d"
      },
      "source": [
        "df_co"
      ],
      "execution_count": 26,
      "outputs": [
        {
          "output_type": "execute_result",
          "data": {
            "text/html": [
              "<div>\n",
              "<style scoped>\n",
              "    .dataframe tbody tr th:only-of-type {\n",
              "        vertical-align: middle;\n",
              "    }\n",
              "\n",
              "    .dataframe tbody tr th {\n",
              "        vertical-align: top;\n",
              "    }\n",
              "\n",
              "    .dataframe thead th {\n",
              "        text-align: right;\n",
              "    }\n",
              "</style>\n",
              "<table border=\"1\" class=\"dataframe\">\n",
              "  <thead>\n",
              "    <tr style=\"text-align: right;\">\n",
              "      <th></th>\n",
              "      <th>object_type</th>\n",
              "      <th>сетевые</th>\n",
              "      <th>уникальные</th>\n",
              "      <th>доля</th>\n",
              "      <th>доля_сетевых_заведений</th>\n",
              "    </tr>\n",
              "  </thead>\n",
              "  <tbody>\n",
              "    <tr>\n",
              "      <th>3</th>\n",
              "      <td>кафе</td>\n",
              "      <td>1396</td>\n",
              "      <td>4675</td>\n",
              "      <td>22.994564</td>\n",
              "      <td>0.470985</td>\n",
              "    </tr>\n",
              "    <tr>\n",
              "      <th>6</th>\n",
              "      <td>предприятие быстрого обслуживания</td>\n",
              "      <td>788</td>\n",
              "      <td>1110</td>\n",
              "      <td>41.517387</td>\n",
              "      <td>0.265857</td>\n",
              "    </tr>\n",
              "    <tr>\n",
              "      <th>7</th>\n",
              "      <td>ресторан</td>\n",
              "      <td>543</td>\n",
              "      <td>1739</td>\n",
              "      <td>23.794917</td>\n",
              "      <td>0.183198</td>\n",
              "    </tr>\n",
              "    <tr>\n",
              "      <th>5</th>\n",
              "      <td>магазин (отдел кулинарии)</td>\n",
              "      <td>78</td>\n",
              "      <td>195</td>\n",
              "      <td>28.571429</td>\n",
              "      <td>0.026316</td>\n",
              "    </tr>\n",
              "    <tr>\n",
              "      <th>2</th>\n",
              "      <td>закусочная</td>\n",
              "      <td>56</td>\n",
              "      <td>293</td>\n",
              "      <td>16.045845</td>\n",
              "      <td>0.018893</td>\n",
              "    </tr>\n",
              "    <tr>\n",
              "      <th>4</th>\n",
              "      <td>кафетерий</td>\n",
              "      <td>52</td>\n",
              "      <td>343</td>\n",
              "      <td>13.164557</td>\n",
              "      <td>0.017544</td>\n",
              "    </tr>\n",
              "    <tr>\n",
              "      <th>0</th>\n",
              "      <td>бар</td>\n",
              "      <td>37</td>\n",
              "      <td>818</td>\n",
              "      <td>4.327485</td>\n",
              "      <td>0.012483</td>\n",
              "    </tr>\n",
              "    <tr>\n",
              "      <th>1</th>\n",
              "      <td>буфет</td>\n",
              "      <td>11</td>\n",
              "      <td>566</td>\n",
              "      <td>1.906412</td>\n",
              "      <td>0.003711</td>\n",
              "    </tr>\n",
              "    <tr>\n",
              "      <th>8</th>\n",
              "      <td>столовая</td>\n",
              "      <td>3</td>\n",
              "      <td>2581</td>\n",
              "      <td>0.116099</td>\n",
              "      <td>0.001012</td>\n",
              "    </tr>\n",
              "  </tbody>\n",
              "</table>\n",
              "</div>"
            ],
            "text/plain": [
              "                         object_type  ...  доля_сетевых_заведений\n",
              "3                               кафе  ...                0.470985\n",
              "6  предприятие быстрого обслуживания  ...                0.265857\n",
              "7                           ресторан  ...                0.183198\n",
              "5          магазин (отдел кулинарии)  ...                0.026316\n",
              "2                         закусочная  ...                0.018893\n",
              "4                          кафетерий  ...                0.017544\n",
              "0                                бар  ...                0.012483\n",
              "1                              буфет  ...                0.003711\n",
              "8                           столовая  ...                0.001012\n",
              "\n",
              "[9 rows x 5 columns]"
            ]
          },
          "metadata": {
            "tags": []
          },
          "execution_count": 26
        }
      ]
    },
    {
      "cell_type": "code",
      "metadata": {
        "scrolled": false,
        "colab": {
          "base_uri": "https://localhost:8080/",
          "height": 482
        },
        "id": "VOqueGCGDdmI",
        "outputId": "6baa5d29-3d50-4a08-ef73-dcb9cf454f05"
      },
      "source": [
        "vals = df_co['доля_сетевых_заведений'].round(3)\n",
        "labels = df_co['object_type']\n",
        "explode = (0.05, 0.05, 0.05, 0.05, 0.05, 0.05, 0.05, 0.05, 0.05)\n",
        "fig, ax = plt.subplots(figsize=(8, 8))\n",
        "ax.pie(vals, labels=labels, autopct='%1.1f%%', explode=explode)\n",
        "ax.set_title('Распределение сетевых заведений по видам',fontsize=12)\n",
        "plt.show()"
      ],
      "execution_count": 27,
      "outputs": [
        {
          "output_type": "display_data",
          "data": {
            "image/png": "[encoded data removed]",
            "text/plain": [
              "<Figure size 576x576 with 1 Axes>"
            ]
          },
          "metadata": {
            "tags": []
          }
        }
      ]
    },
    {
      "cell_type": "markdown",
      "metadata": {
        "id": "8DD7x7YyDdmJ"
      },
      "source": [
        "##### Выводы:  \n",
        "1. В количестве в Москве больше всего сетевых \"кафе\" (1396), на втором месте с большим отрывом \"предприятия быстрого обсуживания\" (788), на третьем сетевые \"рестораны\" (543). Прочие заведения имеют меньше 80 точек по городу;\n",
        "2. Внутри группы сетевых заведений следующее распределение: 47.1% всех заведений - \"предприятия быстрого обслуживания\", 26.6% - \"магазины(отдел кулинарии)\",18.3% - \"рестораны\", прочие заведения занимают долю меньше 3% каждый."
      ]
    },
    {
      "cell_type": "markdown",
      "metadata": {
        "id": "XlTs1TIoDdmJ"
      },
      "source": [
        "#### Что характерно для сетевых заведений: много заведений с небольшим числом посадочных мест в каждом или мало заведений с большим количеством посадочных мест?"
      ]
    },
    {
      "cell_type": "code",
      "metadata": {
        "colab": {
          "base_uri": "https://localhost:8080/",
          "height": 282
        },
        "id": "qX51wSjKDdmK",
        "outputId": "c8f04072-3409-4f52-8381-dfb04f812edd"
      },
      "source": [
        "#изучим распределение посадочных мест в сетевых заведениях с целью принятия решение об использовании среднего/медианы\n",
        "df.query('chain == \"да\"')['number'].hist()"
      ],
      "execution_count": 28,
      "outputs": [
        {
          "output_type": "execute_result",
          "data": {
            "text/plain": [
              "<matplotlib.axes._subplots.AxesSubplot at 0x7f3ce890fd90>"
            ]
          },
          "metadata": {
            "tags": []
          },
          "execution_count": 28
        },
        {
          "output_type": "display_data",
          "data": {
            "image/png": "[encoded data removed]",
            "text/plain": [
              "<Figure size 432x288 with 1 Axes>"
            ]
          },
          "metadata": {
            "tags": [],
            "needs_background": "light"
          }
        }
      ]
    },
    {
      "cell_type": "code",
      "metadata": {
        "id": "BxWaldAfDdmK"
      },
      "source": [
        "#найдем среди сетевых заведений их кол-во и медианное кол-во посадочных мест, так как распределение далеко от нормального\n",
        "df_on = df.query('chain == \"да\"').pivot_table(index=['object_name'],values='number',aggfunc=['count','median'])\n",
        "df_on.columns = ['count','number_of_seats']"
      ],
      "execution_count": 29,
      "outputs": []
    },
    {
      "cell_type": "code",
      "metadata": {
        "colab": {
          "base_uri": "https://localhost:8080/",
          "height": 282
        },
        "id": "EKA_DOrFDdmK",
        "outputId": "d1f31160-50ee-4e35-8509-e2a662c981ca"
      },
      "source": [
        "#определим кол-во заведений с одним названием \n",
        "df_on['count'].hist()"
      ],
      "execution_count": 30,
      "outputs": [
        {
          "output_type": "execute_result",
          "data": {
            "text/plain": [
              "<matplotlib.axes._subplots.AxesSubplot at 0x7f3ce8aadf90>"
            ]
          },
          "metadata": {
            "tags": []
          },
          "execution_count": 30
        },
        {
          "output_type": "display_data",
          "data": {
            "image/png": "[encoded data removed]",
            "text/plain": [
              "<Figure size 432x288 with 1 Axes>"
            ]
          },
          "metadata": {
            "tags": [],
            "needs_background": "light"
          }
        }
      ]
    },
    {
      "cell_type": "code",
      "metadata": {
        "colab": {
          "base_uri": "https://localhost:8080/",
          "height": 282
        },
        "id": "VUlOgcqSDdmK",
        "outputId": "feffcf94-83a5-4cf6-ea98-d5ba0c5a7909"
      },
      "source": [
        "#определим кол-во посадочных мест в заведениях с одним названием\n",
        "df_on['number_of_seats'].hist()"
      ],
      "execution_count": 31,
      "outputs": [
        {
          "output_type": "execute_result",
          "data": {
            "text/plain": [
              "<matplotlib.axes._subplots.AxesSubplot at 0x7f3ce8a79890>"
            ]
          },
          "metadata": {
            "tags": []
          },
          "execution_count": 31
        },
        {
          "output_type": "display_data",
          "data": {
            "image/png": "[encoded data removed]",
            "text/plain": [
              "<Figure size 432x288 with 1 Axes>"
            ]
          },
          "metadata": {
            "tags": [],
            "needs_background": "light"
          }
        }
      ]
    },
    {
      "cell_type": "code",
      "metadata": {
        "colab": {
          "base_uri": "https://localhost:8080/",
          "height": 700
        },
        "id": "QAfs57DGDdmL",
        "outputId": "c64ea6ca-f9c1-47b6-8427-5fdb34eecbb4"
      },
      "source": [
        "#рассмотрим кол-во посадочных мест в топ-20 заведений по кол-ву \n",
        "df_on1 = df_on.sort_values(by='count',ascending=False)\n",
        "df_on1.head(20)"
      ],
      "execution_count": 32,
      "outputs": [
        {
          "output_type": "execute_result",
          "data": {
            "text/html": [
              "<div>\n",
              "<style scoped>\n",
              "    .dataframe tbody tr th:only-of-type {\n",
              "        vertical-align: middle;\n",
              "    }\n",
              "\n",
              "    .dataframe tbody tr th {\n",
              "        vertical-align: top;\n",
              "    }\n",
              "\n",
              "    .dataframe thead th {\n",
              "        text-align: right;\n",
              "    }\n",
              "</style>\n",
              "<table border=\"1\" class=\"dataframe\">\n",
              "  <thead>\n",
              "    <tr style=\"text-align: right;\">\n",
              "      <th></th>\n",
              "      <th>count</th>\n",
              "      <th>number_of_seats</th>\n",
              "    </tr>\n",
              "    <tr>\n",
              "      <th>object_name</th>\n",
              "      <th></th>\n",
              "      <th></th>\n",
              "    </tr>\n",
              "  </thead>\n",
              "  <tbody>\n",
              "    <tr>\n",
              "      <th>KFC</th>\n",
              "      <td>155</td>\n",
              "      <td>45.0</td>\n",
              "    </tr>\n",
              "    <tr>\n",
              "      <th>Шоколадница</th>\n",
              "      <td>141</td>\n",
              "      <td>50.0</td>\n",
              "    </tr>\n",
              "    <tr>\n",
              "      <th>Бургер Кинг</th>\n",
              "      <td>122</td>\n",
              "      <td>41.5</td>\n",
              "    </tr>\n",
              "    <tr>\n",
              "      <th>Макдоналдс</th>\n",
              "      <td>121</td>\n",
              "      <td>75.0</td>\n",
              "    </tr>\n",
              "    <tr>\n",
              "      <th>Домино'с Пицца</th>\n",
              "      <td>86</td>\n",
              "      <td>16.0</td>\n",
              "    </tr>\n",
              "    <tr>\n",
              "      <th>Теремок</th>\n",
              "      <td>84</td>\n",
              "      <td>21.0</td>\n",
              "    </tr>\n",
              "    <tr>\n",
              "      <th>Крошка Картошка</th>\n",
              "      <td>82</td>\n",
              "      <td>15.0</td>\n",
              "    </tr>\n",
              "    <tr>\n",
              "      <th>Милти</th>\n",
              "      <td>65</td>\n",
              "      <td>0.0</td>\n",
              "    </tr>\n",
              "    <tr>\n",
              "      <th>Суши Wok</th>\n",
              "      <td>61</td>\n",
              "      <td>6.0</td>\n",
              "    </tr>\n",
              "    <tr>\n",
              "      <th>Папа Джонс</th>\n",
              "      <td>50</td>\n",
              "      <td>20.0</td>\n",
              "    </tr>\n",
              "    <tr>\n",
              "      <th>Чайхона №1</th>\n",
              "      <td>42</td>\n",
              "      <td>99.5</td>\n",
              "    </tr>\n",
              "    <tr>\n",
              "      <th>Кофе с собой</th>\n",
              "      <td>42</td>\n",
              "      <td>0.0</td>\n",
              "    </tr>\n",
              "    <tr>\n",
              "      <th>Хинкальная</th>\n",
              "      <td>35</td>\n",
              "      <td>45.0</td>\n",
              "    </tr>\n",
              "    <tr>\n",
              "      <th>Якитория</th>\n",
              "      <td>33</td>\n",
              "      <td>98.0</td>\n",
              "    </tr>\n",
              "    <tr>\n",
              "      <th>Додо Пицца</th>\n",
              "      <td>31</td>\n",
              "      <td>30.0</td>\n",
              "    </tr>\n",
              "    <tr>\n",
              "      <th>Кофе Хаус</th>\n",
              "      <td>30</td>\n",
              "      <td>50.0</td>\n",
              "    </tr>\n",
              "    <tr>\n",
              "      <th>Starbucks</th>\n",
              "      <td>30</td>\n",
              "      <td>42.0</td>\n",
              "    </tr>\n",
              "    <tr>\n",
              "      <th>Subway</th>\n",
              "      <td>29</td>\n",
              "      <td>15.0</td>\n",
              "    </tr>\n",
              "    <tr>\n",
              "      <th>МАКДОНАЛДС</th>\n",
              "      <td>29</td>\n",
              "      <td>90.0</td>\n",
              "    </tr>\n",
              "    <tr>\n",
              "      <th>Тануки</th>\n",
              "      <td>26</td>\n",
              "      <td>104.0</td>\n",
              "    </tr>\n",
              "  </tbody>\n",
              "</table>\n",
              "</div>"
            ],
            "text/plain": [
              "                 count  number_of_seats\n",
              "object_name                            \n",
              "KFC                155             45.0\n",
              "Шоколадница        141             50.0\n",
              "Бургер Кинг        122             41.5\n",
              "Макдоналдс         121             75.0\n",
              "Домино'с Пицца      86             16.0\n",
              "Теремок             84             21.0\n",
              "Крошка Картошка     82             15.0\n",
              "Милти               65              0.0\n",
              "Суши Wok            61              6.0\n",
              "Папа Джонс          50             20.0\n",
              "Чайхона №1          42             99.5\n",
              "Кофе с собой        42              0.0\n",
              "Хинкальная          35             45.0\n",
              "Якитория            33             98.0\n",
              "Додо Пицца          31             30.0\n",
              "Кофе Хаус           30             50.0\n",
              "Starbucks           30             42.0\n",
              "Subway              29             15.0\n",
              "МАКДОНАЛДС          29             90.0\n",
              "Тануки              26            104.0"
            ]
          },
          "metadata": {
            "tags": []
          },
          "execution_count": 32
        }
      ]
    },
    {
      "cell_type": "code",
      "metadata": {
        "colab": {
          "base_uri": "https://localhost:8080/",
          "height": 700
        },
        "id": "nrrIOITLDdmL",
        "outputId": "f8ba3ecf-e61f-483d-91ea-1fb2007ea8a0"
      },
      "source": [
        "#посмотрим на 20 заведений с самым большим кол-вом посадочных мест\n",
        "df_on2 = df_on.sort_values(by='number_of_seats',ascending=False).head(20)\n",
        "df_on2"
      ],
      "execution_count": 33,
      "outputs": [
        {
          "output_type": "execute_result",
          "data": {
            "text/html": [
              "<div>\n",
              "<style scoped>\n",
              "    .dataframe tbody tr th:only-of-type {\n",
              "        vertical-align: middle;\n",
              "    }\n",
              "\n",
              "    .dataframe tbody tr th {\n",
              "        vertical-align: top;\n",
              "    }\n",
              "\n",
              "    .dataframe thead th {\n",
              "        text-align: right;\n",
              "    }\n",
              "</style>\n",
              "<table border=\"1\" class=\"dataframe\">\n",
              "  <thead>\n",
              "    <tr style=\"text-align: right;\">\n",
              "      <th></th>\n",
              "      <th>count</th>\n",
              "      <th>number_of_seats</th>\n",
              "    </tr>\n",
              "    <tr>\n",
              "      <th>object_name</th>\n",
              "      <th></th>\n",
              "      <th></th>\n",
              "    </tr>\n",
              "  </thead>\n",
              "  <tbody>\n",
              "    <tr>\n",
              "      <th>Темпл Бар</th>\n",
              "      <td>1</td>\n",
              "      <td>356.0</td>\n",
              "    </tr>\n",
              "    <tr>\n",
              "      <th>БАКИНСКИЙ БУЛЬВАР</th>\n",
              "      <td>1</td>\n",
              "      <td>350.0</td>\n",
              "    </tr>\n",
              "    <tr>\n",
              "      <th>Чешская пивная «Козловица»</th>\n",
              "      <td>1</td>\n",
              "      <td>306.0</td>\n",
              "    </tr>\n",
              "    <tr>\n",
              "      <th>Кафе МУ-МУ</th>\n",
              "      <td>1</td>\n",
              "      <td>300.0</td>\n",
              "    </tr>\n",
              "    <tr>\n",
              "      <th>Ян Примус</th>\n",
              "      <td>1</td>\n",
              "      <td>300.0</td>\n",
              "    </tr>\n",
              "    <tr>\n",
              "      <th>Якитория и Ян Примус</th>\n",
              "      <td>1</td>\n",
              "      <td>282.0</td>\n",
              "    </tr>\n",
              "    <tr>\n",
              "      <th>Старина Миллер</th>\n",
              "      <td>1</td>\n",
              "      <td>280.0</td>\n",
              "    </tr>\n",
              "    <tr>\n",
              "      <th>Пражечка</th>\n",
              "      <td>1</td>\n",
              "      <td>266.0</td>\n",
              "    </tr>\n",
              "    <tr>\n",
              "      <th>Молли гвинз</th>\n",
              "      <td>1</td>\n",
              "      <td>250.0</td>\n",
              "    </tr>\n",
              "    <tr>\n",
              "      <th>КАФЕ «МУ-МУ»</th>\n",
              "      <td>1</td>\n",
              "      <td>250.0</td>\n",
              "    </tr>\n",
              "    <tr>\n",
              "      <th>Ресторан «Урюк»</th>\n",
              "      <td>1</td>\n",
              "      <td>250.0</td>\n",
              "    </tr>\n",
              "    <tr>\n",
              "      <th>РЕСТОРАН «ЧАЙХОНА №1»</th>\n",
              "      <td>1</td>\n",
              "      <td>250.0</td>\n",
              "    </tr>\n",
              "    <tr>\n",
              "      <th>Ресторан «Чайхана Урюк»</th>\n",
              "      <td>1</td>\n",
              "      <td>250.0</td>\n",
              "    </tr>\n",
              "    <tr>\n",
              "      <th>ПИЛЗНЕР</th>\n",
              "      <td>2</td>\n",
              "      <td>245.0</td>\n",
              "    </tr>\n",
              "    <tr>\n",
              "      <th>Кафе Чайхона №1</th>\n",
              "      <td>1</td>\n",
              "      <td>225.0</td>\n",
              "    </tr>\n",
              "    <tr>\n",
              "      <th>Кафе быстрого питания Му-му</th>\n",
              "      <td>1</td>\n",
              "      <td>225.0</td>\n",
              "    </tr>\n",
              "    <tr>\n",
              "      <th>Кафе Пронто</th>\n",
              "      <td>2</td>\n",
              "      <td>222.5</td>\n",
              "    </tr>\n",
              "    <tr>\n",
              "      <th>СТАРИНА МЮЛЛЕР Старина Миллер</th>\n",
              "      <td>2</td>\n",
              "      <td>215.0</td>\n",
              "    </tr>\n",
              "    <tr>\n",
              "      <th>Нияма. Пицца Пи</th>\n",
              "      <td>1</td>\n",
              "      <td>215.0</td>\n",
              "    </tr>\n",
              "    <tr>\n",
              "      <th>Бакинский бульвар</th>\n",
              "      <td>2</td>\n",
              "      <td>213.0</td>\n",
              "    </tr>\n",
              "  </tbody>\n",
              "</table>\n",
              "</div>"
            ],
            "text/plain": [
              "                               count  number_of_seats\n",
              "object_name                                          \n",
              "Темпл Бар                          1            356.0\n",
              "БАКИНСКИЙ БУЛЬВАР                  1            350.0\n",
              "Чешская пивная «Козловица»         1            306.0\n",
              "Кафе МУ-МУ                         1            300.0\n",
              "Ян Примус                          1            300.0\n",
              "Якитория и Ян Примус               1            282.0\n",
              "Старина Миллер                     1            280.0\n",
              "Пражечка                           1            266.0\n",
              "Молли гвинз                        1            250.0\n",
              "КАФЕ «МУ-МУ»                       1            250.0\n",
              "Ресторан «Урюк»                    1            250.0\n",
              "РЕСТОРАН «ЧАЙХОНА №1»              1            250.0\n",
              "Ресторан «Чайхана Урюк»            1            250.0\n",
              "ПИЛЗНЕР                            2            245.0\n",
              "Кафе Чайхона №1                    1            225.0\n",
              "Кафе быстрого питания Му-му        1            225.0\n",
              "Кафе Пронто                        2            222.5\n",
              "СТАРИНА МЮЛЛЕР Старина Миллер      2            215.0\n",
              "Нияма. Пицца Пи                    1            215.0\n",
              "Бакинский бульвар                  2            213.0"
            ]
          },
          "metadata": {
            "tags": []
          },
          "execution_count": 33
        }
      ]
    },
    {
      "cell_type": "code",
      "metadata": {
        "colab": {
          "base_uri": "https://localhost:8080/",
          "height": 297
        },
        "id": "Op3jLFyWDdmL",
        "outputId": "bedf3068-afea-43aa-e686-20d3b31ea493"
      },
      "source": [
        "#изучим распределение посадочных мест в сетевых заведениях по квантилям\n",
        "df.query('chain == \"да\"').describe()"
      ],
      "execution_count": 34,
      "outputs": [
        {
          "output_type": "execute_result",
          "data": {
            "text/html": [
              "<div>\n",
              "<style scoped>\n",
              "    .dataframe tbody tr th:only-of-type {\n",
              "        vertical-align: middle;\n",
              "    }\n",
              "\n",
              "    .dataframe tbody tr th {\n",
              "        vertical-align: top;\n",
              "    }\n",
              "\n",
              "    .dataframe thead th {\n",
              "        text-align: right;\n",
              "    }\n",
              "</style>\n",
              "<table border=\"1\" class=\"dataframe\">\n",
              "  <thead>\n",
              "    <tr style=\"text-align: right;\">\n",
              "      <th></th>\n",
              "      <th>id</th>\n",
              "      <th>number</th>\n",
              "    </tr>\n",
              "  </thead>\n",
              "  <tbody>\n",
              "    <tr>\n",
              "      <th>count</th>\n",
              "      <td>2964.000000</td>\n",
              "      <td>2964.000000</td>\n",
              "    </tr>\n",
              "    <tr>\n",
              "      <th>mean</th>\n",
              "      <td>118096.469298</td>\n",
              "      <td>52.981107</td>\n",
              "    </tr>\n",
              "    <tr>\n",
              "      <th>std</th>\n",
              "      <td>67521.141932</td>\n",
              "      <td>57.152817</td>\n",
              "    </tr>\n",
              "    <tr>\n",
              "      <th>min</th>\n",
              "      <td>838.000000</td>\n",
              "      <td>0.000000</td>\n",
              "    </tr>\n",
              "    <tr>\n",
              "      <th>25%</th>\n",
              "      <td>59187.000000</td>\n",
              "      <td>15.000000</td>\n",
              "    </tr>\n",
              "    <tr>\n",
              "      <th>50%</th>\n",
              "      <td>129967.500000</td>\n",
              "      <td>40.000000</td>\n",
              "    </tr>\n",
              "    <tr>\n",
              "      <th>75%</th>\n",
              "      <td>176803.500000</td>\n",
              "      <td>72.000000</td>\n",
              "    </tr>\n",
              "    <tr>\n",
              "      <th>max</th>\n",
              "      <td>223318.000000</td>\n",
              "      <td>580.000000</td>\n",
              "    </tr>\n",
              "  </tbody>\n",
              "</table>\n",
              "</div>"
            ],
            "text/plain": [
              "                  id       number\n",
              "count    2964.000000  2964.000000\n",
              "mean   118096.469298    52.981107\n",
              "std     67521.141932    57.152817\n",
              "min       838.000000     0.000000\n",
              "25%     59187.000000    15.000000\n",
              "50%    129967.500000    40.000000\n",
              "75%    176803.500000    72.000000\n",
              "max    223318.000000   580.000000"
            ]
          },
          "metadata": {
            "tags": []
          },
          "execution_count": 34
        }
      ]
    },
    {
      "cell_type": "markdown",
      "metadata": {
        "id": "y5-LqGPXDdmM"
      },
      "source": [
        "##### Выводы:  \n",
        "1. Кол-во посадочных мест у сетевых заведений варьируется в большинстве своем от 15 до 72, однако есть и рекордсмен с 580 местами или заведения совсем без посадки;  \n",
        "2. В целом для сетевых заведений характерно небольшое кол-во точек с одним названием (до 20) и большим кол-вом посадочных мест (до 300);\n",
        "3. Однако следует отметить и следующий тренд: если у заведения большое кол-во посадочных мест (около 200-300), то их будет 1-2 в городе, однако если у заведения много точек по городу, то количество посадочных мест в них будут сильно разниться, так например у Милти 65 точек в городе и в каждом нет посадочных мест, а вот Чайхона №1 имеет 42 точки и 100 посадочных мест всреднем на одно заведение."
      ]
    },
    {
      "cell_type": "markdown",
      "metadata": {
        "id": "1svST7QvDdmN"
      },
      "source": [
        "#### Для каждого вида объекта общественного питания опишем среднее количество посадочных мест. Какой вид предоставляет в среднем самое большое количество посадочных мест?"
      ]
    },
    {
      "cell_type": "code",
      "metadata": {
        "colab": {
          "base_uri": "https://localhost:8080/",
          "height": 328
        },
        "id": "URgtTgmjDdmN",
        "outputId": "2f5d7cc5-d9bf-4c0a-e3b7-4a072114da95"
      },
      "source": [
        "#создадим сводную таблицу с видом сетевого заведения, его кол-вом и медианным кол-вом посадочных мест\n",
        "df_otn = df.pivot_table(index=['object_type'],values='number',aggfunc=['count','median'])\n",
        "df_otn.columns = ['count','number_of_seats']\n",
        "df_otn = df_otn.sort_values(by='number_of_seats',ascending=False).reset_index()\n",
        "df_otn"
      ],
      "execution_count": 35,
      "outputs": [
        {
          "output_type": "execute_result",
          "data": {
            "text/html": [
              "<div>\n",
              "<style scoped>\n",
              "    .dataframe tbody tr th:only-of-type {\n",
              "        vertical-align: middle;\n",
              "    }\n",
              "\n",
              "    .dataframe tbody tr th {\n",
              "        vertical-align: top;\n",
              "    }\n",
              "\n",
              "    .dataframe thead th {\n",
              "        text-align: right;\n",
              "    }\n",
              "</style>\n",
              "<table border=\"1\" class=\"dataframe\">\n",
              "  <thead>\n",
              "    <tr style=\"text-align: right;\">\n",
              "      <th></th>\n",
              "      <th>object_type</th>\n",
              "      <th>count</th>\n",
              "      <th>number_of_seats</th>\n",
              "    </tr>\n",
              "  </thead>\n",
              "  <tbody>\n",
              "    <tr>\n",
              "      <th>0</th>\n",
              "      <td>столовая</td>\n",
              "      <td>2584</td>\n",
              "      <td>103</td>\n",
              "    </tr>\n",
              "    <tr>\n",
              "      <th>1</th>\n",
              "      <td>ресторан</td>\n",
              "      <td>2282</td>\n",
              "      <td>80</td>\n",
              "    </tr>\n",
              "    <tr>\n",
              "      <th>2</th>\n",
              "      <td>бар</td>\n",
              "      <td>855</td>\n",
              "      <td>35</td>\n",
              "    </tr>\n",
              "    <tr>\n",
              "      <th>3</th>\n",
              "      <td>буфет</td>\n",
              "      <td>577</td>\n",
              "      <td>32</td>\n",
              "    </tr>\n",
              "    <tr>\n",
              "      <th>4</th>\n",
              "      <td>кафе</td>\n",
              "      <td>6071</td>\n",
              "      <td>30</td>\n",
              "    </tr>\n",
              "    <tr>\n",
              "      <th>5</th>\n",
              "      <td>кафетерий</td>\n",
              "      <td>395</td>\n",
              "      <td>6</td>\n",
              "    </tr>\n",
              "    <tr>\n",
              "      <th>6</th>\n",
              "      <td>предприятие быстрого обслуживания</td>\n",
              "      <td>1898</td>\n",
              "      <td>6</td>\n",
              "    </tr>\n",
              "    <tr>\n",
              "      <th>7</th>\n",
              "      <td>закусочная</td>\n",
              "      <td>349</td>\n",
              "      <td>0</td>\n",
              "    </tr>\n",
              "    <tr>\n",
              "      <th>8</th>\n",
              "      <td>магазин (отдел кулинарии)</td>\n",
              "      <td>273</td>\n",
              "      <td>0</td>\n",
              "    </tr>\n",
              "  </tbody>\n",
              "</table>\n",
              "</div>"
            ],
            "text/plain": [
              "                         object_type  count  number_of_seats\n",
              "0                           столовая   2584              103\n",
              "1                           ресторан   2282               80\n",
              "2                                бар    855               35\n",
              "3                              буфет    577               32\n",
              "4                               кафе   6071               30\n",
              "5                          кафетерий    395                6\n",
              "6  предприятие быстрого обслуживания   1898                6\n",
              "7                         закусочная    349                0\n",
              "8          магазин (отдел кулинарии)    273                0"
            ]
          },
          "metadata": {
            "tags": []
          },
          "execution_count": 35
        }
      ]
    },
    {
      "cell_type": "code",
      "metadata": {
        "colab": {
          "base_uri": "https://localhost:8080/",
          "height": 601
        },
        "id": "9KZCyxkhDdmO",
        "outputId": "689ca2c2-f509-47e5-dcd2-d62434114513"
      },
      "source": [
        "plt.figure(figsize=(14, 7)) \n",
        "ax = sns.barplot(x = 'object_type',y='number_of_seats',data=df_otn)\n",
        "ax.set_title('Кол-во посадочных мест в заведений общественного питания в Москве по видам',fontsize=12)\n",
        "ax.set_xlabel('Вид объекта общественного питания',fontsize=12)\n",
        "ax.set_ylabel('Кол-во посадочных мест(медиана)',fontsize=12)\n",
        "ax.set_xticklabels(ax.get_xticklabels(),rotation=45)\n",
        "plt.show()"
      ],
      "execution_count": 36,
      "outputs": [
        {
          "output_type": "display_data",
          "data": {
            "image/png": "[encoded data removed]",
            "text/plain": [
              "<Figure size 1008x504 with 1 Axes>"
            ]
          },
          "metadata": {
            "tags": [],
            "needs_background": "light"
          }
        }
      ]
    },
    {
      "cell_type": "markdown",
      "metadata": {
        "id": "suw-utLfDdmO"
      },
      "source": [
        "##### Выводы:  \n",
        "1. Самое большое кол-во посадочных мест среди заведений общественного питания встречается в столовых (103);\n",
        "2. В ресторанах в среднем 80 посадочных мест, а вот в барах, кафе и буфетах 30-35;\n",
        "3. В кафетеряих и предприятиях быстрого обслуживания 5-6 мест;\n",
        "4. В закусочных и магазинах (отдел кулинарии) посадочных мест обычно не бывает вовсе."
      ]
    },
    {
      "cell_type": "markdown",
      "metadata": {
        "id": "756-yYCvDdmO"
      },
      "source": [
        "#### Выделим в отдельный столбец информацию об улице из столбца address "
      ]
    },
    {
      "cell_type": "code",
      "metadata": {
        "id": "kiAbzeVPDdmP"
      },
      "source": [
        "#при помощи метода split() отделим части импользуя запятые и пробел после нее; также наша часть должна содержать пробел и слова из списка\n",
        "#список содержит улицы и слова синонимы, которые вручную ищем при помощи строчек кода ниже\n",
        "for_address_column = ['улица','шоссе','переулок','бульвар','проезд','проспект','площадь','авеню','тупик','аллея','дорога','набережная','микрорайон','квартал','Зеленоград','деревня','поселение','линия','километр','территория','просек','посёлок']\n",
        "def street(row):\n",
        "    blocks = row['address'].split(', ')\n",
        "    for block in blocks:\n",
        "        words = block.split(' ')\n",
        "        for word in words:\n",
        "            if word in for_address_column:\n",
        "                return block\n",
        "df['street'] = df.apply(street, axis=1)"
      ],
      "execution_count": 37,
      "outputs": []
    },
    {
      "cell_type": "code",
      "metadata": {
        "id": "Gd0UlZlNDdmP"
      },
      "source": [
        "df['street'] = df['street'].fillna('неучтенные_названия')"
      ],
      "execution_count": 38,
      "outputs": []
    },
    {
      "cell_type": "code",
      "metadata": {
        "colab": {
          "base_uri": "https://localhost:8080/",
          "height": 49
        },
        "id": "GB9T3EQEDdmP",
        "outputId": "82ec365d-dc00-4a13-cde1-e59a61b1bdcf"
      },
      "source": [
        "#неучтенных синонимов слова \"улица\" нет\n",
        "df.query('street == \"неучтенные_названия\"')"
      ],
      "execution_count": 39,
      "outputs": [
        {
          "output_type": "execute_result",
          "data": {
            "text/html": [
              "<div>\n",
              "<style scoped>\n",
              "    .dataframe tbody tr th:only-of-type {\n",
              "        vertical-align: middle;\n",
              "    }\n",
              "\n",
              "    .dataframe tbody tr th {\n",
              "        vertical-align: top;\n",
              "    }\n",
              "\n",
              "    .dataframe thead th {\n",
              "        text-align: right;\n",
              "    }\n",
              "</style>\n",
              "<table border=\"1\" class=\"dataframe\">\n",
              "  <thead>\n",
              "    <tr style=\"text-align: right;\">\n",
              "      <th></th>\n",
              "      <th>id</th>\n",
              "      <th>object_name</th>\n",
              "      <th>chain</th>\n",
              "      <th>object_type</th>\n",
              "      <th>address</th>\n",
              "      <th>number</th>\n",
              "      <th>street</th>\n",
              "    </tr>\n",
              "  </thead>\n",
              "  <tbody>\n",
              "  </tbody>\n",
              "</table>\n",
              "</div>"
            ],
            "text/plain": [
              "Empty DataFrame\n",
              "Columns: [id, object_name, chain, object_type, address, number, street]\n",
              "Index: []"
            ]
          },
          "metadata": {
            "tags": []
          },
          "execution_count": 39
        }
      ]
    },
    {
      "cell_type": "code",
      "metadata": {
        "colab": {
          "base_uri": "https://localhost:8080/",
          "height": 419
        },
        "id": "5orXx-bLDdmP",
        "outputId": "92a85b3d-6ecc-432a-98b1-8e3c0f1477ba"
      },
      "source": [
        "df"
      ],
      "execution_count": 40,
      "outputs": [
        {
          "output_type": "execute_result",
          "data": {
            "text/html": [
              "<div>\n",
              "<style scoped>\n",
              "    .dataframe tbody tr th:only-of-type {\n",
              "        vertical-align: middle;\n",
              "    }\n",
              "\n",
              "    .dataframe tbody tr th {\n",
              "        vertical-align: top;\n",
              "    }\n",
              "\n",
              "    .dataframe thead th {\n",
              "        text-align: right;\n",
              "    }\n",
              "</style>\n",
              "<table border=\"1\" class=\"dataframe\">\n",
              "  <thead>\n",
              "    <tr style=\"text-align: right;\">\n",
              "      <th></th>\n",
              "      <th>id</th>\n",
              "      <th>object_name</th>\n",
              "      <th>chain</th>\n",
              "      <th>object_type</th>\n",
              "      <th>address</th>\n",
              "      <th>number</th>\n",
              "      <th>street</th>\n",
              "    </tr>\n",
              "  </thead>\n",
              "  <tbody>\n",
              "    <tr>\n",
              "      <th>0</th>\n",
              "      <td>151635</td>\n",
              "      <td>СМЕТАНА</td>\n",
              "      <td>нет</td>\n",
              "      <td>кафе</td>\n",
              "      <td>город Москва, улица Егора Абакумова, дом 9</td>\n",
              "      <td>48</td>\n",
              "      <td>улица Егора Абакумова</td>\n",
              "    </tr>\n",
              "    <tr>\n",
              "      <th>1</th>\n",
              "      <td>77874</td>\n",
              "      <td>Родник</td>\n",
              "      <td>нет</td>\n",
              "      <td>кафе</td>\n",
              "      <td>город Москва, улица Талалихина, дом 2/1, корпус 1</td>\n",
              "      <td>35</td>\n",
              "      <td>улица Талалихина</td>\n",
              "    </tr>\n",
              "    <tr>\n",
              "      <th>2</th>\n",
              "      <td>24309</td>\n",
              "      <td>Кафе «Академия»</td>\n",
              "      <td>нет</td>\n",
              "      <td>кафе</td>\n",
              "      <td>город Москва, Абельмановская улица, дом 6</td>\n",
              "      <td>95</td>\n",
              "      <td>Абельмановская улица</td>\n",
              "    </tr>\n",
              "    <tr>\n",
              "      <th>3</th>\n",
              "      <td>21894</td>\n",
              "      <td>ПИЦЦЕТОРИЯ</td>\n",
              "      <td>да</td>\n",
              "      <td>кафе</td>\n",
              "      <td>город Москва, Абрамцевская улица, дом 1</td>\n",
              "      <td>40</td>\n",
              "      <td>Абрамцевская улица</td>\n",
              "    </tr>\n",
              "    <tr>\n",
              "      <th>4</th>\n",
              "      <td>119365</td>\n",
              "      <td>Кафе «Вишневая метель»</td>\n",
              "      <td>нет</td>\n",
              "      <td>кафе</td>\n",
              "      <td>город Москва, Абрамцевская улица, дом 9, корпус 1</td>\n",
              "      <td>50</td>\n",
              "      <td>Абрамцевская улица</td>\n",
              "    </tr>\n",
              "    <tr>\n",
              "      <th>...</th>\n",
              "      <td>...</td>\n",
              "      <td>...</td>\n",
              "      <td>...</td>\n",
              "      <td>...</td>\n",
              "      <td>...</td>\n",
              "      <td>...</td>\n",
              "      <td>...</td>\n",
              "    </tr>\n",
              "    <tr>\n",
              "      <th>15361</th>\n",
              "      <td>208537</td>\n",
              "      <td>Шоколадница</td>\n",
              "      <td>да</td>\n",
              "      <td>кафе</td>\n",
              "      <td>город Москва, 3-й Крутицкий переулок, дом 18</td>\n",
              "      <td>50</td>\n",
              "      <td>3-й Крутицкий переулок</td>\n",
              "    </tr>\n",
              "    <tr>\n",
              "      <th>15362</th>\n",
              "      <td>209264</td>\n",
              "      <td>Шоколадница</td>\n",
              "      <td>да</td>\n",
              "      <td>кафе</td>\n",
              "      <td>город Москва, улица Земляной Вал, дом 33</td>\n",
              "      <td>10</td>\n",
              "      <td>улица Земляной Вал</td>\n",
              "    </tr>\n",
              "    <tr>\n",
              "      <th>15363</th>\n",
              "      <td>209186</td>\n",
              "      <td>Шоколадница</td>\n",
              "      <td>да</td>\n",
              "      <td>кафе</td>\n",
              "      <td>город Москва, улица Земляной Вал, дом 33</td>\n",
              "      <td>20</td>\n",
              "      <td>улица Земляной Вал</td>\n",
              "    </tr>\n",
              "    <tr>\n",
              "      <th>15364</th>\n",
              "      <td>221900</td>\n",
              "      <td>Шоколадница</td>\n",
              "      <td>да</td>\n",
              "      <td>кафе</td>\n",
              "      <td>город Москва, поселение Московский, Киевское ш...</td>\n",
              "      <td>36</td>\n",
              "      <td>поселение Московский</td>\n",
              "    </tr>\n",
              "    <tr>\n",
              "      <th>15365</th>\n",
              "      <td>222535</td>\n",
              "      <td>Шоколадница</td>\n",
              "      <td>да</td>\n",
              "      <td>кафе</td>\n",
              "      <td>город Москва, Ходынский бульвар, дом 4</td>\n",
              "      <td>10</td>\n",
              "      <td>Ходынский бульвар</td>\n",
              "    </tr>\n",
              "  </tbody>\n",
              "</table>\n",
              "<p>15284 rows × 7 columns</p>\n",
              "</div>"
            ],
            "text/plain": [
              "           id             object_name  ... number                  street\n",
              "0      151635                 СМЕТАНА  ...     48   улица Егора Абакумова\n",
              "1       77874                  Родник  ...     35        улица Талалихина\n",
              "2       24309         Кафе «Академия»  ...     95    Абельмановская улица\n",
              "3       21894              ПИЦЦЕТОРИЯ  ...     40      Абрамцевская улица\n",
              "4      119365  Кафе «Вишневая метель»  ...     50      Абрамцевская улица\n",
              "...       ...                     ...  ...    ...                     ...\n",
              "15361  208537             Шоколадница  ...     50  3-й Крутицкий переулок\n",
              "15362  209264             Шоколадница  ...     10      улица Земляной Вал\n",
              "15363  209186             Шоколадница  ...     20      улица Земляной Вал\n",
              "15364  221900             Шоколадница  ...     36    поселение Московский\n",
              "15365  222535             Шоколадница  ...     10       Ходынский бульвар\n",
              "\n",
              "[15284 rows x 7 columns]"
            ]
          },
          "metadata": {
            "tags": []
          },
          "execution_count": 40
        }
      ]
    },
    {
      "cell_type": "markdown",
      "metadata": {
        "id": "dKzXS6QyDdmQ"
      },
      "source": [
        "##### Наблюдение:   \n",
        "В исследуемом датасете предсталена не только Москва, как столичный центр, но и соседние города, деревни и прочее."
      ]
    },
    {
      "cell_type": "markdown",
      "metadata": {
        "id": "Awak7VmTDdmQ"
      },
      "source": [
        "##### Постройм график топ-10 улиц по количеству объектов общественного питания. Воспользуйтесь внешней информацией и ответьте на вопрос — в каких районах Москвы находятся эти улицы?"
      ]
    },
    {
      "cell_type": "code",
      "metadata": {
        "colab": {
          "base_uri": "https://localhost:8080/",
          "height": 359
        },
        "id": "TSiyW5e5DdmQ",
        "outputId": "6bc4c553-4ca7-4409-f08e-dff90e5e6895"
      },
      "source": [
        "#создадим датасет с топ-10 улиц по кол-ву заведений на них\n",
        "df_street = df.pivot_table(index='street',values='id',aggfunc='count').sort_values(by='id',ascending = False).head(10).reset_index()\n",
        "df_street"
      ],
      "execution_count": 41,
      "outputs": [
        {
          "output_type": "execute_result",
          "data": {
            "text/html": [
              "<div>\n",
              "<style scoped>\n",
              "    .dataframe tbody tr th:only-of-type {\n",
              "        vertical-align: middle;\n",
              "    }\n",
              "\n",
              "    .dataframe tbody tr th {\n",
              "        vertical-align: top;\n",
              "    }\n",
              "\n",
              "    .dataframe thead th {\n",
              "        text-align: right;\n",
              "    }\n",
              "</style>\n",
              "<table border=\"1\" class=\"dataframe\">\n",
              "  <thead>\n",
              "    <tr style=\"text-align: right;\">\n",
              "      <th></th>\n",
              "      <th>street</th>\n",
              "      <th>id</th>\n",
              "    </tr>\n",
              "  </thead>\n",
              "  <tbody>\n",
              "    <tr>\n",
              "      <th>0</th>\n",
              "      <td>город Зеленоград</td>\n",
              "      <td>232</td>\n",
              "    </tr>\n",
              "    <tr>\n",
              "      <th>1</th>\n",
              "      <td>проспект Мира</td>\n",
              "      <td>204</td>\n",
              "    </tr>\n",
              "    <tr>\n",
              "      <th>2</th>\n",
              "      <td>Профсоюзная улица</td>\n",
              "      <td>182</td>\n",
              "    </tr>\n",
              "    <tr>\n",
              "      <th>3</th>\n",
              "      <td>Ленинградский проспект</td>\n",
              "      <td>172</td>\n",
              "    </tr>\n",
              "    <tr>\n",
              "      <th>4</th>\n",
              "      <td>Пресненская набережная</td>\n",
              "      <td>167</td>\n",
              "    </tr>\n",
              "    <tr>\n",
              "      <th>5</th>\n",
              "      <td>Варшавское шоссе</td>\n",
              "      <td>164</td>\n",
              "    </tr>\n",
              "    <tr>\n",
              "      <th>6</th>\n",
              "      <td>Ленинский проспект</td>\n",
              "      <td>148</td>\n",
              "    </tr>\n",
              "    <tr>\n",
              "      <th>7</th>\n",
              "      <td>поселение Сосенское</td>\n",
              "      <td>138</td>\n",
              "    </tr>\n",
              "    <tr>\n",
              "      <th>8</th>\n",
              "      <td>проспект Вернадского</td>\n",
              "      <td>128</td>\n",
              "    </tr>\n",
              "    <tr>\n",
              "      <th>9</th>\n",
              "      <td>Кутузовский проспект</td>\n",
              "      <td>114</td>\n",
              "    </tr>\n",
              "  </tbody>\n",
              "</table>\n",
              "</div>"
            ],
            "text/plain": [
              "                   street   id\n",
              "0        город Зеленоград  232\n",
              "1           проспект Мира  204\n",
              "2       Профсоюзная улица  182\n",
              "3  Ленинградский проспект  172\n",
              "4  Пресненская набережная  167\n",
              "5        Варшавское шоссе  164\n",
              "6      Ленинский проспект  148\n",
              "7     поселение Сосенское  138\n",
              "8    проспект Вернадского  128\n",
              "9    Кутузовский проспект  114"
            ]
          },
          "metadata": {
            "tags": []
          },
          "execution_count": 41
        }
      ]
    },
    {
      "cell_type": "code",
      "metadata": {
        "colab": {
          "base_uri": "https://localhost:8080/"
        },
        "id": "UDO0Wg8YDdmR",
        "outputId": "59de4bbe-fb49-4eff-9f89-ade99025d357"
      },
      "source": [
        "df_street['street'].unique()"
      ],
      "execution_count": 42,
      "outputs": [
        {
          "output_type": "execute_result",
          "data": {
            "text/plain": [
              "array(['город Зеленоград', 'проспект Мира', 'Профсоюзная улица',\n",
              "       'Ленинградский проспект', 'Пресненская набережная',\n",
              "       'Варшавское шоссе', 'Ленинский проспект', 'поселение Сосенское',\n",
              "       'проспект Вернадского', 'Кутузовский проспект'], dtype=object)"
            ]
          },
          "metadata": {
            "tags": []
          },
          "execution_count": 42
        }
      ]
    },
    {
      "cell_type": "code",
      "metadata": {
        "colab": {
          "base_uri": "https://localhost:8080/",
          "height": 419
        },
        "id": "IfvkFcZvDdmR",
        "outputId": "b545b9e5-fbc4-4361-d8b0-8c2693cca019"
      },
      "source": [
        "#создадим переменную с файлом, где указаны улицы и районы\n",
        "df2 = pd.read_csv('/content/mosgaz-streets.csv')\n",
        "df2"
      ],
      "execution_count": 48,
      "outputs": [
        {
          "output_type": "execute_result",
          "data": {
            "text/html": [
              "<div>\n",
              "<style scoped>\n",
              "    .dataframe tbody tr th:only-of-type {\n",
              "        vertical-align: middle;\n",
              "    }\n",
              "\n",
              "    .dataframe tbody tr th {\n",
              "        vertical-align: top;\n",
              "    }\n",
              "\n",
              "    .dataframe thead th {\n",
              "        text-align: right;\n",
              "    }\n",
              "</style>\n",
              "<table border=\"1\" class=\"dataframe\">\n",
              "  <thead>\n",
              "    <tr style=\"text-align: right;\">\n",
              "      <th></th>\n",
              "      <th>streetname</th>\n",
              "      <th>areaid</th>\n",
              "      <th>okrug</th>\n",
              "      <th>area</th>\n",
              "    </tr>\n",
              "  </thead>\n",
              "  <tbody>\n",
              "    <tr>\n",
              "      <th>0</th>\n",
              "      <td>Выставочный переулок</td>\n",
              "      <td>17</td>\n",
              "      <td>ЦАО</td>\n",
              "      <td>Пресненский район</td>\n",
              "    </tr>\n",
              "    <tr>\n",
              "      <th>1</th>\n",
              "      <td>улица Гашека</td>\n",
              "      <td>17</td>\n",
              "      <td>ЦАО</td>\n",
              "      <td>Пресненский район</td>\n",
              "    </tr>\n",
              "    <tr>\n",
              "      <th>2</th>\n",
              "      <td>Большая Никитская улица</td>\n",
              "      <td>17</td>\n",
              "      <td>ЦАО</td>\n",
              "      <td>Пресненский район</td>\n",
              "    </tr>\n",
              "    <tr>\n",
              "      <th>3</th>\n",
              "      <td>Глубокий переулок</td>\n",
              "      <td>17</td>\n",
              "      <td>ЦАО</td>\n",
              "      <td>Пресненский район</td>\n",
              "    </tr>\n",
              "    <tr>\n",
              "      <th>4</th>\n",
              "      <td>Большой Гнездниковский переулок</td>\n",
              "      <td>17</td>\n",
              "      <td>ЦАО</td>\n",
              "      <td>Пресненский район</td>\n",
              "    </tr>\n",
              "    <tr>\n",
              "      <th>...</th>\n",
              "      <td>...</td>\n",
              "      <td>...</td>\n",
              "      <td>...</td>\n",
              "      <td>...</td>\n",
              "    </tr>\n",
              "    <tr>\n",
              "      <th>4393</th>\n",
              "      <td>Вознесенский проезд</td>\n",
              "      <td>17</td>\n",
              "      <td>ЦАО</td>\n",
              "      <td>Пресненский район</td>\n",
              "    </tr>\n",
              "    <tr>\n",
              "      <th>4394</th>\n",
              "      <td>Волков переулок</td>\n",
              "      <td>17</td>\n",
              "      <td>ЦАО</td>\n",
              "      <td>Пресненский район</td>\n",
              "    </tr>\n",
              "    <tr>\n",
              "      <th>4395</th>\n",
              "      <td>Поварская улица</td>\n",
              "      <td>17</td>\n",
              "      <td>ЦАО</td>\n",
              "      <td>Пресненский район</td>\n",
              "    </tr>\n",
              "    <tr>\n",
              "      <th>4396</th>\n",
              "      <td>Кудринская площадь</td>\n",
              "      <td>17</td>\n",
              "      <td>ЦАО</td>\n",
              "      <td>Пресненский район</td>\n",
              "    </tr>\n",
              "    <tr>\n",
              "      <th>4397</th>\n",
              "      <td>Вспольный переулок</td>\n",
              "      <td>17</td>\n",
              "      <td>ЦАО</td>\n",
              "      <td>Пресненский район</td>\n",
              "    </tr>\n",
              "  </tbody>\n",
              "</table>\n",
              "<p>4398 rows × 4 columns</p>\n",
              "</div>"
            ],
            "text/plain": [
              "                           streetname  areaid okrug               area\n",
              "0                Выставочный переулок      17   ЦАО  Пресненский район\n",
              "1                        улица Гашека      17   ЦАО  Пресненский район\n",
              "2             Большая Никитская улица      17   ЦАО  Пресненский район\n",
              "3                   Глубокий переулок      17   ЦАО  Пресненский район\n",
              "4     Большой Гнездниковский переулок      17   ЦАО  Пресненский район\n",
              "...                               ...     ...   ...                ...\n",
              "4393              Вознесенский проезд      17   ЦАО  Пресненский район\n",
              "4394                  Волков переулок      17   ЦАО  Пресненский район\n",
              "4395                  Поварская улица      17   ЦАО  Пресненский район\n",
              "4396               Кудринская площадь      17   ЦАО  Пресненский район\n",
              "4397               Вспольный переулок      17   ЦАО  Пресненский район\n",
              "\n",
              "[4398 rows x 4 columns]"
            ]
          },
          "metadata": {
            "tags": []
          },
          "execution_count": 48
        }
      ]
    },
    {
      "cell_type": "code",
      "metadata": {
        "id": "ibdSuZUpDdmR"
      },
      "source": [
        "#соеденим 2 датасета\n",
        "df_street2 = pd.merge(df, df2, left_on = 'street',right_on='streetname', how = 'left')"
      ],
      "execution_count": 49,
      "outputs": []
    },
    {
      "cell_type": "code",
      "metadata": {
        "id": "_JqbbNfmDdmS"
      },
      "source": [
        "df_streetf = df_street2.pivot_table(index=['street','area'],values='id',aggfunc='count').sort_values(by='id',ascending = False).reset_index().head(45)"
      ],
      "execution_count": 50,
      "outputs": []
    },
    {
      "cell_type": "code",
      "metadata": {
        "colab": {
          "base_uri": "https://localhost:8080/",
          "height": 297
        },
        "id": "O50xPydTDdmS",
        "outputId": "55cd7d01-b324-4a9d-a75c-6a7debbd8c26"
      },
      "source": [
        "df_a = df_streetf.groupby('area').agg({'street':pd.Series.nunique}).reset_index()\n",
        "df_a2 = df_a.query('street == 2')\n",
        "df_a2"
      ],
      "execution_count": 51,
      "outputs": [
        {
          "output_type": "execute_result",
          "data": {
            "text/html": [
              "<div>\n",
              "<style scoped>\n",
              "    .dataframe tbody tr th:only-of-type {\n",
              "        vertical-align: middle;\n",
              "    }\n",
              "\n",
              "    .dataframe tbody tr th {\n",
              "        vertical-align: top;\n",
              "    }\n",
              "\n",
              "    .dataframe thead th {\n",
              "        text-align: right;\n",
              "    }\n",
              "</style>\n",
              "<table border=\"1\" class=\"dataframe\">\n",
              "  <thead>\n",
              "    <tr style=\"text-align: right;\">\n",
              "      <th></th>\n",
              "      <th>area</th>\n",
              "      <th>street</th>\n",
              "    </tr>\n",
              "  </thead>\n",
              "  <tbody>\n",
              "    <tr>\n",
              "      <th>2</th>\n",
              "      <td>Донской район</td>\n",
              "      <td>2</td>\n",
              "    </tr>\n",
              "    <tr>\n",
              "      <th>3</th>\n",
              "      <td>Ломоносовский район</td>\n",
              "      <td>2</td>\n",
              "    </tr>\n",
              "    <tr>\n",
              "      <th>6</th>\n",
              "      <td>Обручевский район</td>\n",
              "      <td>2</td>\n",
              "    </tr>\n",
              "    <tr>\n",
              "      <th>12</th>\n",
              "      <td>Район Гагаринский</td>\n",
              "      <td>2</td>\n",
              "    </tr>\n",
              "    <tr>\n",
              "      <th>15</th>\n",
              "      <td>Район Крюково</td>\n",
              "      <td>2</td>\n",
              "    </tr>\n",
              "    <tr>\n",
              "      <th>19</th>\n",
              "      <td>Район Проспект Вернадского</td>\n",
              "      <td>2</td>\n",
              "    </tr>\n",
              "    <tr>\n",
              "      <th>25</th>\n",
              "      <td>Район Теплый Стан</td>\n",
              "      <td>2</td>\n",
              "    </tr>\n",
              "    <tr>\n",
              "      <th>26</th>\n",
              "      <td>Район Тропарево-Никулино</td>\n",
              "      <td>2</td>\n",
              "    </tr>\n",
              "  </tbody>\n",
              "</table>\n",
              "</div>"
            ],
            "text/plain": [
              "                          area  street\n",
              "2                Донской район       2\n",
              "3          Ломоносовский район       2\n",
              "6            Обручевский район       2\n",
              "12           Район Гагаринский       2\n",
              "15               Район Крюково       2\n",
              "19  Район Проспект Вернадского       2\n",
              "25           Район Теплый Стан       2\n",
              "26    Район Тропарево-Никулино       2"
            ]
          },
          "metadata": {
            "tags": []
          },
          "execution_count": 51
        }
      ]
    },
    {
      "cell_type": "code",
      "metadata": {
        "colab": {
          "base_uri": "https://localhost:8080/"
        },
        "id": "pISSZ1FfDdmS",
        "outputId": "96aa8dc0-64b0-49d8-c8ab-db7c818af6ed"
      },
      "source": [
        "df_a2['area'].unique()"
      ],
      "execution_count": 52,
      "outputs": [
        {
          "output_type": "execute_result",
          "data": {
            "text/plain": [
              "array(['Донской район', 'Ломоносовский район', 'Обручевский район',\n",
              "       'Район Гагаринский', 'Район Крюково', 'Район Проспект Вернадского',\n",
              "       'Район Теплый Стан', 'Район Тропарево-Никулино'], dtype=object)"
            ]
          },
          "metadata": {
            "tags": []
          },
          "execution_count": 52
        }
      ]
    },
    {
      "cell_type": "code",
      "metadata": {
        "colab": {
          "base_uri": "https://localhost:8080/",
          "height": 555
        },
        "id": "b3JBQy2KDdmS",
        "outputId": "1f0379b3-f4be-4606-897e-c4c1f7cbaeac"
      },
      "source": [
        "plt.figure(figsize=(14, 7)) \n",
        "ax = sns.barplot(x = 'street',y='id',data=df_street)\n",
        "ax.set_title('Самые поппулярные улицы для объектов общественного питания',fontsize=12)\n",
        "ax.set_xlabel('Улица/территория',fontsize=12)\n",
        "ax.set_ylabel('Кол-во заведений',fontsize=12)\n",
        "ax.set_xticklabels(ax.get_xticklabels(),rotation=45)\n",
        "plt.show()"
      ],
      "execution_count": 53,
      "outputs": [
        {
          "output_type": "display_data",
          "data": {
            "image/png": "[encoded data removed]",
            "text/plain": [
              "<Figure size 1008x504 with 1 Axes>"
            ]
          },
          "metadata": {
            "tags": [],
            "needs_background": "light"
          }
        }
      ]
    },
    {
      "cell_type": "code",
      "metadata": {
        "colab": {
          "base_uri": "https://localhost:8080/",
          "height": 1000
        },
        "id": "PnCoEPuUDdmT",
        "outputId": "a63ca7b7-2bee-4f64-b8bf-e40eab59cfc1"
      },
      "source": [
        "df_streetf"
      ],
      "execution_count": 54,
      "outputs": [
        {
          "output_type": "execute_result",
          "data": {
            "text/html": [
              "<div>\n",
              "<style scoped>\n",
              "    .dataframe tbody tr th:only-of-type {\n",
              "        vertical-align: middle;\n",
              "    }\n",
              "\n",
              "    .dataframe tbody tr th {\n",
              "        vertical-align: top;\n",
              "    }\n",
              "\n",
              "    .dataframe thead th {\n",
              "        text-align: right;\n",
              "    }\n",
              "</style>\n",
              "<table border=\"1\" class=\"dataframe\">\n",
              "  <thead>\n",
              "    <tr style=\"text-align: right;\">\n",
              "      <th></th>\n",
              "      <th>street</th>\n",
              "      <th>area</th>\n",
              "      <th>id</th>\n",
              "    </tr>\n",
              "  </thead>\n",
              "  <tbody>\n",
              "    <tr>\n",
              "      <th>0</th>\n",
              "      <td>город Зеленоград</td>\n",
              "      <td>Район Матушкино-Савелки</td>\n",
              "      <td>232</td>\n",
              "    </tr>\n",
              "    <tr>\n",
              "      <th>1</th>\n",
              "      <td>город Зеленоград</td>\n",
              "      <td>Район Крюково</td>\n",
              "      <td>232</td>\n",
              "    </tr>\n",
              "    <tr>\n",
              "      <th>2</th>\n",
              "      <td>город Зеленоград</td>\n",
              "      <td>Панфиловский район</td>\n",
              "      <td>232</td>\n",
              "    </tr>\n",
              "    <tr>\n",
              "      <th>3</th>\n",
              "      <td>проспект Мира</td>\n",
              "      <td>Ярославский Район</td>\n",
              "      <td>204</td>\n",
              "    </tr>\n",
              "    <tr>\n",
              "      <th>4</th>\n",
              "      <td>проспект Мира</td>\n",
              "      <td>Район Свиблово</td>\n",
              "      <td>204</td>\n",
              "    </tr>\n",
              "    <tr>\n",
              "      <th>5</th>\n",
              "      <td>проспект Мира</td>\n",
              "      <td>Район Ростокино</td>\n",
              "      <td>204</td>\n",
              "    </tr>\n",
              "    <tr>\n",
              "      <th>6</th>\n",
              "      <td>проспект Мира</td>\n",
              "      <td>Район Марьина роща</td>\n",
              "      <td>204</td>\n",
              "    </tr>\n",
              "    <tr>\n",
              "      <th>7</th>\n",
              "      <td>проспект Мира</td>\n",
              "      <td>Алексеевский район</td>\n",
              "      <td>204</td>\n",
              "    </tr>\n",
              "    <tr>\n",
              "      <th>8</th>\n",
              "      <td>проспект Мира</td>\n",
              "      <td>Мещанский район</td>\n",
              "      <td>204</td>\n",
              "    </tr>\n",
              "    <tr>\n",
              "      <th>9</th>\n",
              "      <td>проспект Мира</td>\n",
              "      <td>Останкинский район</td>\n",
              "      <td>204</td>\n",
              "    </tr>\n",
              "    <tr>\n",
              "      <th>10</th>\n",
              "      <td>Профсоюзная улица</td>\n",
              "      <td>Район Ясенево</td>\n",
              "      <td>182</td>\n",
              "    </tr>\n",
              "    <tr>\n",
              "      <th>11</th>\n",
              "      <td>Профсоюзная улица</td>\n",
              "      <td>Академический район</td>\n",
              "      <td>182</td>\n",
              "    </tr>\n",
              "    <tr>\n",
              "      <th>12</th>\n",
              "      <td>Профсоюзная улица</td>\n",
              "      <td>Обручевский район</td>\n",
              "      <td>182</td>\n",
              "    </tr>\n",
              "    <tr>\n",
              "      <th>13</th>\n",
              "      <td>Профсоюзная улица</td>\n",
              "      <td>Район Коньково</td>\n",
              "      <td>182</td>\n",
              "    </tr>\n",
              "    <tr>\n",
              "      <th>14</th>\n",
              "      <td>Профсоюзная улица</td>\n",
              "      <td>Район Теплый Стан</td>\n",
              "      <td>182</td>\n",
              "    </tr>\n",
              "    <tr>\n",
              "      <th>15</th>\n",
              "      <td>Профсоюзная улица</td>\n",
              "      <td>Район Черемушки</td>\n",
              "      <td>182</td>\n",
              "    </tr>\n",
              "    <tr>\n",
              "      <th>16</th>\n",
              "      <td>Ленинградский проспект</td>\n",
              "      <td>Район Беговой</td>\n",
              "      <td>172</td>\n",
              "    </tr>\n",
              "    <tr>\n",
              "      <th>17</th>\n",
              "      <td>Ленинградский проспект</td>\n",
              "      <td>Район Аэропорт</td>\n",
              "      <td>172</td>\n",
              "    </tr>\n",
              "    <tr>\n",
              "      <th>18</th>\n",
              "      <td>Ленинградский проспект</td>\n",
              "      <td>Хорошевский район</td>\n",
              "      <td>172</td>\n",
              "    </tr>\n",
              "    <tr>\n",
              "      <th>19</th>\n",
              "      <td>Ленинградский проспект</td>\n",
              "      <td>Район Сокол</td>\n",
              "      <td>172</td>\n",
              "    </tr>\n",
              "    <tr>\n",
              "      <th>20</th>\n",
              "      <td>Пресненская набережная</td>\n",
              "      <td>Пресненский район</td>\n",
              "      <td>167</td>\n",
              "    </tr>\n",
              "    <tr>\n",
              "      <th>21</th>\n",
              "      <td>Варшавское шоссе</td>\n",
              "      <td>Район Чертаново Центральное</td>\n",
              "      <td>164</td>\n",
              "    </tr>\n",
              "    <tr>\n",
              "      <th>22</th>\n",
              "      <td>Варшавское шоссе</td>\n",
              "      <td>Нагорный район</td>\n",
              "      <td>164</td>\n",
              "    </tr>\n",
              "    <tr>\n",
              "      <th>23</th>\n",
              "      <td>Варшавское шоссе</td>\n",
              "      <td>Район Нагатино-Садовники</td>\n",
              "      <td>164</td>\n",
              "    </tr>\n",
              "    <tr>\n",
              "      <th>24</th>\n",
              "      <td>Варшавское шоссе</td>\n",
              "      <td>Район Северное Бутово</td>\n",
              "      <td>164</td>\n",
              "    </tr>\n",
              "    <tr>\n",
              "      <th>25</th>\n",
              "      <td>Варшавское шоссе</td>\n",
              "      <td>Район Южное Бутово</td>\n",
              "      <td>164</td>\n",
              "    </tr>\n",
              "    <tr>\n",
              "      <th>26</th>\n",
              "      <td>Варшавское шоссе</td>\n",
              "      <td>Район Чертаново Южное</td>\n",
              "      <td>164</td>\n",
              "    </tr>\n",
              "    <tr>\n",
              "      <th>27</th>\n",
              "      <td>Варшавское шоссе</td>\n",
              "      <td>Донской район</td>\n",
              "      <td>164</td>\n",
              "    </tr>\n",
              "    <tr>\n",
              "      <th>28</th>\n",
              "      <td>Варшавское шоссе</td>\n",
              "      <td>Район Чертаново Северное</td>\n",
              "      <td>164</td>\n",
              "    </tr>\n",
              "    <tr>\n",
              "      <th>29</th>\n",
              "      <td>Ленинский проспект</td>\n",
              "      <td>Район Якиманка</td>\n",
              "      <td>148</td>\n",
              "    </tr>\n",
              "    <tr>\n",
              "      <th>30</th>\n",
              "      <td>Ленинский проспект</td>\n",
              "      <td>Район Тропарево-Никулино</td>\n",
              "      <td>148</td>\n",
              "    </tr>\n",
              "    <tr>\n",
              "      <th>31</th>\n",
              "      <td>Ленинский проспект</td>\n",
              "      <td>Район Гагаринский</td>\n",
              "      <td>148</td>\n",
              "    </tr>\n",
              "    <tr>\n",
              "      <th>32</th>\n",
              "      <td>Ленинский проспект</td>\n",
              "      <td>Донской район</td>\n",
              "      <td>148</td>\n",
              "    </tr>\n",
              "    <tr>\n",
              "      <th>33</th>\n",
              "      <td>Ленинский проспект</td>\n",
              "      <td>Ломоносовский район</td>\n",
              "      <td>148</td>\n",
              "    </tr>\n",
              "    <tr>\n",
              "      <th>34</th>\n",
              "      <td>Ленинский проспект</td>\n",
              "      <td>Обручевский район</td>\n",
              "      <td>148</td>\n",
              "    </tr>\n",
              "    <tr>\n",
              "      <th>35</th>\n",
              "      <td>Ленинский проспект</td>\n",
              "      <td>Район Проспект Вернадского</td>\n",
              "      <td>148</td>\n",
              "    </tr>\n",
              "    <tr>\n",
              "      <th>36</th>\n",
              "      <td>Ленинский проспект</td>\n",
              "      <td>Район Теплый Стан</td>\n",
              "      <td>148</td>\n",
              "    </tr>\n",
              "    <tr>\n",
              "      <th>37</th>\n",
              "      <td>проспект Вернадского</td>\n",
              "      <td>Район Раменки</td>\n",
              "      <td>128</td>\n",
              "    </tr>\n",
              "    <tr>\n",
              "      <th>38</th>\n",
              "      <td>проспект Вернадского</td>\n",
              "      <td>Район Тропарево-Никулино</td>\n",
              "      <td>128</td>\n",
              "    </tr>\n",
              "    <tr>\n",
              "      <th>39</th>\n",
              "      <td>проспект Вернадского</td>\n",
              "      <td>Ломоносовский район</td>\n",
              "      <td>128</td>\n",
              "    </tr>\n",
              "    <tr>\n",
              "      <th>40</th>\n",
              "      <td>проспект Вернадского</td>\n",
              "      <td>Район Гагаринский</td>\n",
              "      <td>128</td>\n",
              "    </tr>\n",
              "    <tr>\n",
              "      <th>41</th>\n",
              "      <td>проспект Вернадского</td>\n",
              "      <td>Район Проспект Вернадского</td>\n",
              "      <td>128</td>\n",
              "    </tr>\n",
              "    <tr>\n",
              "      <th>42</th>\n",
              "      <td>Лесная улица</td>\n",
              "      <td>Район Крюково</td>\n",
              "      <td>126</td>\n",
              "    </tr>\n",
              "    <tr>\n",
              "      <th>43</th>\n",
              "      <td>Кутузовский проспект</td>\n",
              "      <td>Район Фили-Давыдково</td>\n",
              "      <td>114</td>\n",
              "    </tr>\n",
              "    <tr>\n",
              "      <th>44</th>\n",
              "      <td>Кутузовский проспект</td>\n",
              "      <td>Район Дорогомилово</td>\n",
              "      <td>114</td>\n",
              "    </tr>\n",
              "  </tbody>\n",
              "</table>\n",
              "</div>"
            ],
            "text/plain": [
              "                    street                         area   id\n",
              "0         город Зеленоград      Район Матушкино-Савелки  232\n",
              "1         город Зеленоград                Район Крюково  232\n",
              "2         город Зеленоград           Панфиловский район  232\n",
              "3            проспект Мира            Ярославский Район  204\n",
              "4            проспект Мира               Район Свиблово  204\n",
              "5            проспект Мира              Район Ростокино  204\n",
              "6            проспект Мира           Район Марьина роща  204\n",
              "7            проспект Мира           Алексеевский район  204\n",
              "8            проспект Мира              Мещанский район  204\n",
              "9            проспект Мира           Останкинский район  204\n",
              "10       Профсоюзная улица                Район Ясенево  182\n",
              "11       Профсоюзная улица          Академический район  182\n",
              "12       Профсоюзная улица            Обручевский район  182\n",
              "13       Профсоюзная улица               Район Коньково  182\n",
              "14       Профсоюзная улица            Район Теплый Стан  182\n",
              "15       Профсоюзная улица              Район Черемушки  182\n",
              "16  Ленинградский проспект                Район Беговой  172\n",
              "17  Ленинградский проспект               Район Аэропорт  172\n",
              "18  Ленинградский проспект            Хорошевский район  172\n",
              "19  Ленинградский проспект                  Район Сокол  172\n",
              "20  Пресненская набережная            Пресненский район  167\n",
              "21        Варшавское шоссе  Район Чертаново Центральное  164\n",
              "22        Варшавское шоссе               Нагорный район  164\n",
              "23        Варшавское шоссе     Район Нагатино-Садовники  164\n",
              "24        Варшавское шоссе        Район Северное Бутово  164\n",
              "25        Варшавское шоссе           Район Южное Бутово  164\n",
              "26        Варшавское шоссе        Район Чертаново Южное  164\n",
              "27        Варшавское шоссе                Донской район  164\n",
              "28        Варшавское шоссе     Район Чертаново Северное  164\n",
              "29      Ленинский проспект               Район Якиманка  148\n",
              "30      Ленинский проспект     Район Тропарево-Никулино  148\n",
              "31      Ленинский проспект            Район Гагаринский  148\n",
              "32      Ленинский проспект                Донской район  148\n",
              "33      Ленинский проспект          Ломоносовский район  148\n",
              "34      Ленинский проспект            Обручевский район  148\n",
              "35      Ленинский проспект   Район Проспект Вернадского  148\n",
              "36      Ленинский проспект            Район Теплый Стан  148\n",
              "37    проспект Вернадского                Район Раменки  128\n",
              "38    проспект Вернадского     Район Тропарево-Никулино  128\n",
              "39    проспект Вернадского          Ломоносовский район  128\n",
              "40    проспект Вернадского            Район Гагаринский  128\n",
              "41    проспект Вернадского   Район Проспект Вернадского  128\n",
              "42            Лесная улица                Район Крюково  126\n",
              "43    Кутузовский проспект         Район Фили-Давыдково  114\n",
              "44    Кутузовский проспект           Район Дорогомилово  114"
            ]
          },
          "metadata": {
            "tags": []
          },
          "execution_count": 54
        }
      ]
    },
    {
      "cell_type": "code",
      "metadata": {
        "colab": {
          "base_uri": "https://localhost:8080/"
        },
        "id": "jUZugmNEDdmT",
        "outputId": "bf919ee5-ba3f-4a32-d303-c2f10d48f445"
      },
      "source": [
        "#найдем районы в которых больше всего заведений общественного питания\n",
        "df_area = df_street2.pivot_table(index='area',values='id',aggfunc='count').sort_values(by='id',ascending=False).reset_index()\n",
        "df_area.query('id>450')['area'].unique()"
      ],
      "execution_count": 55,
      "outputs": [
        {
          "output_type": "execute_result",
          "data": {
            "text/plain": [
              "array(['Тверской район', 'Пресненский район', 'Басманный район',\n",
              "       'Даниловский район', 'Мещанский район', 'Донской район',\n",
              "       'Таганский район', 'Обручевский район', 'Район Замоскворечье',\n",
              "       'Район Гагаринский'], dtype=object)"
            ]
          },
          "metadata": {
            "tags": []
          },
          "execution_count": 55
        }
      ]
    },
    {
      "cell_type": "markdown",
      "metadata": {
        "id": "s_MNyBWHDdmT"
      },
      "source": [
        "##### Вывод:  \n",
        "1. При рассмотрении улиц и районов по  скоплению заведений общественного питания на первом месте располагается город Зеленоград. В нем 232 заведения. Данный город относится к райнам Матушкино-Савелки, Крюково и Панфиловский;\n",
        "2. На втором месте по поппулярности проспект Мира - 204 заведения;\n",
        "3. Одна улица/проспект и так далее входит в состав одного или нескольких районов, так например, Варшавское шоссе и Ленинский проспект каждый входят в состав 8 районов;\n",
        "4. Рассматривая районы необходимо обратить внимание на районы из списка ниже, так как в каждый из них попадает минимум 2 поппулярные улицы.  \n",
        "Список районов: 'Донской район', 'Ломоносовский район', 'Обручевский район','Район Гагаринский', 'Район Крюково', 'Район Проспект Вернадского','Район Теплый Стан', 'Район Тропарево-Никулино'  \n",
        "5. В списке ниже представлены районы с самым большим кол-вом заведений общественного питания (более 450). В первом из них их более 1100 заведений.  \n",
        "Список районов: 'Тверской район', 'Пресненский район', 'Басманный район','Даниловский район', 'Мещанский район', 'Донской район','Таганский район', 'Обручевский район', 'Район Замоскворечье','Район Гагаринский'"
      ]
    },
    {
      "cell_type": "markdown",
      "metadata": {
        "id": "6k2ZBDn9DdmU"
      },
      "source": [
        "#### Найдем число улиц с одним объектом общественного питания"
      ]
    },
    {
      "cell_type": "code",
      "metadata": {
        "colab": {
          "base_uri": "https://localhost:8080/",
          "height": 419
        },
        "id": "yraqrcTuDdmU",
        "outputId": "ce85c30d-51f7-48bf-c252-8dde5e7cfa0b"
      },
      "source": [
        "#выведем список улиц, на которых всего по 1 заведению общесвтенного питания\n",
        "df_streetz = df.pivot_table(index='street',values='id',aggfunc='count').sort_values(by='id',ascending = False).reset_index()\n",
        "df_streetz = df_streetz.query('id == 1')\n",
        "streetz = df_streetz[['street']]\n",
        "streetz"
      ],
      "execution_count": 56,
      "outputs": [
        {
          "output_type": "execute_result",
          "data": {
            "text/html": [
              "<div>\n",
              "<style scoped>\n",
              "    .dataframe tbody tr th:only-of-type {\n",
              "        vertical-align: middle;\n",
              "    }\n",
              "\n",
              "    .dataframe tbody tr th {\n",
              "        vertical-align: top;\n",
              "    }\n",
              "\n",
              "    .dataframe thead th {\n",
              "        text-align: right;\n",
              "    }\n",
              "</style>\n",
              "<table border=\"1\" class=\"dataframe\">\n",
              "  <thead>\n",
              "    <tr style=\"text-align: right;\">\n",
              "      <th></th>\n",
              "      <th>street</th>\n",
              "    </tr>\n",
              "  </thead>\n",
              "  <tbody>\n",
              "    <tr>\n",
              "      <th>1335</th>\n",
              "      <td>улица Достоевского</td>\n",
              "    </tr>\n",
              "    <tr>\n",
              "      <th>1336</th>\n",
              "      <td>улица Инессы Арманд</td>\n",
              "    </tr>\n",
              "    <tr>\n",
              "      <th>1337</th>\n",
              "      <td>Звонарский переулок</td>\n",
              "    </tr>\n",
              "    <tr>\n",
              "      <th>1338</th>\n",
              "      <td>1-я Миусская улица</td>\n",
              "    </tr>\n",
              "    <tr>\n",
              "      <th>1339</th>\n",
              "      <td>1-я Напрудная улица</td>\n",
              "    </tr>\n",
              "    <tr>\n",
              "      <th>...</th>\n",
              "      <td>...</td>\n",
              "    </tr>\n",
              "    <tr>\n",
              "      <th>1878</th>\n",
              "      <td>2-й Полевой переулок</td>\n",
              "    </tr>\n",
              "    <tr>\n",
              "      <th>1879</th>\n",
              "      <td>Ясногорская улица</td>\n",
              "    </tr>\n",
              "    <tr>\n",
              "      <th>1880</th>\n",
              "      <td>Малый Каретный переулок</td>\n",
              "    </tr>\n",
              "    <tr>\n",
              "      <th>1881</th>\n",
              "      <td>Яузский бульвар</td>\n",
              "    </tr>\n",
              "    <tr>\n",
              "      <th>1882</th>\n",
              "      <td>Соймоновский проезд</td>\n",
              "    </tr>\n",
              "  </tbody>\n",
              "</table>\n",
              "<p>548 rows × 1 columns</p>\n",
              "</div>"
            ],
            "text/plain": [
              "                       street\n",
              "1335       улица Достоевского\n",
              "1336      улица Инессы Арманд\n",
              "1337      Звонарский переулок\n",
              "1338       1-я Миусская улица\n",
              "1339      1-я Напрудная улица\n",
              "...                       ...\n",
              "1878     2-й Полевой переулок\n",
              "1879        Ясногорская улица\n",
              "1880  Малый Каретный переулок\n",
              "1881          Яузский бульвар\n",
              "1882      Соймоновский проезд\n",
              "\n",
              "[548 rows x 1 columns]"
            ]
          },
          "metadata": {
            "tags": []
          },
          "execution_count": 56
        }
      ]
    },
    {
      "cell_type": "code",
      "metadata": {
        "colab": {
          "base_uri": "https://localhost:8080/",
          "height": 419
        },
        "id": "sAgw0Q63DdmU",
        "outputId": "e853abc7-8334-486d-f4fd-b04677de02af"
      },
      "source": [
        "#объеденим 2 датасета и определим районы у улиц с 1м заведением общественного питания\n",
        "streetz2 = pd.merge(streetz, df2, left_on = 'street',right_on='streetname', how = 'inner')\n",
        "streetz2"
      ],
      "execution_count": 57,
      "outputs": [
        {
          "output_type": "execute_result",
          "data": {
            "text/html": [
              "<div>\n",
              "<style scoped>\n",
              "    .dataframe tbody tr th:only-of-type {\n",
              "        vertical-align: middle;\n",
              "    }\n",
              "\n",
              "    .dataframe tbody tr th {\n",
              "        vertical-align: top;\n",
              "    }\n",
              "\n",
              "    .dataframe thead th {\n",
              "        text-align: right;\n",
              "    }\n",
              "</style>\n",
              "<table border=\"1\" class=\"dataframe\">\n",
              "  <thead>\n",
              "    <tr style=\"text-align: right;\">\n",
              "      <th></th>\n",
              "      <th>street</th>\n",
              "      <th>streetname</th>\n",
              "      <th>areaid</th>\n",
              "      <th>okrug</th>\n",
              "      <th>area</th>\n",
              "    </tr>\n",
              "  </thead>\n",
              "  <tbody>\n",
              "    <tr>\n",
              "      <th>0</th>\n",
              "      <td>улица Достоевского</td>\n",
              "      <td>улица Достоевского</td>\n",
              "      <td>19</td>\n",
              "      <td>ЦАО</td>\n",
              "      <td>Тверской район</td>\n",
              "    </tr>\n",
              "    <tr>\n",
              "      <th>1</th>\n",
              "      <td>улица Достоевского</td>\n",
              "      <td>улица Достоевского</td>\n",
              "      <td>78</td>\n",
              "      <td>СВАО</td>\n",
              "      <td>Район Марьина роща</td>\n",
              "    </tr>\n",
              "    <tr>\n",
              "      <th>2</th>\n",
              "      <td>улица Достоевского</td>\n",
              "      <td>улица Достоевского</td>\n",
              "      <td>16</td>\n",
              "      <td>ЦАО</td>\n",
              "      <td>Мещанский район</td>\n",
              "    </tr>\n",
              "    <tr>\n",
              "      <th>3</th>\n",
              "      <td>улица Инессы Арманд</td>\n",
              "      <td>улица Инессы Арманд</td>\n",
              "      <td>134</td>\n",
              "      <td>ЮЗАО</td>\n",
              "      <td>Район Ясенево</td>\n",
              "    </tr>\n",
              "    <tr>\n",
              "      <th>4</th>\n",
              "      <td>Звонарский переулок</td>\n",
              "      <td>Звонарский переулок</td>\n",
              "      <td>16</td>\n",
              "      <td>ЦАО</td>\n",
              "      <td>Мещанский район</td>\n",
              "    </tr>\n",
              "    <tr>\n",
              "      <th>...</th>\n",
              "      <td>...</td>\n",
              "      <td>...</td>\n",
              "      <td>...</td>\n",
              "      <td>...</td>\n",
              "      <td>...</td>\n",
              "    </tr>\n",
              "    <tr>\n",
              "      <th>560</th>\n",
              "      <td>2-й Полевой переулок</td>\n",
              "      <td>2-й Полевой переулок</td>\n",
              "      <td>26</td>\n",
              "      <td>ВАО</td>\n",
              "      <td>Район Сокольники</td>\n",
              "    </tr>\n",
              "    <tr>\n",
              "      <th>561</th>\n",
              "      <td>Ясногорская улица</td>\n",
              "      <td>Ясногорская улица</td>\n",
              "      <td>134</td>\n",
              "      <td>ЮЗАО</td>\n",
              "      <td>Район Ясенево</td>\n",
              "    </tr>\n",
              "    <tr>\n",
              "      <th>562</th>\n",
              "      <td>Малый Каретный переулок</td>\n",
              "      <td>Малый Каретный переулок</td>\n",
              "      <td>19</td>\n",
              "      <td>ЦАО</td>\n",
              "      <td>Тверской район</td>\n",
              "    </tr>\n",
              "    <tr>\n",
              "      <th>563</th>\n",
              "      <td>Яузский бульвар</td>\n",
              "      <td>Яузский бульвар</td>\n",
              "      <td>18</td>\n",
              "      <td>ЦАО</td>\n",
              "      <td>Таганский район</td>\n",
              "    </tr>\n",
              "    <tr>\n",
              "      <th>564</th>\n",
              "      <td>Соймоновский проезд</td>\n",
              "      <td>Соймоновский проезд</td>\n",
              "      <td>20</td>\n",
              "      <td>ЦАО</td>\n",
              "      <td>Район Хамовники</td>\n",
              "    </tr>\n",
              "  </tbody>\n",
              "</table>\n",
              "<p>565 rows × 5 columns</p>\n",
              "</div>"
            ],
            "text/plain": [
              "                      street               streetname  ...  okrug                area\n",
              "0         улица Достоевского       улица Достоевского  ...    ЦАО      Тверской район\n",
              "1         улица Достоевского       улица Достоевского  ...   СВАО  Район Марьина роща\n",
              "2         улица Достоевского       улица Достоевского  ...    ЦАО     Мещанский район\n",
              "3        улица Инессы Арманд      улица Инессы Арманд  ...   ЮЗАО       Район Ясенево\n",
              "4        Звонарский переулок      Звонарский переулок  ...    ЦАО     Мещанский район\n",
              "..                       ...                      ...  ...    ...                 ...\n",
              "560     2-й Полевой переулок     2-й Полевой переулок  ...    ВАО    Район Сокольники\n",
              "561        Ясногорская улица        Ясногорская улица  ...   ЮЗАО       Район Ясенево\n",
              "562  Малый Каретный переулок  Малый Каретный переулок  ...    ЦАО      Тверской район\n",
              "563          Яузский бульвар          Яузский бульвар  ...    ЦАО     Таганский район\n",
              "564      Соймоновский проезд      Соймоновский проезд  ...    ЦАО     Район Хамовники\n",
              "\n",
              "[565 rows x 5 columns]"
            ]
          },
          "metadata": {
            "tags": []
          },
          "execution_count": 57
        }
      ]
    },
    {
      "cell_type": "code",
      "metadata": {
        "colab": {
          "base_uri": "https://localhost:8080/"
        },
        "id": "CwClrM1zDdmV",
        "outputId": "95122e92-9b22-40e3-a377-3e391c8f7370"
      },
      "source": [
        "#выведем районы, в которых более 10 улиц с одним заведением общественного питания\n",
        "strz2 = streetz2.pivot_table(index='area',values='street',aggfunc='count').sort_values(by='street',ascending=False).reset_index()\n",
        "strz2.query('street >=10')['area'].unique()"
      ],
      "execution_count": 58,
      "outputs": [
        {
          "output_type": "execute_result",
          "data": {
            "text/plain": [
              "array(['Таганский район', 'Район Хамовники', 'Басманный район',\n",
              "       'Пресненский район', 'Тверской район', 'Район Арбат',\n",
              "       'Район Марьина роща', 'Мещанский район', 'Район Сокольники',\n",
              "       'Район Замоскворечье', 'Район Лефортово', 'Район Соколиная Гора',\n",
              "       'Даниловский район', 'Красносельский район', 'Район Богородское',\n",
              "       'Район Якиманка'], dtype=object)"
            ]
          },
          "metadata": {
            "tags": []
          },
          "execution_count": 58
        }
      ]
    },
    {
      "cell_type": "markdown",
      "metadata": {
        "id": "LxM2xfJWDdmV"
      },
      "source": [
        "##### Вывод:  \n",
        "1. В Москве представлено 548 улиц, на которых всего 1 заведение общественного питания; в основном это маленькие улицы, которые располагаются внутри одного района города;\n",
        "2. Эти улицы разбросаны по 101 району города;  \n",
        "3. При этом более 10  улиц с одним заведением общепита представлено  в районах из списка ниже.  \n",
        "\n",
        "Список районов: 'Таганский район', 'Район Хамовники', 'Басманный район',\n",
        "       'Пресненский район', 'Тверской район', 'Район Арбат',\n",
        "       'Район Марьина роща', 'Мещанский район', 'Район Сокольники',\n",
        "       'Район Замоскворечье', 'Район Лефортово', 'Район Соколиная Гора',\n",
        "       'Даниловский район', 'Красносельский район', 'Район Богородское',\n",
        "       'Район Якиманка"
      ]
    },
    {
      "cell_type": "markdown",
      "metadata": {
        "id": "08bqEe2MDdmW"
      },
      "source": [
        "#### Посмотрим на распределение количества посадочных мест для улиц с большим количеством объектов общественного питания."
      ]
    },
    {
      "cell_type": "code",
      "metadata": {
        "scrolled": true,
        "colab": {
          "base_uri": "https://localhost:8080/",
          "height": 483
        },
        "id": "WUTXdVedDdmW",
        "outputId": "3c769a5d-09d1-4a41-e698-55e200c18f9a"
      },
      "source": [
        "#создадим сводную таблицу с кол-вом заведений по улицам и кол-вом посадочных мест, отсортируем список по кол-ву заведений\n",
        "df_streetn = df.pivot_table(index='street',values=['id','number'],aggfunc={'id':'count','number':'median'}).sort_values(by='id',ascending=False)\n",
        "di = df_streetn.query('id>100')\n",
        "di"
      ],
      "execution_count": 59,
      "outputs": [
        {
          "output_type": "execute_result",
          "data": {
            "text/html": [
              "<div>\n",
              "<style scoped>\n",
              "    .dataframe tbody tr th:only-of-type {\n",
              "        vertical-align: middle;\n",
              "    }\n",
              "\n",
              "    .dataframe tbody tr th {\n",
              "        vertical-align: top;\n",
              "    }\n",
              "\n",
              "    .dataframe thead th {\n",
              "        text-align: right;\n",
              "    }\n",
              "</style>\n",
              "<table border=\"1\" class=\"dataframe\">\n",
              "  <thead>\n",
              "    <tr style=\"text-align: right;\">\n",
              "      <th></th>\n",
              "      <th>id</th>\n",
              "      <th>number</th>\n",
              "    </tr>\n",
              "    <tr>\n",
              "      <th>street</th>\n",
              "      <th></th>\n",
              "      <th></th>\n",
              "    </tr>\n",
              "  </thead>\n",
              "  <tbody>\n",
              "    <tr>\n",
              "      <th>город Зеленоград</th>\n",
              "      <td>232</td>\n",
              "      <td>52.5</td>\n",
              "    </tr>\n",
              "    <tr>\n",
              "      <th>проспект Мира</th>\n",
              "      <td>204</td>\n",
              "      <td>46.5</td>\n",
              "    </tr>\n",
              "    <tr>\n",
              "      <th>Профсоюзная улица</th>\n",
              "      <td>182</td>\n",
              "      <td>24.5</td>\n",
              "    </tr>\n",
              "    <tr>\n",
              "      <th>Ленинградский проспект</th>\n",
              "      <td>172</td>\n",
              "      <td>40.0</td>\n",
              "    </tr>\n",
              "    <tr>\n",
              "      <th>Пресненская набережная</th>\n",
              "      <td>167</td>\n",
              "      <td>30.0</td>\n",
              "    </tr>\n",
              "    <tr>\n",
              "      <th>Варшавское шоссе</th>\n",
              "      <td>164</td>\n",
              "      <td>30.0</td>\n",
              "    </tr>\n",
              "    <tr>\n",
              "      <th>Ленинский проспект</th>\n",
              "      <td>148</td>\n",
              "      <td>45.0</td>\n",
              "    </tr>\n",
              "    <tr>\n",
              "      <th>поселение Сосенское</th>\n",
              "      <td>138</td>\n",
              "      <td>15.0</td>\n",
              "    </tr>\n",
              "    <tr>\n",
              "      <th>проспект Вернадского</th>\n",
              "      <td>128</td>\n",
              "      <td>40.0</td>\n",
              "    </tr>\n",
              "    <tr>\n",
              "      <th>Кутузовский проспект</th>\n",
              "      <td>114</td>\n",
              "      <td>40.0</td>\n",
              "    </tr>\n",
              "    <tr>\n",
              "      <th>Каширское шоссе</th>\n",
              "      <td>111</td>\n",
              "      <td>25.0</td>\n",
              "    </tr>\n",
              "    <tr>\n",
              "      <th>Кировоградская улица</th>\n",
              "      <td>108</td>\n",
              "      <td>30.0</td>\n",
              "    </tr>\n",
              "    <tr>\n",
              "      <th>Ходынский бульвар</th>\n",
              "      <td>102</td>\n",
              "      <td>10.0</td>\n",
              "    </tr>\n",
              "  </tbody>\n",
              "</table>\n",
              "</div>"
            ],
            "text/plain": [
              "                         id  number\n",
              "street                             \n",
              "город Зеленоград        232    52.5\n",
              "проспект Мира           204    46.5\n",
              "Профсоюзная улица       182    24.5\n",
              "Ленинградский проспект  172    40.0\n",
              "Пресненская набережная  167    30.0\n",
              "Варшавское шоссе        164    30.0\n",
              "Ленинский проспект      148    45.0\n",
              "поселение Сосенское     138    15.0\n",
              "проспект Вернадского    128    40.0\n",
              "Кутузовский проспект    114    40.0\n",
              "Каширское шоссе         111    25.0\n",
              "Кировоградская улица    108    30.0\n",
              "Ходынский бульвар       102    10.0"
            ]
          },
          "metadata": {
            "tags": []
          },
          "execution_count": 59
        }
      ]
    },
    {
      "cell_type": "code",
      "metadata": {
        "colab": {
          "base_uri": "https://localhost:8080/",
          "height": 297
        },
        "id": "4_kFetM-DdmW",
        "outputId": "bcb52638-6b3a-4eed-f540-ccdc70528399"
      },
      "source": [
        "di.describe()"
      ],
      "execution_count": 60,
      "outputs": [
        {
          "output_type": "execute_result",
          "data": {
            "text/html": [
              "<div>\n",
              "<style scoped>\n",
              "    .dataframe tbody tr th:only-of-type {\n",
              "        vertical-align: middle;\n",
              "    }\n",
              "\n",
              "    .dataframe tbody tr th {\n",
              "        vertical-align: top;\n",
              "    }\n",
              "\n",
              "    .dataframe thead th {\n",
              "        text-align: right;\n",
              "    }\n",
              "</style>\n",
              "<table border=\"1\" class=\"dataframe\">\n",
              "  <thead>\n",
              "    <tr style=\"text-align: right;\">\n",
              "      <th></th>\n",
              "      <th>id</th>\n",
              "      <th>number</th>\n",
              "    </tr>\n",
              "  </thead>\n",
              "  <tbody>\n",
              "    <tr>\n",
              "      <th>count</th>\n",
              "      <td>13.000000</td>\n",
              "      <td>13.000000</td>\n",
              "    </tr>\n",
              "    <tr>\n",
              "      <th>mean</th>\n",
              "      <td>151.538462</td>\n",
              "      <td>32.961538</td>\n",
              "    </tr>\n",
              "    <tr>\n",
              "      <th>std</th>\n",
              "      <td>39.915777</td>\n",
              "      <td>12.482424</td>\n",
              "    </tr>\n",
              "    <tr>\n",
              "      <th>min</th>\n",
              "      <td>102.000000</td>\n",
              "      <td>10.000000</td>\n",
              "    </tr>\n",
              "    <tr>\n",
              "      <th>25%</th>\n",
              "      <td>114.000000</td>\n",
              "      <td>25.000000</td>\n",
              "    </tr>\n",
              "    <tr>\n",
              "      <th>50%</th>\n",
              "      <td>148.000000</td>\n",
              "      <td>30.000000</td>\n",
              "    </tr>\n",
              "    <tr>\n",
              "      <th>75%</th>\n",
              "      <td>172.000000</td>\n",
              "      <td>40.000000</td>\n",
              "    </tr>\n",
              "    <tr>\n",
              "      <th>max</th>\n",
              "      <td>232.000000</td>\n",
              "      <td>52.500000</td>\n",
              "    </tr>\n",
              "  </tbody>\n",
              "</table>\n",
              "</div>"
            ],
            "text/plain": [
              "               id     number\n",
              "count   13.000000  13.000000\n",
              "mean   151.538462  32.961538\n",
              "std     39.915777  12.482424\n",
              "min    102.000000  10.000000\n",
              "25%    114.000000  25.000000\n",
              "50%    148.000000  30.000000\n",
              "75%    172.000000  40.000000\n",
              "max    232.000000  52.500000"
            ]
          },
          "metadata": {
            "tags": []
          },
          "execution_count": 60
        }
      ]
    },
    {
      "cell_type": "markdown",
      "metadata": {
        "id": "-TpG_UMGDdmX"
      },
      "source": [
        "#####  Выводы:  \n",
        "1. На улицах с большим кол-вом заведений (более 100) посадочных мест не много, в среднем их 30;\n",
        "2. Стоит обратить внимание, что на Ходынском бульваре 102 заведения, на которые приходится всреднем всего 10 посадочных мест, а \n",
        "в поселении Сосенское - 15 мест;  \n",
        "3. Больше всего заведений в городе Зеленограде, там же и больше всего посадочных мест в среднем (53)"
      ]
    },
    {
      "cell_type": "markdown",
      "metadata": {
        "id": "qHszSdLlDdmX"
      },
      "source": [
        "###  Общий вывод  - рекомендации для открытия заведения общественного питания, в котором обслуживают Гостей роботы:  \n",
        " 1. **Вид заведения - кафе.** Так как заведение - нестандартное, то необходимо захватить самый массовый сегмент рынка с целью снижения рисков вложения денежных средств в проект, отсюда делаем вывод, что в заведении будет не высокий средний чек. Данным форматом является кафе. Обычно в них труд официанта  не высококваллифицирован, а значит его будет проще заменить на робота.  \n",
        "  *Неподходящие варианты заведения*: ресторан и кафе быстрого обслуживания, так как в первом высока значимость атмосферы, которую создает в том числе и обслуживающий персонал, роботы на текущем уровне своего развития не могут заменить человека в этом аспекте; в кафе же быстрого обслуживания практически нет системы обслуживания гостей: там есть киоски самообслуживания и мобильные приложения для заказа, что скорее является конкурентом физическому роботу-официанту;  \n",
        "    \n",
        " 2. **Кол-во посадочных мест - от 40 (норма для данного формата) до 100**. Особенностью заведения являются роботы, то есть Гости будут редко брать еду с собой или заказывать доставку. Они будут приходить за продукцией - едой, а также 'общением' с роботами-официантами.   То есть велика вероятность, что Гости будут долго засиживаться в заведении. В таком случае для увеличения выручки необходимо выставить как можно больше посадочных мест с возможностью свободного перемещения между ними роботов и Гостей; а также возможно ограничить Гостей на визит (например не более 1-2 часов).    \n",
        "*Неподходящий вариант посадки* - более 100, так как это влечет за собой высокие риски закрытия заведения введу глобальной пандемии, а также то, что сами Гости уже не лояльно относятся к большому скоплению людей. Также большое кол-во посадочных мест = высокие затраты на аренду, как на ежемесячный платеж;  \n",
        "  \n",
        " 3. **Локация - город Зеленоград или поппулярные районы Москвы** с точки зрения наличия на них других заведений общепита. Зеленоград - российская Силиконовая долина, поэтому ресторан с роботами вполне впишется в общий антураж города. Здесь необходимо открываться только в том случае, если будут выгодные условия по аренде, возможные коллаборации с местными производствами и научными лабораториями, где также могут быть использованы наши роботы в часы и дни низкой нагрузки в кафе.  \n",
        "  В Москве для открытия лучше всего подойдут 'Тверской район', 'Пресненский район', 'Басманный район','Даниловский район', Мещанский район', 'Донской район','Таганский район', 'Обручевский район', 'Район Замоскворечье','Район Гагаринский'.\n",
        "Необходимо учесть, что наши Гости скорее всего будут передвигаться на общественном транспорте, поэтому желательна пешая доступность от метро или крупного траспортного узла. \n",
        "  \n",
        " 4. **Возможность развития сети.** Необходимо экспериментировать с открытием заведений разной направленности: преимущественного для аудитории родителей с детьми ( тут нужна детская комната, особенное меню и определенные настройки у роботов, возможно наличие робо-няни); турристические точки (возле вокзалов, на прогулочных улицах, возле станций метро); формат закусочных в технологических вузах или рядом с ними. Самые успешные форматы можно множить и превращать в небольшую сеть. Важно, чтобы роботы способствовали возвращению Гостей вновь и вновь, иначе сети не выжить даже в масштабах столицы."
      ]
    },
    {
      "cell_type": "markdown",
      "metadata": {
        "id": "UEFM0De5DdmY"
      },
      "source": [
        "Презентация для инвесторов: https://drive.google.com/file/d/1EfTYBNxXLTXVMaNPaejioYFJXKc2HWd_/view?usp=sharing"
      ]
    },
    {
      "cell_type": "code",
      "metadata": {
        "id": "6Dv0h8JFDdmZ"
      },
      "source": [
        ""
      ],
      "execution_count": 60,
      "outputs": []
    }
  ]
}